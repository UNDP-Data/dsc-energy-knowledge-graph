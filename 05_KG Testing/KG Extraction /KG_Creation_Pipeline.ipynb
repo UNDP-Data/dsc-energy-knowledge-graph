{
 "cells": [
  {
   "cell_type": "code",
   "execution_count": null,
   "metadata": {
    "collapsed": true
   },
   "outputs": [],
   "source": [
    "import pandas as pd\n",
    "import os\n",
    "from openai import AzureOpenAI\n",
    "import openai\n",
    "import json\n",
    "import requests\n",
    "from dotenv import load_dotenv\n"
   ]
  },
  {
   "cell_type": "code",
   "execution_count": null,
   "outputs": [],
   "source": [
    "load_dotenv()"
   ],
   "metadata": {
    "collapsed": false
   }
  },
  {
   "cell_type": "code",
   "execution_count": null,
   "outputs": [],
   "source": [
    "os.environ[\"OPENAI_API_TYPE\"] = \"azure\"\n",
    "os.environ[\"OPENAI_API_VERSION\"] = os.getenv(\"api_version\")\n",
    "os.environ[\"AZURE_OPENAI_ENDPOINT\"] = os.getenv(\"AZURE_OPENAI_ENDPOINT\")\n",
    "os.environ[\"AZURE_OPENAI_API_KEY\"] = os.getenv(\"api_key_azure\")\n",
    "\n",
    "# OpenAI API configuration\n",
    "openai.api_type = \"azure\"\n",
    "openai.api_key = os.getenv(\"api_key_azure\")\n",
    "openai.api_base = os.getenv(\"AZURE_OPENAI_ENDPOINT\")\n",
    "openai.api_version = os.getenv(\"api_version\")\n",
    "openai_deployment = \"sdgi-gpt-35-turbo-16k\""
   ],
   "metadata": {
    "collapsed": false
   }
  },
  {
   "cell_type": "code",
   "execution_count": null,
   "outputs": [],
   "source": [
    "client = AzureOpenAI(\n",
    "    api_key = os.getenv(\"api_key_azure\"),\n",
    "    api_version = os.getenv(\"api_version\"),\n",
    "    azure_endpoint =os.getenv(\"AZURE_OPENAI_ENDPOINT\")\n",
    ")\n",
    "\n",
    "embedding_model = os.getenv(\"USER_QUERY_EMBEDDING_ENGINE\")\n"
   ],
   "metadata": {
    "collapsed": false
   }
  },
  {
   "cell_type": "code",
   "execution_count": null,
   "outputs": [],
   "source": [
    "categories = [\n",
    "    \"Person\",\n",
    "    \"Location\",\n",
    "    \"Organization\",\n",
    "    \"Event\",\n",
    "    \"Product\",\n",
    "    \"Project\",\n",
    "    \"Skill\",\n",
    "    \"Strategy\",\n",
    "    \"Technology\",\n",
    "    \"Crisis\",\n",
    "    \"Infrastructure\"\n",
    "]"
   ],
   "metadata": {
    "collapsed": false
   }
  },
  {
   "cell_type": "code",
   "execution_count": null,
   "outputs": [],
   "source": [
    "dimensions = [\n",
    "    \"Policy\",\n",
    "    \"Technology\",\n",
    "    \"Social\",\n",
    "    \"Economic\",\n",
    "    \"Finance\",\n",
    "    \"Intersectionality\"\n",
    "]"
   ],
   "metadata": {
    "collapsed": false
   }
  },
  {
   "cell_type": "code",
   "execution_count": 69,
   "outputs": [],
   "source": [
    "relation_labels = [\n",
    "    \"implements\",\n",
    "    \"funds\",\n",
    "    \"focuses_on\",\n",
    "    \"in\",\n",
    "    \"partners_with\",\n",
    "    \"contributes_to\",\n",
    "    \"monitors\",\n",
    "    \"targets\",\n",
    "    \"addresses\",\n",
    "    \"employs\",\n",
    "    \"collaborates_with\",\n",
    "    \"supports\",\n",
    "    \"administers\",\n",
    "    \"measures\",\n",
    "    \"aligns_with\",\n",
    "    \"an_instance_of\"\n",
    "]"
   ],
   "metadata": {
    "collapsed": false
   }
  },
  {
   "cell_type": "code",
   "execution_count": null,
   "outputs": [],
   "source": [
    "# Specify the path to your CSV file\n",
    "file_path = os.getcwd() + '/Data/Energy KG.csv'\n",
    "data = pd.read_csv(file_path, delimiter=';')"
   ],
   "metadata": {
    "collapsed": false
   }
  },
  {
   "cell_type": "code",
   "execution_count": null,
   "outputs": [],
   "source": [
    "def capitalize_keys(data):\n",
    "    updated_list = []\n",
    "    for item in data:\n",
    "        updated_item = {key.capitalize(): value for key, value in item.items()}\n",
    "        updated_list.append(updated_item)\n",
    "    return updated_list"
   ],
   "metadata": {
    "collapsed": false
   }
  },
  {
   "cell_type": "code",
   "execution_count": null,
   "outputs": [],
   "source": [
    "def get_answer(prompt):\n",
    "    response_entities = openai.chat.completions.create(\n",
    "        model=openai_deployment,\n",
    "        temperature=0,\n",
    "        messages=[\n",
    "            {\"role\": \"user\", \"content\": prompt},\n",
    "        ]\n",
    "    )\n",
    "    response = response_entities.choices[0].message.content\n",
    "    print (response)\n",
    "    response = json.loads(response)\n",
    "    return response\n"
   ],
   "metadata": {
    "collapsed": false
   }
  },
  {
   "cell_type": "code",
   "execution_count": null,
   "outputs": [],
   "source": [
    "def get_entity_metadata(entities, category_list, dimension_list):\n",
    "    metadata_prompt = f\"\"\"\n",
    "\n",
    "    [Context]\n",
    "    You belong to a team of consultants at UNDP's Sustainable Energy Hub (SEH).\n",
    "    You will be given an >>>>>EntityList<<<<<, a list of >>>>>CATEGORIES<<<<< and a list of >>>>>DIMENSIONS<<<<<.\n",
    "\n",
    "   [Task]\n",
    "   Your task is to create a metadata for each given entity so they can be added to knowledge graph and return a json array.\n",
    "   You have to add the following attributes to each entity:\n",
    "    1. Description that contains summary.\n",
    "    2. Category from the given >>>>>CATEGORIES<<<<<.\n",
    "    3. Multiple Tags from a broader taxonomy suitable for entity.\n",
    "    4. Dimension from the given >>>>>DIMENSIONS<<<<<.\n",
    "    5. Acronym, if it exists.\n",
    "    6. Assign a Importance score between 1 to 10 to each entity based on its importance in context fo sustainable energy, with 10 being the highest score.\n",
    "\n",
    "    [Output Format]\n",
    "    Return only a JSON array for entities with metadata.\n",
    "\n",
    "    Now create a json array with metadata for the following entities:\n",
    "\n",
    "    [Input]\n",
    "    >>>>>EntityList<<<<<\n",
    "    {entities}\n",
    "\n",
    "    >>>>>CATEGORIES<<<<<\n",
    "    {category_list}\n",
    "\n",
    "    >>>>>CATEGORIES<<<<<\n",
    "    {dimension_list}\n",
    "\n",
    "\n",
    "\"\"\"\n",
    "\n",
    "    metadata = get_answer(metadata_prompt)\n",
    "    return metadata\n"
   ],
   "metadata": {
    "collapsed": false
   }
  },
  {
   "cell_type": "code",
   "execution_count": null,
   "outputs": [],
   "source": [
    "metadata_json = []\n",
    "start = 0\n",
    "end = 5"
   ],
   "metadata": {
    "collapsed": false
   }
  },
  {
   "cell_type": "code",
   "execution_count": null,
   "outputs": [],
   "source": [
    "while end < len(data):\n",
    "    ls = data['Entity'][start:end]\n",
    "    result = get_entity_metadata(ls, categories, dimensions)\n",
    "    start = end\n",
    "    end += 5\n",
    "    if end > len(data):\n",
    "        end = len(data)\n",
    "    metadata_json.extend(result[\"entities\"])\n"
   ],
   "metadata": {
    "collapsed": false
   }
  },
  {
   "cell_type": "code",
   "execution_count": null,
   "outputs": [],
   "source": [
    "print (metadata_json)"
   ],
   "metadata": {
    "collapsed": false
   }
  },
  {
   "cell_type": "code",
   "execution_count": null,
   "outputs": [],
   "source": [
    "print (len(metadata_json))"
   ],
   "metadata": {
    "collapsed": false
   }
  },
  {
   "cell_type": "code",
   "execution_count": null,
   "outputs": [],
   "source": [
    "capitalized_data = capitalize_keys(metadata_json)"
   ],
   "metadata": {
    "collapsed": false
   }
  },
  {
   "cell_type": "code",
   "execution_count": null,
   "outputs": [],
   "source": [
    "metadata_df = pd.DataFrame(capitalized_data)\n",
    "\n",
    "metadata_df['Tags'] = metadata_df['Tags'].apply(lambda x: ', '.join(x))\n",
    "final_df = pd.merge(data['Entity'], metadata_df, on='Entity', how='left')\n",
    "\n",
    "final_df.fillna('', inplace=True)\n",
    "final_df.to_csv('Entity Metadata.csv', sep=';', index=False)"
   ],
   "metadata": {
    "collapsed": false
   }
  },
  {
   "cell_type": "code",
   "execution_count": 76,
   "outputs": [],
   "source": [
    "def create_relations(entities, relation_labels):\n",
    "    relation_extraction_prompt = f\"\"\"\n",
    "\n",
    "    [Context]\n",
    "    You belong to a team of consultants at UNDP's Sustainable Energy Hub (SEH), working on a project to create a knowledge graph for sustainable energy\n",
    "    You will be given an >>>>>EntityList<<<<< and a list of >>>>>RelationLabels<<<<<.\n",
    "\n",
    "   [Task]\n",
    "   Your task is to extract a set of relations for each given entity. These relations will be added to the knowledge graph. Each relation will create following attributed:\n",
    "    1. 'Subject': subject entity of the relation.\n",
    "    2. 'Object': object entity of the relation.\n",
    "    3. 'Relation': label from the given >>>>>RELATION LABELS<<<<<.\n",
    "    4. 'Description': description of the relation.\n",
    "    5. 'Importance': score between 1 to 10, with 10 being the highest score.\n",
    "\n",
    "    [Example]\n",
    "    \"Subject\":\"Energy Efficiency Policy\",\n",
    "    \"Relation\": \"implements\",\n",
    "    \"Object\": \"Building Standards\",\n",
    "    \"Description\": \"Energy Efficiency Policy implements rigorous building standards that promote the use of energy-saving designs and materials.\",\n",
    "    \"Importance\": 7\n",
    "\n",
    "    [Output Format]\n",
    "    Return only a JSON array for relations.\n",
    "\n",
    "    Now create a json array of relations for the following entities:\n",
    "\n",
    "    [Input]\n",
    "    >>>>>EntityList<<<<<\n",
    "    {entities}\n",
    "\n",
    "    >>>>>RelationLabels<<<<<\n",
    "    {relation_labels}\n",
    "\n",
    "\"\"\"\n",
    "\n",
    "    relations = get_answer(relation_extraction_prompt)\n",
    "    print(relations)\n",
    "    return relations\n"
   ],
   "metadata": {
    "collapsed": false
   }
  },
  {
   "cell_type": "code",
   "execution_count": 77,
   "outputs": [
    {
     "name": "stdout",
     "output_type": "stream",
     "text": [
      "[\n",
      "    {\n",
      "        \"Subject\": \"digital cities\",\n",
      "        \"Relation\": \"implements\",\n",
      "        \"Object\": \"Building Standards\",\n",
      "        \"Description\": \"Digital cities implement building standards that promote the use of technology for sustainable and efficient urban development.\",\n",
      "        \"Importance\": 8\n",
      "    },\n",
      "    {\n",
      "        \"Subject\": \"digital cities\",\n",
      "        \"Relation\": \"funds\",\n",
      "        \"Object\": \"Smart Grid Projects\",\n",
      "        \"Description\": \"Digital cities provide funding for smart grid projects to enhance energy efficiency and grid reliability.\",\n",
      "        \"Importance\": 6\n",
      "    },\n",
      "    {\n",
      "        \"Subject\": \"digital cities\",\n",
      "        \"Relation\": \"focuses_on\",\n",
      "        \"Object\": \"Renewable Energy Integration\",\n",
      "        \"Description\": \"Digital cities focus on integrating renewable energy sources into their energy systems to reduce carbon emissions.\",\n",
      "        \"Importance\": 9\n",
      "    },\n",
      "    {\n",
      "        \"Subject\": \"digital cities\",\n",
      "        \"Relation\": \"in\",\n",
      "        \"Object\": \"Energy Transition Initiative\",\n",
      "        \"Description\": \"Digital cities participate in the Energy Transition Initiative to accelerate the adoption of sustainable energy practices.\",\n",
      "        \"Importance\": 7\n",
      "    },\n",
      "    {\n",
      "        \"Subject\": \"digital cities\",\n",
      "        \"Relation\": \"partners_with\",\n",
      "        \"Object\": \"Technology Companies\",\n",
      "        \"Description\": \"Digital cities partner with technology companies to develop innovative solutions for sustainable energy management.\",\n",
      "        \"Importance\": 8\n",
      "    },\n",
      "    {\n",
      "        \"Subject\": \"digital cities\",\n",
      "        \"Relation\": \"contributes_to\",\n",
      "        \"Object\": \"Circular Economy\",\n",
      "        \"Description\": \"Digital cities contribute to the development of a circular economy by promoting resource efficiency and waste reduction.\",\n",
      "        \"Importance\": 7\n",
      "    },\n",
      "    {\n",
      "        \"Subject\": \"digital cities\",\n",
      "        \"Relation\": \"monitors\",\n",
      "        \"Object\": \"Energy Consumption\",\n",
      "        \"Description\": \"Digital cities monitor energy consumption patterns to identify opportunities for energy savings and optimization.\",\n",
      "        \"Importance\": 6\n",
      "    },\n",
      "    {\n",
      "        \"Subject\": \"digital cities\",\n",
      "        \"Relation\": \"targets\",\n",
      "        \"Object\": \"Carbon Neutrality\",\n",
      "        \"Description\": \"Digital cities set targets to achieve carbon neutrality by reducing greenhouse gas emissions and promoting renewable energy.\",\n",
      "        \"Importance\": 9\n",
      "    },\n",
      "    {\n",
      "        \"Subject\": \"digital cities\",\n",
      "        \"Relation\": \"addresses\",\n",
      "        \"Object\": \"Energy Poverty\",\n",
      "        \"Description\": \"Digital cities address energy poverty by implementing inclusive and affordable energy access programs.\",\n",
      "        \"Importance\": 8\n",
      "    },\n",
      "    {\n",
      "        \"Subject\": \"digital cities\",\n",
      "        \"Relation\": \"employs\",\n",
      "        \"Object\": \"Smart Grid Technologies\",\n",
      "        \"Description\": \"Digital cities employ smart grid technologies to optimize energy distribution and improve grid resilience.\",\n",
      "        \"Importance\": 7\n",
      "    },\n",
      "    {\n",
      "        \"Subject\": \"digital cities\",\n",
      "        \"Relation\": \"collaborates_with\",\n",
      "        \"Object\": \"Research Institutions\",\n",
      "        \"Description\": \"Digital cities collaborate with research institutions to advance knowledge and innovation in sustainable energy practices.\",\n",
      "        \"Importance\": 8\n",
      "    },\n",
      "    {\n",
      "        \"Subject\": \"digital cities\",\n",
      "        \"Relation\": \"supports\",\n",
      "        \"Object\": \"Clean Energy Startups\",\n",
      "        \"Description\": \"Digital cities support clean energy startups by providing funding and resources for their development and growth.\",\n",
      "        \"Importance\": 7\n",
      "    },\n",
      "    {\n",
      "        \"Subject\": \"digital cities\",\n",
      "        \"Relation\": \"administers\",\n",
      "        \"Object\": \"Energy Efficiency Programs\",\n",
      "        \"Description\": \"Digital cities administer energy efficiency programs to promote energy conservation and reduce energy consumption.\",\n",
      "        \"Importance\": 8\n",
      "    },\n",
      "    {\n",
      "        \"Subject\": \"digital cities\",\n",
      "        \"Relation\": \"measures\",\n",
      "        \"Object\": \"Energy Performance\",\n",
      "        \"Description\": \"Digital cities measure energy performance of buildings and infrastructure to identify areas for improvement and optimization.\",\n",
      "        \"Importance\": 7\n",
      "    },\n",
      "    {\n",
      "        \"Subject\": \"digital cities\",\n",
      "        \"Relation\": \"aligns_with\",\n",
      "        \"Object\": \"Sustainable Development Goals\",\n",
      "        \"Description\": \"Digital cities align their sustainable energy initiatives with the United Nations' Sustainable Development Goals.\",\n",
      "        \"Importance\": 9\n",
      "    },\n",
      "    {\n",
      "        \"Subject\": \"digital cities\",\n",
      "        \"Relation\": \"an_instance_of\",\n",
      "        \"Object\": \"Smart City\",\n",
      "        \"Description\": \"Digital cities are instances of smart cities that leverage technology for sustainable urban development.\",\n",
      "        \"Importance\": 8\n",
      "    },\n",
      "    {\n",
      "        \"Subject\": \"data ecosystems\",\n",
      "        \"Relation\": \"implements\",\n",
      "        \"Object\": \"Data Privacy Regulations\",\n",
      "        \"Description\": \"Data ecosystems implement data privacy regulations to protect the privacy and security of energy-related data.\",\n",
      "        \"Importance\": 7\n",
      "    },\n",
      "    {\n",
      "        \"Subject\": \"data ecosystems\",\n",
      "        \"Relation\": \"funds\",\n",
      "        \"Object\": \"Data Analytics Projects\",\n",
      "        \"Description\": \"Data ecosystems provide funding for data analytics projects to gain insights and optimize energy systems.\",\n",
      "        \"Importance\": 6\n",
      "    },\n",
      "    {\n",
      "        \"Subject\": \"data ecosystems\",\n",
      "        \"Relation\": \"focuses_on\",\n",
      "        \"Object\": \"Data Interoperability\",\n",
      "        \"Description\": \"Data ecosystems focus on achieving data interoperability to enable seamless exchange and integration of energy data.\",\n",
      "        \"Importance\": 8\n",
      "    },\n",
      "    {\n",
      "        \"Subject\": \"data ecosystems\",\n",
      "        \"Relation\": \"in\",\n",
      "        \"Object\": \"Energy Data Management Initiative\",\n",
      "        \"Description\": \"Data ecosystems participate in the Energy Data Management Initiative to improve data quality and accessibility for energy-related decision-making.\",\n",
      "        \"Importance\": 7\n",
      "    },\n",
      "    {\n",
      "        \"Subject\": \"data ecosystems\",\n",
      "        \"Relation\": \"partners_with\",\n",
      "        \"Object\": \"Energy Service Providers\",\n",
      "        \"Description\": \"Data ecosystems partner with energy service providers to leverage data for optimizing energy services and offerings.\",\n",
      "        \"Importance\": 8\n",
      "    },\n",
      "    {\n",
      "        \"Subject\": \"data ecosystems\",\n",
      "        \"Relation\": \"contributes_to\",\n",
      "        \"Object\": \"Data-driven Decision Making\",\n",
      "        \"Description\": \"Data ecosystems contribute to data-driven decision making in the energy sector by providing reliable and actionable energy data.\",\n",
      "        \"Importance\": 7\n",
      "    },\n",
      "    {\n",
      "        \"Subject\": \"data ecosystems\",\n",
      "        \"Relation\": \"monitors\",\n",
      "        \"Object\": \"Energy Consumption Patterns\",\n",
      "        \"Description\": \"Data ecosystems monitor energy consumption patterns to identify trends and patterns for energy optimization.\",\n",
      "        \"Importance\": 6\n",
      "    },\n",
      "    {\n",
      "        \"Subject\": \"data ecosystems\",\n",
      "        \"Relation\": \"targets\",\n",
      "        \"Object\": \"Data Security\",\n",
      "        \"Description\": \"Data ecosystems set targets to ensure data security and protect energy-related data from unauthorized access.\",\n",
      "        \"Importance\": 9\n",
      "    },\n",
      "    {\n",
      "        \"Subject\": \"data ecosystems\",\n",
      "        \"Relation\": \"addresses\",\n",
      "        \"Object\": \"Data Governance\",\n",
      "        \"Description\": \"Data ecosystems address data governance challenges to ensure the responsible and ethical use of energy-related data.\",\n",
      "        \"Importance\": 8\n",
      "    },\n",
      "    {\n",
      "        \"Subject\": \"data ecosystems\",\n",
      "        \"Relation\": \"employs\",\n",
      "        \"Object\": \"Data Scientists\",\n",
      "        \"Description\": \"Data ecosystems employ data scientists to analyze and derive insights from energy-related data.\",\n",
      "        \"Importance\": 7\n",
      "    },\n",
      "    {\n",
      "        \"Subject\": \"data ecosystems\",\n",
      "        \"Relation\": \"collaborates_with\",\n",
      "        \"Object\": \"Technology Startups\",\n",
      "        \"Description\": \"Data ecosystems collaborate with technology startups to develop innovative data-driven solutions for the energy sector.\",\n",
      "        \"Importance\": 8\n",
      "    },\n",
      "    {\n",
      "        \"Subject\": \"data ecosystems\",\n",
      "        \"Relation\": \"supports\",\n",
      "        \"Object\": \"Open Data Initiatives\",\n",
      "        \"Description\": \"Data ecosystems support open data initiatives to promote transparency and accessibility of energy-related data.\",\n",
      "        \"Importance\": 7\n",
      "    },\n",
      "    {\n",
      "        \"Subject\": \"data ecosystems\",\n",
      "        \"Relation\": \"administers\",\n",
      "        \"Object\": \"Data Sharing Agreements\",\n",
      "        \"Description\": \"Data ecosystems administer data sharing agreements to facilitate the exchange of energy-related data among stakeholders.\",\n",
      "        \"Importance\": 8\n",
      "    },\n",
      "    {\n",
      "        \"Subject\": \"data ecosystems\",\n",
      "        \"Relation\": \"measures\",\n",
      "        \"Object\": \"Data Quality\",\n",
      "        \"Description\": \"Data ecosystems measure data quality to ensure the accuracy and reliability of energy-related data.\",\n",
      "        \"Importance\": 7\n",
      "    },\n",
      "    {\n",
      "        \"Subject\": \"data ecosystems\",\n",
      "        \"Relation\": \"aligns_with\",\n",
      "        \"Object\": \"Data Governance Frameworks\",\n",
      "        \"Description\": \"Data ecosystems align their data management practices with established data governance frameworks.\",\n",
      "        \"Importance\": 9\n",
      "    },\n",
      "    {\n",
      "        \"Subject\": \"data ecosystems\",\n",
      "        \"Relation\": \"an_instance_of\",\n",
      "        \"Object\": \"Digital Ecosystem\",\n",
      "        \"Description\": \"Data ecosystems are instances of digital ecosystems that enable the exchange and utilization of energy-related data.\",\n",
      "        \"Importance\": 8\n",
      "    }\n",
      "]\n",
      "[{'Subject': 'digital cities', 'Relation': 'implements', 'Object': 'Building Standards', 'Description': 'Digital cities implement building standards that promote the use of technology for sustainable and efficient urban development.', 'Importance': 8}, {'Subject': 'digital cities', 'Relation': 'funds', 'Object': 'Smart Grid Projects', 'Description': 'Digital cities provide funding for smart grid projects to enhance energy efficiency and grid reliability.', 'Importance': 6}, {'Subject': 'digital cities', 'Relation': 'focuses_on', 'Object': 'Renewable Energy Integration', 'Description': 'Digital cities focus on integrating renewable energy sources into their energy systems to reduce carbon emissions.', 'Importance': 9}, {'Subject': 'digital cities', 'Relation': 'in', 'Object': 'Energy Transition Initiative', 'Description': 'Digital cities participate in the Energy Transition Initiative to accelerate the adoption of sustainable energy practices.', 'Importance': 7}, {'Subject': 'digital cities', 'Relation': 'partners_with', 'Object': 'Technology Companies', 'Description': 'Digital cities partner with technology companies to develop innovative solutions for sustainable energy management.', 'Importance': 8}, {'Subject': 'digital cities', 'Relation': 'contributes_to', 'Object': 'Circular Economy', 'Description': 'Digital cities contribute to the development of a circular economy by promoting resource efficiency and waste reduction.', 'Importance': 7}, {'Subject': 'digital cities', 'Relation': 'monitors', 'Object': 'Energy Consumption', 'Description': 'Digital cities monitor energy consumption patterns to identify opportunities for energy savings and optimization.', 'Importance': 6}, {'Subject': 'digital cities', 'Relation': 'targets', 'Object': 'Carbon Neutrality', 'Description': 'Digital cities set targets to achieve carbon neutrality by reducing greenhouse gas emissions and promoting renewable energy.', 'Importance': 9}, {'Subject': 'digital cities', 'Relation': 'addresses', 'Object': 'Energy Poverty', 'Description': 'Digital cities address energy poverty by implementing inclusive and affordable energy access programs.', 'Importance': 8}, {'Subject': 'digital cities', 'Relation': 'employs', 'Object': 'Smart Grid Technologies', 'Description': 'Digital cities employ smart grid technologies to optimize energy distribution and improve grid resilience.', 'Importance': 7}, {'Subject': 'digital cities', 'Relation': 'collaborates_with', 'Object': 'Research Institutions', 'Description': 'Digital cities collaborate with research institutions to advance knowledge and innovation in sustainable energy practices.', 'Importance': 8}, {'Subject': 'digital cities', 'Relation': 'supports', 'Object': 'Clean Energy Startups', 'Description': 'Digital cities support clean energy startups by providing funding and resources for their development and growth.', 'Importance': 7}, {'Subject': 'digital cities', 'Relation': 'administers', 'Object': 'Energy Efficiency Programs', 'Description': 'Digital cities administer energy efficiency programs to promote energy conservation and reduce energy consumption.', 'Importance': 8}, {'Subject': 'digital cities', 'Relation': 'measures', 'Object': 'Energy Performance', 'Description': 'Digital cities measure energy performance of buildings and infrastructure to identify areas for improvement and optimization.', 'Importance': 7}, {'Subject': 'digital cities', 'Relation': 'aligns_with', 'Object': 'Sustainable Development Goals', 'Description': \"Digital cities align their sustainable energy initiatives with the United Nations' Sustainable Development Goals.\", 'Importance': 9}, {'Subject': 'digital cities', 'Relation': 'an_instance_of', 'Object': 'Smart City', 'Description': 'Digital cities are instances of smart cities that leverage technology for sustainable urban development.', 'Importance': 8}, {'Subject': 'data ecosystems', 'Relation': 'implements', 'Object': 'Data Privacy Regulations', 'Description': 'Data ecosystems implement data privacy regulations to protect the privacy and security of energy-related data.', 'Importance': 7}, {'Subject': 'data ecosystems', 'Relation': 'funds', 'Object': 'Data Analytics Projects', 'Description': 'Data ecosystems provide funding for data analytics projects to gain insights and optimize energy systems.', 'Importance': 6}, {'Subject': 'data ecosystems', 'Relation': 'focuses_on', 'Object': 'Data Interoperability', 'Description': 'Data ecosystems focus on achieving data interoperability to enable seamless exchange and integration of energy data.', 'Importance': 8}, {'Subject': 'data ecosystems', 'Relation': 'in', 'Object': 'Energy Data Management Initiative', 'Description': 'Data ecosystems participate in the Energy Data Management Initiative to improve data quality and accessibility for energy-related decision-making.', 'Importance': 7}, {'Subject': 'data ecosystems', 'Relation': 'partners_with', 'Object': 'Energy Service Providers', 'Description': 'Data ecosystems partner with energy service providers to leverage data for optimizing energy services and offerings.', 'Importance': 8}, {'Subject': 'data ecosystems', 'Relation': 'contributes_to', 'Object': 'Data-driven Decision Making', 'Description': 'Data ecosystems contribute to data-driven decision making in the energy sector by providing reliable and actionable energy data.', 'Importance': 7}, {'Subject': 'data ecosystems', 'Relation': 'monitors', 'Object': 'Energy Consumption Patterns', 'Description': 'Data ecosystems monitor energy consumption patterns to identify trends and patterns for energy optimization.', 'Importance': 6}, {'Subject': 'data ecosystems', 'Relation': 'targets', 'Object': 'Data Security', 'Description': 'Data ecosystems set targets to ensure data security and protect energy-related data from unauthorized access.', 'Importance': 9}, {'Subject': 'data ecosystems', 'Relation': 'addresses', 'Object': 'Data Governance', 'Description': 'Data ecosystems address data governance challenges to ensure the responsible and ethical use of energy-related data.', 'Importance': 8}, {'Subject': 'data ecosystems', 'Relation': 'employs', 'Object': 'Data Scientists', 'Description': 'Data ecosystems employ data scientists to analyze and derive insights from energy-related data.', 'Importance': 7}, {'Subject': 'data ecosystems', 'Relation': 'collaborates_with', 'Object': 'Technology Startups', 'Description': 'Data ecosystems collaborate with technology startups to develop innovative data-driven solutions for the energy sector.', 'Importance': 8}, {'Subject': 'data ecosystems', 'Relation': 'supports', 'Object': 'Open Data Initiatives', 'Description': 'Data ecosystems support open data initiatives to promote transparency and accessibility of energy-related data.', 'Importance': 7}, {'Subject': 'data ecosystems', 'Relation': 'administers', 'Object': 'Data Sharing Agreements', 'Description': 'Data ecosystems administer data sharing agreements to facilitate the exchange of energy-related data among stakeholders.', 'Importance': 8}, {'Subject': 'data ecosystems', 'Relation': 'measures', 'Object': 'Data Quality', 'Description': 'Data ecosystems measure data quality to ensure the accuracy and reliability of energy-related data.', 'Importance': 7}, {'Subject': 'data ecosystems', 'Relation': 'aligns_with', 'Object': 'Data Governance Frameworks', 'Description': 'Data ecosystems align their data management practices with established data governance frameworks.', 'Importance': 9}, {'Subject': 'data ecosystems', 'Relation': 'an_instance_of', 'Object': 'Digital Ecosystem', 'Description': 'Data ecosystems are instances of digital ecosystems that enable the exchange and utilization of energy-related data.', 'Importance': 8}]\n"
     ]
    }
   ],
   "source": [
    "relations_json = []\n",
    "start = 0\n",
    "end = 2\n",
    "while end < 5:\n",
    "    ls = data['Entity'][start:end]\n",
    "    result = create_relations(ls, relation_labels)\n",
    "    start = end\n",
    "    end += 5\n",
    "    if end > len(data):\n",
    "        end = len(data)\n",
    "    relations_json.extend(result)\n"
   ],
   "metadata": {
    "collapsed": false
   }
  },
  {
   "cell_type": "code",
   "execution_count": 78,
   "outputs": [
    {
     "name": "stdout",
     "output_type": "stream",
     "text": [
      "[{'Subject': 'digital cities', 'Relation': 'implements', 'Object': 'Building Standards', 'Description': 'Digital cities implement building standards that promote the use of technology for sustainable and efficient urban development.', 'Importance': 8}, {'Subject': 'digital cities', 'Relation': 'funds', 'Object': 'Smart Grid Projects', 'Description': 'Digital cities provide funding for smart grid projects to enhance energy efficiency and grid reliability.', 'Importance': 6}, {'Subject': 'digital cities', 'Relation': 'focuses_on', 'Object': 'Renewable Energy Integration', 'Description': 'Digital cities focus on integrating renewable energy sources into their energy systems to reduce carbon emissions.', 'Importance': 9}, {'Subject': 'digital cities', 'Relation': 'in', 'Object': 'Energy Transition Initiative', 'Description': 'Digital cities participate in the Energy Transition Initiative to accelerate the adoption of sustainable energy practices.', 'Importance': 7}, {'Subject': 'digital cities', 'Relation': 'partners_with', 'Object': 'Technology Companies', 'Description': 'Digital cities partner with technology companies to develop innovative solutions for sustainable energy management.', 'Importance': 8}, {'Subject': 'digital cities', 'Relation': 'contributes_to', 'Object': 'Circular Economy', 'Description': 'Digital cities contribute to the development of a circular economy by promoting resource efficiency and waste reduction.', 'Importance': 7}, {'Subject': 'digital cities', 'Relation': 'monitors', 'Object': 'Energy Consumption', 'Description': 'Digital cities monitor energy consumption patterns to identify opportunities for energy savings and optimization.', 'Importance': 6}, {'Subject': 'digital cities', 'Relation': 'targets', 'Object': 'Carbon Neutrality', 'Description': 'Digital cities set targets to achieve carbon neutrality by reducing greenhouse gas emissions and promoting renewable energy.', 'Importance': 9}, {'Subject': 'digital cities', 'Relation': 'addresses', 'Object': 'Energy Poverty', 'Description': 'Digital cities address energy poverty by implementing inclusive and affordable energy access programs.', 'Importance': 8}, {'Subject': 'digital cities', 'Relation': 'employs', 'Object': 'Smart Grid Technologies', 'Description': 'Digital cities employ smart grid technologies to optimize energy distribution and improve grid resilience.', 'Importance': 7}, {'Subject': 'digital cities', 'Relation': 'collaborates_with', 'Object': 'Research Institutions', 'Description': 'Digital cities collaborate with research institutions to advance knowledge and innovation in sustainable energy practices.', 'Importance': 8}, {'Subject': 'digital cities', 'Relation': 'supports', 'Object': 'Clean Energy Startups', 'Description': 'Digital cities support clean energy startups by providing funding and resources for their development and growth.', 'Importance': 7}, {'Subject': 'digital cities', 'Relation': 'administers', 'Object': 'Energy Efficiency Programs', 'Description': 'Digital cities administer energy efficiency programs to promote energy conservation and reduce energy consumption.', 'Importance': 8}, {'Subject': 'digital cities', 'Relation': 'measures', 'Object': 'Energy Performance', 'Description': 'Digital cities measure energy performance of buildings and infrastructure to identify areas for improvement and optimization.', 'Importance': 7}, {'Subject': 'digital cities', 'Relation': 'aligns_with', 'Object': 'Sustainable Development Goals', 'Description': \"Digital cities align their sustainable energy initiatives with the United Nations' Sustainable Development Goals.\", 'Importance': 9}, {'Subject': 'digital cities', 'Relation': 'an_instance_of', 'Object': 'Smart City', 'Description': 'Digital cities are instances of smart cities that leverage technology for sustainable urban development.', 'Importance': 8}, {'Subject': 'data ecosystems', 'Relation': 'implements', 'Object': 'Data Privacy Regulations', 'Description': 'Data ecosystems implement data privacy regulations to protect the privacy and security of energy-related data.', 'Importance': 7}, {'Subject': 'data ecosystems', 'Relation': 'funds', 'Object': 'Data Analytics Projects', 'Description': 'Data ecosystems provide funding for data analytics projects to gain insights and optimize energy systems.', 'Importance': 6}, {'Subject': 'data ecosystems', 'Relation': 'focuses_on', 'Object': 'Data Interoperability', 'Description': 'Data ecosystems focus on achieving data interoperability to enable seamless exchange and integration of energy data.', 'Importance': 8}, {'Subject': 'data ecosystems', 'Relation': 'in', 'Object': 'Energy Data Management Initiative', 'Description': 'Data ecosystems participate in the Energy Data Management Initiative to improve data quality and accessibility for energy-related decision-making.', 'Importance': 7}, {'Subject': 'data ecosystems', 'Relation': 'partners_with', 'Object': 'Energy Service Providers', 'Description': 'Data ecosystems partner with energy service providers to leverage data for optimizing energy services and offerings.', 'Importance': 8}, {'Subject': 'data ecosystems', 'Relation': 'contributes_to', 'Object': 'Data-driven Decision Making', 'Description': 'Data ecosystems contribute to data-driven decision making in the energy sector by providing reliable and actionable energy data.', 'Importance': 7}, {'Subject': 'data ecosystems', 'Relation': 'monitors', 'Object': 'Energy Consumption Patterns', 'Description': 'Data ecosystems monitor energy consumption patterns to identify trends and patterns for energy optimization.', 'Importance': 6}, {'Subject': 'data ecosystems', 'Relation': 'targets', 'Object': 'Data Security', 'Description': 'Data ecosystems set targets to ensure data security and protect energy-related data from unauthorized access.', 'Importance': 9}, {'Subject': 'data ecosystems', 'Relation': 'addresses', 'Object': 'Data Governance', 'Description': 'Data ecosystems address data governance challenges to ensure the responsible and ethical use of energy-related data.', 'Importance': 8}, {'Subject': 'data ecosystems', 'Relation': 'employs', 'Object': 'Data Scientists', 'Description': 'Data ecosystems employ data scientists to analyze and derive insights from energy-related data.', 'Importance': 7}, {'Subject': 'data ecosystems', 'Relation': 'collaborates_with', 'Object': 'Technology Startups', 'Description': 'Data ecosystems collaborate with technology startups to develop innovative data-driven solutions for the energy sector.', 'Importance': 8}, {'Subject': 'data ecosystems', 'Relation': 'supports', 'Object': 'Open Data Initiatives', 'Description': 'Data ecosystems support open data initiatives to promote transparency and accessibility of energy-related data.', 'Importance': 7}, {'Subject': 'data ecosystems', 'Relation': 'administers', 'Object': 'Data Sharing Agreements', 'Description': 'Data ecosystems administer data sharing agreements to facilitate the exchange of energy-related data among stakeholders.', 'Importance': 8}, {'Subject': 'data ecosystems', 'Relation': 'measures', 'Object': 'Data Quality', 'Description': 'Data ecosystems measure data quality to ensure the accuracy and reliability of energy-related data.', 'Importance': 7}, {'Subject': 'data ecosystems', 'Relation': 'aligns_with', 'Object': 'Data Governance Frameworks', 'Description': 'Data ecosystems align their data management practices with established data governance frameworks.', 'Importance': 9}, {'Subject': 'data ecosystems', 'Relation': 'an_instance_of', 'Object': 'Digital Ecosystem', 'Description': 'Data ecosystems are instances of digital ecosystems that enable the exchange and utilization of energy-related data.', 'Importance': 8}]\n"
     ]
    }
   ],
   "source": [
    "print (relations_json)\n"
   ],
   "metadata": {
    "collapsed": false
   }
  },
  {
   "cell_type": "code",
   "execution_count": 79,
   "outputs": [],
   "source": [
    "capitalized_relations = capitalize_keys(relations_json)\n",
    "relations_df = pd.DataFrame(capitalized_relations)\n",
    "\n",
    "relations_df.fillna('', inplace=True)\n",
    "relations_df.to_csv('Relations.csv', sep=';', index=False)\n"
   ],
   "metadata": {
    "collapsed": false
   }
  },
  {
   "cell_type": "code",
   "execution_count": null,
   "outputs": [],
   "source": [],
   "metadata": {
    "collapsed": false
   }
  }
 ],
 "metadata": {
  "kernelspec": {
   "display_name": "Python 3",
   "language": "python",
   "name": "python3"
  },
  "language_info": {
   "codemirror_mode": {
    "name": "ipython",
    "version": 2
   },
   "file_extension": ".py",
   "mimetype": "text/x-python",
   "name": "python",
   "nbconvert_exporter": "python",
   "pygments_lexer": "ipython2",
   "version": "2.7.6"
  }
 },
 "nbformat": 4,
 "nbformat_minor": 0
}
