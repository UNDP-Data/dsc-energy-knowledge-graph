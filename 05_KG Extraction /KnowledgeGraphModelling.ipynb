{
  "cells": [
    {
      "cell_type": "markdown",
      "id": "vM5VDCJyAWnC",
      "metadata": {
        "id": "vM5VDCJyAWnC"
      },
      "source": [
        "# Improve ChatGPT with Knowledge Graphs\n"
      ]
    },
    {
      "cell_type": "code",
      "execution_count": 1,
      "id": "uWz0SMuX5FFp",
      "metadata": {
        "id": "uWz0SMuX5FFp"
      },
      "outputs": [],
      "source": [
        "# pip install -q openai langchain"
      ]
    },
    {
      "cell_type": "code",
      "execution_count": 2,
      "id": "66162a41",
      "metadata": {},
      "outputs": [],
      "source": [
        "# pip install python-dotenv"
      ]
    },
    {
      "cell_type": "code",
      "execution_count": 2,
      "id": "829cb1c9",
      "metadata": {},
      "outputs": [],
      "source": [
        "import os\n",
        "import openai\n",
        "from string import Template\n",
        "import json\n",
        "from neo4j import GraphDatabase\n",
        "import glob\n",
        "from timeit import default_timer as timer\n",
        "from dotenv import load_dotenv\n",
        "from time import sleep\n",
        "from langchain.text_splitter import TokenTextSplitter\n",
        "from langchain.schema import Document\n"
      ]
    },
    {
      "cell_type": "code",
      "execution_count": 3,
      "id": "beb23ada",
      "metadata": {},
      "outputs": [
        {
          "data": {
            "text/plain": [
              "True"
            ]
          },
          "execution_count": 3,
          "metadata": {},
          "output_type": "execute_result"
        }
      ],
      "source": [
        "load_dotenv()"
      ]
    },
    {
      "cell_type": "code",
      "execution_count": 4,
      "id": "XpvHDkzNnFLj",
      "metadata": {
        "colab": {
          "base_uri": "https://localhost:8080/"
        },
        "id": "XpvHDkzNnFLj",
        "outputId": "3d634edc-dbba-4294-8dcc-2ea998e7928e"
      },
      "outputs": [],
      "source": [
        "import os\n",
        "import openai\n",
        "\n",
        "os.environ['OPENAI_API_KEY'] = os.getenv(\"OPENAI_KEY\")\n",
        "openai.api_key = os.getenv(\"api_key_azure\")\n",
        "openai.api_version = os.getenv(\"api_version\")\n",
        "openai_deployment = \"sdgi-gpt-35-turbo-16k\" \n",
        "# print(os.getenv(\"api_key_azure\"))\n",
        "# print(\"=====\")\n",
        "# print(os.getenv(\"api_version\"))\n",
        "# completion = openai.ChatCompletion.create(model=\"gpt-3.5-turbo\",\n",
        "#                                           temperature=0,\n",
        "#                                           messages=[{\"role\": \"user\",\n",
        "#                                                      \"content\": question}])\n",
        "# print(completion[\"choices\"][0][\"message\"][\"content\"])\n",
        "\n",
        "# completion = openai.chat.completions.create(\n",
        "#                     model=openai_deployment,\n",
        "#                     max_tokens=15000,\n",
        "#                     temperature=0,\n",
        "#                     messages=[\n",
        "#                         {\"role\": \"user\", \"content\": question}\n",
        "#                     ]\n",
        "#                 )\n",
        "# nlp_results = completion.choices[0].message.content\n",
        "# print(nlp_results)"
      ]
    },
    {
      "cell_type": "code",
      "execution_count": 12,
      "id": "88a9f2e3-c729-455a-a338-2f83776c1d4c",
      "metadata": {
        "colab": {
          "base_uri": "https://localhost:8080/"
        },
        "id": "88a9f2e3-c729-455a-a338-2f83776c1d4c",
        "outputId": "f6c9f4d8-387b-4ffc-e200-0c35ed449d8a"
      },
      "outputs": [],
      "source": [
        "from langchain.llms import OpenAI\n",
        "from langchain.indexes import GraphIndexCreator\n",
        "from langchain.chains import GraphQAChain\n",
        "from langchain.prompts import PromptTemplate\n",
        "\n",
        "text = f\"\"\"\n",
        "0. The country programme seeks to achieve transformational change in an \n",
        "environment of great complexity and insecurity. UNDP will continue to adapt to a \n",
        "changing national context in four of the five United Nations Development \n",
        "Assistance Framework outcomes outlined below, and will take on leadership or \n",
        "facilitation roles in those areas as requested. Conflict sensitivity will be applied \n",
        "throughout the programme and will be mainstreamed in all projects. Political, \n",
        "economic, and conflict analysis of the provinces where UNDP is working will be \n",
        "undertaken through its regional hubs at the subnational level. This will be \n",
        "accompanied by greater use of national systems, a focus on capacity development \n",
        "instead of capacity substitution, and assistance with phasing out parallel structures \n",
        "and strengthening approaches to regionalization. For each country programme \n",
        "outcome, UNDP will prepare an outcome strategy document, in consultation with all \n",
        "partners and the new Government and in the light of the evolving UNAMA mandate \n",
        "after 2015.11. UNDP will ensure that four cross-cutting parameters or guiding principles are \n",
        "addressed in the outcome strategies of the country programme to be prepared after \n",
        "the document has been approved. They are: \n",
        "(a) Area-based approaches for better targeting of beneficiaries. \n",
        "Socio-economic and baseline analysis in pilot regions and provinces will be carried \n",
        "out to ensure that direct benefits accrue to policymakers, the poor, women, and other \n",
        "selected beneficiaries, such as internally displaced persons. Participatory planning \n",
        "will foster community ownership, leading to sustainable interventions through \n",
        "conflict-sensitive programming, the rights-based approach and ‘do no harm’ \n",
        "principles.\n",
        "(b) Scalability of results and use of multidisciplinary approaches. Using an \n",
        "issues-based approach, UNDP will ensure that synergies between outcomes and \n",
        "fields of work are established to ensure accelerated progress towards specified \n",
        "goals, fostering development impact and social cohesion.\n",
        "(c) Partnership building. This will involve a greater use of state and \n",
        "non-state actors in Afghanistan, and at the regional and global levels through South\u0002South cooperation, to ensure that the best national and international comparative \n",
        "experience can be integrated into the country programme outcome areas of work.\n",
        "(d) Use of national systems and ‘Serving as One’. Serving as One \n",
        "approaches incorporating the use of integrated work plans and joint programmes, \n",
        "coordinated through outcome-specific inter-agency working groups, have been \n",
        "agreed to.\n",
        "12. Outcome 1 of the country programme document, on accountable governance, \n",
        "addresses governance deficits and responds to the need to strengthen the \n",
        "accountability of institutions and promote civil service reform, with special \n",
        "attention to selected regions and provinces. UNDP will seek to promote:\n",
        "(a) Inclusive political processes and representative institutions. In \n",
        "coordination with UNAMA, UNDP electoral cycle support will assist national \n",
        "institutions in the better management of presidential, parliamentary and local \n",
        "election processes. UNDP is already a partner of the key electoral bodies. UNDP \n",
        "will support the National Assembly in building capacities to deliver on its \n",
        "constitutional mandate. At the subnational level, UNDP will engage with the new \n",
        "Government to discuss policy options, including on fiscal decentralization and \n",
        "accountability mechanisms, for improved participation and inclusive decision\u0002making, including by acknowledging the specific role of traditional governance \n",
        "systems such as Shuras and Jirgas in the Afghan context. UNDP is also planning to \n",
        "strengthen the capacities of elected provincial councils, district coordination \n",
        "councils and municipal boards. This will further the institutionalization of \n",
        "democratic processes as well as ensure equitable economic development and \n",
        "promotion of justice, the rule of law and women’s rights as core priorities of UNDP \n",
        "development interventions at the subnational level.\n",
        "(b) Institutional capacity for peace-building. Building on the Afghanistan \n",
        "Peace and Reintegration Programme and possible successor arrangements, UNDP \n",
        "will adopt a two-pronged approach to address the root causes of conflict: (i) At the \n",
        "\"\"\"\n",
        "\n",
        "index_creator = GraphIndexCreator(llm=OpenAI(temperature=0))\n",
        "graph = index_creator.from_text(text)\n",
        "triples = graph.get_triples()\n",
        "\n",
        "# # Create a dictionary to represent the knowledge graph\n",
        "# graph_data = {\n",
        "#     \"nodes\": list(set(triplet[0] for triplet in triples + [triplet[1] for triplet in triples])),\n",
        "#     \"edges\": [{\"source\": triplet[0], \"target\": triplet[1], \"label\": triplet[2]} for triplet in triples]\n",
        "# }\n",
        "\n",
        "# # Convert graph data to JSON format\n",
        "# graph_json = json.dumps(graph_data, indent=4)\n",
        "\n",
        "# # Display or use the JSON data as needed\n",
        "# print(graph_json)\n"
      ]
    },
    {
      "cell_type": "markdown",
      "id": "ed06c43d",
      "metadata": {},
      "source": [
        "### Save Graph \n"
      ]
    },
    {
      "cell_type": "code",
      "execution_count": 13,
      "id": "0388bb7f",
      "metadata": {},
      "outputs": [],
      "source": [
        "graph.write_to_gml(\"moonshot3.gml\")"
      ]
    },
    {
      "cell_type": "markdown",
      "id": "b6888973",
      "metadata": {},
      "source": [
        "### Use Saved Graph\n"
      ]
    },
    {
      "cell_type": "code",
      "execution_count": 20,
      "id": "KZIs4N5S8e8S",
      "metadata": {
        "colab": {
          "base_uri": "https://localhost:8080/",
          "height": 199
        },
        "id": "KZIs4N5S8e8S",
        "outputId": "af6ba50c-e5f6-40be-adaf-07911dab948f"
      },
      "outputs": [
        {
          "name": "stdout",
          "output_type": "stream",
          "text": [
            "\n",
            "\n",
            "\u001b[1m> Entering new GraphQAChain chain...\u001b[0m\n",
            "Entities Extracted:\n",
            "\u001b[32;1m\u001b[1;3m UNDP, Afghanistan\u001b[0m\n",
            "Full Context:\n",
            "\u001b[32;1m\u001b[1;3mUNDP will continue to adapt to a changing national context\n",
            "UNDP will take on leadership or facilitation roles in those areas as requested\n",
            "UNDP will apply conflict sensitivity\n",
            "UNDP will ensure four cross-cutting parameters or guiding principles are addressed\n",
            "UNDP will promote inclusive political processes and representative institutions\n",
            "UNDP will support the National Assembly\n",
            "UNDP will engage with the new Government\n",
            "UNDP will discuss policy options including on fiscal decentralization and accountability mechanisms\n",
            "UNDP will adopt a two-pronged approach to address the root causes of conflict\n",
            "Afghanistan has presidential elections\n",
            "Afghanistan has withdrawal of international troops\n",
            "Afghanistan has closure of provincial reconstruction teams\n",
            "Afghanistan has full sovereignty\n",
            "Afghanistan has close to 9,000 civilian casualties\n",
            "Afghanistan has Millennium Development Goals for education and health\n",
            "Afghanistan has over 30% of central government employees are women\n",
            "Afghanistan has 28% of seats in national parliament are reserved for women\n",
            "Afghanistan has infant mortality rates declined by more than 50%\n",
            "Afghanistan has net enrolment in primary school rose from 54%\n",
            "Afghanistan has progress has been uneven\n",
            "Afghanistan has reduction of economic growth\n",
            "Afghanistan has acute cash crisis\n",
            "Afghanistan has five outcomes to address fragility\n",
            "Afghanistan has equitable economic development\n",
            "Afghanistan has social services\n",
            "Afghanistan has social equity an\n",
            "Afghanistan has a population\n",
            "Afghanistan has a socio-political environment\n",
            "Afghanistan has a plural legal traditions\n",
            "Afghanistan has a national poverty line\n",
            "Afghanistan has a working population\n",
            "Afghanistan has a share of working population\n",
            "Afghanistan has a share of vulnerable employment\n",
            "Afghanistan has a share of working-age women\n",
            "Afghanistan has a number of registered cases of violence against women\n",
            "Afghanistan has a number of incidents of violence against women\n",
            "Afghanistan has a Gender Inequality Index\n",
            "Afghanistan has a Millennium Declaration\n",
            "Afghanistan has a National Risk and Vulnerability Assessment\n",
            "Afghanistan has a Security Council resolutions 1325 and 2122\n",
            "Afghanistan has a Millennium Development Goals Report\n",
            "Afghanistan has a United Nations Assistance Mission in Afghanistan\u001b[0m\n",
            "\n",
            "\u001b[1m> Finished chain.\u001b[0m\n"
          ]
        },
        {
          "data": {
            "text/plain": [
              "' UNDP offers a range of benefits to Afghanistan, including leadership or facilitation roles in areas requested, conflict sensitivity, promotion of inclusive political processes and representative institutions, support for the National Assembly, engagement with the new Government, discussion of policy options including on fiscal decentralization and accountability mechanisms, and a two-pronged approach to address the root causes of conflict.'"
            ]
          },
          "execution_count": 20,
          "metadata": {},
          "output_type": "execute_result"
        }
      ],
      "source": [
        "from langchain.indexes.graph import NetworkxEntityGraph\n",
        "loaded_graph = NetworkxEntityGraph.from_gml(\"combined_graph.gml\")\n",
        "\n",
        "question = f\"\"\"\n",
        "what benefits does UNDP offer to Afghanistan\n",
        "\"\"\"\n",
        "chain = GraphQAChain.from_llm(OpenAI(temperature=0), graph=loaded_graph, verbose=True)\n",
        "chain.run(question) "
      ]
    },
    {
      "cell_type": "markdown",
      "id": "3c095dcd",
      "metadata": {},
      "source": [
        "### Merge Saved Files"
      ]
    },
    {
      "cell_type": "code",
      "execution_count": 16,
      "id": "436bd154",
      "metadata": {},
      "outputs": [],
      "source": [
        "import networkx as nx\n",
        "\n",
        "# Read the first GML file\n",
        "G1 = nx.read_gml('moonshot.gml')\n",
        "\n",
        "# Read the second GML file\n",
        "G2 = nx.read_gml('moonshot2.gml')\n",
        "\n",
        "# Read the third GML file\n",
        "G3 = nx.read_gml('moonshot3.gml')\n",
        "\n",
        "# Read the third GML file\n",
        "G4 = nx.read_gml('combined_graph.gml')\n",
        "\n",
        "\n",
        "# Combine the graphs\n",
        "combined_graph = nx.compose(G3, G4)\n",
        "\n",
        "# Write the combined graph to a new GML file\n",
        "nx.write_gml(combined_graph, 'combined_graph.gml')\n"
      ]
    }
  ],
  "metadata": {
    "colab": {
      "include_colab_link": true,
      "provenance": []
    },
    "kernelspec": {
      "display_name": "Python 3 (ipykernel)",
      "language": "python",
      "name": "python3"
    },
    "language_info": {
      "codemirror_mode": {
        "name": "ipython",
        "version": 3
      },
      "file_extension": ".py",
      "mimetype": "text/x-python",
      "name": "python",
      "nbconvert_exporter": "python",
      "pygments_lexer": "ipython3",
      "version": "3.9.6"
    }
  },
  "nbformat": 4,
  "nbformat_minor": 5
}
