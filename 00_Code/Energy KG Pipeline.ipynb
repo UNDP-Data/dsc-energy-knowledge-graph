{
 "cells": [
  {
   "cell_type": "markdown",
   "id": "8431b2b2",
   "metadata": {},
   "source": [
    "<h2> Energy Knowledge Graph </h2>"
   ]
  },
  {
   "cell_type": "code",
   "execution_count": 1,
   "id": "d6f02761",
   "metadata": {},
   "outputs": [],
   "source": [
    "##imports\n",
    "import pandas as pd"
   ]
  },
  {
   "cell_type": "code",
   "execution_count": null,
   "id": "72460f8b",
   "metadata": {},
   "outputs": [],
   "source": [
    "##set globals and filepaths"
   ]
  },
  {
   "cell_type": "markdown",
   "id": "ed1303b2",
   "metadata": {},
   "source": [
    "<h4>extract entities and relations for all docs </h4>"
   ]
  },
  {
   "cell_type": "code",
   "execution_count": null,
   "id": "51209fb1",
   "metadata": {},
   "outputs": [],
   "source": [
    "##go through each document in 01_Input and extract entities and relations"
   ]
  },
  {
   "cell_type": "code",
   "execution_count": null,
   "id": "1c127975",
   "metadata": {},
   "outputs": [],
   "source": []
  },
  {
   "cell_type": "code",
   "execution_count": null,
   "id": "48c607c2",
   "metadata": {},
   "outputs": [],
   "source": [
    "##export to '02_Output/00_By-Document/' in 00_Entities and 01_Relations"
   ]
  },
  {
   "cell_type": "markdown",
   "id": "69a412fb",
   "metadata": {},
   "source": [
    "<h4> merge entities and relations across all docs </h4>"
   ]
  },
  {
   "cell_type": "code",
   "execution_count": null,
   "id": "53adde27",
   "metadata": {},
   "outputs": [],
   "source": [
    "#create dictionary of all entities and dictionary of relations, with values for the documents they appear in\n",
    "#then iterate through each and create merged versions"
   ]
  },
  {
   "cell_type": "code",
   "execution_count": null,
   "id": "d784497d",
   "metadata": {},
   "outputs": [],
   "source": []
  },
  {
   "cell_type": "code",
   "execution_count": null,
   "id": "bdbfab5c",
   "metadata": {},
   "outputs": [],
   "source": [
    "##export to '02_Output/01_Merged/' as energy-entities.json and energy-entities-datecode.json (and energy-relations)"
   ]
  },
  {
   "cell_type": "markdown",
   "id": "0a9b1959",
   "metadata": {},
   "source": [
    "<h4> extract jsons for each entity </h4>"
   ]
  },
  {
   "cell_type": "code",
   "execution_count": null,
   "id": "1b6ceb79",
   "metadata": {},
   "outputs": [],
   "source": [
    "##iterate through keys in entities, and identify all relations for that entity\n",
    "##generate json including all information about that entity, its relations, all related entitites, and document ids"
   ]
  },
  {
   "cell_type": "code",
   "execution_count": null,
   "id": "741860e0",
   "metadata": {},
   "outputs": [],
   "source": []
  }
 ],
 "metadata": {
  "kernelspec": {
   "display_name": "Python 3 (ipykernel)",
   "language": "python",
   "name": "python3"
  },
  "language_info": {
   "codemirror_mode": {
    "name": "ipython",
    "version": 3
   },
   "file_extension": ".py",
   "mimetype": "text/x-python",
   "name": "python",
   "nbconvert_exporter": "python",
   "pygments_lexer": "ipython3",
   "version": "3.10.6"
  }
 },
 "nbformat": 4,
 "nbformat_minor": 5
}
