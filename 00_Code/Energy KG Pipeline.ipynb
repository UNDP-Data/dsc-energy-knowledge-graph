{
 "cells": [
  {
   "cell_type": "markdown",
   "id": "3ff8ab69",
   "metadata": {},
   "source": [
    "<h2> Energy Knowledge Graph Pipeline</h2>"
   ]
  },
  {
   "cell_type": "code",
   "execution_count": 1,
   "id": "672cb5a6",
   "metadata": {},
   "outputs": [],
   "source": [
    "##imports\n",
    "import pandas as pd"
   ]
  },
  {
   "cell_type": "code",
   "execution_count": null,
   "id": "7fe3a350",
   "metadata": {},
   "outputs": [],
   "source": [
    "##set globals and filepaths"
   ]
  },
  {
   "cell_type": "markdown",
   "id": "fddf0b75",
   "metadata": {},
   "source": [
    "<h4>extract entities and relations for all docs </h4>"
   ]
  },
  {
   "cell_type": "code",
   "execution_count": null,
   "id": "6611daa3",
   "metadata": {},
   "outputs": [],
   "source": [
    "##go through docs in 01_Input, extract entities and relations (assuming pipeline to extract text is already run)"
   ]
  },
  {
   "cell_type": "code",
   "execution_count": null,
   "id": "0c12d875",
   "metadata": {},
   "outputs": [],
   "source": []
  },
  {
   "cell_type": "code",
   "execution_count": null,
   "id": "e27af333",
   "metadata": {},
   "outputs": [],
   "source": [
    "##export results to '02_Output/00_By-Document/' in 00_Entities and 01_Relations"
   ]
  },
  {
   "cell_type": "markdown",
   "id": "ca4a472a",
   "metadata": {},
   "source": [
    "<h4> merge entities and relations across all docs </h4>"
   ]
  },
  {
   "cell_type": "code",
   "execution_count": null,
   "id": "944ea724",
   "metadata": {},
   "outputs": [],
   "source": [
    "#create dictionary of all entities and dictionary of relations, with values for the documents they appear in\n",
    "#then iterate through each and create merged versions"
   ]
  },
  {
   "cell_type": "code",
   "execution_count": null,
   "id": "b24f6b4c",
   "metadata": {},
   "outputs": [],
   "source": []
  },
  {
   "cell_type": "code",
   "execution_count": null,
   "id": "8aeb928e",
   "metadata": {},
   "outputs": [],
   "source": [
    "##export to '02_Output/01_Merged/' as energy-entities.json and energy-entities-datecode.json (and energy-relations)"
   ]
  },
  {
   "cell_type": "markdown",
   "id": "9e3072ea",
   "metadata": {},
   "source": [
    "<h4> extract jsons for each entity </h4>"
   ]
  },
  {
   "cell_type": "code",
   "execution_count": null,
   "id": "4800426f",
   "metadata": {},
   "outputs": [],
   "source": [
    "##iterate through keys in entities, and identify all relations for that entity\n",
    "##generate json including all info about that entity, its relations, all related entitites, and document ids"
   ]
  },
  {
   "cell_type": "code",
   "execution_count": null,
   "id": "2f342b17",
   "metadata": {},
   "outputs": [],
   "source": []
  },
  {
   "cell_type": "code",
   "execution_count": null,
   "id": "c02c718b",
   "metadata": {},
   "outputs": [],
   "source": [
    "##export to '02_Output/02_By-Entity/'"
   ]
  }
 ],
 "metadata": {
  "kernelspec": {
   "display_name": "Python 3 (ipykernel)",
   "language": "python",
   "name": "python3"
  },
  "language_info": {
   "codemirror_mode": {
    "name": "ipython",
    "version": 3
   },
   "file_extension": ".py",
   "mimetype": "text/x-python",
   "name": "python",
   "nbconvert_exporter": "python",
   "pygments_lexer": "ipython3",
   "version": "3.10.6"
  }
 },
 "nbformat": 4,
 "nbformat_minor": 5
}
