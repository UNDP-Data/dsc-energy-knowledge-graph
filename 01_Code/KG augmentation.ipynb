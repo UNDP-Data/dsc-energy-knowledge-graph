{
 "cells": [
  {
   "cell_type": "markdown",
   "source": [
    "# This notebook replaces the new objects with fuzzy matched entities"
   ],
   "metadata": {
    "collapsed": false
   }
  },
  {
   "cell_type": "code",
   "execution_count": 1,
   "outputs": [
    {
     "ename": "KeyboardInterrupt",
     "evalue": "",
     "output_type": "error",
     "traceback": [
      "\u001B[0;31m---------------------------------------------------------------------------\u001B[0m",
      "\u001B[0;31mKeyboardInterrupt\u001B[0m                         Traceback (most recent call last)",
      "Cell \u001B[0;32mIn[1], line 3\u001B[0m\n\u001B[1;32m      1\u001B[0m \u001B[38;5;28;01mimport\u001B[39;00m \u001B[38;5;21;01mpandas\u001B[39;00m \u001B[38;5;28;01mas\u001B[39;00m \u001B[38;5;21;01mpd\u001B[39;00m\n\u001B[1;32m      2\u001B[0m \u001B[38;5;28;01mimport\u001B[39;00m \u001B[38;5;21;01mos\u001B[39;00m\n\u001B[0;32m----> 3\u001B[0m \u001B[38;5;28;01mfrom\u001B[39;00m \u001B[38;5;21;01mopenai\u001B[39;00m \u001B[38;5;28;01mimport\u001B[39;00m AzureOpenAI\n\u001B[1;32m      4\u001B[0m \u001B[38;5;28;01mimport\u001B[39;00m \u001B[38;5;21;01mopenai\u001B[39;00m\n\u001B[1;32m      5\u001B[0m \u001B[38;5;28;01mimport\u001B[39;00m \u001B[38;5;21;01mjson\u001B[39;00m\n",
      "File \u001B[0;32m/Library/Python/3.9/site-packages/openai/__init__.py:8\u001B[0m\n\u001B[1;32m      5\u001B[0m \u001B[38;5;28;01mimport\u001B[39;00m \u001B[38;5;21;01mos\u001B[39;00m \u001B[38;5;28;01mas\u001B[39;00m \u001B[38;5;21;01m_os\u001B[39;00m\n\u001B[1;32m      6\u001B[0m \u001B[38;5;28;01mfrom\u001B[39;00m \u001B[38;5;21;01mtyping_extensions\u001B[39;00m \u001B[38;5;28;01mimport\u001B[39;00m override\n\u001B[0;32m----> 8\u001B[0m \u001B[38;5;28;01mfrom\u001B[39;00m \u001B[38;5;21;01m.\u001B[39;00m \u001B[38;5;28;01mimport\u001B[39;00m types\n\u001B[1;32m      9\u001B[0m \u001B[38;5;28;01mfrom\u001B[39;00m \u001B[38;5;21;01m.\u001B[39;00m\u001B[38;5;21;01m_types\u001B[39;00m \u001B[38;5;28;01mimport\u001B[39;00m NoneType, Transport, ProxiesTypes\n\u001B[1;32m     10\u001B[0m \u001B[38;5;28;01mfrom\u001B[39;00m \u001B[38;5;21;01m.\u001B[39;00m\u001B[38;5;21;01m_utils\u001B[39;00m \u001B[38;5;28;01mimport\u001B[39;00m file_from_path\n",
      "File \u001B[0;32m/Library/Python/3.9/site-packages/openai/types/__init__.py:5\u001B[0m\n\u001B[1;32m      1\u001B[0m \u001B[38;5;66;03m# File generated from our OpenAPI spec by Stainless.\u001B[39;00m\n\u001B[1;32m      3\u001B[0m \u001B[38;5;28;01mfrom\u001B[39;00m \u001B[38;5;21;01m__future__\u001B[39;00m \u001B[38;5;28;01mimport\u001B[39;00m annotations\n\u001B[0;32m----> 5\u001B[0m \u001B[38;5;28;01mfrom\u001B[39;00m \u001B[38;5;21;01m.\u001B[39;00m\u001B[38;5;21;01mimage\u001B[39;00m \u001B[38;5;28;01mimport\u001B[39;00m Image \u001B[38;5;28;01mas\u001B[39;00m Image\n\u001B[1;32m      6\u001B[0m \u001B[38;5;28;01mfrom\u001B[39;00m \u001B[38;5;21;01m.\u001B[39;00m\u001B[38;5;21;01mmodel\u001B[39;00m \u001B[38;5;28;01mimport\u001B[39;00m Model \u001B[38;5;28;01mas\u001B[39;00m Model\n\u001B[1;32m      7\u001B[0m \u001B[38;5;28;01mfrom\u001B[39;00m \u001B[38;5;21;01m.\u001B[39;00m\u001B[38;5;21;01mshared\u001B[39;00m \u001B[38;5;28;01mimport\u001B[39;00m FunctionDefinition \u001B[38;5;28;01mas\u001B[39;00m FunctionDefinition, FunctionParameters \u001B[38;5;28;01mas\u001B[39;00m FunctionParameters\n",
      "File \u001B[0;32m/Library/Python/3.9/site-packages/openai/types/image.py:5\u001B[0m\n\u001B[1;32m      1\u001B[0m \u001B[38;5;66;03m# File generated from our OpenAPI spec by Stainless.\u001B[39;00m\n\u001B[1;32m      3\u001B[0m \u001B[38;5;28;01mfrom\u001B[39;00m \u001B[38;5;21;01mtyping\u001B[39;00m \u001B[38;5;28;01mimport\u001B[39;00m Optional\n\u001B[0;32m----> 5\u001B[0m \u001B[38;5;28;01mfrom\u001B[39;00m \u001B[38;5;21;01m.\u001B[39;00m\u001B[38;5;21;01m.\u001B[39;00m\u001B[38;5;21;01m_models\u001B[39;00m \u001B[38;5;28;01mimport\u001B[39;00m BaseModel\n\u001B[1;32m      7\u001B[0m __all__ \u001B[38;5;241m=\u001B[39m [\u001B[38;5;124m\"\u001B[39m\u001B[38;5;124mImage\u001B[39m\u001B[38;5;124m\"\u001B[39m]\n\u001B[1;32m     10\u001B[0m \u001B[38;5;28;01mclass\u001B[39;00m \u001B[38;5;21;01mImage\u001B[39;00m(BaseModel):\n",
      "File \u001B[0;32m/Library/Python/3.9/site-packages/openai/_models.py:18\u001B[0m\n\u001B[1;32m      5\u001B[0m \u001B[38;5;28;01mfrom\u001B[39;00m \u001B[38;5;21;01mdatetime\u001B[39;00m \u001B[38;5;28;01mimport\u001B[39;00m date, datetime\n\u001B[1;32m      6\u001B[0m \u001B[38;5;28;01mfrom\u001B[39;00m \u001B[38;5;21;01mtyping_extensions\u001B[39;00m \u001B[38;5;28;01mimport\u001B[39;00m (\n\u001B[1;32m      7\u001B[0m     Unpack,\n\u001B[1;32m      8\u001B[0m     Literal,\n\u001B[0;32m   (...)\u001B[0m\n\u001B[1;32m     15\u001B[0m     runtime_checkable,\n\u001B[1;32m     16\u001B[0m )\n\u001B[0;32m---> 18\u001B[0m \u001B[38;5;28;01mimport\u001B[39;00m \u001B[38;5;21;01mpydantic\u001B[39;00m\n\u001B[1;32m     19\u001B[0m \u001B[38;5;28;01mimport\u001B[39;00m \u001B[38;5;21;01mpydantic\u001B[39;00m\u001B[38;5;21;01m.\u001B[39;00m\u001B[38;5;21;01mgenerics\u001B[39;00m\n\u001B[1;32m     20\u001B[0m \u001B[38;5;28;01mfrom\u001B[39;00m \u001B[38;5;21;01mpydantic\u001B[39;00m\u001B[38;5;21;01m.\u001B[39;00m\u001B[38;5;21;01mfields\u001B[39;00m \u001B[38;5;28;01mimport\u001B[39;00m FieldInfo\n",
      "File \u001B[0;32m/Library/Python/3.9/site-packages/pydantic/__init__.py:2\u001B[0m, in \u001B[0;36minit pydantic.__init__\u001B[0;34m()\u001B[0m\n",
      "File \u001B[0;32m/Library/Python/3.9/site-packages/pydantic/dataclasses.py:51\u001B[0m, in \u001B[0;36minit pydantic.dataclasses\u001B[0;34m()\u001B[0m\n",
      "File \u001B[0;32m<frozen importlib._bootstrap>:398\u001B[0m, in \u001B[0;36mparent\u001B[0;34m(self)\u001B[0m\n",
      "\u001B[0;31mKeyboardInterrupt\u001B[0m: "
     ]
    }
   ],
   "source": [
    "import pandas as pd\n",
    "import json\n",
    "import csv\n"
   ],
   "metadata": {
    "collapsed": false
   }
  },
  {
   "cell_type": "code",
   "execution_count": 5,
   "outputs": [],
   "source": [
    "ent_path = '../03_Output/00_GPT KGs/Entities.csv'\n",
    "entities = pd.read_csv(ent_path, delimiter=';')"
   ],
   "metadata": {
    "collapsed": false
   }
  },
  {
   "cell_type": "code",
   "execution_count": 6,
   "outputs": [],
   "source": [
    "rel_path = '../03_Output/00_GPT KGs/Relations.csv'\n",
    "relations = pd.read_csv(rel_path, delimiter=';')"
   ],
   "metadata": {
    "collapsed": false
   }
  },
  {
   "cell_type": "code",
   "execution_count": 7,
   "outputs": [],
   "source": [
    "\n",
    "def extract_synonyms_dict(csv_file_path):\n",
    "    synonyms_dict = {}\n",
    "\n",
    "    with open(csv_file_path, mode='r', encoding='utf-8') as csvfile:\n",
    "        reader = csv.DictReader(csvfile, delimiter=';')\n",
    "        for row in reader:\n",
    "            entity = row['Entity']\n",
    "            synonyms = row['Synonyms']\n",
    "            if synonyms:\n",
    "                # Split the synonyms by semicolon and strip any leading/trailing whitespace\n",
    "                synonym_list = [syn.strip() for syn in synonyms.split(';')]\n",
    "                for synonym in synonym_list:\n",
    "                    synonyms_dict[synonym] = entity\n",
    "\n",
    "    return synonyms_dict\n",
    "\n"
   ],
   "metadata": {
    "collapsed": false
   }
  },
  {
   "cell_type": "code",
   "execution_count": 8,
   "outputs": [
    {
     "name": "stdout",
     "output_type": "stream",
     "text": [
      "{'data security': 'data equity', 'data quality': 'data equity', 'internet of things': 'internet of energy', 'net zero energy': 'internet of energy', 'geographic information system': 'geospatial information systems', 'energy planning': 'energy modeling', 'inclusive finance': 'digital inclusive finance', 'renewable energy system': 'decentralized energy systems', 'energy efficiency policy': 'energy efficiency', 'energy efficiency programs': 'energy efficiency', 'energy efficiency goals': 'energy efficiency', 'energy efficiency performance': 'energy efficiency', 'energy efficiency initiatives': 'energy efficiency', 'energy efficiency measures': 'energy efficiency', 'energy efficiency improvements': 'energy efficiency', 'energy efficiency targets': 'energy efficiency', 'carbon footprint': 'carbon pricing', 'carbon pricing mechanisms': 'carbon pricing', 'circular economy principles': 'circular economy', 'circular economy solution': 'circular economy', 'circular economy goals': 'circular economy', 'energy waste': 'energy storage', 'energy storage capacity': 'energy storage', 'energy savings': 'energy storage', 'energy data': 'energy storage', 'energy storage solutions': 'energy storage', 'energy storage policy': 'energy storage', 'energy surveys': 'energy storage', 'multi-stakeholder approach': 'multi-stakeholder partnerships', 'microgrid systems': 'micro grids', 'smart grids': 'micro grids', 'social cohesion': 'social protection', 'financial protection': 'social protection', 'energy transition': 'just energy transition', 'clean energy transition': 'just energy transition', 'energy transition funds': 'just energy transition', 'democratic energy transition': 'just energy transition', 'energy transition progress': 'just energy transition', 'sustainable energy transition': 'just energy transition', 'energy transition strategy': 'just energy transition', 'energy transition plan': 'just energy transition', 'energy transition theory': 'just energy transition', 'energy transition goals': 'just energy transition', 'clean cooking solutions': 'clean cooking', 'community-based energy solutions': 'community-led solutions', 'community-based organizations': 'community-led solutions', 'disaster resilience': 'energy resilience', 'grid resilience': 'energy resilience', 'energy resilience grants': 'energy resilience', 'marine renewable energy': 'offshore renewable energy', 'research on renewable energy': 'offshore renewable energy', 'renewable energy': 'offshore renewable energy', 'green economy': 'blue economy', 'decentralization': 'decarbonization', 'smallholder farmers': 'energy for smallholder farmers', 'energy performance': 'energy governance', 'sustainable energy governance': 'energy governance', 'energy startups': 'energy markets', 'energy access': 'energy markets', 'energy audits': 'energy markets', 'energy market': 'energy markets', 'energy market monopoly': 'energy markets', 'gender mainstreaming program': 'gender mainstreaming', 'gender mainstreaming strategy': 'gender mainstreaming', 'gender mainstreaming programs': 'gender mainstreaming', 'microfinance programs': 'micro-finance', 'rural communities': 'marginalized communities', 'electrification': 'electrification planning', 'gender disparities': 'gender disparities in energy', 'energy inequality': 'energy and health', 'energy storage incentive programs': 'energy tax incentives', 'government incentives': 'energy tax incentives', 'energy poverty': 'energy poverty indices', 'energy import policies': 'energy poverty indices', 'livelihood opportunities': 'Action Opportunities', 'public-private partnership': 'public-private partnerships', 'climate finance programs': 'climate finance mechanisms', 'climate finance': 'climate finance mechanisms', 'energy security': 'energy democracy', 'energy demand': 'energy democracy', 'renewable energy integration': 'renewable energy certificates', 'renewable energy workforce': 'renewable energy certificates', 'renewable energy startups': 'renewable energy certificates', 'renewable energy cooperatives': 'renewable energy certificates', 'energy certificates': 'renewable energy certificates', 'renewable energy portfolio': 'renewable energy certificates', 'infrastructure': 'resilient infrastructure', 'charging infrastructure': 'resilient infrastructure', 'hydrogen infrastructure': 'resilient infrastructure', 'green infrastructure': 'resilient infrastructure', 'energy policy': 'energy diplomacy', 'climate resilience': 'climate resilience funds', 'climate resilience fund': 'climate resilience funds', 'climate resilience index': 'climate resilience funds', 'resilience building': 'green buildings', 'climate adaptation': 'climate adaptation strategies', 'entrepreneurship': 'energy entrepreneurship', 'women entrepreneurs': 'energy entrepreneurship', 'carbon offsetting programs': 'carbon offset programs', 'energy data management': 'energy data analytics', 'energy market analysis': 'energy data analytics', 'data analytics': 'energy data analytics', 'energy analysts': 'energy data analytics', 'energy conservation': 'energy cooperatives', 'energy experts': 'energy cooperatives', 'energy companies': 'energy cooperatives', 'community-based climate resilience projects': 'community-based energy resilience programs', 'community-based energy planning': 'community-based energy resilience programs', 'smart contracts': 'smart energy contracts', 'smart grid technology': 'smart metering technologies', 'battery technologies': 'smart metering technologies', 'smart metering technology': 'smart metering technologies', 'data governance principles': 'data governance frameworks', 'data governance': 'data governance frameworks', 'energy infrastructure planning': 'energy infrastructure services', 'ocean energy': 'solar energy', 'wave energy': 'wind energy', 'climate change goals': 'climate change scenario analysis', 'environmental impact': 'environmental impact assessments', 'environmental impact assessment process': 'environmental impact assessments', 'environmental assessment': 'environmental impact assessments', 'climate change agreements': 'data sharing agreements', 'data sharing platforms': 'data sharing agreements', 'energy data platform': 'energy data repositories', 'technology transfer programs': 'technology transfer', 'intergenerational justice': 'intergenerational equity', 'indigenous rights': 'indigenous land rights', 'traditional knowledge': 'traditional ecological knowledge', 'cultural impact': 'cultural impact assessments', 'land stewardship': 'land stewardship agerements', 'clean energy technologies': 'traditional energy technologies', 'bioenergy technology': 'traditional energy technologies', 'energy management systems': 'energy transport systems', 'battery performance': 'battery storage', 'energy storage systems': 'hybrid energy storage systems', 'resilient energy systems': 'resilient energy storage systems', 'anaerobic digestion': 'biodigestion', 'power generation': 'cogeneration', 'renewable energy infrastructure': 'foundational energy infrastructure', 'gasification plants': 'gasification', 'battery recycling program': 'battery recycling', 'national development plans': 'multilateral development banks', 'development banks': 'multilateral development banks', 'international organizations': 'regional energy organizations', 'environmental organizations': 'regional energy organizations', 'renewable energy organization': 'regional energy organizations', 'geological survey organizations': 'regional energy organizations', 'renewable energy projects': 'renewable energy agencies', 'renewable energy generation': 'renewable energy agencies', 'renewable energy mapping': 'renewable energy agencies', 'renewable energy access': 'renewable energy agencies', 'renewable energy research': 'renewable energy agencies', 'renewable energy technologies': 'renewable energy agencies', 'renewable energy capacity': 'renewable energy agencies', 'renewable energy sources': 'renewable energy agencies', 'international renewable energy agency': 'renewable energy agencies', 'renewable energy transition': 'renewable energy agencies', 'renewable energy solutions': 'renewable energy agencies', 'renewable energy deployment': 'renewable energy agencies', 'renewable energy investments': 'renewable energy agencies', 'renewable energy market': 'renewable energy agencies', 'renewable energy companies': 'renewable energy agencies', 'renewable energy adoption': 'renewable energy agencies', 'renewable energy providers': 'renewable energy agencies', 'renewable energy standards': 'renewable energy agencies', 'renewable energy incentives': 'renewable energy agencies', 'renewable energy performance': 'renewable energy agencies', 'renewable energy developers': 'renewable energy agencies', 'renewable energy solution': 'renewable energy agencies', 'renewable energy goals': 'renewable energy agencies', 'renewable energy experts': 'renewable energy agencies', 'energy market regulations': 'energy market and trade organizations', 'energy market integration': 'energy market and trade organizations', 'energy intensive industries': 'energy ministries', 'energy generation': 'energy and modernization', 'grid modernization': 'energy and modernization', 'paris agreement': 'Paris Agreement Goals', 'energy subsidy programs': 'energy subsisides reform', 'energy subsidies': 'energy subsisides reform', 'blue carbon funds': 'blue carbon'}\n"
     ]
    }
   ],
   "source": [
    "synonyms_dict = extract_synonyms_dict(ent_path)\n",
    "print(synonyms_dict)"
   ],
   "metadata": {
    "collapsed": false
   }
  },
  {
   "cell_type": "code",
   "execution_count": 9,
   "outputs": [],
   "source": [
    "def update_csv_and_create_json(csv_file_path, updated_csv_file_path, json_file_path, synonyms_dict):\n",
    "    updated_entities = []\n",
    "\n",
    "    with open(csv_file_path, mode='r', encoding='utf-8') as csvfile, \\\n",
    "         open(updated_csv_file_path, mode='w', encoding='utf-8', newline='') as updated_csvfile:\n",
    "\n",
    "        reader = csv.DictReader(csvfile, delimiter=',')\n",
    "        fieldnames = reader.fieldnames\n",
    "        writer = csv.DictWriter(updated_csvfile, fieldnames=fieldnames, delimiter=';')\n",
    "        writer.writeheader()\n",
    "\n",
    "        for row in reader:\n",
    "            entity = row['Object'].lower()\n",
    "            if entity in synonyms_dict:\n",
    "                row['Object'] = synonyms_dict[entity]\n",
    "            else:\n",
    "                row['Object'] = entity\n",
    "\n",
    "            writer.writerow(row)\n",
    "            updated_entities.append(row)\n",
    "\n",
    "    with open(json_file_path, mode='w', encoding='utf-8') as jsonfile:\n",
    "        json.dump(updated_entities, jsonfile, indent=4)\n",
    "\n"
   ],
   "metadata": {
    "collapsed": false
   }
  },
  {
   "cell_type": "code",
   "execution_count": 10,
   "outputs": [
    {
     "name": "stdout",
     "output_type": "stream",
     "text": [
      "CSV updated and JSON file created successfully.\n"
     ]
    }
   ],
   "source": [
    "# Example usage:\n",
    "\n",
    "updated_csv_file_path = '../03_Output/00_GPT KGs/Relations_replaced.csv'\n",
    "json_file_path = '../03_Output/00_GPT KGs/Relations_replaced.json'\n",
    "\n",
    "update_csv_and_create_json(rel_path, updated_csv_file_path, json_file_path, synonyms_dict)\n",
    "\n",
    "print(\"CSV updated and JSON file created successfully.\")\n"
   ],
   "metadata": {
    "collapsed": false
   }
  },
  {
   "cell_type": "code",
   "execution_count": null,
   "outputs": [],
   "source": [],
   "metadata": {
    "collapsed": false
   }
  }
 ],
 "metadata": {
  "kernelspec": {
   "display_name": "Python 3",
   "language": "python",
   "name": "python3"
  },
  "language_info": {
   "codemirror_mode": {
    "name": "ipython",
    "version": 2
   },
   "file_extension": ".py",
   "mimetype": "text/x-python",
   "name": "python",
   "nbconvert_exporter": "python",
   "pygments_lexer": "ipython2",
   "version": "2.7.6"
  }
 },
 "nbformat": 4,
 "nbformat_minor": 0
}
