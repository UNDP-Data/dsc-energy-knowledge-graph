{
 "cells": [
  {
   "cell_type": "code",
   "execution_count": 47,
   "id": "d2257746",
   "metadata": {},
   "outputs": [],
   "source": [
    "import os\n",
    "import openai\n",
    "from string import Template\n",
    "import json\n",
    "from timeit import default_timer as timer\n",
    "import time\n",
    "from dotenv import load_dotenv\n",
    "from time import sleep\n",
    "from collections import defaultdict\n",
    "from concurrent.futures import ThreadPoolExecutor\n",
    "import shutil\n",
    "from datetime import datetime\n",
    "import glob\n",
    "\n",
    "\n"
   ]
  },
  {
   "cell_type": "markdown",
   "id": "ede5cbe0",
   "metadata": {},
   "source": [
    "### Load Enviroment files"
   ]
  },
  {
   "cell_type": "code",
   "execution_count": 48,
   "id": "c5722590",
   "metadata": {},
   "outputs": [
    {
     "data": {
      "text/plain": [
       "True"
      ]
     },
     "execution_count": 48,
     "metadata": {},
     "output_type": "execute_result"
    }
   ],
   "source": [
    "# Load environment variables\n",
    "load_dotenv()"
   ]
  },
  {
   "cell_type": "code",
   "execution_count": 49,
   "id": "f318642f",
   "metadata": {},
   "outputs": [],
   "source": [
    "# OpenAI API configuration\n",
    "openai.api_type = \"azure\"\n",
    "openai.api_key = os.getenv(\"api_key_azure\")\n",
    "openai.api_base = os.getenv(\"AZURE_OPENAI_ENDPOINT\")\n",
    "openai.api_version = os.getenv(\"api_version\")\n",
    "openai_deployment = \"sdgi-gpt-35-turbo-16k\"\n",
    "\n",
    "# openai.api_key = os.getenv(\"OPENAI_KEY\")\n",
    "# print(openai.api_key)\n",
    "# print(openai.api_base)\n",
    "# print(openai.api_version)\n"
   ]
  },
  {
   "cell_type": "markdown",
   "id": "ac28b6b4",
   "metadata": {},
   "source": [
    "<h3> Functions to expand a knowledge graph using parallel call to OpenAI API </h3>"
   ]
  },
  {
   "cell_type": "code",
   "execution_count": 50,
   "id": "3b0d840b",
   "metadata": {},
   "outputs": [],
   "source": [
    "#function to make call to openAI for subgraph generation\n",
    "#called in the expandKG function for all current entities not yet processed, in parallel\n",
    "def generateSubgraph(entityObj, count):\n",
    "    # Use the openai api to generate a list (of length 'count') of the most related entities\n",
    "    \n",
    "    prompt = f\"\"\"\n",
    "    The entity is {entityObj['entity']} \n",
    "    Give me {count} entities and their relationship to {entityObj['entity']}\n",
    "    Output should be in example json format: \n",
    "        {{\n",
    "          \"entities\": [\n",
    "            {{\n",
    "                \"entity\": \"ENTITY2\",\n",
    "                \"category\": \"CATEGORY\"\n",
    "            }}\n",
    "            ],\n",
    "        \"relations\": {{\n",
    "                    \"{entityObj['entity']}\": [\n",
    "                        {{\n",
    "                            \"Relation\": “RELATIONSHIP”,\n",
    "                            \"Object\": “ENTITY2”,\n",
    "                            \"Strength\": \"1-10 Estimate of how important the relation is in the field of sustainable energy\"\n",
    "                            \"Description\": “CONTENT DESCRIPTION”\n",
    "                        }}\n",
    "                    ],\n",
    "        }}\n",
    "        }}\n",
    "    Any ENTITY2 used in the relations must be listed as on of the entities. If no entities are found, then just leave the lists blank.\n",
    "    \"\"\"\n",
    "    response_entities = openai.chat.completions.create(\n",
    "                    model=openai_deployment,\n",
    "                    temperature=0,\n",
    "                    messages=[\n",
    "                        {\"role\": \"user\", \"content\": prompt},\n",
    "                    ]\n",
    "                )\n",
    "    new_subgraph = response_entities.choices[0].message.content\n",
    "\n",
    "    return new_subgraph\n",
    "\n",
    "##example usage\n",
    "##generate_subgraph({\"entity\": \"sustainable energy\", \"category\": \"concept\"},3)"
   ]
  },
  {
   "cell_type": "code",
   "execution_count": 51,
   "id": "90784cef",
   "metadata": {},
   "outputs": [],
   "source": [
    "#function to update the Knowledge Graph my merging in the new subgraph\n",
    "#called in the expandKG function once all futures are complete to merge each result\n",
    "def updateKG(knowledge_graph, new_subgraph):\n",
    "    # Merge entities\n",
    "    existing_entities = set((entity[\"entity\"], entity[\"category\"]) for entity in knowledge_graph[\"knowledge graph\"][\"entities\"])\n",
    "    for new_entity in new_subgraph[\"entities\"]:\n",
    "        if (new_entity[\"entity\"], new_entity[\"category\"]) not in existing_entities:\n",
    "            knowledge_graph[\"knowledge graph\"][\"entities\"].append(new_entity)\n",
    "\n",
    "    # Merge relations\n",
    "    for new_entity, new_relations in new_subgraph[\"relations\"].items():\n",
    "        if new_entity in knowledge_graph[\"knowledge graph\"][\"relations\"]:\n",
    "            knowledge_graph[\"knowledge graph\"][\"relations\"][new_entity].extend(new_relations)\n",
    "        else:\n",
    "            knowledge_graph[\"knowledge graph\"][\"relations\"][new_entity] = new_relations\n",
    "\n",
    "    return knowledge_graph"
   ]
  },
  {
   "cell_type": "code",
   "execution_count": 52,
   "id": "616dcd0c",
   "metadata": {},
   "outputs": [],
   "source": [
    "#function to expand the knowledge graph by calling the openai in parallel for all current entities\n",
    "#called in the generateKG function once for each expansion iteration\n",
    "def expandKG(knowledge_graph, kg_parameters):\n",
    "    with ThreadPoolExecutor(max_workers=kg_parameters[\"max_workers\"]) as executor:\n",
    "        futures = []\n",
    "\n",
    "        current_entities = knowledge_graph[\"knowledge graph\"][\"entities\"]\n",
    "        print([entity[\"entity\"] for entity in current_entities])\n",
    "\n",
    "        for entityObj in current_entities:\n",
    "            entity=entityObj[\"entity\"]\n",
    "            if entity not in knowledge_graph[\"knowledge graph\"][\"relations\"].keys():\n",
    "                future = executor.submit(generateSubgraph, entityObj, kg_parameters[\"new_relation_count\"])#, knowledge_graph)\n",
    "                futures.append(future)\n",
    "\n",
    "        # Wait for all futures to complete\n",
    "        for future in futures:\n",
    "            result = future.result()\n",
    "            if result:\n",
    "                new_subgraph = json.loads(result)\n",
    "                knowledge_graph = updateKG(knowledge_graph, new_subgraph)\n",
    "    return knowledge_graph"
   ]
  },
  {
   "cell_type": "code",
   "execution_count": 53,
   "id": "aa4d090f",
   "metadata": {},
   "outputs": [],
   "source": [
    "#function to generate an expanded KG based on an initial KG and parameters\n",
    "#called only once as primary function to run the full pipeline\n",
    "def generateKG(knowledge_graph, kg_parameters):\n",
    "\n",
    "    startTime = time.time()\n",
    "\n",
    "    for i in range(kg_parameters[\"iterations\"]):\n",
    "        knowledge_graph=expandKG(knowledge_graph,kg_parameters)\n",
    "        print(\"Iteration:\", i+1, \", Entity Count:\", len(knowledge_graph[\"knowledge graph\"][\"entities\"]), \", Elapsed Time:\", round(time.time() - startTime, 2), \"s\")\n",
    "        \n",
    "    # Write the knowledge graph to a JSON file\n",
    "    output_file = '../03_Output/01_Auto KGs/00_Current Versions/knowledge_graph.json'\n",
    "    with open(output_file, 'w') as json_file:\n",
    "        json.dump(knowledge_graph , json_file, indent=4)\n",
    "    print(f\"Knowledge graph saved to {output_file}\")\n",
    "    \n",
    "    return knowledge_graph\n"
   ]
  },
  {
   "cell_type": "markdown",
   "id": "3ca3ad94",
   "metadata": {},
   "source": [
    "<h4> Run pipeline to expand Knowledge Graph </h4>"
   ]
  },
  {
   "cell_type": "code",
   "execution_count": 58,
   "id": "23da54bf",
   "metadata": {
    "scrolled": true
   },
   "outputs": [
    {
     "name": "stdout",
     "output_type": "stream",
     "text": [
      "['sustainable energy policy', 'renewable energy systems', 'just energy transition', 'equitable energy access', 'clean cooking', 'gender equality in energy']\n",
      "Iteration: 1 , Entity Count: 29 , Elapsed Time: 6.92 s\n",
      "['sustainable energy policy', 'renewable energy systems', 'just energy transition', 'equitable energy access', 'clean cooking', 'gender equality in energy', 'Government', 'Renewable Energy Industry', 'Environmental Organizations', 'Research Institutions', 'Solar panels', 'Wind turbines', 'Hydroelectric power', 'Geothermal energy', 'Renewable energy', 'Energy efficiency', 'Clean technology', 'Climate change', 'Renewable Energy', 'Energy Efficiency', 'Rural Electrification', 'Policy and Regulation', 'biomass', 'solar', 'LPG', 'improved cookstoves', 'Women', 'Access to energy', 'Policy makers']\n",
      "Iteration: 2 , Entity Count: 116 , Elapsed Time: 22.85 s\n",
      "['sustainable energy policy', 'renewable energy systems', 'just energy transition', 'equitable energy access', 'clean cooking', 'gender equality in energy', 'Government', 'Renewable Energy Industry', 'Environmental Organizations', 'Research Institutions', 'Solar panels', 'Wind turbines', 'Hydroelectric power', 'Geothermal energy', 'Renewable energy', 'Energy efficiency', 'Clean technology', 'Climate change', 'Renewable Energy', 'Energy Efficiency', 'Rural Electrification', 'Policy and Regulation', 'biomass', 'solar', 'LPG', 'improved cookstoves', 'Women', 'Access to energy', 'Policy makers', 'Citizens', 'Businesses', 'Nonprofit Organizations', 'Foreign Governments', 'Solar Power', 'Wind Energy', 'Hydropower', 'Bioenergy', 'Government Agencies', 'Nonprofit Organizations', 'Research Institutions', 'Corporate Partners', 'Universities', 'Government Agencies', 'Nonprofit Organizations', 'Private Companies', 'Solar panels', 'Photovoltaic cells', 'Inverters', 'Battery storage', 'Wind speed', 'Blades', 'Generator', 'Power grid', 'Water', 'Turbine', 'Dam', 'Generator', 'Geothermal power plant', 'Geothermal heat pump', 'Geothermal reservoir', 'Geothermal gradient', 'Solar power', 'Wind power', 'Hydropower', 'Geothermal energy', 'Energy-efficient appliances', 'Insulation', 'Renewable energy', 'Smart thermostats', 'Waste management', 'Smart grid', 'Greenhouse gases', 'Renewable energy', 'Deforestation', 'Global temperature rise', 'Hydroelectric Power', 'Geothermal Energy', 'Energy Management Systems', 'Renewable Energy Sources', 'Building Insulation', 'Smart Grid', 'Renewable Energy', 'Microgrids', 'Energy Storage', 'Smart Grids', 'Government', 'Industry', 'Citizens', 'Environmental Organizations', 'biogas', 'biofuel', 'biorefinery', 'biomass power plant', 'solar panel', 'solar energy', 'solar power plant', 'solar radiation', 'Natural Gas', 'Propane', 'Butane', 'Methane', 'clean cooking', 'household air pollution', 'fuel efficiency', 'carbon emissions', 'Education', 'Healthcare', 'Workforce', 'Politics', 'Energy poverty', 'Electricity grid', 'Energy access policies', 'Government', 'Non-governmental organizations', 'Industry associations', 'Academic institutions']\n",
      "Iteration: 3 , Entity Count: 344 , Elapsed Time: 63.16 s\n",
      "['sustainable energy policy', 'renewable energy systems', 'just energy transition', 'equitable energy access', 'clean cooking', 'gender equality in energy', 'Government', 'Renewable Energy Industry', 'Environmental Organizations', 'Research Institutions', 'Solar panels', 'Wind turbines', 'Hydroelectric power', 'Geothermal energy', 'Renewable energy', 'Energy efficiency', 'Clean technology', 'Climate change', 'Renewable Energy', 'Energy Efficiency', 'Rural Electrification', 'Policy and Regulation', 'biomass', 'solar', 'LPG', 'improved cookstoves', 'Women', 'Access to energy', 'Policy makers', 'Citizens', 'Businesses', 'Nonprofit Organizations', 'Foreign Governments', 'Solar Power', 'Wind Energy', 'Hydropower', 'Bioenergy', 'Government Agencies', 'Nonprofit Organizations', 'Research Institutions', 'Corporate Partners', 'Universities', 'Government Agencies', 'Nonprofit Organizations', 'Private Companies', 'Solar panels', 'Photovoltaic cells', 'Inverters', 'Battery storage', 'Wind speed', 'Blades', 'Generator', 'Power grid', 'Water', 'Turbine', 'Dam', 'Generator', 'Geothermal power plant', 'Geothermal heat pump', 'Geothermal reservoir', 'Geothermal gradient', 'Solar power', 'Wind power', 'Hydropower', 'Geothermal energy', 'Energy-efficient appliances', 'Insulation', 'Renewable energy', 'Smart thermostats', 'Waste management', 'Smart grid', 'Greenhouse gases', 'Renewable energy', 'Deforestation', 'Global temperature rise', 'Hydroelectric Power', 'Geothermal Energy', 'Energy Management Systems', 'Renewable Energy Sources', 'Building Insulation', 'Smart Grid', 'Renewable Energy', 'Microgrids', 'Energy Storage', 'Smart Grids', 'Government', 'Industry', 'Citizens', 'Environmental Organizations', 'biogas', 'biofuel', 'biorefinery', 'biomass power plant', 'solar panel', 'solar energy', 'solar power plant', 'solar radiation', 'Natural Gas', 'Propane', 'Butane', 'Methane', 'clean cooking', 'household air pollution', 'fuel efficiency', 'carbon emissions', 'Education', 'Healthcare', 'Workforce', 'Politics', 'Energy poverty', 'Electricity grid', 'Energy access policies', 'Government', 'Non-governmental organizations', 'Industry associations', 'Academic institutions', 'Government', 'Businesses', 'Non-profit organizations', 'Scientists', 'Customers', 'Suppliers', 'Employees', 'Government', 'Volunteers', 'Donors', 'Beneficiaries', 'ENTITY2', 'ENTITY3', 'ENTITY4', 'ENTITY5', 'Solar Panels', 'Renewable Energy', 'Grid Integration', 'Solar Farms', 'Wind Turbine', 'Wind Farm', 'Grid Integration', 'Electricity', 'Biomass', 'Biofuel', 'Biogas', 'Bioethanol', 'Department of Energy', 'Environmental Protection Agency', 'National Institutes of Health', 'Federal Emergency Management Agency', 'Students', 'Professors', 'Research Institutes', 'Alumni', 'Investors', 'Competitors', 'Customers', 'Temperature', 'Air pressure', 'Humidity', 'Wind direction', 'Wind Turbines', 'Turbine Blades', 'Gas Turbines', 'Saw Blades', 'Wind Turbine', 'Solar Panel', 'Hydroelectric Power Plant', 'Diesel Generator', 'Renewable energy sources', 'Electricity generation', 'Energy storage', 'Hydroelectric Power', 'Water Pollution', 'Water Conservation', 'Water Cycle', 'Wind', 'Generator', 'Blade', 'Control System', 'River', 'Hydropower Plant', 'Reservoir', 'Fish', 'Heat exchanger', 'Steam turbine', 'Cooling tower', 'Ground source heat pump', 'Renewable heat', 'Heat exchanger', 'Geothermal well', 'Heat flow', 'Temperature gradient', 'Thermal conductivity', 'Geothermal energy', 'Renewable energy', 'Grid integration', 'Solar farms', 'Wind turbine', 'Electricity generation', 'Environmental impact', 'Energy Star', 'Renewable Energy', 'Energy Management System', 'Thermal conductivity', 'R-value', 'Fiberglass', 'Energy efficiency', 'Energy consumption', 'Home automation', 'Internet of Things', 'Energy efficiency', 'Recycling', 'Landfill', 'Composting', 'Hazardous waste', 'Demand response', 'Carbon dioxide', 'Methane', 'Nitrous oxide', 'Water vapor', 'Rainforest', 'Logging', 'Palm Oil Plantations', 'Climate Change', 'Carbon dioxide emissions', 'Melting ice caps', 'Renewable energy', 'Geothermal Power Plant', 'Geothermal Heat Pump', 'Geothermal Reservoir', 'Geothermal Energy Association', 'Smart Grid', 'Renewable Energy Sources', 'Building Automation Systems', 'Demand Response Programs', 'Solar Power', 'Wind Power', 'Hydroelectric Power', 'Geothermal Energy', 'Energy Efficiency', 'Thermal Conductivity', 'R-value', 'Air Leakage', 'Energy Storage Systems', 'Electric Vehicles', 'Smart Meters', 'Smart Grids', 'Distributed Energy Resources', 'Battery', 'Flywheel', 'Hydrogen Fuel Cell', 'Compressed Air Energy Storage', 'Smart Meters', 'Technology', 'Government', 'Labor', 'Environment', 'methane', 'anaerobic digestion', 'renewable energy', 'waste management', 'corn', 'soybean', 'algae', 'waste cooking oil', 'biomass', 'biofuel', 'waste', 'chemicals', 'biomass fuel', 'biogas', 'steam turbine', 'electricity grid', 'solar cell', 'solar panel manufacturer', 'solar panels', 'solar power plants', 'solar cells', 'grid connection', 'battery storage', 'renewable energy', 'Sun', 'Solar Panel', 'Photosynthesis', 'Global Warming', 'Fracking', 'Liquefied Natural Gas', 'Power Generation', 'Carbon Emissions', 'Butane', 'Propane-powered vehicle', 'Propane grill', 'Propane heater', 'Methane', 'Propane', 'Isobutane', 'Butene', 'Carbon dioxide', 'Natural gas', 'Hydrogen', 'Methanol', 'Cooking stoves', 'Solid fuels', 'Indoor air quality', 'Ventilation', 'vehicle weight', 'engine size', 'aerodynamics', 'tire pressure', 'Fossil Fuels', 'Deforestation', 'Transportation', 'Industrial Processes', 'Students', 'Teachers', 'Schools', 'Curriculum', 'Hospitals', 'Pharmaceutical Companies', 'Health Insurance Companies', 'Medical Devices', 'Employee', 'Job', 'Training', 'Productivity', 'Government', 'Election', 'Policy', 'Citizen', 'Access to electricity', 'Renewable energy', 'Energy efficiency', 'Poverty alleviation', 'Renewable energy sources', 'Smart meters', 'Power plants', 'Energy storage systems', 'Renewable energy', 'Rural communities', 'Government regulations', 'Government agencies', 'Companies', 'Research institutions', 'Faculty', 'Research', 'Funding agencies']\n"
     ]
    },
    {
     "ename": "RateLimitError",
     "evalue": "Error code: 429 - {'error': {'code': '429', 'message': 'Requests to the ChatCompletions_Create Operation under Azure OpenAI API version 2023-09-01-preview have exceeded call rate limit of your current OpenAI S0 pricing tier. Please retry after 2 seconds. Please go here: https://aka.ms/oai/quotaincrease if you would like to further increase the default rate limit.'}}",
     "output_type": "error",
     "traceback": [
      "\u001b[0;31m---------------------------------------------------------------------------\u001b[0m",
      "\u001b[0;31mRateLimitError\u001b[0m                            Traceback (most recent call last)",
      "Input \u001b[0;32mIn [58]\u001b[0m, in \u001b[0;36m<cell line: 24>\u001b[0;34m()\u001b[0m\n\u001b[1;32m     20\u001b[0m kg_parameters\u001b[38;5;241m=\u001b[39m{\u001b[38;5;124m\"\u001b[39m\u001b[38;5;124miterations\u001b[39m\u001b[38;5;124m\"\u001b[39m:\u001b[38;5;241m5\u001b[39m,\u001b[38;5;124m\"\u001b[39m\u001b[38;5;124mnew_relation_count\u001b[39m\u001b[38;5;124m\"\u001b[39m:\u001b[38;5;241m4\u001b[39m,\u001b[38;5;124m\"\u001b[39m\u001b[38;5;124mmax_workers\u001b[39m\u001b[38;5;124m\"\u001b[39m:\u001b[38;5;241m10\u001b[39m}\n\u001b[1;32m     23\u001b[0m \u001b[38;5;66;03m#######run pipeline\u001b[39;00m\n\u001b[0;32m---> 24\u001b[0m \u001b[43mgenerateKG\u001b[49m\u001b[43m(\u001b[49m\u001b[43minitial_knowledge_graph\u001b[49m\u001b[43m,\u001b[49m\u001b[43mkg_parameters\u001b[49m\u001b[43m)\u001b[49m\n",
      "Input \u001b[0;32mIn [53]\u001b[0m, in \u001b[0;36mgenerateKG\u001b[0;34m(knowledge_graph, kg_parameters)\u001b[0m\n\u001b[1;32m      5\u001b[0m startTime \u001b[38;5;241m=\u001b[39m time\u001b[38;5;241m.\u001b[39mtime()\n\u001b[1;32m      7\u001b[0m \u001b[38;5;28;01mfor\u001b[39;00m i \u001b[38;5;129;01min\u001b[39;00m \u001b[38;5;28mrange\u001b[39m(kg_parameters[\u001b[38;5;124m\"\u001b[39m\u001b[38;5;124miterations\u001b[39m\u001b[38;5;124m\"\u001b[39m]):\n\u001b[0;32m----> 8\u001b[0m     knowledge_graph\u001b[38;5;241m=\u001b[39m\u001b[43mexpandKG\u001b[49m\u001b[43m(\u001b[49m\u001b[43mknowledge_graph\u001b[49m\u001b[43m,\u001b[49m\u001b[43mkg_parameters\u001b[49m\u001b[43m)\u001b[49m\n\u001b[1;32m      9\u001b[0m     \u001b[38;5;28mprint\u001b[39m(\u001b[38;5;124m\"\u001b[39m\u001b[38;5;124mIteration:\u001b[39m\u001b[38;5;124m\"\u001b[39m, i\u001b[38;5;241m+\u001b[39m\u001b[38;5;241m1\u001b[39m, \u001b[38;5;124m\"\u001b[39m\u001b[38;5;124m, Entity Count:\u001b[39m\u001b[38;5;124m\"\u001b[39m, \u001b[38;5;28mlen\u001b[39m(knowledge_graph[\u001b[38;5;124m\"\u001b[39m\u001b[38;5;124mknowledge graph\u001b[39m\u001b[38;5;124m\"\u001b[39m][\u001b[38;5;124m\"\u001b[39m\u001b[38;5;124mentities\u001b[39m\u001b[38;5;124m\"\u001b[39m]), \u001b[38;5;124m\"\u001b[39m\u001b[38;5;124m, Elapsed Time:\u001b[39m\u001b[38;5;124m\"\u001b[39m, \u001b[38;5;28mround\u001b[39m(time\u001b[38;5;241m.\u001b[39mtime() \u001b[38;5;241m-\u001b[39m startTime, \u001b[38;5;241m2\u001b[39m), \u001b[38;5;124m\"\u001b[39m\u001b[38;5;124ms\u001b[39m\u001b[38;5;124m\"\u001b[39m)\n\u001b[1;32m     11\u001b[0m \u001b[38;5;66;03m# Write the knowledge graph to a JSON file\u001b[39;00m\n",
      "Input \u001b[0;32mIn [52]\u001b[0m, in \u001b[0;36mexpandKG\u001b[0;34m(knowledge_graph, kg_parameters)\u001b[0m\n\u001b[1;32m     16\u001b[0m \u001b[38;5;66;03m# Wait for all futures to complete\u001b[39;00m\n\u001b[1;32m     17\u001b[0m \u001b[38;5;28;01mfor\u001b[39;00m future \u001b[38;5;129;01min\u001b[39;00m futures:\n\u001b[0;32m---> 18\u001b[0m     result \u001b[38;5;241m=\u001b[39m \u001b[43mfuture\u001b[49m\u001b[38;5;241;43m.\u001b[39;49m\u001b[43mresult\u001b[49m\u001b[43m(\u001b[49m\u001b[43m)\u001b[49m\n\u001b[1;32m     19\u001b[0m     \u001b[38;5;28;01mif\u001b[39;00m result:\n\u001b[1;32m     20\u001b[0m         new_subgraph \u001b[38;5;241m=\u001b[39m json\u001b[38;5;241m.\u001b[39mloads(result)\n",
      "File \u001b[0;32m/Library/Frameworks/Python.framework/Versions/3.10/lib/python3.10/concurrent/futures/_base.py:451\u001b[0m, in \u001b[0;36mFuture.result\u001b[0;34m(self, timeout)\u001b[0m\n\u001b[1;32m    449\u001b[0m     \u001b[38;5;28;01mraise\u001b[39;00m CancelledError()\n\u001b[1;32m    450\u001b[0m \u001b[38;5;28;01melif\u001b[39;00m \u001b[38;5;28mself\u001b[39m\u001b[38;5;241m.\u001b[39m_state \u001b[38;5;241m==\u001b[39m FINISHED:\n\u001b[0;32m--> 451\u001b[0m     \u001b[38;5;28;01mreturn\u001b[39;00m \u001b[38;5;28;43mself\u001b[39;49m\u001b[38;5;241;43m.\u001b[39;49m\u001b[43m__get_result\u001b[49m\u001b[43m(\u001b[49m\u001b[43m)\u001b[49m\n\u001b[1;32m    453\u001b[0m \u001b[38;5;28mself\u001b[39m\u001b[38;5;241m.\u001b[39m_condition\u001b[38;5;241m.\u001b[39mwait(timeout)\n\u001b[1;32m    455\u001b[0m \u001b[38;5;28;01mif\u001b[39;00m \u001b[38;5;28mself\u001b[39m\u001b[38;5;241m.\u001b[39m_state \u001b[38;5;129;01min\u001b[39;00m [CANCELLED, CANCELLED_AND_NOTIFIED]:\n",
      "File \u001b[0;32m/Library/Frameworks/Python.framework/Versions/3.10/lib/python3.10/concurrent/futures/_base.py:403\u001b[0m, in \u001b[0;36mFuture.__get_result\u001b[0;34m(self)\u001b[0m\n\u001b[1;32m    401\u001b[0m \u001b[38;5;28;01mif\u001b[39;00m \u001b[38;5;28mself\u001b[39m\u001b[38;5;241m.\u001b[39m_exception:\n\u001b[1;32m    402\u001b[0m     \u001b[38;5;28;01mtry\u001b[39;00m:\n\u001b[0;32m--> 403\u001b[0m         \u001b[38;5;28;01mraise\u001b[39;00m \u001b[38;5;28mself\u001b[39m\u001b[38;5;241m.\u001b[39m_exception\n\u001b[1;32m    404\u001b[0m     \u001b[38;5;28;01mfinally\u001b[39;00m:\n\u001b[1;32m    405\u001b[0m         \u001b[38;5;66;03m# Break a reference cycle with the exception in self._exception\u001b[39;00m\n\u001b[1;32m    406\u001b[0m         \u001b[38;5;28mself\u001b[39m \u001b[38;5;241m=\u001b[39m \u001b[38;5;28;01mNone\u001b[39;00m\n",
      "File \u001b[0;32m/Library/Frameworks/Python.framework/Versions/3.10/lib/python3.10/concurrent/futures/thread.py:58\u001b[0m, in \u001b[0;36m_WorkItem.run\u001b[0;34m(self)\u001b[0m\n\u001b[1;32m     55\u001b[0m     \u001b[38;5;28;01mreturn\u001b[39;00m\n\u001b[1;32m     57\u001b[0m \u001b[38;5;28;01mtry\u001b[39;00m:\n\u001b[0;32m---> 58\u001b[0m     result \u001b[38;5;241m=\u001b[39m \u001b[38;5;28;43mself\u001b[39;49m\u001b[38;5;241;43m.\u001b[39;49m\u001b[43mfn\u001b[49m\u001b[43m(\u001b[49m\u001b[38;5;241;43m*\u001b[39;49m\u001b[38;5;28;43mself\u001b[39;49m\u001b[38;5;241;43m.\u001b[39;49m\u001b[43margs\u001b[49m\u001b[43m,\u001b[49m\u001b[43m \u001b[49m\u001b[38;5;241;43m*\u001b[39;49m\u001b[38;5;241;43m*\u001b[39;49m\u001b[38;5;28;43mself\u001b[39;49m\u001b[38;5;241;43m.\u001b[39;49m\u001b[43mkwargs\u001b[49m\u001b[43m)\u001b[49m\n\u001b[1;32m     59\u001b[0m \u001b[38;5;28;01mexcept\u001b[39;00m \u001b[38;5;167;01mBaseException\u001b[39;00m \u001b[38;5;28;01mas\u001b[39;00m exc:\n\u001b[1;32m     60\u001b[0m     \u001b[38;5;28mself\u001b[39m\u001b[38;5;241m.\u001b[39mfuture\u001b[38;5;241m.\u001b[39mset_exception(exc)\n",
      "Input \u001b[0;32mIn [50]\u001b[0m, in \u001b[0;36mgenerateSubgraph\u001b[0;34m(entityObj, count)\u001b[0m\n\u001b[1;32m      3\u001b[0m \u001b[38;5;28;01mdef\u001b[39;00m \u001b[38;5;21mgenerateSubgraph\u001b[39m(entityObj, count):\n\u001b[1;32m      4\u001b[0m     \u001b[38;5;66;03m# Use the openai api to generate a list (of length 'count') of the most related entities\u001b[39;00m\n\u001b[1;32m      6\u001b[0m     prompt \u001b[38;5;241m=\u001b[39m \u001b[38;5;124mf\u001b[39m\u001b[38;5;124m\"\"\"\u001b[39m\n\u001b[1;32m      7\u001b[0m \u001b[38;5;124m    The entity is \u001b[39m\u001b[38;5;132;01m{\u001b[39;00mentityObj[\u001b[38;5;124m'\u001b[39m\u001b[38;5;124mentity\u001b[39m\u001b[38;5;124m'\u001b[39m]\u001b[38;5;132;01m}\u001b[39;00m\u001b[38;5;124m \u001b[39m\n\u001b[1;32m      8\u001b[0m \u001b[38;5;124m    Give me \u001b[39m\u001b[38;5;132;01m{\u001b[39;00mcount\u001b[38;5;132;01m}\u001b[39;00m\u001b[38;5;124m entities and their relationship to \u001b[39m\u001b[38;5;132;01m{\u001b[39;00mentityObj[\u001b[38;5;124m'\u001b[39m\u001b[38;5;124mentity\u001b[39m\u001b[38;5;124m'\u001b[39m]\u001b[38;5;132;01m}\u001b[39;00m\n\u001b[0;32m   (...)\u001b[0m\n\u001b[1;32m     28\u001b[0m \u001b[38;5;124m    Any ENTITY2 used in the relations must be listed as on of the entities. If no entities are found, then just leave the lists blank.\u001b[39m\n\u001b[1;32m     29\u001b[0m \u001b[38;5;124m    \u001b[39m\u001b[38;5;124m\"\"\"\u001b[39m\n\u001b[0;32m---> 30\u001b[0m     response_entities \u001b[38;5;241m=\u001b[39m \u001b[43mopenai\u001b[49m\u001b[38;5;241;43m.\u001b[39;49m\u001b[43mchat\u001b[49m\u001b[38;5;241;43m.\u001b[39;49m\u001b[43mcompletions\u001b[49m\u001b[38;5;241;43m.\u001b[39;49m\u001b[43mcreate\u001b[49m\u001b[43m(\u001b[49m\n\u001b[1;32m     31\u001b[0m \u001b[43m                    \u001b[49m\u001b[43mmodel\u001b[49m\u001b[38;5;241;43m=\u001b[39;49m\u001b[43mopenai_deployment\u001b[49m\u001b[43m,\u001b[49m\n\u001b[1;32m     32\u001b[0m \u001b[43m                    \u001b[49m\u001b[43mtemperature\u001b[49m\u001b[38;5;241;43m=\u001b[39;49m\u001b[38;5;241;43m0\u001b[39;49m\u001b[43m,\u001b[49m\n\u001b[1;32m     33\u001b[0m \u001b[43m                    \u001b[49m\u001b[43mmessages\u001b[49m\u001b[38;5;241;43m=\u001b[39;49m\u001b[43m[\u001b[49m\n\u001b[1;32m     34\u001b[0m \u001b[43m                        \u001b[49m\u001b[43m{\u001b[49m\u001b[38;5;124;43m\"\u001b[39;49m\u001b[38;5;124;43mrole\u001b[39;49m\u001b[38;5;124;43m\"\u001b[39;49m\u001b[43m:\u001b[49m\u001b[43m \u001b[49m\u001b[38;5;124;43m\"\u001b[39;49m\u001b[38;5;124;43muser\u001b[39;49m\u001b[38;5;124;43m\"\u001b[39;49m\u001b[43m,\u001b[49m\u001b[43m \u001b[49m\u001b[38;5;124;43m\"\u001b[39;49m\u001b[38;5;124;43mcontent\u001b[39;49m\u001b[38;5;124;43m\"\u001b[39;49m\u001b[43m:\u001b[49m\u001b[43m \u001b[49m\u001b[43mprompt\u001b[49m\u001b[43m}\u001b[49m\u001b[43m,\u001b[49m\n\u001b[1;32m     35\u001b[0m \u001b[43m                    \u001b[49m\u001b[43m]\u001b[49m\n\u001b[1;32m     36\u001b[0m \u001b[43m                \u001b[49m\u001b[43m)\u001b[49m\n\u001b[1;32m     37\u001b[0m     new_subgraph \u001b[38;5;241m=\u001b[39m response_entities\u001b[38;5;241m.\u001b[39mchoices[\u001b[38;5;241m0\u001b[39m]\u001b[38;5;241m.\u001b[39mmessage\u001b[38;5;241m.\u001b[39mcontent\n\u001b[1;32m     39\u001b[0m     \u001b[38;5;28;01mreturn\u001b[39;00m new_subgraph\n",
      "File \u001b[0;32m/Library/Frameworks/Python.framework/Versions/3.10/lib/python3.10/site-packages/openai/_utils/_utils.py:271\u001b[0m, in \u001b[0;36mrequired_args.<locals>.inner.<locals>.wrapper\u001b[0;34m(*args, **kwargs)\u001b[0m\n\u001b[1;32m    269\u001b[0m             msg \u001b[38;5;241m=\u001b[39m \u001b[38;5;124mf\u001b[39m\u001b[38;5;124m\"\u001b[39m\u001b[38;5;124mMissing required argument: \u001b[39m\u001b[38;5;132;01m{\u001b[39;00mquote(missing[\u001b[38;5;241m0\u001b[39m])\u001b[38;5;132;01m}\u001b[39;00m\u001b[38;5;124m\"\u001b[39m\n\u001b[1;32m    270\u001b[0m     \u001b[38;5;28;01mraise\u001b[39;00m \u001b[38;5;167;01mTypeError\u001b[39;00m(msg)\n\u001b[0;32m--> 271\u001b[0m \u001b[38;5;28;01mreturn\u001b[39;00m \u001b[43mfunc\u001b[49m\u001b[43m(\u001b[49m\u001b[38;5;241;43m*\u001b[39;49m\u001b[43margs\u001b[49m\u001b[43m,\u001b[49m\u001b[43m \u001b[49m\u001b[38;5;241;43m*\u001b[39;49m\u001b[38;5;241;43m*\u001b[39;49m\u001b[43mkwargs\u001b[49m\u001b[43m)\u001b[49m\n",
      "File \u001b[0;32m/Library/Frameworks/Python.framework/Versions/3.10/lib/python3.10/site-packages/openai/resources/chat/completions.py:643\u001b[0m, in \u001b[0;36mCompletions.create\u001b[0;34m(self, messages, model, frequency_penalty, function_call, functions, logit_bias, logprobs, max_tokens, n, presence_penalty, response_format, seed, stop, stream, temperature, tool_choice, tools, top_logprobs, top_p, user, extra_headers, extra_query, extra_body, timeout)\u001b[0m\n\u001b[1;32m    594\u001b[0m \u001b[38;5;129m@required_args\u001b[39m([\u001b[38;5;124m\"\u001b[39m\u001b[38;5;124mmessages\u001b[39m\u001b[38;5;124m\"\u001b[39m, \u001b[38;5;124m\"\u001b[39m\u001b[38;5;124mmodel\u001b[39m\u001b[38;5;124m\"\u001b[39m], [\u001b[38;5;124m\"\u001b[39m\u001b[38;5;124mmessages\u001b[39m\u001b[38;5;124m\"\u001b[39m, \u001b[38;5;124m\"\u001b[39m\u001b[38;5;124mmodel\u001b[39m\u001b[38;5;124m\"\u001b[39m, \u001b[38;5;124m\"\u001b[39m\u001b[38;5;124mstream\u001b[39m\u001b[38;5;124m\"\u001b[39m])\n\u001b[1;32m    595\u001b[0m \u001b[38;5;28;01mdef\u001b[39;00m \u001b[38;5;21mcreate\u001b[39m(\n\u001b[1;32m    596\u001b[0m     \u001b[38;5;28mself\u001b[39m,\n\u001b[0;32m   (...)\u001b[0m\n\u001b[1;32m    641\u001b[0m     timeout: \u001b[38;5;28mfloat\u001b[39m \u001b[38;5;241m|\u001b[39m httpx\u001b[38;5;241m.\u001b[39mTimeout \u001b[38;5;241m|\u001b[39m \u001b[38;5;28;01mNone\u001b[39;00m \u001b[38;5;241m|\u001b[39m NotGiven \u001b[38;5;241m=\u001b[39m NOT_GIVEN,\n\u001b[1;32m    642\u001b[0m ) \u001b[38;5;241m-\u001b[39m\u001b[38;5;241m>\u001b[39m ChatCompletion \u001b[38;5;241m|\u001b[39m Stream[ChatCompletionChunk]:\n\u001b[0;32m--> 643\u001b[0m     \u001b[38;5;28;01mreturn\u001b[39;00m \u001b[38;5;28;43mself\u001b[39;49m\u001b[38;5;241;43m.\u001b[39;49m\u001b[43m_post\u001b[49m\u001b[43m(\u001b[49m\n\u001b[1;32m    644\u001b[0m \u001b[43m        \u001b[49m\u001b[38;5;124;43m\"\u001b[39;49m\u001b[38;5;124;43m/chat/completions\u001b[39;49m\u001b[38;5;124;43m\"\u001b[39;49m\u001b[43m,\u001b[49m\n\u001b[1;32m    645\u001b[0m \u001b[43m        \u001b[49m\u001b[43mbody\u001b[49m\u001b[38;5;241;43m=\u001b[39;49m\u001b[43mmaybe_transform\u001b[49m\u001b[43m(\u001b[49m\n\u001b[1;32m    646\u001b[0m \u001b[43m            \u001b[49m\u001b[43m{\u001b[49m\n\u001b[1;32m    647\u001b[0m \u001b[43m                \u001b[49m\u001b[38;5;124;43m\"\u001b[39;49m\u001b[38;5;124;43mmessages\u001b[39;49m\u001b[38;5;124;43m\"\u001b[39;49m\u001b[43m:\u001b[49m\u001b[43m \u001b[49m\u001b[43mmessages\u001b[49m\u001b[43m,\u001b[49m\n\u001b[1;32m    648\u001b[0m \u001b[43m                \u001b[49m\u001b[38;5;124;43m\"\u001b[39;49m\u001b[38;5;124;43mmodel\u001b[39;49m\u001b[38;5;124;43m\"\u001b[39;49m\u001b[43m:\u001b[49m\u001b[43m \u001b[49m\u001b[43mmodel\u001b[49m\u001b[43m,\u001b[49m\n\u001b[1;32m    649\u001b[0m \u001b[43m                \u001b[49m\u001b[38;5;124;43m\"\u001b[39;49m\u001b[38;5;124;43mfrequency_penalty\u001b[39;49m\u001b[38;5;124;43m\"\u001b[39;49m\u001b[43m:\u001b[49m\u001b[43m \u001b[49m\u001b[43mfrequency_penalty\u001b[49m\u001b[43m,\u001b[49m\n\u001b[1;32m    650\u001b[0m \u001b[43m                \u001b[49m\u001b[38;5;124;43m\"\u001b[39;49m\u001b[38;5;124;43mfunction_call\u001b[39;49m\u001b[38;5;124;43m\"\u001b[39;49m\u001b[43m:\u001b[49m\u001b[43m \u001b[49m\u001b[43mfunction_call\u001b[49m\u001b[43m,\u001b[49m\n\u001b[1;32m    651\u001b[0m \u001b[43m                \u001b[49m\u001b[38;5;124;43m\"\u001b[39;49m\u001b[38;5;124;43mfunctions\u001b[39;49m\u001b[38;5;124;43m\"\u001b[39;49m\u001b[43m:\u001b[49m\u001b[43m \u001b[49m\u001b[43mfunctions\u001b[49m\u001b[43m,\u001b[49m\n\u001b[1;32m    652\u001b[0m \u001b[43m                \u001b[49m\u001b[38;5;124;43m\"\u001b[39;49m\u001b[38;5;124;43mlogit_bias\u001b[39;49m\u001b[38;5;124;43m\"\u001b[39;49m\u001b[43m:\u001b[49m\u001b[43m \u001b[49m\u001b[43mlogit_bias\u001b[49m\u001b[43m,\u001b[49m\n\u001b[1;32m    653\u001b[0m \u001b[43m                \u001b[49m\u001b[38;5;124;43m\"\u001b[39;49m\u001b[38;5;124;43mlogprobs\u001b[39;49m\u001b[38;5;124;43m\"\u001b[39;49m\u001b[43m:\u001b[49m\u001b[43m \u001b[49m\u001b[43mlogprobs\u001b[49m\u001b[43m,\u001b[49m\n\u001b[1;32m    654\u001b[0m \u001b[43m                \u001b[49m\u001b[38;5;124;43m\"\u001b[39;49m\u001b[38;5;124;43mmax_tokens\u001b[39;49m\u001b[38;5;124;43m\"\u001b[39;49m\u001b[43m:\u001b[49m\u001b[43m \u001b[49m\u001b[43mmax_tokens\u001b[49m\u001b[43m,\u001b[49m\n\u001b[1;32m    655\u001b[0m \u001b[43m                \u001b[49m\u001b[38;5;124;43m\"\u001b[39;49m\u001b[38;5;124;43mn\u001b[39;49m\u001b[38;5;124;43m\"\u001b[39;49m\u001b[43m:\u001b[49m\u001b[43m \u001b[49m\u001b[43mn\u001b[49m\u001b[43m,\u001b[49m\n\u001b[1;32m    656\u001b[0m \u001b[43m                \u001b[49m\u001b[38;5;124;43m\"\u001b[39;49m\u001b[38;5;124;43mpresence_penalty\u001b[39;49m\u001b[38;5;124;43m\"\u001b[39;49m\u001b[43m:\u001b[49m\u001b[43m \u001b[49m\u001b[43mpresence_penalty\u001b[49m\u001b[43m,\u001b[49m\n\u001b[1;32m    657\u001b[0m \u001b[43m                \u001b[49m\u001b[38;5;124;43m\"\u001b[39;49m\u001b[38;5;124;43mresponse_format\u001b[39;49m\u001b[38;5;124;43m\"\u001b[39;49m\u001b[43m:\u001b[49m\u001b[43m \u001b[49m\u001b[43mresponse_format\u001b[49m\u001b[43m,\u001b[49m\n\u001b[1;32m    658\u001b[0m \u001b[43m                \u001b[49m\u001b[38;5;124;43m\"\u001b[39;49m\u001b[38;5;124;43mseed\u001b[39;49m\u001b[38;5;124;43m\"\u001b[39;49m\u001b[43m:\u001b[49m\u001b[43m \u001b[49m\u001b[43mseed\u001b[49m\u001b[43m,\u001b[49m\n\u001b[1;32m    659\u001b[0m \u001b[43m                \u001b[49m\u001b[38;5;124;43m\"\u001b[39;49m\u001b[38;5;124;43mstop\u001b[39;49m\u001b[38;5;124;43m\"\u001b[39;49m\u001b[43m:\u001b[49m\u001b[43m \u001b[49m\u001b[43mstop\u001b[49m\u001b[43m,\u001b[49m\n\u001b[1;32m    660\u001b[0m \u001b[43m                \u001b[49m\u001b[38;5;124;43m\"\u001b[39;49m\u001b[38;5;124;43mstream\u001b[39;49m\u001b[38;5;124;43m\"\u001b[39;49m\u001b[43m:\u001b[49m\u001b[43m \u001b[49m\u001b[43mstream\u001b[49m\u001b[43m,\u001b[49m\n\u001b[1;32m    661\u001b[0m \u001b[43m                \u001b[49m\u001b[38;5;124;43m\"\u001b[39;49m\u001b[38;5;124;43mtemperature\u001b[39;49m\u001b[38;5;124;43m\"\u001b[39;49m\u001b[43m:\u001b[49m\u001b[43m \u001b[49m\u001b[43mtemperature\u001b[49m\u001b[43m,\u001b[49m\n\u001b[1;32m    662\u001b[0m \u001b[43m                \u001b[49m\u001b[38;5;124;43m\"\u001b[39;49m\u001b[38;5;124;43mtool_choice\u001b[39;49m\u001b[38;5;124;43m\"\u001b[39;49m\u001b[43m:\u001b[49m\u001b[43m \u001b[49m\u001b[43mtool_choice\u001b[49m\u001b[43m,\u001b[49m\n\u001b[1;32m    663\u001b[0m \u001b[43m                \u001b[49m\u001b[38;5;124;43m\"\u001b[39;49m\u001b[38;5;124;43mtools\u001b[39;49m\u001b[38;5;124;43m\"\u001b[39;49m\u001b[43m:\u001b[49m\u001b[43m \u001b[49m\u001b[43mtools\u001b[49m\u001b[43m,\u001b[49m\n\u001b[1;32m    664\u001b[0m \u001b[43m                \u001b[49m\u001b[38;5;124;43m\"\u001b[39;49m\u001b[38;5;124;43mtop_logprobs\u001b[39;49m\u001b[38;5;124;43m\"\u001b[39;49m\u001b[43m:\u001b[49m\u001b[43m \u001b[49m\u001b[43mtop_logprobs\u001b[49m\u001b[43m,\u001b[49m\n\u001b[1;32m    665\u001b[0m \u001b[43m                \u001b[49m\u001b[38;5;124;43m\"\u001b[39;49m\u001b[38;5;124;43mtop_p\u001b[39;49m\u001b[38;5;124;43m\"\u001b[39;49m\u001b[43m:\u001b[49m\u001b[43m \u001b[49m\u001b[43mtop_p\u001b[49m\u001b[43m,\u001b[49m\n\u001b[1;32m    666\u001b[0m \u001b[43m                \u001b[49m\u001b[38;5;124;43m\"\u001b[39;49m\u001b[38;5;124;43muser\u001b[39;49m\u001b[38;5;124;43m\"\u001b[39;49m\u001b[43m:\u001b[49m\u001b[43m \u001b[49m\u001b[43muser\u001b[49m\u001b[43m,\u001b[49m\n\u001b[1;32m    667\u001b[0m \u001b[43m            \u001b[49m\u001b[43m}\u001b[49m\u001b[43m,\u001b[49m\n\u001b[1;32m    668\u001b[0m \u001b[43m            \u001b[49m\u001b[43mcompletion_create_params\u001b[49m\u001b[38;5;241;43m.\u001b[39;49m\u001b[43mCompletionCreateParams\u001b[49m\u001b[43m,\u001b[49m\n\u001b[1;32m    669\u001b[0m \u001b[43m        \u001b[49m\u001b[43m)\u001b[49m\u001b[43m,\u001b[49m\n\u001b[1;32m    670\u001b[0m \u001b[43m        \u001b[49m\u001b[43moptions\u001b[49m\u001b[38;5;241;43m=\u001b[39;49m\u001b[43mmake_request_options\u001b[49m\u001b[43m(\u001b[49m\n\u001b[1;32m    671\u001b[0m \u001b[43m            \u001b[49m\u001b[43mextra_headers\u001b[49m\u001b[38;5;241;43m=\u001b[39;49m\u001b[43mextra_headers\u001b[49m\u001b[43m,\u001b[49m\u001b[43m \u001b[49m\u001b[43mextra_query\u001b[49m\u001b[38;5;241;43m=\u001b[39;49m\u001b[43mextra_query\u001b[49m\u001b[43m,\u001b[49m\u001b[43m \u001b[49m\u001b[43mextra_body\u001b[49m\u001b[38;5;241;43m=\u001b[39;49m\u001b[43mextra_body\u001b[49m\u001b[43m,\u001b[49m\u001b[43m \u001b[49m\u001b[43mtimeout\u001b[49m\u001b[38;5;241;43m=\u001b[39;49m\u001b[43mtimeout\u001b[49m\n\u001b[1;32m    672\u001b[0m \u001b[43m        \u001b[49m\u001b[43m)\u001b[49m\u001b[43m,\u001b[49m\n\u001b[1;32m    673\u001b[0m \u001b[43m        \u001b[49m\u001b[43mcast_to\u001b[49m\u001b[38;5;241;43m=\u001b[39;49m\u001b[43mChatCompletion\u001b[49m\u001b[43m,\u001b[49m\n\u001b[1;32m    674\u001b[0m \u001b[43m        \u001b[49m\u001b[43mstream\u001b[49m\u001b[38;5;241;43m=\u001b[39;49m\u001b[43mstream\u001b[49m\u001b[43m \u001b[49m\u001b[38;5;129;43;01mor\u001b[39;49;00m\u001b[43m \u001b[49m\u001b[38;5;28;43;01mFalse\u001b[39;49;00m\u001b[43m,\u001b[49m\n\u001b[1;32m    675\u001b[0m \u001b[43m        \u001b[49m\u001b[43mstream_cls\u001b[49m\u001b[38;5;241;43m=\u001b[39;49m\u001b[43mStream\u001b[49m\u001b[43m[\u001b[49m\u001b[43mChatCompletionChunk\u001b[49m\u001b[43m]\u001b[49m\u001b[43m,\u001b[49m\n\u001b[1;32m    676\u001b[0m \u001b[43m    \u001b[49m\u001b[43m)\u001b[49m\n",
      "File \u001b[0;32m/Library/Frameworks/Python.framework/Versions/3.10/lib/python3.10/site-packages/openai/_base_client.py:1112\u001b[0m, in \u001b[0;36mSyncAPIClient.post\u001b[0;34m(self, path, cast_to, body, options, files, stream, stream_cls)\u001b[0m\n\u001b[1;32m   1098\u001b[0m \u001b[38;5;28;01mdef\u001b[39;00m \u001b[38;5;21mpost\u001b[39m(\n\u001b[1;32m   1099\u001b[0m     \u001b[38;5;28mself\u001b[39m,\n\u001b[1;32m   1100\u001b[0m     path: \u001b[38;5;28mstr\u001b[39m,\n\u001b[0;32m   (...)\u001b[0m\n\u001b[1;32m   1107\u001b[0m     stream_cls: \u001b[38;5;28mtype\u001b[39m[_StreamT] \u001b[38;5;241m|\u001b[39m \u001b[38;5;28;01mNone\u001b[39;00m \u001b[38;5;241m=\u001b[39m \u001b[38;5;28;01mNone\u001b[39;00m,\n\u001b[1;32m   1108\u001b[0m ) \u001b[38;5;241m-\u001b[39m\u001b[38;5;241m>\u001b[39m ResponseT \u001b[38;5;241m|\u001b[39m _StreamT:\n\u001b[1;32m   1109\u001b[0m     opts \u001b[38;5;241m=\u001b[39m FinalRequestOptions\u001b[38;5;241m.\u001b[39mconstruct(\n\u001b[1;32m   1110\u001b[0m         method\u001b[38;5;241m=\u001b[39m\u001b[38;5;124m\"\u001b[39m\u001b[38;5;124mpost\u001b[39m\u001b[38;5;124m\"\u001b[39m, url\u001b[38;5;241m=\u001b[39mpath, json_data\u001b[38;5;241m=\u001b[39mbody, files\u001b[38;5;241m=\u001b[39mto_httpx_files(files), \u001b[38;5;241m*\u001b[39m\u001b[38;5;241m*\u001b[39moptions\n\u001b[1;32m   1111\u001b[0m     )\n\u001b[0;32m-> 1112\u001b[0m     \u001b[38;5;28;01mreturn\u001b[39;00m cast(ResponseT, \u001b[38;5;28;43mself\u001b[39;49m\u001b[38;5;241;43m.\u001b[39;49m\u001b[43mrequest\u001b[49m\u001b[43m(\u001b[49m\u001b[43mcast_to\u001b[49m\u001b[43m,\u001b[49m\u001b[43m \u001b[49m\u001b[43mopts\u001b[49m\u001b[43m,\u001b[49m\u001b[43m \u001b[49m\u001b[43mstream\u001b[49m\u001b[38;5;241;43m=\u001b[39;49m\u001b[43mstream\u001b[49m\u001b[43m,\u001b[49m\u001b[43m \u001b[49m\u001b[43mstream_cls\u001b[49m\u001b[38;5;241;43m=\u001b[39;49m\u001b[43mstream_cls\u001b[49m\u001b[43m)\u001b[49m)\n",
      "File \u001b[0;32m/Library/Frameworks/Python.framework/Versions/3.10/lib/python3.10/site-packages/openai/_base_client.py:859\u001b[0m, in \u001b[0;36mSyncAPIClient.request\u001b[0;34m(self, cast_to, options, remaining_retries, stream, stream_cls)\u001b[0m\n\u001b[1;32m    850\u001b[0m \u001b[38;5;28;01mdef\u001b[39;00m \u001b[38;5;21mrequest\u001b[39m(\n\u001b[1;32m    851\u001b[0m     \u001b[38;5;28mself\u001b[39m,\n\u001b[1;32m    852\u001b[0m     cast_to: Type[ResponseT],\n\u001b[0;32m   (...)\u001b[0m\n\u001b[1;32m    857\u001b[0m     stream_cls: \u001b[38;5;28mtype\u001b[39m[_StreamT] \u001b[38;5;241m|\u001b[39m \u001b[38;5;28;01mNone\u001b[39;00m \u001b[38;5;241m=\u001b[39m \u001b[38;5;28;01mNone\u001b[39;00m,\n\u001b[1;32m    858\u001b[0m ) \u001b[38;5;241m-\u001b[39m\u001b[38;5;241m>\u001b[39m ResponseT \u001b[38;5;241m|\u001b[39m _StreamT:\n\u001b[0;32m--> 859\u001b[0m     \u001b[38;5;28;01mreturn\u001b[39;00m \u001b[38;5;28;43mself\u001b[39;49m\u001b[38;5;241;43m.\u001b[39;49m\u001b[43m_request\u001b[49m\u001b[43m(\u001b[49m\n\u001b[1;32m    860\u001b[0m \u001b[43m        \u001b[49m\u001b[43mcast_to\u001b[49m\u001b[38;5;241;43m=\u001b[39;49m\u001b[43mcast_to\u001b[49m\u001b[43m,\u001b[49m\n\u001b[1;32m    861\u001b[0m \u001b[43m        \u001b[49m\u001b[43moptions\u001b[49m\u001b[38;5;241;43m=\u001b[39;49m\u001b[43moptions\u001b[49m\u001b[43m,\u001b[49m\n\u001b[1;32m    862\u001b[0m \u001b[43m        \u001b[49m\u001b[43mstream\u001b[49m\u001b[38;5;241;43m=\u001b[39;49m\u001b[43mstream\u001b[49m\u001b[43m,\u001b[49m\n\u001b[1;32m    863\u001b[0m \u001b[43m        \u001b[49m\u001b[43mstream_cls\u001b[49m\u001b[38;5;241;43m=\u001b[39;49m\u001b[43mstream_cls\u001b[49m\u001b[43m,\u001b[49m\n\u001b[1;32m    864\u001b[0m \u001b[43m        \u001b[49m\u001b[43mremaining_retries\u001b[49m\u001b[38;5;241;43m=\u001b[39;49m\u001b[43mremaining_retries\u001b[49m\u001b[43m,\u001b[49m\n\u001b[1;32m    865\u001b[0m \u001b[43m    \u001b[49m\u001b[43m)\u001b[49m\n",
      "File \u001b[0;32m/Library/Frameworks/Python.framework/Versions/3.10/lib/python3.10/site-packages/openai/_base_client.py:934\u001b[0m, in \u001b[0;36mSyncAPIClient._request\u001b[0;34m(self, cast_to, options, remaining_retries, stream, stream_cls)\u001b[0m\n\u001b[1;32m    932\u001b[0m \u001b[38;5;28;01mif\u001b[39;00m retries \u001b[38;5;241m>\u001b[39m \u001b[38;5;241m0\u001b[39m \u001b[38;5;129;01mand\u001b[39;00m \u001b[38;5;28mself\u001b[39m\u001b[38;5;241m.\u001b[39m_should_retry(err\u001b[38;5;241m.\u001b[39mresponse):\n\u001b[1;32m    933\u001b[0m     err\u001b[38;5;241m.\u001b[39mresponse\u001b[38;5;241m.\u001b[39mclose()\n\u001b[0;32m--> 934\u001b[0m     \u001b[38;5;28;01mreturn\u001b[39;00m \u001b[38;5;28;43mself\u001b[39;49m\u001b[38;5;241;43m.\u001b[39;49m\u001b[43m_retry_request\u001b[49m\u001b[43m(\u001b[49m\n\u001b[1;32m    935\u001b[0m \u001b[43m        \u001b[49m\u001b[43moptions\u001b[49m\u001b[43m,\u001b[49m\n\u001b[1;32m    936\u001b[0m \u001b[43m        \u001b[49m\u001b[43mcast_to\u001b[49m\u001b[43m,\u001b[49m\n\u001b[1;32m    937\u001b[0m \u001b[43m        \u001b[49m\u001b[43mretries\u001b[49m\u001b[43m,\u001b[49m\n\u001b[1;32m    938\u001b[0m \u001b[43m        \u001b[49m\u001b[43merr\u001b[49m\u001b[38;5;241;43m.\u001b[39;49m\u001b[43mresponse\u001b[49m\u001b[38;5;241;43m.\u001b[39;49m\u001b[43mheaders\u001b[49m\u001b[43m,\u001b[49m\n\u001b[1;32m    939\u001b[0m \u001b[43m        \u001b[49m\u001b[43mstream\u001b[49m\u001b[38;5;241;43m=\u001b[39;49m\u001b[43mstream\u001b[49m\u001b[43m,\u001b[49m\n\u001b[1;32m    940\u001b[0m \u001b[43m        \u001b[49m\u001b[43mstream_cls\u001b[49m\u001b[38;5;241;43m=\u001b[39;49m\u001b[43mstream_cls\u001b[49m\u001b[43m,\u001b[49m\n\u001b[1;32m    941\u001b[0m \u001b[43m    \u001b[49m\u001b[43m)\u001b[49m\n\u001b[1;32m    943\u001b[0m \u001b[38;5;66;03m# If the response is streamed then we need to explicitly read the response\u001b[39;00m\n\u001b[1;32m    944\u001b[0m \u001b[38;5;66;03m# to completion before attempting to access the response text.\u001b[39;00m\n\u001b[1;32m    945\u001b[0m \u001b[38;5;28;01mif\u001b[39;00m \u001b[38;5;129;01mnot\u001b[39;00m err\u001b[38;5;241m.\u001b[39mresponse\u001b[38;5;241m.\u001b[39mis_closed:\n",
      "File \u001b[0;32m/Library/Frameworks/Python.framework/Versions/3.10/lib/python3.10/site-packages/openai/_base_client.py:982\u001b[0m, in \u001b[0;36mSyncAPIClient._retry_request\u001b[0;34m(self, options, cast_to, remaining_retries, response_headers, stream, stream_cls)\u001b[0m\n\u001b[1;32m    978\u001b[0m \u001b[38;5;66;03m# In a synchronous context we are blocking the entire thread. Up to the library user to run the client in a\u001b[39;00m\n\u001b[1;32m    979\u001b[0m \u001b[38;5;66;03m# different thread if necessary.\u001b[39;00m\n\u001b[1;32m    980\u001b[0m time\u001b[38;5;241m.\u001b[39msleep(timeout)\n\u001b[0;32m--> 982\u001b[0m \u001b[38;5;28;01mreturn\u001b[39;00m \u001b[38;5;28;43mself\u001b[39;49m\u001b[38;5;241;43m.\u001b[39;49m\u001b[43m_request\u001b[49m\u001b[43m(\u001b[49m\n\u001b[1;32m    983\u001b[0m \u001b[43m    \u001b[49m\u001b[43moptions\u001b[49m\u001b[38;5;241;43m=\u001b[39;49m\u001b[43moptions\u001b[49m\u001b[43m,\u001b[49m\n\u001b[1;32m    984\u001b[0m \u001b[43m    \u001b[49m\u001b[43mcast_to\u001b[49m\u001b[38;5;241;43m=\u001b[39;49m\u001b[43mcast_to\u001b[49m\u001b[43m,\u001b[49m\n\u001b[1;32m    985\u001b[0m \u001b[43m    \u001b[49m\u001b[43mremaining_retries\u001b[49m\u001b[38;5;241;43m=\u001b[39;49m\u001b[43mremaining\u001b[49m\u001b[43m,\u001b[49m\n\u001b[1;32m    986\u001b[0m \u001b[43m    \u001b[49m\u001b[43mstream\u001b[49m\u001b[38;5;241;43m=\u001b[39;49m\u001b[43mstream\u001b[49m\u001b[43m,\u001b[49m\n\u001b[1;32m    987\u001b[0m \u001b[43m    \u001b[49m\u001b[43mstream_cls\u001b[49m\u001b[38;5;241;43m=\u001b[39;49m\u001b[43mstream_cls\u001b[49m\u001b[43m,\u001b[49m\n\u001b[1;32m    988\u001b[0m \u001b[43m\u001b[49m\u001b[43m)\u001b[49m\n",
      "File \u001b[0;32m/Library/Frameworks/Python.framework/Versions/3.10/lib/python3.10/site-packages/openai/_base_client.py:934\u001b[0m, in \u001b[0;36mSyncAPIClient._request\u001b[0;34m(self, cast_to, options, remaining_retries, stream, stream_cls)\u001b[0m\n\u001b[1;32m    932\u001b[0m \u001b[38;5;28;01mif\u001b[39;00m retries \u001b[38;5;241m>\u001b[39m \u001b[38;5;241m0\u001b[39m \u001b[38;5;129;01mand\u001b[39;00m \u001b[38;5;28mself\u001b[39m\u001b[38;5;241m.\u001b[39m_should_retry(err\u001b[38;5;241m.\u001b[39mresponse):\n\u001b[1;32m    933\u001b[0m     err\u001b[38;5;241m.\u001b[39mresponse\u001b[38;5;241m.\u001b[39mclose()\n\u001b[0;32m--> 934\u001b[0m     \u001b[38;5;28;01mreturn\u001b[39;00m \u001b[38;5;28;43mself\u001b[39;49m\u001b[38;5;241;43m.\u001b[39;49m\u001b[43m_retry_request\u001b[49m\u001b[43m(\u001b[49m\n\u001b[1;32m    935\u001b[0m \u001b[43m        \u001b[49m\u001b[43moptions\u001b[49m\u001b[43m,\u001b[49m\n\u001b[1;32m    936\u001b[0m \u001b[43m        \u001b[49m\u001b[43mcast_to\u001b[49m\u001b[43m,\u001b[49m\n\u001b[1;32m    937\u001b[0m \u001b[43m        \u001b[49m\u001b[43mretries\u001b[49m\u001b[43m,\u001b[49m\n\u001b[1;32m    938\u001b[0m \u001b[43m        \u001b[49m\u001b[43merr\u001b[49m\u001b[38;5;241;43m.\u001b[39;49m\u001b[43mresponse\u001b[49m\u001b[38;5;241;43m.\u001b[39;49m\u001b[43mheaders\u001b[49m\u001b[43m,\u001b[49m\n\u001b[1;32m    939\u001b[0m \u001b[43m        \u001b[49m\u001b[43mstream\u001b[49m\u001b[38;5;241;43m=\u001b[39;49m\u001b[43mstream\u001b[49m\u001b[43m,\u001b[49m\n\u001b[1;32m    940\u001b[0m \u001b[43m        \u001b[49m\u001b[43mstream_cls\u001b[49m\u001b[38;5;241;43m=\u001b[39;49m\u001b[43mstream_cls\u001b[49m\u001b[43m,\u001b[49m\n\u001b[1;32m    941\u001b[0m \u001b[43m    \u001b[49m\u001b[43m)\u001b[49m\n\u001b[1;32m    943\u001b[0m \u001b[38;5;66;03m# If the response is streamed then we need to explicitly read the response\u001b[39;00m\n\u001b[1;32m    944\u001b[0m \u001b[38;5;66;03m# to completion before attempting to access the response text.\u001b[39;00m\n\u001b[1;32m    945\u001b[0m \u001b[38;5;28;01mif\u001b[39;00m \u001b[38;5;129;01mnot\u001b[39;00m err\u001b[38;5;241m.\u001b[39mresponse\u001b[38;5;241m.\u001b[39mis_closed:\n",
      "File \u001b[0;32m/Library/Frameworks/Python.framework/Versions/3.10/lib/python3.10/site-packages/openai/_base_client.py:982\u001b[0m, in \u001b[0;36mSyncAPIClient._retry_request\u001b[0;34m(self, options, cast_to, remaining_retries, response_headers, stream, stream_cls)\u001b[0m\n\u001b[1;32m    978\u001b[0m \u001b[38;5;66;03m# In a synchronous context we are blocking the entire thread. Up to the library user to run the client in a\u001b[39;00m\n\u001b[1;32m    979\u001b[0m \u001b[38;5;66;03m# different thread if necessary.\u001b[39;00m\n\u001b[1;32m    980\u001b[0m time\u001b[38;5;241m.\u001b[39msleep(timeout)\n\u001b[0;32m--> 982\u001b[0m \u001b[38;5;28;01mreturn\u001b[39;00m \u001b[38;5;28;43mself\u001b[39;49m\u001b[38;5;241;43m.\u001b[39;49m\u001b[43m_request\u001b[49m\u001b[43m(\u001b[49m\n\u001b[1;32m    983\u001b[0m \u001b[43m    \u001b[49m\u001b[43moptions\u001b[49m\u001b[38;5;241;43m=\u001b[39;49m\u001b[43moptions\u001b[49m\u001b[43m,\u001b[49m\n\u001b[1;32m    984\u001b[0m \u001b[43m    \u001b[49m\u001b[43mcast_to\u001b[49m\u001b[38;5;241;43m=\u001b[39;49m\u001b[43mcast_to\u001b[49m\u001b[43m,\u001b[49m\n\u001b[1;32m    985\u001b[0m \u001b[43m    \u001b[49m\u001b[43mremaining_retries\u001b[49m\u001b[38;5;241;43m=\u001b[39;49m\u001b[43mremaining\u001b[49m\u001b[43m,\u001b[49m\n\u001b[1;32m    986\u001b[0m \u001b[43m    \u001b[49m\u001b[43mstream\u001b[49m\u001b[38;5;241;43m=\u001b[39;49m\u001b[43mstream\u001b[49m\u001b[43m,\u001b[49m\n\u001b[1;32m    987\u001b[0m \u001b[43m    \u001b[49m\u001b[43mstream_cls\u001b[49m\u001b[38;5;241;43m=\u001b[39;49m\u001b[43mstream_cls\u001b[49m\u001b[43m,\u001b[49m\n\u001b[1;32m    988\u001b[0m \u001b[43m\u001b[49m\u001b[43m)\u001b[49m\n",
      "File \u001b[0;32m/Library/Frameworks/Python.framework/Versions/3.10/lib/python3.10/site-packages/openai/_base_client.py:949\u001b[0m, in \u001b[0;36mSyncAPIClient._request\u001b[0;34m(self, cast_to, options, remaining_retries, stream, stream_cls)\u001b[0m\n\u001b[1;32m    946\u001b[0m         err\u001b[38;5;241m.\u001b[39mresponse\u001b[38;5;241m.\u001b[39mread()\n\u001b[1;32m    948\u001b[0m     log\u001b[38;5;241m.\u001b[39mdebug(\u001b[38;5;124m\"\u001b[39m\u001b[38;5;124mRe-raising status error\u001b[39m\u001b[38;5;124m\"\u001b[39m)\n\u001b[0;32m--> 949\u001b[0m     \u001b[38;5;28;01mraise\u001b[39;00m \u001b[38;5;28mself\u001b[39m\u001b[38;5;241m.\u001b[39m_make_status_error_from_response(err\u001b[38;5;241m.\u001b[39mresponse) \u001b[38;5;28;01mfrom\u001b[39;00m \u001b[38;5;28mNone\u001b[39m\n\u001b[1;32m    951\u001b[0m \u001b[38;5;28;01mreturn\u001b[39;00m \u001b[38;5;28mself\u001b[39m\u001b[38;5;241m.\u001b[39m_process_response(\n\u001b[1;32m    952\u001b[0m     cast_to\u001b[38;5;241m=\u001b[39mcast_to,\n\u001b[1;32m    953\u001b[0m     options\u001b[38;5;241m=\u001b[39moptions,\n\u001b[0;32m   (...)\u001b[0m\n\u001b[1;32m    956\u001b[0m     stream_cls\u001b[38;5;241m=\u001b[39mstream_cls,\n\u001b[1;32m    957\u001b[0m )\n",
      "\u001b[0;31mRateLimitError\u001b[0m: Error code: 429 - {'error': {'code': '429', 'message': 'Requests to the ChatCompletions_Create Operation under Azure OpenAI API version 2023-09-01-preview have exceeded call rate limit of your current OpenAI S0 pricing tier. Please retry after 2 seconds. Please go here: https://aka.ms/oai/quotaincrease if you would like to further increase the default rate limit.'}}"
     ]
    }
   ],
   "source": [
    "# define initial KG and parameters\n",
    "\n",
    "initial_knowledge_graph = {\n",
    "        \"metadata\": {\n",
    "            \"Data\": \"Knowledge Graph\",\n",
    "        },\n",
    "        \"knowledge graph\": {\n",
    "            \"entities\": [\n",
    "                {\"entity\": \"sustainable energy policy\",\"category\": \"concept\"},\n",
    "                {\"entity\": \"renewable energy systems\",\"category\": \"concept\"},\n",
    "                {\"entity\": \"just energy transition\",\"category\": \"concept\"},\n",
    "                {\"entity\": \"equitable energy access\",\"category\": \"concept\"},\n",
    "                {\"entity\": \"clean cooking\",\"category\": \"concept\"},\n",
    "                {\"entity\": \"gender equality in energy\",\"category\": \"concept\"}\n",
    "            ],\n",
    "            \"relations\": {}\n",
    "        }\n",
    "    }\n",
    "            \n",
    "kg_parameters={\"iterations\":5,\"new_relation_count\":4,\"max_workers\":10}\n",
    "\n",
    "\n",
    "#######run pipeline\n",
    "generateKG(initial_knowledge_graph,kg_parameters)\n"
   ]
  },
  {
   "cell_type": "markdown",
   "id": "1fadd73e",
   "metadata": {},
   "source": [
    "<h4> extract jsons for each entity </h4>"
   ]
  },
  {
   "cell_type": "code",
   "execution_count": null,
   "id": "46ee64a1",
   "metadata": {},
   "outputs": [],
   "source": [
    "# Function to generate a simplified current date and time string formatted as 'MMMDD_HHMM', with the month as the first three letters of its name.\n",
    "\n",
    "def generateDatetime():\n",
    "    current_datetime = datetime.now()\n",
    "    return current_datetime.strftime(\"%b%d_%H%M\")\n",
    "\n",
    "# # Example usage\n",
    "# filename_datetime = generateDatetime()\n",
    "# filename_datetime"
   ]
  },
  {
   "cell_type": "code",
   "execution_count": null,
   "id": "12d94610",
   "metadata": {},
   "outputs": [],
   "source": [
    "##iterate through keys in entities, and identify all relations for that entity\n",
    "##generate json including all info about that entity, its relations, all related entitites, and document ids\n",
    " \n",
    "# Folder path with JSON file of merged KG \n",
    "#kg_folder_path = '../00_API/00_Merged'##only enable if the KG has been already committed/copied to API\n",
    "\n",
    "kg_folder_path = \"../03_Output/01_Auto KGs/00_Current Versions/\"\n",
    "kg_file_path = \"knowledge_graph.json\"\n",
    "\n",
    "# ## Option to copy GPT-KG export to this path (enable these two lines only to replace the active KG version on the API)\n",
    "# shutil.copy(os.path.join(folder_path, kg_file_path), os.path.join(kg_folder_path, \"backup/KG-backup-\"+generateDatetime()+\".json\"))\n",
    "# ## This copies the existing file into the backup folder\n",
    "# shutil.copy('../03_Output/01_Auto KGs/00_Current Versions/knowledge_graph.json', os.path.join(folder_path, kg_file_path))\n",
    "\n",
    "# Generate dictionary of entity-wise relations\n",
    "entity_relations = defaultdict(list) # Initialize \n",
    "\n",
    "with open(os.path.join(kg_folder_path, kg_file_path), 'r') as file:\n",
    "\n",
    "    data = json.load(file)\n",
    "\n",
    "    entities = data['knowledge graph']['entities']\n",
    "    relations = data['knowledge graph']['relations']\n",
    "\n",
    "    for entity_info in entities:\n",
    "        entity = entity_info['entity']\n",
    "\n",
    "        if entity in relations:\n",
    "            entity_relations[entity].extend(relations[entity])\n",
    "\n",
    "            \n",
    "# Define output path and delete all existing by-entity exports\n",
    "output_folder_path = kg_folder_path+'01_By-Entity'\n",
    "for file in glob.glob(output_folder_path+\"/*.json\"):\n",
    "    print(file)\n",
    "    try:\n",
    "        os.remove(file)\n",
    "    except OSError as e:\n",
    "        print(f\"Error: {e.strerror}. File: {file}\")\n",
    "\n",
    "# Create separate JSON files for each entity's relations\n",
    "for entity, relations in entity_relations.items():\n",
    "    entity_file = f'{entity}.json'\n",
    "    entity_data = {\"metadata\": {}, \"knowledge graph\": {\"entities\": [], \"relations\": {entity: relations}}}\n",
    "    \n",
    "    with open(os.path.join(output_folder_path, entity_file), 'w') as outfile:\n",
    "        json.dump(entity_data, outfile, indent=4)\n",
    "\n",
    "print(\"Entity files created.\")\n"
   ]
  },
  {
   "cell_type": "code",
   "execution_count": null,
   "id": "d07f1a42",
   "metadata": {},
   "outputs": [],
   "source": []
  },
  {
   "cell_type": "code",
   "execution_count": null,
   "id": "7847bb60",
   "metadata": {},
   "outputs": [],
   "source": []
  }
 ],
 "metadata": {
  "kernelspec": {
   "display_name": "Python 3 (ipykernel)",
   "language": "python",
   "name": "python3"
  },
  "language_info": {
   "codemirror_mode": {
    "name": "ipython",
    "version": 3
   },
   "file_extension": ".py",
   "mimetype": "text/x-python",
   "name": "python",
   "nbconvert_exporter": "python",
   "pygments_lexer": "ipython3",
   "version": "3.10.6"
  }
 },
 "nbformat": 4,
 "nbformat_minor": 5
}
