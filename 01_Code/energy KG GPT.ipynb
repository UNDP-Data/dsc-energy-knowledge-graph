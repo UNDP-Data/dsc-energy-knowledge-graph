{
 "cells": [
  {
   "cell_type": "code",
   "execution_count": 11,
   "id": "d2257746",
   "metadata": {},
   "outputs": [],
   "source": [
    "import os\n",
    "import openai\n",
    "from string import Template\n",
    "import json\n",
    "from timeit import default_timer as timer\n",
    "import time\n",
    "from dotenv import load_dotenv\n",
    "from time import sleep\n",
    "from collections import defaultdict\n",
    "from concurrent.futures import ThreadPoolExecutor\n",
    "\n"
   ]
  },
  {
   "cell_type": "markdown",
   "id": "ede5cbe0",
   "metadata": {},
   "source": [
    "### Load Enviroment files"
   ]
  },
  {
   "cell_type": "code",
   "execution_count": 2,
   "id": "c5722590",
   "metadata": {},
   "outputs": [
    {
     "data": {
      "text/plain": [
       "True"
      ]
     },
     "execution_count": 2,
     "metadata": {},
     "output_type": "execute_result"
    }
   ],
   "source": [
    "# Load environment variables\n",
    "load_dotenv()"
   ]
  },
  {
   "cell_type": "code",
   "execution_count": 3,
   "id": "f318642f",
   "metadata": {},
   "outputs": [],
   "source": [
    "# OpenAI API configuration\n",
    "openai.api_type = \"azure\"\n",
    "openai.api_key = os.getenv(\"api_key_azure\")\n",
    "openai.api_base = os.getenv(\"AZURE_OPENAI_ENDPOINT\")\n",
    "openai.api_version = os.getenv(\"api_version\")\n",
    "openai_deployment = \"sdgi-gpt-35-turbo-16k\"\n",
    "\n",
    "# openai.api_key = os.getenv(\"OPENAI_KEY\")\n",
    "\n",
    "\n",
    "# print(openai.api_key)\n",
    "# print(openai.api_base)\n",
    "# print(openai.api_version)\n"
   ]
  },
  {
   "cell_type": "code",
   "execution_count": 4,
   "id": "8e6fef76",
   "metadata": {},
   "outputs": [],
   "source": [
    "#Generate KG by for loop iterations. \n",
    "def generate_KG(initial_entities, iterations):\n",
    "    knowledge_graph = {\n",
    "        \"metadata\": {\n",
    "            \"Data\": \"Knowledge Graph\",\n",
    "        },\n",
    "        \"knowledge graph\": {\n",
    "            \"entities\": initial_entities,\n",
    "            \"relations\": {}\n",
    "        }\n",
    "    }\n",
    "    startTime = time.time()\n",
    "    processed_entities = set()\n",
    "    for i in range(iterations):\n",
    "        print(\"Iteration:\",i,\", Entity Count:\",len(processed_entities), \", Elapsed Time:\", round(time.time()-startTime,2),\"s\")\n",
    "        current_entities = knowledge_graph[\"knowledge graph\"][\"entities\"]\n",
    "        print([entity[\"entity\"] for entity in current_entities])\n",
    "        for entity in current_entities:\n",
    "            if entity[\"entity\"] not in processed_entities:\n",
    "                new_subgraph = generate_subgraph(entity, 4) \n",
    "               # print(new_subgraph)\n",
    "                processed_entities.add(entity[\"entity\"])\n",
    "                knowledge_graph = updateKG(knowledge_graph, new_subgraph)\n",
    "                print(knowledge_graph)\n",
    "                \n",
    "    return knowledge_graph\n"
   ]
  },
  {
   "cell_type": "code",
   "execution_count": 13,
   "id": "8588c351",
   "metadata": {},
   "outputs": [],
   "source": [
    "#Make call to openAI for subgraph generation\n",
    "def process_entity(entity, processed_entities, knowledge_graph):\n",
    "    if entity[\"entity\"] not in processed_entities:\n",
    "        new_subgraph = generate_subgraph(entity, 4)\n",
    "        processed_entities.add(entity[\"entity\"])\n",
    "        return updateKG(knowledge_graph, new_subgraph)\n"
   ]
  },
  {
   "cell_type": "code",
   "execution_count": 15,
   "id": "aa4d090f",
   "metadata": {},
   "outputs": [
    {
     "name": "stdout",
     "output_type": "stream",
     "text": [
      "Iteration: 0 , Entity Count: 0 , Elapsed Time: 0.0 s\n",
      "['sustainable energy']\n",
      "Iteration: 1 , Entity Count: 1 , Elapsed Time: 3.69 s\n",
      "['Solar power', 'Wind power', 'Hydroelectric power', 'Geothermal energy']\n",
      "Iteration: 2 , Entity Count: 5 , Elapsed Time: 8.93 s\n",
      "['Solar power', 'Turbine', 'Grid integration', 'Offshore wind farm']\n"
     ]
    }
   ],
   "source": [
    "#Generate KG running in parallel\n",
    "def generate_KG_parallel(initial_entities, iterations, max_workers=4):\n",
    "    knowledge_graph = {\n",
    "        \"metadata\": {\n",
    "            \"Data\": \"Knowledge Graph\",\n",
    "        },\n",
    "        \"knowledge graph\": {\n",
    "            \"entities\": initial_entities,\n",
    "            \"relations\": {}\n",
    "        }\n",
    "    }\n",
    "    startTime = time.time()\n",
    "    processed_entities = set()\n",
    "\n",
    "    with ThreadPoolExecutor(max_workers=max_workers) as executor:\n",
    "        futures = []\n",
    "\n",
    "        for i in range(iterations):\n",
    "            print(\"Iteration:\", i, \", Entity Count:\", len(processed_entities), \", Elapsed Time:\", round(time.time() - startTime, 2), \"s\")\n",
    "            current_entities = knowledge_graph[\"knowledge graph\"][\"entities\"]\n",
    "            print([entity[\"entity\"] for entity in current_entities])\n",
    "\n",
    "            for entity in current_entities:\n",
    "                future = executor.submit(process_entity, entity, processed_entities, knowledge_graph)\n",
    "                futures.append(future)\n",
    "\n",
    "            # Wait for all futures to complete\n",
    "            for future in futures:\n",
    "                result = future.result()\n",
    "                if result:\n",
    "                    knowledge_graph = result\n",
    "\n",
    "    return knowledge_graph\n",
    "\n",
    "# Example usage\n",
    "# initial_entities = [\n",
    "#                 {\n",
    "#                     \"entity\": \"sustainable energy\",\n",
    "#                     \"category\": \"concept\"\n",
    "#                 }\n",
    "#             ]  \n",
    "# knowledge_graph_parallel = generate_KG_parallel(initial_entities, iterations=3, max_workers=10)\n"
   ]
  },
  {
   "cell_type": "code",
   "execution_count": 5,
   "id": "686892b5",
   "metadata": {},
   "outputs": [],
   "source": [
    "def generate_subgraph(entity, count):\n",
    "    # Use the openai api to generate a list (of length 'count') of the most related entities\n",
    "    \n",
    "    prompt = f\"\"\"\n",
    "    The entity is {entity['entity']} \n",
    "    Give me {count} entities and their relationship to {entity['entity']}\n",
    "    Output should be in example json format: \n",
    "        {{\n",
    "          \"entities\": [\n",
    "            {{\n",
    "                \"entity\": \"ENTITY2\",\n",
    "                \"category\": \"Catetory\"\n",
    "            }}\n",
    "            ],\n",
    "        \"relations\": {{\n",
    "                    \"{entity['entity']}\": [\n",
    "                        {{\n",
    "                            \"Relation\": “RELATIONSHIP”,\n",
    "                            \"Object\": “ENTITY2”,\n",
    "                            \"Description\": “CONTENT DESCRIPTION”\n",
    "                        }}\n",
    "                    ],\n",
    "        }}\n",
    "        }}\n",
    "    Any ENTITY2 used in the relations must be part of the entities array section\n",
    "    \"\"\"\n",
    "    response_entities = openai.chat.completions.create(\n",
    "                    model=openai_deployment,\n",
    "                    temperature=0,\n",
    "                    messages=[\n",
    "                        {\"role\": \"user\", \"content\": prompt},\n",
    "                    ]\n",
    "                )\n",
    "    new_subgraph = response_entities.choices[0].message.content\n",
    "\n",
    "    return new_subgraph\n",
    "\n",
    "##example usage\n",
    "##generate_subgraph() ###explanations of inputs / outputs"
   ]
  },
  {
   "cell_type": "code",
   "execution_count": 9,
   "id": "2c58586c",
   "metadata": {},
   "outputs": [],
   "source": [
    "# Function to Update the Knowledge Graph\n",
    "def updateKG(knowledge_graph, new_subgraph_str):\n",
    "    if isinstance(new_subgraph_str, dict):\n",
    "        new_subgraph = new_subgraph_str\n",
    "    else:\n",
    "        new_subgraph = json.loads(new_subgraph_str)\n",
    "        \n",
    "    # Merge entities\n",
    "    knowledge_graph_entities = knowledge_graph.get(\"entities\", [])\n",
    "    new_entities = new_subgraph.get(\"entities\", [])\n",
    "    \n",
    "    for new_entity in new_entities:\n",
    "        if new_entity not in knowledge_graph_entities:\n",
    "            knowledge_graph_entities.append(new_entity)\n",
    "    \n",
    "    # Merge relations\n",
    "    knowledge_graph_relations = knowledge_graph.get(\"relations\", {})\n",
    "    new_relations = new_subgraph.get(\"relations\", {})\n",
    "    \n",
    "    for key, value in new_relations.items():\n",
    "        if key in knowledge_graph_relations:\n",
    "            for relation in value:\n",
    "                if relation not in knowledge_graph_relations[key]:\n",
    "                    knowledge_graph_relations[key].append(relation)\n",
    "        else:\n",
    "            knowledge_graph_relations[key] = value\n",
    "\n",
    "    # Update the knowledge graph\n",
    "    knowledge_graph[\"knowledge graph\"][\"entities\"] = knowledge_graph_entities\n",
    "    knowledge_graph[\"knowledge graph\"][\"relations\"] = knowledge_graph_relations\n",
    "\n",
    "\n",
    "    return knowledge_graph"
   ]
  },
  {
   "cell_type": "code",
   "execution_count": 16,
   "id": "23da54bf",
   "metadata": {},
   "outputs": [
    {
     "name": "stdout",
     "output_type": "stream",
     "text": [
      "Iteration: 0 , Entity Count: 0 , Elapsed Time: 0.0 s\n",
      "['sustainable energy']\n",
      "Iteration: 1 , Entity Count: 1 , Elapsed Time: 3.2 s\n",
      "['Solar power', 'Wind power', 'Hydroelectric power', 'Geothermal energy']\n",
      "Iteration: 2 , Entity Count: 5 , Elapsed Time: 6.19 s\n",
      "['Geothermal power plant', 'Geothermal heat pump', 'Geothermal reservoir', 'Geothermal energy association']\n",
      "Knowledge graph saved to ../03_Output/01_Auto KGs/00_Current Versions/knowledge_graph.json\n"
     ]
    }
   ],
   "source": [
    "# Example usage\n",
    "# Modify initial_entity to allow multiple entities \n",
    "entities_arr = [\n",
    "                {\n",
    "                    \"entity\": \"sustainable energy\",\n",
    "                    \"category\": \"concept\"\n",
    "                }\n",
    "            ]\n",
    "# knowledge_graph = generate_KG(entities_arr,iterations=3)\n",
    "knowledge_graph = generate_KG_parallel(entities_arr,iterations=3,max_workers=10)\n",
    "# Write the knowledge graph to a JSON file\n",
    "output_file = '../03_Output/01_Auto KGs/00_Current Versions/knowledge_graph.json'\n",
    "with open(output_file, 'w') as json_file:\n",
    "    json.dump(knowledge_graph, json_file, indent=4)\n",
    "\n",
    "print(f\"Knowledge graph saved to {output_file}\")\n"
   ]
  },
  {
   "cell_type": "markdown",
   "id": "1fadd73e",
   "metadata": {},
   "source": [
    "<h4> extract jsons for each entity </h4>"
   ]
  },
  {
   "cell_type": "code",
   "execution_count": 23,
   "id": "12d94610",
   "metadata": {},
   "outputs": [
    {
     "name": "stdout",
     "output_type": "stream",
     "text": [
      "Entity files created.\n"
     ]
    }
   ],
   "source": [
    "##iterate through keys in entities, and identify all relations for that entity\n",
    "##generate json including all info about that entity, its relations, all related entitites, and document ids\n",
    " \n",
    "\n",
    "# Folder path containing JSON files\n",
    "\n",
    "# Folder path containing JSON files\n",
    "folder_path = '../00_API/00_Merged'\n",
    "\n",
    "# Dictionary to hold entity-wise relations\n",
    "entity_relations = defaultdict(list)\n",
    "\n",
    "# Loop through JSON files in the folder\n",
    "for file_name in os.listdir(folder_path):\n",
    "    if file_name.endswith(\".json\"):\n",
    "        with open(os.path.join(folder_path, file_name), 'r') as file:\n",
    "            data = json.load(file)\n",
    "            \n",
    "            entities = data['knowledge graph']['entities']\n",
    "            relations = data['knowledge graph']['relations']\n",
    "            \n",
    "            for entity_info in entities:\n",
    "                entity = entity_info['entity']\n",
    "                \n",
    "                if entity in relations:\n",
    "                    entity_relations[entity].extend(relations[entity])\n",
    "\n",
    "output_folder_path = '../00_API/01_By-Entity'\n",
    "# Create separate JSON files for each entity's relations\n",
    "for entity, relations in entity_relations.items():\n",
    "    entity_file = f'{entity}.json'\n",
    "    entity_data = {\"metadata\": {}, \"knowledge graph\": {\"entities\": [], \"relations\": {entity: relations}}}\n",
    "    \n",
    "    with open(os.path.join(output_folder_path, entity_file), 'w') as outfile:\n",
    "        json.dump(entity_data, outfile, indent=4)\n",
    "\n",
    "print(\"Entity files created.\")\n",
    "\n",
    "\n"
   ]
  }
 ],
 "metadata": {
  "kernelspec": {
   "display_name": "Python 3 (ipykernel)",
   "language": "python",
   "name": "python3"
  },
  "language_info": {
   "codemirror_mode": {
    "name": "ipython",
    "version": 3
   },
   "file_extension": ".py",
   "mimetype": "text/x-python",
   "name": "python",
   "nbconvert_exporter": "python",
   "pygments_lexer": "ipython3",
   "version": "3.9.6"
  }
 },
 "nbformat": 4,
 "nbformat_minor": 5
}
