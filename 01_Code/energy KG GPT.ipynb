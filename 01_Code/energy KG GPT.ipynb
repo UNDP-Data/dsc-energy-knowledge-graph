{
 "cells": [
  {
   "cell_type": "code",
   "execution_count": null,
   "id": "d2257746",
   "metadata": {},
   "outputs": [],
   "source": [
    "def generate_KG(initial_entity,iterations):\n",
    "\n",
    "    #Initialize knowledge graph based on api structure\n",
    "    knowledge_graph={...} #start with only 1 entity, sustainable energy\n",
    "\n",
    "    ##initialize a list of entities that already have subgraphs generated\n",
    "    processed_entities=[]\n",
    "\n",
    "    for i in iterations: #iterations will control the size of the graph\n",
    "\n",
    "        #generate list of current entities existing in the knowledge graph\n",
    "        current_entities=...##use openAI api\n",
    "\n",
    "        for entity in current_entities:\n",
    "            if entity not in processed_entities:\n",
    "\n",
    "                # generate new subgraph based on this entity\n",
    "                new_subgraph=generate_subgraph(entity,10) \n",
    "                processed_entities.append(entity)\n",
    "\n",
    "                #  add new entities and new relations to KG\n",
    "                knowledge_graph=updateKG(knowledge_graph, new_subgraph)\n",
    "\n",
    "    return knowledge_graph\n",
    "\n",
    "\n",
    "def generate_subgraph(entity,count):\n",
    "    # Use the openai api to generate a list (of length 'count') of the most related entities\n",
    "    entities=...##use openAI api\n",
    "\n",
    "    # Generate the relations between the initial entity and the new list of entities\n",
    "    relations=...##use openAI api\n",
    "\n",
    "    # return json of new entities and relations\n",
    "    new_subgraph=...##entities and relations\n",
    "\n",
    "    return new_subgraph\n",
    "\n",
    "\n",
    "def updateKG(knowledge_graph, new_subgraph):\n",
    "\n",
    "    ##update knowledge graph by adding new entities and relations from the subgraph\n",
    "\n",
    "    return knowledge_graph\n",
    "\n",
    "# Example usage\n",
    "initial_entity = \"sustainable energy\"\n",
    "knowledge_graph = generate_KG(initial_entity,4)\n",
    "print(knowledge_graph)\n"
   ]
  }
 ],
 "metadata": {
  "kernelspec": {
   "display_name": "Python 3 (ipykernel)",
   "language": "python",
   "name": "python3"
  },
  "language_info": {
   "codemirror_mode": {
    "name": "ipython",
    "version": 3
   },
   "file_extension": ".py",
   "mimetype": "text/x-python",
   "name": "python",
   "nbconvert_exporter": "python",
   "pygments_lexer": "ipython3",
   "version": "3.10.6"
  }
 },
 "nbformat": 4,
 "nbformat_minor": 5
}
