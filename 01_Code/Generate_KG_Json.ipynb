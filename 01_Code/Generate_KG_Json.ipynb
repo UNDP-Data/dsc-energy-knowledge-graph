{
 "cells": [
  {
   "cell_type": "code",
   "execution_count": 1,
   "metadata": {
    "collapsed": true
   },
   "outputs": [],
   "source": [
    "import pandas as pd\n",
    "import json\n",
    "import datetime\n"
   ]
  },
  {
   "cell_type": "markdown",
   "source": [
    "# Run this pipeline to create a new json file for the knowledge graph"
   ],
   "metadata": {
    "collapsed": false
   }
  },
  {
   "cell_type": "markdown",
   "source": [
    "Read current entities and relations"
   ],
   "metadata": {
    "collapsed": false
   }
  },
  {
   "cell_type": "code",
   "execution_count": 2,
   "outputs": [],
   "source": [
    "with open('../03_Output/00_GPT KGs/Entities.json', \"r\") as file:\n",
    "    data = file.read()\n",
    "    entities = json.loads(data)\n",
    "    file.close()"
   ],
   "metadata": {
    "collapsed": false
   }
  },
  {
   "cell_type": "code",
   "execution_count": 4,
   "outputs": [],
   "source": [
    "file_path = '../03_Output/00_GPT KGs/Relations_replaced.csv'\n",
    "relations = pd.read_csv(file_path, delimiter=';')\n"
   ],
   "metadata": {
    "collapsed": false
   }
  },
  {
   "cell_type": "markdown",
   "source": [
    "Merge the entities and relations to created kg json file"
   ],
   "metadata": {
    "collapsed": false
   }
  },
  {
   "cell_type": "code",
   "execution_count": 5,
   "outputs": [],
   "source": [
    "kg_list = []\n",
    "for entity in entities:\n",
    "    kg_obj = {'metadata': entity, 'knowledge graph': {}}\n",
    "    records = relations.loc[relations['Subject'] == entity['Entity']]\n",
    "    filtered_relations = json.loads(records.to_json(orient ='records', indent = 2))\n",
    "    objects = set()\n",
    "    entity_relations = []\n",
    "    for rel in filtered_relations:\n",
    "        obj = {}\n",
    "        objects.add(rel['Object'])\n",
    "        obj['Relation'] = rel['Relation']\n",
    "        obj['Object'] = rel['Object']\n",
    "        obj['Description'] = rel['Description']\n",
    "        obj['Importance'] = rel['Importance']\n",
    "        entity_relations.append(obj)\n",
    "    object_lst = list(objects)\n",
    "    relation_obj = {entity['Entity']: entity_relations}\n",
    "    kg_obj['knowledge graph']['entities'] = object_lst\n",
    "    kg_obj['knowledge graph']['relations'] = relation_obj\n",
    "\n",
    "    kg_list.append(kg_obj)\n"
   ],
   "metadata": {
    "collapsed": false
   }
  },
  {
   "cell_type": "markdown",
   "source": [
    "Update the current kg and add in archive for record"
   ],
   "metadata": {
    "collapsed": false
   }
  },
  {
   "cell_type": "code",
   "execution_count": 41,
   "outputs": [],
   "source": [
    "timestamp = '{:%Y-%m-%d %H:%M:%S}'.format(datetime.datetime.now())\n",
    "kg_json = json.dumps(kg_list, indent = 2)\n",
    "\n",
    "with open('../03_Output/01_Auto KGs/00_Current Versions/knowledge_graph.json', 'w') as file:\n",
    "    file.write(kg_json)\n",
    "    file.close()\n",
    "\n",
    "with open('../03_Output/01_Auto KGs/01_Archived Versions/' + str(timestamp) + '.json', 'w') as file:\n",
    "    file.write(kg_json)\n",
    "    file.close()"
   ],
   "metadata": {
    "collapsed": false
   }
  },
  {
   "cell_type": "code",
   "execution_count": 12,
   "outputs": [],
   "source": [
    "for item in kg_list:\n",
    "    name = item['metadata']['Entity']\n",
    "    json_ = json.dumps(item, indent = 2)\n",
    "    with open('../03_Output/01_Auto KGs/00_Current Versions/' + name + '.json', 'w') as file:\n",
    "        file.write(json_)\n",
    "        file.close()\n"
   ],
   "metadata": {
    "collapsed": false
   }
  },
  {
   "cell_type": "code",
   "execution_count": null,
   "outputs": [],
   "source": [],
   "metadata": {
    "collapsed": false
   }
  }
 ],
 "metadata": {
  "kernelspec": {
   "display_name": "Python 3",
   "language": "python",
   "name": "python3"
  },
  "language_info": {
   "codemirror_mode": {
    "name": "ipython",
    "version": 2
   },
   "file_extension": ".py",
   "mimetype": "text/x-python",
   "name": "python",
   "nbconvert_exporter": "python",
   "pygments_lexer": "ipython2",
   "version": "2.7.6"
  }
 },
 "nbformat": 4,
 "nbformat_minor": 0
}
