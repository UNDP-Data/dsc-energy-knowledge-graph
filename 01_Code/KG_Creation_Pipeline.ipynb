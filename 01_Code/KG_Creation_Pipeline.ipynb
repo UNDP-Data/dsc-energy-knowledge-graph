{
 "cells": [
  {
   "cell_type": "markdown",
   "source": [
    "# This notebook creates and updates the KG based on provided entity list in 02_Input\n",
    "--> Run all the initialization cells in the start\n",
    "--> Run the 01: Pipeline to update the entities and relations files in '03_Output/00_GPT KGs'\n",
    "--> Run the 02: Optional pipeline to identify any missing relations in the created due to model errors, and update them"
   ],
   "metadata": {
    "collapsed": false
   }
  },
  {
   "cell_type": "code",
   "execution_count": 1,
   "outputs": [],
   "source": [
    "import pandas as pd\n",
    "import os\n",
    "from openai import AzureOpenAI\n",
    "import openai\n",
    "import json\n",
    "from dotenv import load_dotenv\n",
    "from fuzzywuzzy import fuzz\n",
    "import Levenshtein as lev\n",
    "import time\n",
    "import csv\n"
   ],
   "metadata": {
    "collapsed": false
   }
  },
  {
   "cell_type": "markdown",
   "metadata": {},
   "source": [
    " Set up the variables"
   ]
  },
  {
   "cell_type": "code",
   "execution_count": 10,
   "metadata": {},
   "outputs": [
    {
     "data": {
      "text/plain": "True"
     },
     "execution_count": 10,
     "metadata": {},
     "output_type": "execute_result"
    }
   ],
   "source": [
    "load_dotenv()"
   ]
  },
  {
   "cell_type": "code",
   "execution_count": 11,
   "metadata": {},
   "outputs": [],
   "source": [
    "os.environ[\"OPENAI_API_TYPE\"] = \"azure\"\n",
    "os.environ[\"OPENAI_API_VERSION\"] = os.getenv(\"api_version\")\n",
    "os.environ[\"AZURE_OPENAI_ENDPOINT\"] = os.getenv(\"AZURE_OPENAI_ENDPOINT\")\n",
    "os.environ[\"AZURE_OPENAI_API_KEY\"] = os.getenv(\"api_key_azure\")\n",
    "\n",
    "# OpenAI API configuration\n",
    "openai.api_type = \"azure\"\n",
    "openai.api_key = os.getenv(\"api_key_azure\")\n",
    "openai.api_base = os.getenv(\"AZURE_OPENAI_ENDPOINT\")\n",
    "openai.api_version = os.getenv(\"api_version\")\n",
    "openai_deployment = \"sdgi-gpt-35-turbo-16k\""
   ]
  },
  {
   "cell_type": "code",
   "execution_count": 12,
   "metadata": {},
   "outputs": [],
   "source": [
    "client = AzureOpenAI(\n",
    "    api_key = os.getenv(\"api_key_azure\"),\n",
    "    api_version = os.getenv(\"api_version\"),\n",
    "    azure_endpoint =os.getenv(\"AZURE_OPENAI_ENDPOINT\")\n",
    ")\n",
    "\n",
    "embedding_model = os.getenv(\"USER_QUERY_EMBEDDING_ENGINE\")\n"
   ]
  },
  {
   "cell_type": "markdown",
   "metadata": {},
   "source": [
    " Define Labels for KG"
   ]
  },
  {
   "cell_type": "code",
   "execution_count": null,
   "metadata": {},
   "outputs": [],
   "source": [
    "categories = [\n",
    "    \"Person\",\n",
    "    \"Location\",\n",
    "    \"Organization\",\n",
    "    \"Event\",\n",
    "    \"Product\",\n",
    "    \"Project\",\n",
    "    \"Skill\",\n",
    "    \"Strategy\",\n",
    "    \"Technology\",\n",
    "    \"Crisis\",\n",
    "    \"Infrastructure\"\n",
    "]"
   ]
  },
  {
   "cell_type": "code",
   "execution_count": null,
   "metadata": {},
   "outputs": [],
   "source": [
    "dimensions = [\n",
    "    \"Policy\",\n",
    "    \"Technology\",\n",
    "    \"Social\",\n",
    "    \"Economic\",\n",
    "    \"Finance\",\n",
    "    \"Intersectionality\"\n",
    "]"
   ]
  },
  {
   "cell_type": "code",
   "execution_count": 2,
   "metadata": {},
   "outputs": [],
   "source": [
    "relation_labels = [\n",
    "    \"implements\",\n",
    "    \"funds\",\n",
    "    \"focuses_on\",\n",
    "    \"in\",\n",
    "    \"partners_with\",\n",
    "    \"contributes_to\",\n",
    "    \"monitors\",\n",
    "    \"targets\",\n",
    "    \"addresses\",\n",
    "    \"employs\",\n",
    "    \"collaborates_with\",\n",
    "    \"supports\",\n",
    "    \"administers\",\n",
    "    \"measures\",\n",
    "    \"aligns_with\",\n",
    "    \"an_instance_of\"\n",
    "]"
   ]
  },
  {
   "cell_type": "code",
   "execution_count": 13,
   "outputs": [],
   "source": [
    "def get_answer(prompt):\n",
    "    \"\"\"\n",
    "    Generate a response based on the given prompt using the OpenAI chat completion model.\n",
    "\n",
    "    Args:\n",
    "        prompt (str): The input prompt to generate the response.\n",
    "\n",
    "    Returns:\n",
    "        dict: The response from the OpenAI model parsed as a JSON object.\n",
    "    \"\"\"\n",
    "    response_entities = openai.chat.completions.create(\n",
    "        model=openai_deployment,\n",
    "        temperature=0,\n",
    "        messages=[\n",
    "            {\"role\": \"user\", \"content\": prompt},\n",
    "        ]\n",
    "    )\n",
    "    response = response_entities.choices[0].message.content\n",
    "    #print (response)\n",
    "    response = json.loads(response)\n",
    "    return response\n"
   ],
   "metadata": {
    "collapsed": false
   }
  },
  {
   "cell_type": "code",
   "execution_count": null,
   "outputs": [],
   "source": [
    "\n",
    "def get_metadata(start, end, raw_entities):\n",
    "    \"\"\"\n",
    "    Retrieve metadata for a list of entities in chunks.\n",
    "\n",
    "    Args:\n",
    "        start (int): The starting index of the chunk.\n",
    "        end (int): The ending index of the chunk.\n",
    "        raw_entities (list): The list of raw entities to process.\n",
    "\n",
    "    Returns:\n",
    "        list: A list of metadata for the entities.\n",
    "    \"\"\"\n",
    "    metadata = []\n",
    "    while start < len(raw_entities):\n",
    "        print(start)\n",
    "        ls = raw_entities[start:end]\n",
    "        result = get_entity_metadata(ls, categories, dimensions)\n",
    "        start = end\n",
    "        end += 10\n",
    "        if end > len(raw_entities):\n",
    "            end = len(raw_entities)\n",
    "        metadata.extend(result[\"entities\"])\n",
    "    return metadata"
   ],
   "metadata": {
    "collapsed": false
   }
  },
  {
   "cell_type": "code",
   "execution_count": null,
   "outputs": [],
   "source": [
    "def get_relations():\n",
    "    \"\"\"\n",
    "    Retrieve relations for a list of entities in chunks.\n",
    "\n",
    "    Args:\n",
    "        start (int): The starting index of the chunk.\n",
    "        end (int): The ending index of the chunk.\n",
    "        raw_entities (list): The list of raw entities to process.\n",
    "        relation_labels (list): The list of relation labels to use for creating relations.\n",
    "\n",
    "    Returns:\n",
    "        list: A list of relations for the entities.\n",
    "    \"\"\"\n",
    "    relations = []\n",
    "    start_time = time.time()\n",
    "    while start < len(raw_entities):\n",
    "        ls = raw_entities[start:end]\n",
    "        result = create_relations(ls, relation_labels)\n",
    "        start = end\n",
    "        end += 2\n",
    "        if end > len(raw_entities):\n",
    "            end = len(raw_entities)\n",
    "        relations.extend(result)\n",
    "\n",
    "    print(\"--- %s seconds ---\" % (time.time() - start_time))\n",
    "    return relations\n"
   ],
   "metadata": {
    "collapsed": false
   }
  },
  {
   "cell_type": "code",
   "execution_count": null,
   "outputs": [],
   "source": [
    "def extract_synonyms_dict(csv_file_path):\n",
    "    \"\"\"\n",
    "   Extract a dictionary of synonyms from a CSV file. This is used to replace the non-entity objects with matched entities.\n",
    "\n",
    "   Args:\n",
    "       csv_file_path (str): The path to the CSV file containing the synonyms.\n",
    "\n",
    "   Returns:\n",
    "       dict: A dictionary where each key is a synonym and the corresponding value is the entity.\n",
    "   \"\"\"\n",
    "    synonyms_dict = {}\n",
    "    with open(csv_file_path, mode='r', encoding='utf-8') as csvfile:\n",
    "        reader = csv.DictReader(csvfile, delimiter=';')\n",
    "        for row in reader:\n",
    "            entity = row['Entity']\n",
    "            synonyms = row['Synonyms']\n",
    "            if synonyms:\n",
    "                # Split the synonyms by semicolon and strip any leading/trailing whitespace\n",
    "                synonym_list = [syn.strip() for syn in synonyms.split(';')]\n",
    "                for synonym in synonym_list:\n",
    "                    synonyms_dict[synonym] = entity\n",
    "\n",
    "    return synonyms_dict"
   ],
   "metadata": {
    "collapsed": false
   }
  },
  {
   "cell_type": "markdown",
   "source": [
    " Set up the prompts"
   ],
   "metadata": {
    "collapsed": false
   }
  },
  {
   "cell_type": "code",
   "execution_count": null,
   "outputs": [],
   "source": [
    "def get_entity_metadata(entities, category_list, dimension_list):\n",
    "    metadata_prompt = f\"\"\"\n",
    "\n",
    "    [Context]\n",
    "    You belong to a team of consultants at UNDP's Sustainable Energy Hub (SEH).\n",
    "    You will be given an >>>>>EntityList<<<<<, a list of >>>>>CATEGORIES<<<<< and a list of >>>>>DIMENSIONS<<<<<.\n",
    "\n",
    "   [Task]\n",
    "   Your task is to create a metadata for each given entity so they can be added to knowledge graph and return a json array.\n",
    "   You have to add the following attributes to each entity:\n",
    "    1. 'Entity': The name of given entity.\n",
    "    2. 'Description': containing summary of the entity.\n",
    "    3. 'Category': from the given >>>>>CATEGORIES<<<<<.\n",
    "    4. 'Tags': Multiple tags from a broader taxonomy suitable for entity.\n",
    "    5. 'Dimension': from the given >>>>>DIMENSIONS<<<<<.\n",
    "    6. 'Acronym': for the entity if it exists.\n",
    "    7. 'Importance': Score between 1 to 4 to each entity based on its importance in context of sustainable energy, with 4 being the highest score.\n",
    "\n",
    "    [Output Format]\n",
    "    Return only a JSON array for entities with metadata.\n",
    "\n",
    "    Now create a json array with metadata for the following entities:\n",
    "\n",
    "    [Input]\n",
    "    >>>>>EntityList<<<<<\n",
    "    {entities}\n",
    "\n",
    "    >>>>>CATEGORIES<<<<<\n",
    "    {category_list}\n",
    "\n",
    "    >>>>>CATEGORIES<<<<<\n",
    "    {dimension_list}\n",
    "\n",
    "\"\"\"\n",
    "\n",
    "    metadata = get_answer(metadata_prompt)\n",
    "    return metadata\n"
   ],
   "metadata": {
    "collapsed": false
   }
  },
  {
   "cell_type": "code",
   "execution_count": 32,
   "outputs": [],
   "source": [
    "def create_relations(entities, relation_labels):\n",
    "    relation_extraction_prompt = f\"\"\"\n",
    "\n",
    "    [Context]\n",
    "    You belong to a team of consultants at UNDP's Sustainable Energy Hub (SEH), working on a project to create a knowledge graph for sustainable energy.\n",
    "    You will be given an >>>>>EntityList<<<<< and a list of >>>>>RelationLabels<<<<<.\n",
    "\n",
    "   [Task]\n",
    "   Your task is to extract a set of 8-9 relations for each given entity. These relations will be added to the knowledge graph. Each relation will create following attributed:\n",
    "    1. 'Subject': subject entity of the relation.\n",
    "    2. 'Object': object entity of the relation.\n",
    "    3. 'Relation': label from the given >>>>>RELATION LABELS<<<<<.\n",
    "    4. 'Description': description of the relation.\n",
    "    5. 'Importance': score between 1 to 4 to each relation based on its importance in context of sustainable energy, with 4 being the highest score.\n",
    "\n",
    "    [Example]\n",
    "    \"Subject\":\"energy efficiency policy\",\n",
    "    \"Relation\": \"implements\",\n",
    "    \"Object\": \"building standards\",\n",
    "    \"Description\": \"Energy efficiency policy implements rigorous building standards that promote the use of energy-saving designs and materials.\",\n",
    "    \"Importance\": 4\n",
    "\n",
    "    [Output Format]\n",
    "    Return only a JSON array for relations.\n",
    "\n",
    "    Now create a json array of relations for the following entities. Do not create more than 9 relations for each entity:\n",
    "\n",
    "    [Input]\n",
    "    >>>>>EntityList<<<<<\n",
    "    {entities}\n",
    "\n",
    "    >>>>>RelationLabels<<<<<\n",
    "    {relation_labels}\n",
    "\n",
    "\"\"\"\n",
    "\n",
    "    relations = get_answer(relation_extraction_prompt)\n",
    "    print(relations)\n",
    "    return relations\n"
   ],
   "metadata": {
    "collapsed": false
   }
  },
  {
   "cell_type": "markdown",
   "source": [
    "# 01: Pipeline to add the new entities and relations to the KG"
   ],
   "metadata": {
    "collapsed": false
   }
  },
  {
   "cell_type": "code",
   "execution_count": 44,
   "outputs": [],
   "source": [
    "# Read the entity list from CSV file\n",
    "file_path = '../02_Input/00_Manual-KGs/Entity List.csv'\n",
    "raw_data = pd.read_csv(file_path, delimiter=';')\n",
    "raw_entities = raw_data['Entity'].str.strip()\n",
    "\n",
    "file_path = '../03_Output/00_GPT KGs/Entities.csv'\n",
    "ent_lst = pd.read_csv(file_path, delimiter=';')\n",
    "entities = list(ent_lst['Entity'].str.strip())"
   ],
   "metadata": {
    "collapsed": false
   }
  },
  {
   "cell_type": "markdown",
   "source": [
    "Check if there are new entities, and generate metadata and relations"
   ],
   "metadata": {
    "collapsed": false
   }
  },
  {
   "cell_type": "code",
   "execution_count": null,
   "outputs": [],
   "source": [
    "new_metadata =[]\n",
    "new_relations = []\n",
    "new_entities = []\n",
    "for item in raw_entities:\n",
    "    if item not in entities:\n",
    "        new_entities.append(item)\n",
    "\n",
    "#call the pipeline functions\n",
    "start = 0\n",
    "end = 5\n",
    "while start < len(new_entities):\n",
    "    metadata = get_metadata(start, end, new_entities)\n",
    "    relations = get_relations(start, end, new_entities)\n",
    "\n",
    "    metadata_json = json.loads(metadata)\n",
    "    relations_json = json.loads(relations)\n",
    "    new_metadata.append(metadata_json)\n",
    "    new_relations.extend(relations)"
   ],
   "metadata": {
    "collapsed": false
   }
  },
  {
   "cell_type": "markdown",
   "source": [
    "Fuzzy matching to identify synonyms for the new objects in the KG"
   ],
   "metadata": {
    "collapsed": false
   }
  },
  {
   "cell_type": "code",
   "execution_count": 46,
   "outputs": [],
   "source": [
    "with open('../03_Output/00_GPT KGs/Entities.json', \"r\") as file:\n",
    "    ent = file.read()\n",
    "    all_entities = json.loads(ent)\n",
    "    file.close()"
   ],
   "metadata": {
    "collapsed": false
   }
  },
  {
   "cell_type": "code",
   "execution_count": 76,
   "outputs": [],
   "source": [
    "with open('../03_Output/00_GPT KGs/Relations.json', \"r\") as file:\n",
    "    rel = file.read()\n",
    "    all_relations = json.loads(rel)\n",
    "    file.close()"
   ],
   "metadata": {
    "collapsed": false
   }
  },
  {
   "cell_type": "code",
   "execution_count": 106,
   "outputs": [],
   "source": [
    "metadata_df = pd.DataFrame(all_entities)\n",
    "#updated_entities = pd.concat(entities, ent_lst)\n",
    "relations_df = pd.DataFrame(all_relations)"
   ],
   "metadata": {
    "collapsed": false
   }
  },
  {
   "cell_type": "code",
   "execution_count": 107,
   "outputs": [
    {
     "name": "stdout",
     "output_type": "stream",
     "text": [
      "{'energy efficiency': ['energy efficiency policy', 'energy efficiency programs', 'energy efficiency goals', 'energy efficiency measures', 'energy efficiency targets'], 'renewable energy agencies': ['renewable energy projects', 'renewable energy generation', 'renewable energy mapping', 'renewable energy access', 'renewable energy research', 'renewable energy technologies', 'renewable energy capacity', 'renewable energy sources', 'renewable energy transition', 'renewable energy market', 'renewable energy companies', 'renewable energy adoption', 'renewable energy providers', 'renewable energy standards', 'renewable energy incentives', 'renewable energy performance', 'renewable energy developers', 'renewable energy goals', 'renewable energy experts', 'renewable energy targets'], 'energy markets': ['energy startups', 'energy market', 'energy market barriers'], 'energy poverty indices': ['energy poverty'], 'energy infrastructure services': ['energy infrastructure planning'], 'geospatial information systems': ['geographic information system'], 'internet of energy': ['internet of things'], 'data equity': ['data security', 'data quality'], 'energy entrepreneurship': ['entrepreneurship', 'women entrepreneurs'], 'digital inclusive finance': ['inclusive finance'], 'climate finance mechanisms': ['climate finance programs'], 'community-led solutions': ['community-based energy solutions'], 'energy storage': ['energy waste', 'energy storage capacity', 'energy storage policy', 'energy sector'], 'climate resilience funds': ['climate resilience', 'climate resilience fund', 'climate resilience index'], 'smart metering technologies': ['battery technologies', 'smart metering technology', 'smart grid technologies'], 'just energy transition': ['energy transition', 'clean energy transition', 'energy transition funds', 'democratic energy transition', 'sustainable energy transition', 'energy transition plan', 'energy transition goals'], 'hybrid energy storage systems': ['energy storage systems'], 'resilient infrastructure': ['charging infrastructure', 'hydrogen infrastructure', 'green infrastructure'], 'The UNDP Sustainable Energy Hub': ['sustainable energy hub'], 'renewable energy certificates': ['renewable energy workforce', 'renewable energy startups', 'renewable energy cooperatives', 'energy certificates', 'renewable energy portfolio', 'renewable energy initiatives'], 'energy data analytics': ['energy market analysis', 'data analytics', 'energy analysts'], 'energy resilience': ['energy resilience grants'], 'resilient energy storage systems': ['resilient energy systems'], 'environmental impact assessments': ['environmental impact', 'environmental impact assessment process', 'environmental assessment'], 'offshore renewable energy': ['marine renewable energy', 'renewable energy'], 'traditional energy technologies': ['clean energy technologies'], 'energy cooperatives': ['energy companies'], 'Paris Agreement Goals': ['paris agreement'], 'energy for smallholder farmers': ['smallholder farmers'], 'gender mainstreaming': ['gender mainstreaming program', 'gender mainstreaming strategy', 'gender mainstreaming programs'], 'gender disparities in energy': ['gender disparities'], 'public-private partnerships': ['public-private partnership'], 'climate adaptation strategies': ['climate adaptation'], 'energy subsisides reform': ['energy subsidy programs'], 'community-based energy resilience programs': ['community-based climate resilience projects'], 'regional energy organizations': ['renewable energy organization'], 'smart energy contracts': ['smart contracts'], 'foundational energy infrastructure': ['renewable energy infrastructure'], 'social protection': ['financial protection'], 'green buildings': ['resilience building'], 'energy diplomacy': ['energy policy'], 'electrification planning': ['electrification'], 'energy democracy': ['energy demand'], 'data sharing agreements': ['data sharing platforms'], 'technology transfer': ['technology transfer programs'], 'intergenerational equity': ['intergenerational justice'], 'indigenous land rights': ['indigenous rights'], 'traditional ecological knowledge': ['traditional knowledge'], 'carbon offset programs': ['carbon offsetting programs'], 'energy and modernization': ['grid modernization'], 'circular economy': ['circular economy solution', 'circular economy goals'], 'gasification': ['gasification plants'], 'cogeneration': ['power generation'], 'battery recycling': ['battery recycling program'], 'Energy For Development': ['energy policy development'], 'blue carbon': ['blue carbon funds'], 'data sovereignty': ['digital sovereignty'], 'digital cities': ['digital divide'], 'energy poverty alleviation': ['energy poverty reduction']}\n"
     ]
    }
   ],
   "source": [
    "# Run the loop to compare each object in relations with existing entities,\n",
    "# If the object doesn't exist, store it as a synonym for the matching entity\n",
    "\n",
    "synonyms = {}\n",
    "objects = relations_df['Object']\n",
    "\n",
    "for obj in objects:\n",
    "    if obj.lower() not in entities:\n",
    "        ratio_list = []\n",
    "        ratio_list.extend(fuzz.ratio(obj.lower(), entity.lower()) for entity in entities)\n",
    "        score = max(ratio_list)\n",
    "        index = ratio_list.index(score)\n",
    "        match = entities[index]\n",
    "        #print(\"Object: \" + obj + \" || Match: \" + match + \" || Score: \" + str(score))\n",
    "\n",
    "        if score > 75 and score != 100:\n",
    "            if match in synonyms:\n",
    "                if obj.lower() not in synonyms[match]:\n",
    "                    synonyms[match].append(obj.lower())\n",
    "            else:\n",
    "                synonyms[match] = [obj.lower()]\n",
    "\n",
    "print(synonyms)\n"
   ],
   "metadata": {
    "collapsed": false
   }
  },
  {
   "cell_type": "code",
   "execution_count": 108,
   "outputs": [],
   "source": [
    "metadata_df['Synonyms'] = \"\"\n",
    "metadata_df['Synonyms'] = ent_lst['Entity'].map(synonyms).fillna(metadata_df['Synonyms'])"
   ],
   "metadata": {
    "collapsed": false
   }
  },
  {
   "cell_type": "code",
   "execution_count": 110,
   "outputs": [
    {
     "name": "stdout",
     "output_type": "stream",
     "text": [
      "                             Entity  \\\n",
      "0                    digital cities   \n",
      "1                   data ecosystems   \n",
      "2                       data equity   \n",
      "3    AI for smart grid optimization   \n",
      "4                  digital literacy   \n",
      "..                              ...   \n",
      "198               carbon neutrality   \n",
      "199                     blue carbon   \n",
      "200            passive solar design   \n",
      "201                vertical funding   \n",
      "202            energy project cycle   \n",
      "\n",
      "                                           Description    Category  \\\n",
      "0    A concept that refers to the use of digital te...  Technology   \n",
      "1    Refers to the interconnected network of indivi...  Technology   \n",
      "2    The principle of ensuring fair and equal acces...      Social   \n",
      "3    The application of artificial intelligence tec...  Technology   \n",
      "4    The ability to use digital technologies and to...       Skill   \n",
      "..                                                 ...         ...   \n",
      "198  Carbon neutrality refers to achieving a balanc...      Policy   \n",
      "199  Blue carbon refers to the carbon stored in coa...      Policy   \n",
      "200  A design approach that utilizes the sun's ener...  Technology   \n",
      "201  A funding mechanism that focuses on specific s...     Finance   \n",
      "202  The stages involved in the development and imp...  Technology   \n",
      "\n",
      "                                                  Tags   Dimension Acronym  \\\n",
      "0    Smart Cities; Urban Development; Digital Trans...  Technology           \n",
      "1    Data Sharing; Data Collaboration; Data Governance  Technology           \n",
      "2            Data Access; Data Inclusion; Data Justice      Social           \n",
      "3    Artificial Intelligence; Smart Grids; Energy O...  Technology  AI-SGO   \n",
      "4    Digital Skills; Technology Literacy; Digital E...      Social           \n",
      "..                                                 ...         ...     ...   \n",
      "198          Carbon Neutrality; Climate Change; Policy      Social           \n",
      "199            Blue Carbon; Coastal Ecosystems; Policy      Social           \n",
      "200  Renewable Energy; Building Design; Energy Effi...      Energy           \n",
      "201               Investment; Funding; Sector-specific    Economic           \n",
      "202  Project Management; Energy Planning; Implement...      Energy           \n",
      "\n",
      "    Importance                     Synonyms  \n",
      "0          3.0               digital divide  \n",
      "1          2.0                               \n",
      "2          2.0  data security; data quality  \n",
      "3          4.0                               \n",
      "4          3.0                               \n",
      "..         ...                          ...  \n",
      "198        4.0                               \n",
      "199        3.0            blue carbon funds  \n",
      "200        3.0                               \n",
      "201        2.0                               \n",
      "202        2.0                               \n",
      "\n",
      "[203 rows x 8 columns]\n"
     ]
    }
   ],
   "source": [
    "metadata_df.fillna('', inplace=True)\n",
    "if metadata_df['Tags'] is not None or metadata_df['Synonyms'] is not None:\n",
    "    metadata_df['Tags'] = metadata_df['Tags'].apply(lambda x: '; '.join(x))\n",
    "    metadata_df['Synonyms'] = metadata_df['Synonyms'].apply(lambda x: '; '.join(x))\n",
    "print (metadata_df)"
   ],
   "metadata": {
    "collapsed": false
   }
  },
  {
   "cell_type": "code",
   "execution_count": 112,
   "outputs": [],
   "source": [
    "metadata_df.to_csv('../03_Output/00_GPT KGs/Entities.csv', sep=';', index=False)\n",
    "json_entities = json.dumps(json.loads(metadata_df.to_json(orient=\"records\")), indent = 2)\n",
    "# Writing the entities to json file\n",
    "\n",
    "with open('../03_Output/00_GPT KGs/Entities.json', \"w\") as output_file:\n",
    "    output_file.write(json_entities)\n",
    "    output_file.close()"
   ],
   "metadata": {
    "collapsed": false
   }
  },
  {
   "cell_type": "markdown",
   "source": [
    "# Write the relations and entities to json and csv"
   ],
   "metadata": {
    "collapsed": false
   }
  },
  {
   "cell_type": "code",
   "execution_count": null,
   "outputs": [],
   "source": [
    "metadata_df = pd.DataFrame(metadata_json)\n",
    "\n",
    "metadata_df['Tags'] = metadata_df['Tags'].apply(lambda x: '; '.join(x))\n",
    "metadata_df['Synonyms'] = metadata_df['Synonyms'].apply(lambda x: '; '.join(x))\n",
    "\n",
    "final_df = pd.merge(raw_entities, metadata_df, on='Entity', how='left')\n",
    "final_df.fillna('', inplace=True)\n",
    "final_df.to_csv('../03_Output/00_GPT KGs/Entities.csv', mode='a', sep=',', index=False, header = False)"
   ],
   "metadata": {
    "collapsed": false
   }
  },
  {
   "cell_type": "code",
   "execution_count": null,
   "outputs": [],
   "source": [
    "json_entities = json.dumps(metadata_json, indent = 2)\n",
    "\n",
    "# Get the current json files and append the new entities\n",
    "with open('../03_Output/00_GPT KGs/Entities.json', \"r\") as file:\n",
    "    ent = file.read()\n",
    "    all_entities = json.loads(ent)\n",
    "    file.close()\n",
    "\n",
    "all_entities.extend(metadata_json)\n",
    "metadata_json = json.dumps(all_entities, indent=2)\n",
    "\n",
    "with open('../03_Output/00_GPT KGs/Entities.json', \"w\") as output_file:\n",
    "    output_file.write(metadata_json)\n",
    "    output_file.close()"
   ],
   "metadata": {
    "collapsed": false
   }
  },
  {
   "cell_type": "code",
   "execution_count": null,
   "outputs": [],
   "source": [
    "relations_df.fillna('', inplace=True)\n",
    "relations_df.to_csv('../03_Output/00_GPT KGs/Relations.csv', mode='a', sep=',', index=False, header = False)"
   ],
   "metadata": {
    "collapsed": false
   }
  },
  {
   "cell_type": "code",
   "execution_count": 10,
   "outputs": [],
   "source": [
    "with open('../03_Output/00_GPT KGs/Relations.json', \"r\") as file:\n",
    "    rel = file.read()\n",
    "    all_relations = json.loads(rel)\n",
    "    file.close()"
   ],
   "metadata": {
    "collapsed": false
   }
  },
  {
   "cell_type": "code",
   "execution_count": 9,
   "outputs": [],
   "source": [
    "all_relations.extend(relations_json)\n",
    "json_relations = json.dumps(all_relations, indent=2)\n",
    "\n",
    "with open('../03_Output/00_GPT KGs/Relations.json', \"w\") as output_file:\n",
    "    output_file.write(json_relations)\n",
    "    output_file.close()"
   ],
   "metadata": {
    "collapsed": false
   }
  },
  {
   "cell_type": "markdown",
   "source": [
    "# 02: (Optional) Identify any files with missing relations and fill them"
   ],
   "metadata": {
    "collapsed": false
   }
  },
  {
   "cell_type": "code",
   "execution_count": 37,
   "outputs": [],
   "source": [
    "path = '../03_Output/01_Auto KGs/00_Current Versions'\n",
    "files = os.listdir(path)"
   ],
   "metadata": {
    "collapsed": false
   }
  },
  {
   "cell_type": "code",
   "execution_count": 38,
   "outputs": [
    {
     "name": "stdout",
     "output_type": "stream",
     "text": [
      "blue economy.json\n",
      "internet of energy.json\n",
      "decentralized energy systems.json\n",
      "Energy For Development.json\n",
      "free prior and informed consent.json\n",
      "technology transfer.json\n",
      "multi-stakeholder partnerships.json\n",
      "pumped hydro storage.json\n",
      "digital twins.json\n",
      "land use planning.json\n",
      "reliance of fuel imports.json\n",
      "energy infrastructure services.json\n",
      "appropriate and independent oversight.json\n",
      "hybrid energy storage systems.json\n",
      "[{'Subject': 'hybrid energy storage systems', 'Relation': 'implements', 'Object': 'energy storage technologies', 'Description': 'Hybrid energy storage systems implement various energy storage technologies to optimize energy usage and improve efficiency.', 'Importance': 4}, {'Subject': 'hybrid energy storage systems', 'Relation': 'funds', 'Object': 'research and development', 'Description': 'Hybrid energy storage systems provide funding for research and development of new energy storage technologies and solutions.', 'Importance': 3}, {'Subject': 'hybrid energy storage systems', 'Relation': 'focuses_on', 'Object': 'renewable energy integration', 'Description': 'Hybrid energy storage systems focus on integrating renewable energy sources into the grid to enhance sustainability and reliability.', 'Importance': 4}, {'Subject': 'hybrid energy storage systems', 'Relation': 'in', 'Object': 'smart grid infrastructure', 'Description': 'Hybrid energy storage systems play a crucial role in the implementation of smart grid infrastructure for efficient energy management.', 'Importance': 4}, {'Subject': 'hybrid energy storage systems', 'Relation': 'partners_with', 'Object': 'utility companies', 'Description': 'Hybrid energy storage systems collaborate and partner with utility companies to enhance grid stability and support renewable energy integration.', 'Importance': 3}, {'Subject': 'hybrid energy storage systems', 'Relation': 'contributes_to', 'Object': 'grid resilience', 'Description': 'Hybrid energy storage systems contribute to grid resilience by providing backup power and stabilizing the grid during peak demand periods.', 'Importance': 4}, {'Subject': 'hybrid energy storage systems', 'Relation': 'monitors', 'Object': 'energy consumption', 'Description': 'Hybrid energy storage systems monitor energy consumption patterns to optimize energy usage and identify areas for improvement.', 'Importance': 3}, {'Subject': 'hybrid energy storage systems', 'Relation': 'targets', 'Object': 'reducing carbon emissions', 'Description': 'Hybrid energy storage systems target the reduction of carbon emissions by enabling the integration of renewable energy sources and reducing reliance on fossil fuels.', 'Importance': 4}, {'Subject': 'hybrid energy storage systems', 'Relation': 'addresses', 'Object': 'intermittency of renewable energy', 'Description': 'Hybrid energy storage systems address the intermittency of renewable energy sources by storing excess energy and providing a stable power supply.', 'Importance': 4}]\n",
      "vertical funding.json\n",
      "national digital strategy.json\n",
      "indigenous energy mapping.json\n",
      "critical minerals.json\n",
      "sustainable energy and dependency theory.json\n",
      "disparities in renewables investment.json\n",
      "energy resilience.json\n",
      "COP28 Targets.json\n",
      "energy demand from urbanization.json\n",
      "traditional energy technologies.json\n",
      "resilient energy storage systems.json\n",
      "energy forecasting.json\n",
      "participatory governance.json\n",
      "indigenous energy sovereignty.json\n",
      "energy data repositories.json\n",
      "energy subsisides reform.json\n",
      "ecological modernization.json\n",
      "gender disparities in energy.json\n",
      "[{'Subject': 'gender disparities in energy', 'Relation': 'implements', 'Object': 'gender mainstreaming', 'Description': 'Gender disparities in energy can be addressed by implementing gender mainstreaming strategies that ensure equal access and benefits for all genders.', 'Importance': 4}, {'Subject': 'gender disparities in energy', 'Relation': 'funds', 'Object': 'gender-focused energy projects', 'Description': 'To reduce gender disparities in energy, funding can be allocated to support gender-focused energy projects that empower women and marginalized groups.', 'Importance': 3}, {'Subject': 'gender disparities in energy', 'Relation': 'focuses_on', 'Object': 'gender-responsive energy policies', 'Description': 'Addressing gender disparities in energy requires a focus on developing gender-responsive energy policies that consider the specific needs and challenges faced by different genders.', 'Importance': 4}, {'Subject': 'gender disparities in energy', 'Relation': 'in', 'Object': 'energy sector', 'Description': 'Gender disparities exist in the energy sector, where women are underrepresented in decision-making roles and face barriers to accessing energy services and opportunities.', 'Importance': 4}, {'Subject': 'gender disparities in energy', 'Relation': 'partners_with', 'Object': \"women's empowerment organizations\", 'Description': \"To address gender disparities in energy, partnerships can be formed with women's empowerment organizations to promote gender equality and women's participation in the energy sector.\", 'Importance': 3}, {'Subject': 'gender disparities in energy', 'Relation': 'contributes_to', 'Object': 'sustainable development goals', 'Description': 'Reducing gender disparities in energy is crucial for achieving the sustainable development goals, as gender equality is a key component of sustainable development.', 'Importance': 4}, {'Subject': 'gender disparities in energy', 'Relation': 'monitors', 'Object': 'gender data in the energy sector', 'Description': 'Monitoring gender data in the energy sector is important to identify and address gender disparities, and to track progress towards gender equality in the energy sector.', 'Importance': 3}, {'Subject': 'gender disparities in energy', 'Relation': 'targets', 'Object': 'gender equality in energy access', 'Description': 'Setting targets for achieving gender equality in energy access can help drive efforts to reduce gender disparities and ensure equal access to energy services for all genders.', 'Importance': 4}, {'Subject': 'gender disparities in energy', 'Relation': 'addresses', 'Object': 'gender-based violence in the energy sector', 'Description': 'Addressing gender disparities in energy also involves addressing gender-based violence in the energy sector, which disproportionately affects women and girls.', 'Importance': 3}]\n",
      "data privacy and security.json\n",
      "[{'Subject': 'data privacy and security', 'Relation': 'implements', 'Object': 'privacy regulations', 'Description': 'Data privacy and security implements privacy regulations to protect personal information from unauthorized access and use.', 'Importance': 4}, {'Subject': 'data privacy and security', 'Relation': 'funds', 'Object': 'cybersecurity research', 'Description': 'Data privacy and security funds cybersecurity research to develop advanced technologies and strategies for protecting data from cyber threats.', 'Importance': 3}, {'Subject': 'data privacy and security', 'Relation': 'focuses_on', 'Object': 'data encryption', 'Description': 'Data privacy and security focuses on data encryption to ensure that sensitive information is securely stored and transmitted.', 'Importance': 4}, {'Subject': 'data privacy and security', 'Relation': 'in', 'Object': 'information technology', 'Description': 'Data privacy and security is an integral part of information technology systems to safeguard data from unauthorized access and breaches.', 'Importance': 4}, {'Subject': 'data privacy and security', 'Relation': 'partners_with', 'Object': 'government agencies', 'Description': 'Data privacy and security partners with government agencies to develop and enforce policies and regulations for protecting data privacy.', 'Importance': 3}, {'Subject': 'data privacy and security', 'Relation': 'contributes_to', 'Object': 'trust in digital services', 'Description': 'Data privacy and security contributes to building trust in digital services by ensuring the confidentiality and integrity of personal data.', 'Importance': 4}, {'Subject': 'data privacy and security', 'Relation': 'monitors', 'Object': 'data breaches', 'Description': 'Data privacy and security monitors data breaches to identify vulnerabilities and take necessary measures to prevent future incidents.', 'Importance': 3}, {'Subject': 'data privacy and security', 'Relation': 'targets', 'Object': 'cybercriminals', 'Description': 'Data privacy and security targets cybercriminals to detect and mitigate their activities that pose a threat to data privacy and security.', 'Importance': 4}, {'Subject': 'data privacy and security', 'Relation': 'addresses', 'Object': 'data protection laws', 'Description': \"Data privacy and security addresses data protection laws to ensure compliance and protect individuals' rights regarding their personal data.\", 'Importance': 4}]\n",
      "climate finance mechanisms.json\n",
      "gas hydrates.json\n",
      "data ecosystems.json\n",
      "least cost power development plan.json\n",
      "[{'Subject': 'least cost power development plan', 'Relation': 'implements', 'Object': 'energy efficiency measures', 'Description': 'The least cost power development plan implements energy efficiency measures to optimize energy consumption and reduce costs.', 'Importance': 4}, {'Subject': 'least cost power development plan', 'Relation': 'funds', 'Object': 'renewable energy projects', 'Description': 'The least cost power development plan provides funding for renewable energy projects to promote sustainable energy generation.', 'Importance': 3}, {'Subject': 'least cost power development plan', 'Relation': 'focuses_on', 'Object': 'clean energy technologies', 'Description': 'The least cost power development plan focuses on the adoption and development of clean energy technologies for sustainable energy production.', 'Importance': 4}, {'Subject': 'least cost power development plan', 'Relation': 'in', 'Object': 'alignment with national energy goals', 'Description': 'The least cost power development plan is developed in alignment with the national energy goals to ensure a coordinated and integrated approach towards sustainable energy development.', 'Importance': 4}, {'Subject': 'least cost power development plan', 'Relation': 'partners_with', 'Object': 'private sector companies', 'Description': 'The least cost power development plan partners with private sector companies to leverage their expertise and resources for sustainable energy projects.', 'Importance': 3}, {'Subject': 'least cost power development plan', 'Relation': 'contributes_to', 'Object': 'climate change mitigation', 'Description': 'The least cost power development plan contributes to climate change mitigation by promoting the use of renewable energy sources and reducing greenhouse gas emissions.', 'Importance': 4}, {'Subject': 'least cost power development plan', 'Relation': 'monitors', 'Object': 'energy consumption patterns', 'Description': 'The least cost power development plan monitors energy consumption patterns to identify areas for improvement and optimize energy usage.', 'Importance': 3}, {'Subject': 'least cost power development plan', 'Relation': 'targets', 'Object': 'energy access for all', 'Description': 'The least cost power development plan targets universal energy access to ensure that everyone has access to reliable and affordable energy services.', 'Importance': 4}, {'Subject': 'least cost power development plan', 'Relation': 'addresses', 'Object': 'energy poverty', 'Description': 'The least cost power development plan addresses energy poverty by implementing initiatives to provide affordable and reliable energy solutions to marginalized communities.', 'Importance': 4}]\n",
      "transparency and accountability mechanisms.json\n",
      "environmental impact assessments.json\n",
      "water-food-energy nexus.json\n",
      "remote sensing.json\n",
      "climate adaptation strategies.json\n",
      "project gender markers.json\n",
      "energy project cycle.json\n",
      "energy modeling.json\n",
      "energy services in displacement settings.json\n",
      "integrating traditional knowledge.json\n",
      "energy market and trade organizations.json\n",
      "biomass.json\n",
      "cogeneration.json\n",
      "energy entrepreneurship.json\n",
      "energy for smallholder farmers.json\n",
      "national statistical offices.json\n",
      "marginalized communities.json\n",
      "energy ministries.json\n",
      "data sovereignty.json\n",
      "[{'Subject': 'data sovereignty', 'Relation': 'implements', 'Object': 'data protection regulations', 'Description': 'Data sovereignty implements data protection regulations to ensure the privacy and security of data.', 'Importance': 4}, {'Subject': 'data sovereignty', 'Relation': 'funds', 'Object': 'data localization initiatives', 'Description': 'Data sovereignty funds data localization initiatives to promote local storage and processing of data.', 'Importance': 3}, {'Subject': 'data sovereignty', 'Relation': 'focuses_on', 'Object': 'data governance', 'Description': 'Data sovereignty focuses on data governance to establish rules and policies for data management.', 'Importance': 4}, {'Subject': 'data sovereignty', 'Relation': 'in', 'Object': 'national legislation', 'Description': \"Data sovereignty is embedded in national legislation to assert control over data within a country's borders.\", 'Importance': 4}, {'Subject': 'data sovereignty', 'Relation': 'partners_with', 'Object': 'cybersecurity agencies', 'Description': 'Data sovereignty partners with cybersecurity agencies to enhance data protection and prevent cyber threats.', 'Importance': 3}, {'Subject': 'data sovereignty', 'Relation': 'contributes_to', 'Object': 'digital sovereignty', 'Description': 'Data sovereignty contributes to digital sovereignty by ensuring control and ownership of data within a country.', 'Importance': 4}, {'Subject': 'data sovereignty', 'Relation': 'monitors', 'Object': 'data flows', 'Description': 'Data sovereignty monitors data flows to ensure compliance with data protection regulations and prevent unauthorized transfers.', 'Importance': 3}, {'Subject': 'data sovereignty', 'Relation': 'targets', 'Object': 'cross-border data transfers', 'Description': 'Data sovereignty targets cross-border data transfers to regulate the movement of data across national borders.', 'Importance': 3}, {'Subject': 'data sovereignty', 'Relation': 'addresses', 'Object': 'data privacy concerns', 'Description': 'Data sovereignty addresses data privacy concerns by establishing regulations and safeguards for personal data.', 'Importance': 4}]\n",
      "renewable energy in water services.json\n",
      "battery recycling.json\n",
      "just energy transition.json\n",
      "digital ecosystems.json\n",
      "energy governance.json\n",
      "renewable energy certificates.json\n",
      "digital literacy.json\n",
      "peer-to-peer lending platforms.json\n",
      "data equity.json\n",
      "energy end-use sectors.json\n",
      "decarbonization.json\n",
      "traditional ecological knowledge.json\n",
      "energy access for informal settlements.json\n",
      "human development index.json\n",
      "un agencies.json\n",
      "climate change scenario analysis.json\n",
      "[{'Subject': 'climate change scenario analysis', 'Relation': 'implements', 'Object': 'sustainable energy projects', 'Description': 'Climate change scenario analysis implements sustainable energy projects to mitigate the impacts of climate change.', 'Importance': 4}, {'Subject': 'climate change scenario analysis', 'Relation': 'funds', 'Object': 'research on renewable energy', 'Description': 'Climate change scenario analysis funds research on renewable energy to develop innovative solutions for sustainable energy.', 'Importance': 3}, {'Subject': 'climate change scenario analysis', 'Relation': 'focuses_on', 'Object': 'energy transition', 'Description': 'Climate change scenario analysis focuses on the energy transition towards renewable and clean energy sources.', 'Importance': 4}, {'Subject': 'climate change scenario analysis', 'Relation': 'in', 'Object': 'sustainable energy planning', 'Description': 'Climate change scenario analysis plays a crucial role in sustainable energy planning for a low-carbon future.', 'Importance': 4}, {'Subject': 'climate change scenario analysis', 'Relation': 'partners_with', 'Object': 'energy research institutions', 'Description': 'Climate change scenario analysis partners with energy research institutions to collaborate on sustainable energy projects.', 'Importance': 3}, {'Subject': 'climate change scenario analysis', 'Relation': 'contributes_to', 'Object': 'policy development', 'Description': 'Climate change scenario analysis contributes to policy development by providing insights on the impact of climate change on energy systems.', 'Importance': 4}, {'Subject': 'climate change scenario analysis', 'Relation': 'monitors', 'Object': 'energy consumption patterns', 'Description': 'Climate change scenario analysis monitors energy consumption patterns to identify areas for improvement and energy efficiency measures.', 'Importance': 3}, {'Subject': 'climate change scenario analysis', 'Relation': 'targets', 'Object': 'reducing greenhouse gas emissions', 'Description': 'Climate change scenario analysis targets the reduction of greenhouse gas emissions through sustainable energy strategies.', 'Importance': 4}, {'Subject': 'climate change scenario analysis', 'Relation': 'addresses', 'Object': 'energy poverty', 'Description': 'Climate change scenario analysis addresses energy poverty by promoting access to affordable and clean energy for all.', 'Importance': 4}]\n",
      "The UNDP Sustainable Energy Hub.json\n",
      "energy efficiency.json\n",
      "energy and modernization.json\n",
      "hydrogen for development.json\n",
      "AI for smart grid optimization.json\n",
      "[{'Subject': 'AI for smart grid optimization', 'Relation': 'implements', 'Object': 'smart grid technology', 'Description': 'AI for smart grid optimization implements smart grid technology to improve energy efficiency and grid reliability.', 'Importance': 4}, {'Subject': 'AI for smart grid optimization', 'Relation': 'funds', 'Object': 'research and development', 'Description': 'AI for smart grid optimization funds research and development projects to advance smart grid technologies.', 'Importance': 3}, {'Subject': 'AI for smart grid optimization', 'Relation': 'focuses_on', 'Object': 'energy optimization', 'Description': 'AI for smart grid optimization focuses on energy optimization to reduce energy waste and improve grid performance.', 'Importance': 4}, {'Subject': 'AI for smart grid optimization', 'Relation': 'partners_with', 'Object': 'utility companies', 'Description': 'AI for smart grid optimization partners with utility companies to implement AI solutions for grid optimization.', 'Importance': 3}, {'Subject': 'AI for smart grid optimization', 'Relation': 'contributes_to', 'Object': 'renewable energy integration', 'Description': 'AI for smart grid optimization contributes to the integration of renewable energy sources into the grid.', 'Importance': 4}, {'Subject': 'AI for smart grid optimization', 'Relation': 'monitors', 'Object': 'grid performance', 'Description': 'AI for smart grid optimization monitors grid performance to identify areas for improvement and optimization.', 'Importance': 3}, {'Subject': 'AI for smart grid optimization', 'Relation': 'targets', 'Object': 'energy efficiency', 'Description': 'AI for smart grid optimization targets energy efficiency improvements through advanced optimization algorithms.', 'Importance': 4}, {'Subject': 'AI for smart grid optimization', 'Relation': 'addresses', 'Object': 'grid stability', 'Description': 'AI for smart grid optimization addresses grid stability issues through real-time monitoring and control.', 'Importance': 3}, {'Subject': 'AI for smart grid optimization', 'Relation': 'employs', 'Object': 'machine learning algorithms', 'Description': 'AI for smart grid optimization employs machine learning algorithms to analyze grid data and optimize energy flow.', 'Importance': 4}]\n",
      "energy and health.json\n",
      "data governance frameworks.json\n",
      "[{'Subject': 'data governance frameworks', 'Relation': 'implements', 'Object': 'sustainable energy policies', 'Description': 'Data governance frameworks implement sustainable energy policies to ensure effective management and utilization of energy data.', 'Importance': 4}, {'Subject': 'data governance frameworks', 'Relation': 'funds', 'Object': 'research and development projects', 'Description': 'Data governance frameworks provide funding for research and development projects related to sustainable energy.', 'Importance': 3}, {'Subject': 'data governance frameworks', 'Relation': 'focuses_on', 'Object': 'data privacy and security', 'Description': 'Data governance frameworks focus on ensuring data privacy and security in the context of sustainable energy.', 'Importance': 4}, {'Subject': 'data governance frameworks', 'Relation': 'in', 'Object': 'collaboration with energy regulators', 'Description': 'Data governance frameworks work in collaboration with energy regulators to ensure compliance with data management standards in the energy sector.', 'Importance': 3}, {'Subject': 'data governance frameworks', 'Relation': 'partners_with', 'Object': 'technology companies', 'Description': 'Data governance frameworks partner with technology companies to develop innovative solutions for sustainable energy data management.', 'Importance': 3}, {'Subject': 'data governance frameworks', 'Relation': 'contributes_to', 'Object': 'transparency in energy data', 'Description': 'Data governance frameworks contribute to the transparency of energy data by establishing standards and protocols for data sharing.', 'Importance': 4}, {'Subject': 'data governance frameworks', 'Relation': 'monitors', 'Object': 'data quality', 'Description': 'Data governance frameworks monitor the quality of energy data to ensure its accuracy and reliability for decision-making in sustainable energy.', 'Importance': 4}, {'Subject': 'data governance frameworks', 'Relation': 'targets', 'Object': 'data interoperability', 'Description': 'Data governance frameworks set targets for achieving data interoperability in the sustainable energy sector to enable seamless data exchange and integration.', 'Importance': 3}, {'Subject': 'data governance frameworks', 'Relation': 'addresses', 'Object': 'data ethics', 'Description': 'Data governance frameworks address data ethics considerations in the collection, storage, and use of energy data for sustainable energy purposes.', 'Importance': 4}]\n",
      "circular economy.json\n",
      "open source energy modeling tools.json\n",
      "[{'Subject': 'open source energy modeling tools', 'Relation': 'implements', 'Object': 'energy efficiency measures', 'Description': 'Open source energy modeling tools implement energy efficiency measures to optimize energy consumption and reduce waste.', 'Importance': 4}, {'Subject': 'open source energy modeling tools', 'Relation': 'funds', 'Object': 'research and development', 'Description': 'Open source energy modeling tools provide funding for research and development in the field of sustainable energy.', 'Importance': 3}, {'Subject': 'open source energy modeling tools', 'Relation': 'focuses_on', 'Object': 'renewable energy sources', 'Description': 'Open source energy modeling tools focus on analyzing and optimizing the use of renewable energy sources.', 'Importance': 4}, {'Subject': 'open source energy modeling tools', 'Relation': 'in', 'Object': 'collaboration with universities', 'Description': 'Open source energy modeling tools are developed in collaboration with universities to ensure scientific rigor and accuracy.', 'Importance': 3}, {'Subject': 'open source energy modeling tools', 'Relation': 'partners_with', 'Object': 'energy companies', 'Description': 'Open source energy modeling tools partner with energy companies to exchange data and insights for better energy management.', 'Importance': 3}, {'Subject': 'open source energy modeling tools', 'Relation': 'contributes_to', 'Object': 'policy-making', 'Description': 'Open source energy modeling tools contribute to policy-making by providing data-driven insights and analysis.', 'Importance': 4}, {'Subject': 'open source energy modeling tools', 'Relation': 'monitors', 'Object': 'energy consumption', 'Description': 'Open source energy modeling tools monitor energy consumption patterns to identify areas for improvement and optimization.', 'Importance': 4}, {'Subject': 'open source energy modeling tools', 'Relation': 'targets', 'Object': 'energy efficiency improvements', 'Description': 'Open source energy modeling tools target energy efficiency improvements by identifying and implementing energy-saving measures.', 'Importance': 4}, {'Subject': 'open source energy modeling tools', 'Relation': 'addresses', 'Object': 'climate change mitigation', 'Description': 'Open source energy modeling tools address climate change mitigation by optimizing energy systems and reducing greenhouse gas emissions.', 'Importance': 4}]\n",
      "indigenous land rights.json\n",
      "South-South and triangular cooperation.json\n",
      "SDG7 targets.json\n",
      "[{'Subject': 'SDG7 targets', 'Relation': 'implements', 'Object': 'energy efficiency policy', 'Description': 'SDG7 targets implements energy efficiency policy to promote sustainable energy practices.', 'Importance': 4}, {'Subject': 'SDG7 targets', 'Relation': 'funds', 'Object': 'renewable energy projects', 'Description': 'SDG7 targets funds renewable energy projects to support the transition to sustainable energy sources.', 'Importance': 4}, {'Subject': 'SDG7 targets', 'Relation': 'focuses_on', 'Object': 'access to clean energy', 'Description': 'SDG7 targets focuses on improving access to clean energy for all communities.', 'Importance': 3}, {'Subject': 'SDG7 targets', 'Relation': 'in', 'Object': 'sustainable cities and communities', 'Description': 'SDG7 targets are in alignment with the goal of creating sustainable cities and communities.', 'Importance': 3}, {'Subject': 'SDG7 targets', 'Relation': 'partners_with', 'Object': 'private sector', 'Description': 'SDG7 targets partners with the private sector to drive innovation and investment in sustainable energy solutions.', 'Importance': 4}, {'Subject': 'SDG7 targets', 'Relation': 'contributes_to', 'Object': 'climate action', 'Description': 'SDG7 targets contribute to climate action by promoting the use of renewable energy and reducing greenhouse gas emissions.', 'Importance': 4}, {'Subject': 'SDG7 targets', 'Relation': 'monitors', 'Object': 'energy consumption', 'Description': 'SDG7 targets monitor energy consumption to track progress towards sustainable energy goals.', 'Importance': 3}, {'Subject': 'SDG7 targets', 'Relation': 'targets', 'Object': 'universal access to affordable, reliable, and modern energy services', 'Description': 'SDG7 targets aim to achieve universal access to affordable, reliable, and modern energy services.', 'Importance': 4}, {'Subject': 'SDG7 targets', 'Relation': 'addresses', 'Object': 'energy poverty', 'Description': 'SDG7 targets address energy poverty by promoting access to clean and affordable energy sources.', 'Importance': 3}]\n",
      "green job creation.json\n",
      "climate-smart agriculture.json\n",
      "sex-disaggregated data.json\n",
      "cybersecurity policy.json\n",
      "energy scenario analysis.json\n",
      "enhanced energy recovery.json\n",
      "energy poverty alleviation.json\n",
      "[{'Subject': 'energy poverty alleviation', 'Relation': 'implements', 'Object': 'sustainable energy projects', 'Description': 'Energy poverty alleviation implements sustainable energy projects to provide access to clean and affordable energy for marginalized communities.', 'Importance': 4}, {'Subject': 'energy poverty alleviation', 'Relation': 'funds', 'Object': 'renewable energy initiatives', 'Description': 'Energy poverty alleviation funds renewable energy initiatives to support the transition towards sustainable and clean energy sources.', 'Importance': 3}, {'Subject': 'energy poverty alleviation', 'Relation': 'focuses_on', 'Object': 'energy access', 'Description': 'Energy poverty alleviation focuses on improving energy access for disadvantaged populations to reduce energy poverty.', 'Importance': 4}, {'Subject': 'energy poverty alleviation', 'Relation': 'in', 'Object': 'developing countries', 'Description': 'Energy poverty alleviation operates in developing countries where energy poverty is prevalent and in need of urgent attention.', 'Importance': 3}, {'Subject': 'energy poverty alleviation', 'Relation': 'partners_with', 'Object': 'non-profit organizations', 'Description': 'Energy poverty alleviation partners with non-profit organizations to leverage resources and expertise in implementing sustainable energy solutions.', 'Importance': 3}, {'Subject': 'energy poverty alleviation', 'Relation': 'contributes_to', 'Object': 'climate change mitigation', 'Description': 'Energy poverty alleviation contributes to climate change mitigation by promoting the use of clean and renewable energy sources.', 'Importance': 4}, {'Subject': 'energy poverty alleviation', 'Relation': 'monitors', 'Object': 'energy consumption', 'Description': 'Energy poverty alleviation monitors energy consumption patterns to identify areas for improvement and optimize energy usage.', 'Importance': 2}, {'Subject': 'energy poverty alleviation', 'Relation': 'targets', 'Object': 'energy efficiency', 'Description': 'Energy poverty alleviation targets energy efficiency measures to reduce energy waste and improve the overall energy performance.', 'Importance': 4}, {'Subject': 'energy poverty alleviation', 'Relation': 'addresses', 'Object': 'energy inequality', 'Description': 'Energy poverty alleviation addresses energy inequality by promoting equal access to clean and affordable energy for all individuals.', 'Importance': 4}]\n",
      "data sharing agreements.json\n",
      "energy tax incentives.json\n",
      "public-private partnerships.json\n",
      "foundational energy infrastructure.json\n",
      "The UNDP SIDS Offer.json\n",
      "Load forecasting and demand-side management.json\n",
      "multi-level governance.json\n",
      "hydroelectricity.json\n",
      "liquefied natural gas.json\n",
      "carbon offset programs.json\n",
      "[{'Subject': 'carbon offset programs', 'Relation': 'implements', 'Object': 'sustainable development goals', 'Description': 'Carbon offset programs implement sustainable development goals to reduce greenhouse gas emissions and promote sustainable practices.', 'Importance': 4}, {'Subject': 'carbon offset programs', 'Relation': 'funds', 'Object': 'renewable energy projects', 'Description': 'Carbon offset programs provide funding for renewable energy projects to support the transition to clean and sustainable energy sources.', 'Importance': 3}, {'Subject': 'carbon offset programs', 'Relation': 'focuses_on', 'Object': 'emission reduction', 'Description': 'Carbon offset programs focus on emission reduction strategies to mitigate the impact of greenhouse gas emissions on climate change.', 'Importance': 4}, {'Subject': 'carbon offset programs', 'Relation': 'in', 'Object': 'climate change mitigation', 'Description': 'Carbon offset programs play a crucial role in climate change mitigation efforts by reducing greenhouse gas emissions and promoting sustainable practices.', 'Importance': 4}, {'Subject': 'carbon offset programs', 'Relation': 'partners_with', 'Object': 'corporate sustainability initiatives', 'Description': 'Carbon offset programs partner with corporate sustainability initiatives to collaborate on emission reduction projects and promote sustainable practices.', 'Importance': 3}, {'Subject': 'carbon offset programs', 'Relation': 'contributes_to', 'Object': 'environmental conservation', 'Description': 'Carbon offset programs contribute to environmental conservation by supporting projects that protect and restore natural ecosystems.', 'Importance': 3}, {'Subject': 'carbon offset programs', 'Relation': 'monitors', 'Object': 'carbon emissions', 'Description': 'Carbon offset programs monitor carbon emissions to ensure accurate measurement and verification of emission reduction efforts.', 'Importance': 2}, {'Subject': 'carbon offset programs', 'Relation': 'targets', 'Object': 'net-zero emissions', 'Description': 'Carbon offset programs set targets for achieving net-zero emissions by supporting projects that reduce and offset greenhouse gas emissions.', 'Importance': 4}, {'Subject': 'carbon offset programs', 'Relation': 'addresses', 'Object': 'climate change', 'Description': 'Carbon offset programs address climate change by promoting sustainable practices and supporting projects that reduce greenhouse gas emissions.', 'Importance': 4}]\n",
      "ocean thermal energy conversion.json\n",
      "renewable energy agencies.json\n",
      "carbon-netural fuel.json\n",
      "[{'Subject': 'carbon-neutral fuel', 'Relation': 'implements', 'Object': 'sustainable transportation', 'Description': 'Carbon-neutral fuel implements sustainable transportation methods that reduce greenhouse gas emissions.', 'Importance': 4}, {'Subject': 'carbon-neutral fuel', 'Relation': 'funds', 'Object': 'research and development', 'Description': 'Carbon-neutral fuel funds research and development projects to advance sustainable energy technologies.', 'Importance': 3}, {'Subject': 'carbon-neutral fuel', 'Relation': 'focuses_on', 'Object': 'reducing carbon emissions', 'Description': 'Carbon-neutral fuel focuses on reducing carbon emissions to mitigate climate change impacts.', 'Importance': 4}, {'Subject': 'carbon-neutral fuel', 'Relation': 'in', 'Object': 'clean energy sector', 'Description': 'Carbon-neutral fuel plays a role in the clean energy sector by providing sustainable fuel alternatives.', 'Importance': 3}, {'Subject': 'carbon-neutral fuel', 'Relation': 'partners_with', 'Object': 'renewable energy companies', 'Description': 'Carbon-neutral fuel partners with renewable energy companies to promote sustainable energy solutions.', 'Importance': 4}, {'Subject': 'carbon-neutral fuel', 'Relation': 'contributes_to', 'Object': 'climate change mitigation', 'Description': 'Carbon-neutral fuel contributes to climate change mitigation efforts by reducing carbon emissions.', 'Importance': 4}, {'Subject': 'carbon-neutral fuel', 'Relation': 'monitors', 'Object': 'carbon footprint', 'Description': 'Carbon-neutral fuel monitors carbon footprint to ensure sustainable energy practices.', 'Importance': 3}, {'Subject': 'carbon-neutral fuel', 'Relation': 'targets', 'Object': 'reducing fossil fuel consumption', 'Description': 'Carbon-neutral fuel targets reducing fossil fuel consumption to promote sustainable energy sources.', 'Importance': 4}, {'Subject': 'carbon-neutral fuel', 'Relation': 'addresses', 'Object': 'environmental concerns', 'Description': 'Carbon-neutral fuel addresses environmental concerns by providing a sustainable energy alternative.', 'Importance': 4}]\n",
      "energy transport systems.json\n",
      "Africa Minigrids Project.json\n",
      "wind energy.json\n",
      "tidal power.json\n",
      "green buildings.json\n",
      "energy diplomacy.json\n",
      "geothermal energy.json\n",
      "geospatial information systems.json\n",
      "technical capacity-building initiatives.json\n",
      "innovative financing.json\n",
      "electrification planning.json\n",
      "[{'Subject': 'electrification planning', 'Relation': 'implements', 'Object': 'sustainable energy projects', 'Description': 'Electrification planning implements sustainable energy projects to ensure access to clean and reliable electricity.', 'Importance': 4}, {'Subject': 'electrification planning', 'Relation': 'funds', 'Object': 'renewable energy initiatives', 'Description': 'Electrification planning funds renewable energy initiatives to promote the adoption of clean energy sources.', 'Importance': 3}, {'Subject': 'electrification planning', 'Relation': 'focuses_on', 'Object': 'energy access', 'Description': 'Electrification planning focuses on improving energy access for underserved communities.', 'Importance': 4}, {'Subject': 'electrification planning', 'Relation': 'in', 'Object': 'rural areas', 'Description': 'Electrification planning is implemented in rural areas to address energy poverty and promote sustainable development.', 'Importance': 4}, {'Subject': 'electrification planning', 'Relation': 'partners_with', 'Object': 'local communities', 'Description': 'Electrification planning partners with local communities to ensure their active participation in decision-making processes.', 'Importance': 3}, {'Subject': 'electrification planning', 'Relation': 'contributes_to', 'Object': 'climate change mitigation', 'Description': 'Electrification planning contributes to climate change mitigation by reducing reliance on fossil fuels and promoting clean energy solutions.', 'Importance': 4}, {'Subject': 'electrification planning', 'Relation': 'monitors', 'Object': 'energy consumption', 'Description': 'Electrification planning monitors energy consumption patterns to identify opportunities for energy efficiency improvements.', 'Importance': 3}, {'Subject': 'electrification planning', 'Relation': 'targets', 'Object': 'universal electricity access', 'Description': 'Electrification planning targets universal electricity access to ensure no one is left behind in accessing modern energy services.', 'Importance': 4}, {'Subject': 'electrification planning', 'Relation': 'addresses', 'Object': 'energy poverty', 'Description': 'Electrification planning addresses energy poverty by providing affordable and reliable electricity to marginalized communities.', 'Importance': 4}]\n",
      "community-led solutions.json\n",
      "[{'Subject': 'community-led solutions', 'Relation': 'implements', 'Object': 'sustainable energy projects', 'Description': 'Community-led solutions implement sustainable energy projects that aim to provide clean and affordable energy to local communities.', 'Importance': 4}, {'Subject': 'community-led solutions', 'Relation': 'funds', 'Object': 'renewable energy initiatives', 'Description': 'Community-led solutions provide funding for renewable energy initiatives to support the transition to sustainable energy sources.', 'Importance': 3}, {'Subject': 'community-led solutions', 'Relation': 'focuses_on', 'Object': 'energy access', 'Description': 'Community-led solutions focus on improving energy access in underserved areas by promoting the use of sustainable energy technologies.', 'Importance': 4}, {'Subject': 'community-led solutions', 'Relation': 'partners_with', 'Object': 'local governments', 'Description': 'Community-led solutions partner with local governments to collaborate on sustainable energy projects and initiatives.', 'Importance': 3}, {'Subject': 'community-led solutions', 'Relation': 'contributes_to', 'Object': 'climate change mitigation', 'Description': 'Community-led solutions contribute to climate change mitigation by promoting the adoption of sustainable energy practices and reducing greenhouse gas emissions.', 'Importance': 4}, {'Subject': 'community-led solutions', 'Relation': 'monitors', 'Object': 'energy consumption', 'Description': 'Community-led solutions monitor energy consumption to identify opportunities for energy efficiency improvements and sustainable energy use.', 'Importance': 3}, {'Subject': 'community-led solutions', 'Relation': 'targets', 'Object': 'energy poverty', 'Description': 'Community-led solutions target energy poverty by implementing sustainable energy solutions that provide reliable and affordable energy access to marginalized communities.', 'Importance': 4}, {'Subject': 'community-led solutions', 'Relation': 'addresses', 'Object': 'environmental sustainability', 'Description': 'Community-led solutions address environmental sustainability by promoting the use of renewable energy sources and reducing reliance on fossil fuels.', 'Importance': 4}, {'Subject': 'community-led solutions', 'Relation': 'employs', 'Object': 'local workforce', 'Description': 'Community-led solutions employ local workforce to support the implementation and maintenance of sustainable energy projects, contributing to local economic development.', 'Importance': 3}]\n",
      "blended finance mechanisms.json\n",
      "[{'Subject': 'blended finance mechanisms', 'Relation': 'implements', 'Object': 'sustainable energy projects', 'Description': 'Blended finance mechanisms implement funding for sustainable energy projects.', 'Importance': 4}, {'Subject': 'blended finance mechanisms', 'Relation': 'funds', 'Object': 'renewable energy initiatives', 'Description': 'Blended finance mechanisms provide funding for renewable energy initiatives.', 'Importance': 3}, {'Subject': 'blended finance mechanisms', 'Relation': 'focuses_on', 'Object': 'clean energy technologies', 'Description': 'Blended finance mechanisms focus on supporting the development and deployment of clean energy technologies.', 'Importance': 4}, {'Subject': 'blended finance mechanisms', 'Relation': 'in', 'Object': 'sustainable energy sector', 'Description': 'Blended finance mechanisms play a role in the sustainable energy sector.', 'Importance': 2}, {'Subject': 'blended finance mechanisms', 'Relation': 'partners_with', 'Object': 'private sector organizations', 'Description': 'Blended finance mechanisms partner with private sector organizations to promote sustainable energy investments.', 'Importance': 4}, {'Subject': 'blended finance mechanisms', 'Relation': 'contributes_to', 'Object': 'energy access', 'Description': 'Blended finance mechanisms contribute to improving energy access in underserved areas.', 'Importance': 3}, {'Subject': 'blended finance mechanisms', 'Relation': 'monitors', 'Object': 'sustainable energy projects', 'Description': 'Blended finance mechanisms monitor the progress and impact of sustainable energy projects.', 'Importance': 3}, {'Subject': 'blended finance mechanisms', 'Relation': 'targets', 'Object': 'renewable energy deployment', 'Description': 'Blended finance mechanisms target increased deployment of renewable energy sources.', 'Importance': 4}, {'Subject': 'blended finance mechanisms', 'Relation': 'addresses', 'Object': 'climate change mitigation', 'Description': 'Blended finance mechanisms address climate change mitigation through investments in sustainable energy.', 'Importance': 4}]\n",
      "Action Opportunities.json\n",
      "social protection.json\n",
      "solar energy.json\n",
      "smart grid optimization.json\n",
      "cultural impact assessments.json\n",
      "passive solar design.json\n",
      "biochar.json\n",
      "digital inclusive finance.json\n",
      "Renewable energy for sustainable tourism.json\n",
      "Paris Agreement Goals.json\n",
      "smart metering technologies.json\n",
      "multilateral development banks.json\n",
      "nationally determined contributions.json\n",
      "power-to-gas systems.json\n",
      "small island developing states.json\n",
      "regional energy organizations.json\n",
      "micro grids.json\n",
      "concentrated solar power.json\n",
      "offshore renewable energy.json\n",
      "women's economic empowerment.json\n",
      "[{'Subject': \"women's economic empowerment\", 'Relation': 'implements', 'Object': 'gender equality policy', 'Description': \"Women's economic empowerment implements a gender equality policy that aims to promote equal opportunities and rights for women in the economic sector.\", 'Importance': 4}, {'Subject': \"women's economic empowerment\", 'Relation': 'funds', 'Object': 'microfinance programs', 'Description': \"Women's economic empowerment funds microfinance programs that provide financial services to women entrepreneurs, enabling them to start and grow their businesses.\", 'Importance': 3}, {'Subject': \"women's economic empowerment\", 'Relation': 'focuses_on', 'Object': 'gender-responsive employment policies', 'Description': \"Women's economic empowerment focuses on gender-responsive employment policies that aim to create inclusive and equitable workplaces for women.\", 'Importance': 4}, {'Subject': \"women's economic empowerment\", 'Relation': 'in', 'Object': 'sustainable development goals', 'Description': \"Women's economic empowerment is embedded in the sustainable development goals, particularly in the goal of achieving gender equality and empowering all women and girls.\", 'Importance': 4}, {'Subject': \"women's economic empowerment\", 'Relation': 'partners_with', 'Object': \"women's rights organizations\", 'Description': \"Women's economic empowerment partners with women's rights organizations to advocate for women's economic rights and empower women to participate fully in the economy.\", 'Importance': 3}, {'Subject': \"women's economic empowerment\", 'Relation': 'contributes_to', 'Object': 'poverty reduction', 'Description': \"Women's economic empowerment contributes to poverty reduction by enabling women to generate income, improve their livelihoods, and lift themselves and their families out of poverty.\", 'Importance': 4}, {'Subject': \"women's economic empowerment\", 'Relation': 'monitors', 'Object': 'gender pay gap', 'Description': \"Women's economic empowerment monitors the gender pay gap to identify disparities and advocate for equal pay for equal work.\", 'Importance': 3}, {'Subject': \"women's economic empowerment\", 'Relation': 'targets', 'Object': 'women-owned businesses', 'Description': \"Women's economic empowerment targets women-owned businesses for support and promotion, aiming to increase their representation and success in the business sector.\", 'Importance': 3}, {'Subject': \"women's economic empowerment\", 'Relation': 'addresses', 'Object': 'gender-based violence', 'Description': \"Women's economic empowerment addresses gender-based violence by promoting economic independence and empowerment as a means to reduce vulnerability and enhance women's safety.\", 'Importance': 4}]\n",
      "sovereign wealth funds.json\n",
      "green bonds.json\n",
      "carbon pricing.json\n",
      "climate resilience funds.json\n",
      "nature-based solutions.json\n",
      "theory of change.json\n",
      "energy justice.json\n",
      "blockchain for energy trading.json\n",
      "carbon capture and storage.json\n",
      "monitoring and evaluation frameworks.json\n",
      "biofuels.json\n",
      "whole-of-society approach.json\n",
      "energy democracy.json\n",
      "integrated resource planning.json\n",
      "[{'Subject': 'integrated resource planning', 'Relation': 'implements', 'Object': 'energy efficiency measures', 'Description': 'Integrated resource planning implements energy efficiency measures to optimize energy consumption and reduce waste.', 'Importance': 4}, {'Subject': 'integrated resource planning', 'Relation': 'funds', 'Object': 'renewable energy projects', 'Description': 'Integrated resource planning funds renewable energy projects to promote the transition to clean and sustainable energy sources.', 'Importance': 3}, {'Subject': 'integrated resource planning', 'Relation': 'focuses_on', 'Object': 'demand-side management', 'Description': 'Integrated resource planning focuses on demand-side management strategies to balance energy supply and demand and improve grid reliability.', 'Importance': 3}, {'Subject': 'integrated resource planning', 'Relation': 'in', 'Object': 'energy sector', 'Description': 'Integrated resource planning plays a crucial role in the energy sector by optimizing resource allocation and planning for future energy needs.', 'Importance': 4}, {'Subject': 'integrated resource planning', 'Relation': 'partners_with', 'Object': 'utilities', 'Description': 'Integrated resource planning partners with utilities to develop and implement sustainable energy strategies and programs.', 'Importance': 3}, {'Subject': 'integrated resource planning', 'Relation': 'contributes_to', 'Object': 'carbon emissions reduction', 'Description': 'Integrated resource planning contributes to carbon emissions reduction by promoting the use of renewable energy sources and energy efficiency measures.', 'Importance': 4}, {'Subject': 'integrated resource planning', 'Relation': 'monitors', 'Object': 'energy consumption', 'Description': 'Integrated resource planning monitors energy consumption patterns to identify areas for improvement and optimize energy use.', 'Importance': 3}, {'Subject': 'integrated resource planning', 'Relation': 'targets', 'Object': 'renewable energy capacity', 'Description': 'Integrated resource planning sets targets for increasing renewable energy capacity to drive the transition towards a sustainable energy future.', 'Importance': 4}, {'Subject': 'integrated resource planning', 'Relation': 'addresses', 'Object': 'energy equity', 'Description': 'Integrated resource planning addresses energy equity by ensuring access to affordable and reliable energy services for all communities.', 'Importance': 3}]\n",
      "debt-for-nature swaps.json\n",
      "heating and cooling.json\n",
      "national digital transformation strategies.json\n",
      "[{'Subject': 'national digital transformation strategies', 'Relation': 'implements', 'Object': 'sustainable energy projects', 'Description': 'National digital transformation strategies implement sustainable energy projects to promote the use of clean and renewable energy sources.', 'Importance': 4}, {'Subject': 'national digital transformation strategies', 'Relation': 'funds', 'Object': 'research and development', 'Description': 'National digital transformation strategies allocate funds for research and development in the field of sustainable energy to drive innovation and technological advancements.', 'Importance': 3}, {'Subject': 'national digital transformation strategies', 'Relation': 'focuses_on', 'Object': 'smart grid technologies', 'Description': 'National digital transformation strategies focus on the implementation of smart grid technologies to optimize energy distribution and consumption.', 'Importance': 4}, {'Subject': 'national digital transformation strategies', 'Relation': 'in', 'Object': 'collaboration with energy companies', 'Description': 'National digital transformation strategies work in collaboration with energy companies to develop and implement sustainable energy solutions.', 'Importance': 3}, {'Subject': 'national digital transformation strategies', 'Relation': 'partners_with', 'Object': 'academic institutions', 'Description': 'National digital transformation strategies partner with academic institutions to foster research and knowledge exchange in the field of sustainable energy.', 'Importance': 3}, {'Subject': 'national digital transformation strategies', 'Relation': 'contributes_to', 'Object': 'reducing carbon emissions', 'Description': 'National digital transformation strategies contribute to the reduction of carbon emissions by promoting the adoption of clean energy technologies and practices.', 'Importance': 4}, {'Subject': 'national digital transformation strategies', 'Relation': 'monitors', 'Object': 'energy consumption patterns', 'Description': 'National digital transformation strategies monitor energy consumption patterns to identify areas for improvement and optimize energy efficiency.', 'Importance': 3}, {'Subject': 'national digital transformation strategies', 'Relation': 'targets', 'Object': 'energy poverty', 'Description': 'National digital transformation strategies target energy poverty by providing access to affordable and reliable energy services for all.', 'Importance': 4}, {'Subject': 'national digital transformation strategies', 'Relation': 'addresses', 'Object': 'digital divide', 'Description': 'National digital transformation strategies address the digital divide by ensuring equitable access to digital technologies and information for sustainable energy initiatives.', 'Importance': 3}]\n",
      "risk insurance products.json\n",
      "energy in crisis settings.json\n",
      "smart energy contracts.json\n",
      "clean cooking.json\n",
      "generative AI.json\n",
      "[{'Subject': 'generative AI', 'Relation': 'implements', 'Object': 'sustainable energy solutions', 'Description': 'Generative AI implements sustainable energy solutions by optimizing energy usage and reducing waste.', 'Importance': 4}, {'Subject': 'generative AI', 'Relation': 'funds', 'Object': 'research and development of renewable energy technologies', 'Description': 'Generative AI funds the research and development of renewable energy technologies to accelerate the transition to sustainable energy sources.', 'Importance': 3}, {'Subject': 'generative AI', 'Relation': 'focuses_on', 'Object': 'energy efficiency', 'Description': 'Generative AI focuses on energy efficiency to minimize energy consumption and promote sustainable energy practices.', 'Importance': 4}, {'Subject': 'generative AI', 'Relation': 'in', 'Object': 'smart grid systems', 'Description': 'Generative AI is used in smart grid systems to optimize energy distribution and enable efficient energy management.', 'Importance': 3}, {'Subject': 'generative AI', 'Relation': 'partners_with', 'Object': 'clean energy companies', 'Description': 'Generative AI partners with clean energy companies to develop innovative solutions for sustainable energy generation and utilization.', 'Importance': 4}, {'Subject': 'generative AI', 'Relation': 'contributes_to', 'Object': 'reducing carbon emissions', 'Description': 'Generative AI contributes to reducing carbon emissions by optimizing energy systems and promoting clean energy adoption.', 'Importance': 4}, {'Subject': 'generative AI', 'Relation': 'monitors', 'Object': 'energy consumption patterns', 'Description': 'Generative AI monitors energy consumption patterns to identify areas for improvement and optimize energy usage.', 'Importance': 3}, {'Subject': 'generative AI', 'Relation': 'targets', 'Object': 'energy efficiency improvements', 'Description': 'Generative AI targets energy efficiency improvements to achieve sustainable energy goals and reduce environmental impact.', 'Importance': 4}, {'Subject': 'generative AI', 'Relation': 'addresses', 'Object': 'energy poverty', 'Description': 'Generative AI addresses energy poverty by developing affordable and sustainable energy solutions for underserved communities.', 'Importance': 3}]\n",
      "digital cities.json\n",
      "energy and development economics.json\n",
      "waster-to-energy solutions.json\n",
      "energy markets.json\n",
      "time poverty.json\n",
      "Solar For Health.json\n",
      "gender mainstreaming.json\n",
      "bioenergy.json\n",
      "mobile payment systems.json\n",
      "energy transition roadmaps and plans.json\n",
      "electric mobility.json\n",
      "stakeholder engagement mechanisms.json\n",
      "battery storage.json\n",
      "energy market liberalization policits.json\n",
      "[{'Subject': 'energy market liberalization policits', 'Relation': 'implements', 'Object': 'renewable energy targets', 'Description': 'Energy market liberalization policies implement renewable energy targets to promote the use of clean and sustainable energy sources.', 'Importance': 4}, {'Subject': 'energy market liberalization policits', 'Relation': 'funds', 'Object': 'research and development projects', 'Description': 'Energy market liberalization policies provide funding for research and development projects in the field of sustainable energy.', 'Importance': 3}, {'Subject': 'energy market liberalization policits', 'Relation': 'focuses_on', 'Object': 'energy market competition', 'Description': 'Energy market liberalization policies focus on promoting competition in the energy market to drive innovation and efficiency.', 'Importance': 4}, {'Subject': 'energy market liberalization policits', 'Relation': 'in', 'Object': 'collaboration with energy regulators', 'Description': 'Energy market liberalization policies are developed in collaboration with energy regulators to ensure effective implementation and compliance.', 'Importance': 3}, {'Subject': 'energy market liberalization policits', 'Relation': 'partners_with', 'Object': 'private sector companies', 'Description': 'Energy market liberalization policies partner with private sector companies to leverage their expertise and resources in advancing sustainable energy initiatives.', 'Importance': 3}, {'Subject': 'energy market liberalization policits', 'Relation': 'contributes_to', 'Object': 'economic growth', 'Description': 'Energy market liberalization policies contribute to economic growth by attracting investments and creating job opportunities in the sustainable energy sector.', 'Importance': 4}, {'Subject': 'energy market liberalization policits', 'Relation': 'monitors', 'Object': 'energy market performance', 'Description': 'Energy market liberalization policies monitor the performance of the energy market to ensure fair competition and consumer protection.', 'Importance': 3}, {'Subject': 'energy market liberalization policits', 'Relation': 'targets', 'Object': 'energy poverty reduction', 'Description': 'Energy market liberalization policies target energy poverty reduction by promoting affordable and accessible energy services for all.', 'Importance': 4}, {'Subject': 'energy market liberalization policits', 'Relation': 'addresses', 'Object': 'energy market barriers', 'Description': 'Energy market liberalization policies address barriers in the energy market to foster competition, innovation, and investment in sustainable energy.', 'Importance': 4}]\n",
      "electrolysis.json\n",
      "carbon capture and utilization.json\n",
      "fossil fuel phase-out.json\n",
      "energy regulatory frameworks.json\n",
      "undp accelerator labs.json\n",
      "blue carbon.json\n",
      "solar home systems.json\n",
      "land stewardship agerements.json\n",
      "[{'Subject': 'land stewardship agreements', 'Relation': 'implements', 'Object': 'sustainable land management practices', 'Description': 'Land stewardship agreements implement sustainable land management practices to ensure the conservation and protection of natural resources.', 'Importance': 4}, {'Subject': 'land stewardship agreements', 'Relation': 'funds', 'Object': 'conservation projects', 'Description': 'Land stewardship agreements provide funding for conservation projects that aim to protect and restore ecosystems and biodiversity.', 'Importance': 3}, {'Subject': 'land stewardship agreements', 'Relation': 'focuses_on', 'Object': 'land conservation', 'Description': 'Land stewardship agreements focus on land conservation efforts to preserve natural habitats and prevent land degradation.', 'Importance': 4}, {'Subject': 'land stewardship agreements', 'Relation': 'in', 'Object': 'collaboration with local communities', 'Description': 'Land stewardship agreements work in collaboration with local communities to ensure the sustainable management of land and resources.', 'Importance': 3}, {'Subject': 'land stewardship agreements', 'Relation': 'partners_with', 'Object': 'environmental organizations', 'Description': 'Land stewardship agreements partner with environmental organizations to enhance conservation efforts and promote sustainable land use practices.', 'Importance': 4}, {'Subject': 'land stewardship agreements', 'Relation': 'contributes_to', 'Object': 'ecosystem restoration', 'Description': 'Land stewardship agreements contribute to ecosystem restoration by implementing measures to rehabilitate degraded land and enhance biodiversity.', 'Importance': 4}, {'Subject': 'land stewardship agreements', 'Relation': 'monitors', 'Object': 'land use practices', 'Description': 'Land stewardship agreements monitor land use practices to ensure compliance with sustainable land management guidelines and regulations.', 'Importance': 3}, {'Subject': 'land stewardship agreements', 'Relation': 'targets', 'Object': 'land degradation', 'Description': 'Land stewardship agreements target land degradation by implementing strategies to prevent soil erosion and promote sustainable land practices.', 'Importance': 4}, {'Subject': 'land stewardship agreements', 'Relation': 'addresses', 'Object': 'biodiversity loss', 'Description': 'Land stewardship agreements address biodiversity loss by implementing conservation measures that protect and restore habitats for endangered species.', 'Importance': 4}]\n",
      "gas turbine.json\n",
      "[{'Subject': 'gas turbine', 'Relation': 'implements', 'Object': 'energy efficiency measures', 'Description': 'Gas turbine implements energy efficiency measures to optimize energy consumption and reduce emissions.', 'Importance': 4}, {'Subject': 'gas turbine', 'Relation': 'funds', 'Object': 'research and development', 'Description': 'Gas turbine funds research and development initiatives to improve efficiency and performance.', 'Importance': 3}, {'Subject': 'gas turbine', 'Relation': 'focuses_on', 'Object': 'clean energy generation', 'Description': 'Gas turbine focuses on clean energy generation by utilizing renewable fuels and reducing environmental impact.', 'Importance': 4}, {'Subject': 'gas turbine', 'Relation': 'in', 'Object': 'power generation plants', 'Description': 'Gas turbine is used in power generation plants to produce electricity efficiently.', 'Importance': 4}, {'Subject': 'gas turbine', 'Relation': 'partners_with', 'Object': 'energy storage companies', 'Description': 'Gas turbine partners with energy storage companies to enhance grid stability and enable renewable energy integration.', 'Importance': 3}, {'Subject': 'gas turbine', 'Relation': 'contributes_to', 'Object': 'reducing carbon emissions', 'Description': 'Gas turbine contributes to reducing carbon emissions by providing a cleaner and more efficient energy source.', 'Importance': 4}, {'Subject': 'gas turbine', 'Relation': 'monitors', 'Object': 'operational performance', 'Description': 'Gas turbine monitors its operational performance to ensure optimal efficiency and identify areas for improvement.', 'Importance': 3}, {'Subject': 'gas turbine', 'Relation': 'targets', 'Object': 'renewable energy integration', 'Description': 'Gas turbine targets renewable energy integration by enabling the efficient utilization of renewable fuels.', 'Importance': 4}, {'Subject': 'gas turbine', 'Relation': 'addresses', 'Object': 'energy demand', 'Description': 'Gas turbine addresses energy demand by providing a reliable and flexible power generation solution.', 'Importance': 4}]\n",
      "carbon neutrality.json\n",
      "undp country offices.json\n",
      "disaster warning networks.json\n",
      "energy cooperatives.json\n",
      "benefit-sharing agreements.json\n",
      "gasification.json\n",
      "energy data analytics.json\n",
      "energy value chain.json\n",
      "resilient infrastructure.json\n",
      "community-based energy resilience programs.json\n",
      "[{'Subject': 'community-based energy resilience programs', 'Relation': 'implements', 'Object': 'energy efficiency measures', 'Description': 'Community-based energy resilience programs implement energy efficiency measures to reduce energy consumption and promote sustainability.', 'Importance': 4}, {'Subject': 'community-based energy resilience programs', 'Relation': 'funds', 'Object': 'renewable energy projects', 'Description': 'Community-based energy resilience programs provide funding for renewable energy projects to support the transition to clean and sustainable energy sources.', 'Importance': 3}, {'Subject': 'community-based energy resilience programs', 'Relation': 'focuses_on', 'Object': 'local communities', 'Description': 'Community-based energy resilience programs focus on empowering and supporting local communities in their efforts to enhance energy resilience and sustainability.', 'Importance': 4}, {'Subject': 'community-based energy resilience programs', 'Relation': 'partners_with', 'Object': 'non-profit organizations', 'Description': 'Community-based energy resilience programs collaborate and partner with non-profit organizations to leverage their expertise and resources in promoting sustainable energy practices.', 'Importance': 3}, {'Subject': 'community-based energy resilience programs', 'Relation': 'contributes_to', 'Object': 'climate change mitigation', 'Description': 'Community-based energy resilience programs contribute to climate change mitigation by reducing greenhouse gas emissions through the adoption of clean energy technologies and practices.', 'Importance': 4}, {'Subject': 'community-based energy resilience programs', 'Relation': 'monitors', 'Object': 'energy consumption', 'Description': 'Community-based energy resilience programs monitor energy consumption patterns to identify areas for improvement and implement strategies to reduce energy waste.', 'Importance': 3}, {'Subject': 'community-based energy resilience programs', 'Relation': 'targets', 'Object': 'energy poverty', 'Description': 'Community-based energy resilience programs target energy poverty by providing access to affordable and reliable energy services for underserved communities.', 'Importance': 4}, {'Subject': 'community-based energy resilience programs', 'Relation': 'addresses', 'Object': 'energy equity', 'Description': 'Community-based energy resilience programs address energy equity by ensuring equal access to clean and affordable energy resources for all members of the community.', 'Importance': 4}, {'Subject': 'community-based energy resilience programs', 'Relation': 'employs', 'Object': 'renewable energy technologies', 'Description': 'Community-based energy resilience programs employ renewable energy technologies to generate clean and sustainable energy for local communities.', 'Importance': 3}]\n",
      "energy poverty indices.json\n",
      "[{'Subject': 'energy poverty indices', 'Relation': 'implements', 'Object': 'energy access programs', 'Description': 'Energy poverty indices implement energy access programs to provide affordable and reliable energy services to underserved communities.', 'Importance': 4}, {'Subject': 'energy poverty indices', 'Relation': 'funds', 'Object': 'renewable energy projects', 'Description': 'Energy poverty indices fund renewable energy projects to increase access to clean and sustainable energy sources.', 'Importance': 3}, {'Subject': 'energy poverty indices', 'Relation': 'focuses_on', 'Object': 'energy affordability', 'Description': 'Energy poverty indices focus on improving energy affordability to ensure that all individuals can access and afford essential energy services.', 'Importance': 4}, {'Subject': 'energy poverty indices', 'Relation': 'in', 'Object': 'developing countries', 'Description': 'Energy poverty indices are prevalent in developing countries where access to modern energy services is limited.', 'Importance': 3}, {'Subject': 'energy poverty indices', 'Relation': 'partners_with', 'Object': 'non-profit organizations', 'Description': 'Energy poverty indices partner with non-profit organizations to collaborate on initiatives aimed at addressing energy poverty.', 'Importance': 3}, {'Subject': 'energy poverty indices', 'Relation': 'contributes_to', 'Object': 'sustainable development goals', 'Description': 'Energy poverty indices contribute to the achievement of sustainable development goals by improving access to clean and affordable energy.', 'Importance': 4}, {'Subject': 'energy poverty indices', 'Relation': 'monitors', 'Object': 'energy consumption patterns', 'Description': 'Energy poverty indices monitor energy consumption patterns to identify areas with high energy poverty and develop targeted interventions.', 'Importance': 3}, {'Subject': 'energy poverty indices', 'Relation': 'targets', 'Object': 'energy efficiency', 'Description': 'Energy poverty indices target energy efficiency measures to reduce energy consumption and improve energy access for marginalized communities.', 'Importance': 4}, {'Subject': 'energy poverty indices', 'Relation': 'addresses', 'Object': 'energy inequality', 'Description': 'Energy poverty indices address energy inequality by promoting equal access to energy services for all individuals, regardless of their socioeconomic status.', 'Importance': 4}]\n",
      "intergenerational equity.json\n",
      "energy safety nets.json\n",
      "[{'Subject': 'energy safety nets', 'Relation': 'implements', 'Object': 'social welfare programs', 'Description': 'Energy safety nets implements social welfare programs to provide assistance to vulnerable populations in accessing affordable and reliable energy services.', 'Importance': 4}, {'Subject': 'energy safety nets', 'Relation': 'funds', 'Object': 'energy assistance programs', 'Description': 'Energy safety nets funds energy assistance programs to support low-income households in meeting their energy needs.', 'Importance': 3}, {'Subject': 'energy safety nets', 'Relation': 'focuses_on', 'Object': 'energy affordability', 'Description': 'Energy safety nets focuses on ensuring energy affordability for disadvantaged communities through targeted programs and policies.', 'Importance': 4}, {'Subject': 'energy safety nets', 'Relation': 'in', 'Object': 'energy poverty', 'Description': 'Energy safety nets operates in the context of addressing energy poverty and reducing energy inequality.', 'Importance': 4}, {'Subject': 'energy safety nets', 'Relation': 'partners_with', 'Object': 'non-profit organizations', 'Description': 'Energy safety nets partners with non-profit organizations to enhance the reach and effectiveness of energy assistance programs.', 'Importance': 3}, {'Subject': 'energy safety nets', 'Relation': 'contributes_to', 'Object': 'social equity', 'Description': 'Energy safety nets contributes to social equity by ensuring access to affordable and reliable energy services for all individuals and communities.', 'Importance': 4}, {'Subject': 'energy safety nets', 'Relation': 'monitors', 'Object': 'energy affordability indicators', 'Description': 'Energy safety nets monitors energy affordability indicators to assess the effectiveness of its programs and policies.', 'Importance': 3}, {'Subject': 'energy safety nets', 'Relation': 'targets', 'Object': 'energy vulnerable populations', 'Description': 'Energy safety nets targets energy vulnerable populations to provide them with targeted support and assistance.', 'Importance': 4}, {'Subject': 'energy safety nets', 'Relation': 'addresses', 'Object': 'energy access barriers', 'Description': 'Energy safety nets addresses energy access barriers faced by disadvantaged communities through targeted interventions and programs.', 'Importance': 4}]\n",
      "energy storage.json\n",
      "levelized cost of electricity.json\n",
      "biodigestion.json\n",
      "micro-finance.json\n",
      "foundational data infrastructure.json\n",
      "gender-sensitive electrification planning.json\n",
      "medium small micro enterprises.json\n",
      "energy development practitioners.json\n"
     ]
    }
   ],
   "source": [
    "missing_jsons = []\n",
    "missing_relations = []\n",
    "for f in files:\n",
    "    if f == '.DS_Store' or f == 'knowledge_graph.json':\n",
    "        continue\n",
    "    print(f)\n",
    "    with open('../03_Output/01_Auto KGs/00_Current Versions/' + f, \"r\") as file:\n",
    "        data = file.read()\n",
    "        json_data = json.loads(data)\n",
    "        file.close()\n",
    "\n",
    "        if json_data['knowledge graph']['entities'] == []:\n",
    "            objects = set()\n",
    "            entity_relations = []\n",
    "            metadata = json_data['metadata']\n",
    "            relations = create_relations(metadata['Entity'], relation_labels)\n",
    "            for rel in relations:\n",
    "                obj = {}\n",
    "                objects.add(rel['Object'])\n",
    "                obj['Relation'] = rel['Relation']\n",
    "                obj['Object'] = rel['Object']\n",
    "                obj['Description'] = rel['Description']\n",
    "                obj['Importance'] = rel['Importance']\n",
    "                entity_relations.append(obj)\n",
    "            object_lst = list(objects)\n",
    "            relation_obj = {metadata['Entity']: entity_relations}\n",
    "            json_data['knowledge graph']['entities'] = object_lst\n",
    "            json_data['knowledge graph']['relations'] = relation_obj\n",
    "            json_output = json.dumps(json_data, indent=2)\n",
    "            with open('../03_Output/01_Auto KGs/00_Current Versions/' + f, \"w\") as file:\n",
    "                file.write(json_output)\n",
    "                file.close()\n",
    "\n",
    "            missing_jsons.append(json_data)\n",
    "            missing_relations.extend(relations)\n"
   ],
   "metadata": {
    "collapsed": false
   }
  },
  {
   "cell_type": "code",
   "execution_count": 42,
   "outputs": [],
   "source": [
    "relations_df = pd.DataFrame(missing_relations)\n",
    "relations_df.fillna('', inplace=True)\n",
    "relations_df.to_csv('../03_Output/00_GPT KGs/Relations.csv', mode='a', sep=',', index=False, header=False)\n"
   ],
   "metadata": {
    "collapsed": false
   }
  },
  {
   "cell_type": "code",
   "execution_count": 43,
   "outputs": [],
   "source": [
    "with open('../03_Output/00_GPT KGs/Relations.json', \"r\") as file:\n",
    "    rel = file.read()\n",
    "    all_relations = json.loads(rel)\n",
    "    file.close()\n",
    "all_relations.extend(missing_relations)\n",
    "json_relations = json.dumps(all_relations, indent=2)\n",
    "\n",
    "with open('../03_Output/00_GPT KGs/Relations.json', \"w\") as output_file:\n",
    "    output_file.write(json_relations)\n",
    "    output_file.close()"
   ],
   "metadata": {
    "collapsed": false
   }
  }
 ],
 "metadata": {
  "kernelspec": {
   "display_name": "Python 3 (ipykernel)",
   "language": "python",
   "name": "python3"
  },
  "language_info": {
   "codemirror_mode": {
    "name": "ipython",
    "version": 3
   },
   "file_extension": ".py",
   "mimetype": "text/x-python",
   "name": "python",
   "nbconvert_exporter": "python",
   "pygments_lexer": "ipython3",
   "version": "3.10.6"
  }
 },
 "nbformat": 4,
 "nbformat_minor": 1
}
