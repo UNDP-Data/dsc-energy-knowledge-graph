{
 "cells": [
  {
   "cell_type": "code",
   "execution_count": 2,
   "metadata": {},
   "outputs": [],
   "source": [
    "import pandas as pd\n",
    "import os\n",
    "from openai import AzureOpenAI\n",
    "import openai\n",
    "import json\n",
    "import requests\n",
    "from dotenv import load_dotenv\n",
    "from fuzzywuzzy import fuzz\n",
    "import Levenshtein as lev\n",
    "import time\n"
   ]
  },
  {
   "cell_type": "markdown",
   "metadata": {},
   "source": [
    "# Set up the variables"
   ]
  },
  {
   "cell_type": "code",
   "execution_count": 2,
   "metadata": {},
   "outputs": [
    {
     "data": {
      "text/plain": "True"
     },
     "execution_count": 2,
     "metadata": {},
     "output_type": "execute_result"
    }
   ],
   "source": [
    "load_dotenv()"
   ]
  },
  {
   "cell_type": "code",
   "execution_count": 3,
   "metadata": {},
   "outputs": [],
   "source": [
    "os.environ[\"OPENAI_API_TYPE\"] = \"azure\"\n",
    "os.environ[\"OPENAI_API_VERSION\"] = os.getenv(\"api_version\")\n",
    "os.environ[\"AZURE_OPENAI_ENDPOINT\"] = os.getenv(\"AZURE_OPENAI_ENDPOINT\")\n",
    "os.environ[\"AZURE_OPENAI_API_KEY\"] = os.getenv(\"api_key_azure\")\n",
    "\n",
    "# OpenAI API configuration\n",
    "openai.api_type = \"azure\"\n",
    "openai.api_key = os.getenv(\"api_key_azure\")\n",
    "openai.api_base = os.getenv(\"AZURE_OPENAI_ENDPOINT\")\n",
    "openai.api_version = os.getenv(\"api_version\")\n",
    "openai_deployment = \"sdgi-gpt-35-turbo-16k\""
   ]
  },
  {
   "cell_type": "code",
   "execution_count": 4,
   "metadata": {},
   "outputs": [],
   "source": [
    "client = AzureOpenAI(\n",
    "    api_key = os.getenv(\"api_key_azure\"),\n",
    "    api_version = os.getenv(\"api_version\"),\n",
    "    azure_endpoint =os.getenv(\"AZURE_OPENAI_ENDPOINT\")\n",
    ")\n",
    "\n",
    "embedding_model = os.getenv(\"USER_QUERY_EMBEDDING_ENGINE\")\n"
   ]
  },
  {
   "cell_type": "markdown",
   "metadata": {},
   "source": [
    "# Define Labels for KG"
   ]
  },
  {
   "cell_type": "code",
   "execution_count": 5,
   "metadata": {},
   "outputs": [],
   "source": [
    "categories = [\n",
    "    \"Person\",\n",
    "    \"Location\",\n",
    "    \"Organization\",\n",
    "    \"Event\",\n",
    "    \"Product\",\n",
    "    \"Project\",\n",
    "    \"Skill\",\n",
    "    \"Strategy\",\n",
    "    \"Technology\",\n",
    "    \"Crisis\",\n",
    "    \"Infrastructure\"\n",
    "]"
   ]
  },
  {
   "cell_type": "code",
   "execution_count": 6,
   "metadata": {},
   "outputs": [],
   "source": [
    "dimensions = [\n",
    "    \"Policy\",\n",
    "    \"Technology\",\n",
    "    \"Social\",\n",
    "    \"Economic\",\n",
    "    \"Finance\",\n",
    "    \"Intersectionality\"\n",
    "]"
   ]
  },
  {
   "cell_type": "code",
   "execution_count": 7,
   "metadata": {},
   "outputs": [],
   "source": [
    "relation_labels = [\n",
    "    \"implements\",\n",
    "    \"funds\",\n",
    "    \"focuses_on\",\n",
    "    \"in\",\n",
    "    \"partners_with\",\n",
    "    \"contributes_to\",\n",
    "    \"monitors\",\n",
    "    \"targets\",\n",
    "    \"addresses\",\n",
    "    \"employs\",\n",
    "    \"collaborates_with\",\n",
    "    \"supports\",\n",
    "    \"administers\",\n",
    "    \"measures\",\n",
    "    \"aligns_with\",\n",
    "    \"an_instance_of\"\n",
    "]"
   ]
  },
  {
   "cell_type": "code",
   "execution_count": 8,
   "outputs": [],
   "source": [
    "subgroups = [\n",
    "    \"Solar Power\",\n",
    "    \"Wind Energy\",\n",
    "    \"Hydroelectric Power\",\n",
    "    \"Geothermal Energy\",\n",
    "    \"Biomass Energy\",\n",
    "    \"Smart Grid Technologies\",\n",
    "    \"Energy Storage\",\n",
    "    \"Energy Efficiency\",\n",
    "    \"Microgrids\",\n",
    "    \"Electric Vehicles\",\n",
    "    \"Green Buildings\",\n",
    "    \"Carbon Capture and Storage\",\n",
    "    \"Energy Analytics\",\n",
    "    \"Sustainable Urban Planning\",\n",
    "    \"Renewable Energy Policies\"\n",
    "]\n"
   ],
   "metadata": {
    "collapsed": false
   }
  },
  {
   "cell_type": "code",
   "execution_count": 9,
   "metadata": {},
   "outputs": [],
   "source": [
    "def capitalize_keys(data):\n",
    "    updated_list = []\n",
    "    for item in data:\n",
    "        updated_item = {key.capitalize(): value for key, value in item.items()}\n",
    "        updated_list.append(updated_item)\n",
    "    return updated_list"
   ]
  },
  {
   "cell_type": "code",
   "execution_count": 10,
   "outputs": [],
   "source": [
    "def get_answer(prompt):\n",
    "    response_entities = openai.chat.completions.create(\n",
    "        model=openai_deployment,\n",
    "        temperature=0,\n",
    "        messages=[\n",
    "            {\"role\": \"user\", \"content\": prompt},\n",
    "        ]\n",
    "    )\n",
    "    response = response_entities.choices[0].message.content\n",
    "    #print (response)\n",
    "    response = json.loads(response)\n",
    "    return response\n"
   ],
   "metadata": {
    "collapsed": false
   }
  },
  {
   "cell_type": "code",
   "execution_count": null,
   "outputs": [],
   "source": [
    "\n",
    "def metadata_pipeline(start, end, raw_entities):\n",
    "    metadata_json = []\n",
    "    while start < len(raw_entities):\n",
    "        print(start)\n",
    "        ls = raw_entities[start:end]\n",
    "        result = get_entity_metadata(ls, categories, dimensions)\n",
    "        start = end\n",
    "        end += 10\n",
    "        if end > len(raw_entities):\n",
    "            end = len(raw_entities)\n",
    "        metadata_json.extend(result[\"entities\"])\n",
    "    return metadata_json"
   ],
   "metadata": {
    "collapsed": false
   }
  },
  {
   "cell_type": "code",
   "execution_count": null,
   "outputs": [],
   "source": [
    "def relations_pipeline():\n",
    "    relations_json = []\n",
    "    start_time = time.time()\n",
    "    while start < len(raw_entities):\n",
    "        ls = raw_entities[start:end]\n",
    "        result = create_relations(ls, relation_labels)\n",
    "        start = end\n",
    "        end += 2\n",
    "        if end > len(raw_entities):\n",
    "            end = len(raw_entities)\n",
    "        relations_json.extend(result)\n",
    "\n",
    "    print(\"--- %s seconds ---\" % (time.time() - start_time))\n"
   ],
   "metadata": {
    "collapsed": false
   }
  },
  {
   "cell_type": "markdown",
   "source": [
    "# Set up the prompts"
   ],
   "metadata": {
    "collapsed": false
   }
  },
  {
   "cell_type": "code",
   "execution_count": 11,
   "outputs": [],
   "source": [
    "def get_entity_metadata(entities, category_list, dimension_list):\n",
    "    metadata_prompt = f\"\"\"\n",
    "\n",
    "    [Context]\n",
    "    You belong to a team of consultants at UNDP's Sustainable Energy Hub (SEH).\n",
    "    You will be given an >>>>>EntityList<<<<<, a list of >>>>>CATEGORIES<<<<< and a list of >>>>>DIMENSIONS<<<<<.\n",
    "\n",
    "   [Task]\n",
    "   Your task is to create a metadata for each given entity so they can be added to knowledge graph and return a json array.\n",
    "   You have to add the following attributes to each entity:\n",
    "    1. 'Entity': The name of given entity.\n",
    "    2. 'Description': containing summary of the entity.\n",
    "    3. 'Category': from the given >>>>>CATEGORIES<<<<<.\n",
    "    4. 'Tags': Multiple tags from a broader taxonomy suitable for entity.\n",
    "    5. 'Dimension': from the given >>>>>DIMENSIONS<<<<<.\n",
    "    6. 'Acronym': for the entity if it exists.\n",
    "    7. 'Importance': Score between 1 to 4 to each entity based on its importance in context of sustainable energy, with 4 being the highest score.\n",
    "\n",
    "    [Output Format]\n",
    "    Return only a JSON array for entities with metadata.\n",
    "\n",
    "    Now create a json array with metadata for the following entities:\n",
    "\n",
    "    [Input]\n",
    "    >>>>>EntityList<<<<<\n",
    "    {entities}\n",
    "\n",
    "    >>>>>CATEGORIES<<<<<\n",
    "    {category_list}\n",
    "\n",
    "    >>>>>CATEGORIES<<<<<\n",
    "    {dimension_list}\n",
    "\n",
    "\n",
    "\"\"\"\n",
    "\n",
    "    metadata = get_answer(metadata_prompt)\n",
    "    return metadata\n"
   ],
   "metadata": {
    "collapsed": false
   }
  },
  {
   "cell_type": "code",
   "execution_count": 12,
   "outputs": [],
   "source": [
    "def create_relations(entities, relation_labels):\n",
    "    relation_extraction_prompt = f\"\"\"\n",
    "\n",
    "    [Context]\n",
    "    You belong to a team of consultants at UNDP's Sustainable Energy Hub (SEH), working on a project to create a knowledge graph for sustainable energy.\n",
    "    You will be given an >>>>>EntityList<<<<< and a list of >>>>>RelationLabels<<<<<.\n",
    "\n",
    "   [Task]\n",
    "   Your task is to extract a set of 8-9 relations for each given entity. These relations will be added to the knowledge graph. Each relation will create following attributed:\n",
    "    1. 'Subject': subject entity of the relation.\n",
    "    2. 'Object': object entity of the relation.\n",
    "    3. 'Relation': label from the given >>>>>RELATION LABELS<<<<<.\n",
    "    4. 'Description': description of the relation.\n",
    "    5. 'Importance': score between 1 to 4 to each relation based on its importance in context of sustainable energy, with 4 being the highest score.\n",
    "\n",
    "    [Example]\n",
    "    \"Subject\":\"Energy Efficiency Policy\",\n",
    "    \"Relation\": \"implements\",\n",
    "    \"Object\": \"Building Standards\",\n",
    "    \"Description\": \"Energy Efficiency Policy implements rigorous building standards that promote the use of energy-saving designs and materials.\",\n",
    "    \"Importance\": 4\n",
    "\n",
    "    [Output Format]\n",
    "    Return only a JSON array for relations.\n",
    "\n",
    "    Now create a json array of relations for the following entities. Do not create more than 9 relations for each entity:\n",
    "\n",
    "    [Input]\n",
    "    >>>>>EntityList<<<<<\n",
    "    {entities}\n",
    "\n",
    "    >>>>>RelationLabels<<<<<\n",
    "    {relation_labels}\n",
    "\n",
    "\"\"\"\n",
    "\n",
    "    relations = get_answer(relation_extraction_prompt)\n",
    "    print(relations)\n",
    "    return relations\n"
   ],
   "metadata": {
    "collapsed": false
   }
  },
  {
   "cell_type": "code",
   "execution_count": 28,
   "outputs": [],
   "source": [
    "def add_subgroups(relations, subgroups):\n",
    "    subgroup_prompt = f\"\"\"\n",
    "\n",
    "    [Context]\n",
    "    You belong to a team of consultants at UNDP's Sustainable Energy Hub (SEH), working on a project to create a knowledge graph for sustainable energy.\n",
    "    You will be given a list of >>>>>RelationsList<<<<< and a list of >>>>>Subgroups<<<<<.\n",
    "\n",
    "   [Task]\n",
    "   Your task is to select a >>>>>Subgroups<<<<< to add a 'Subgroup' attribute to each relation in >>>>>RelationsList<<<<<.\n",
    "\n",
    "    [Output Format]\n",
    "    Return only a JSON array for 'relations'.\n",
    "\n",
    "    Now assign subgroups to the following relations:\n",
    "\n",
    "    [Input]\n",
    "    >>>>>RelationsList<<<<<\n",
    "    {relations}\n",
    "\n",
    "    >>>>>Subgroups<<<<<\n",
    "    {subgroups}\n",
    "\n",
    "\"\"\"\n",
    "\n",
    "    relations = get_answer(subgroup_prompt)\n",
    "    print(relations)\n",
    "    return relations\n"
   ],
   "metadata": {
    "collapsed": false
   }
  },
  {
   "cell_type": "markdown",
   "source": [
    "# Run the pipeline"
   ],
   "metadata": {
    "collapsed": false
   }
  },
  {
   "cell_type": "code",
   "execution_count": null,
   "outputs": [],
   "source": [
    "# Read the entity list from CSV file\n",
    "file_path = '../02_Input/00_Manual-KGs/Entity List.csv'\n",
    "raw_data = pd.read_csv(file_path, delimiter=';')\n",
    "raw_entities = raw_data['Entity'].str.strip()\n",
    "\n",
    "file_path = '../03_Output/00_GPT KGs/Entities.csv'\n",
    "data = pd.read_csv(file_path, delimiter=';')\n",
    "entities = list(data['Entity'].str.strip())\n",
    "\n",
    "new_entities = []\n",
    "for item in raw_entities:\n",
    "    if item not in entities:\n",
    "        new_entities.append(item)\n",
    "\n",
    "#call the pipelne functions\n",
    "\n",
    "start = 0\n",
    "end = 10\n",
    "metadata_pipeline(start, end, new_entities)\n"
   ],
   "metadata": {
    "collapsed": false
   }
  },
  {
   "cell_type": "markdown",
   "source": [
    "Check if there are new entities"
   ],
   "metadata": {
    "collapsed": false
   }
  },
  {
   "cell_type": "code",
   "execution_count": null,
   "outputs": [],
   "source": [],
   "metadata": {
    "collapsed": false
   }
  },
  {
   "cell_type": "markdown",
   "source": [
    "Get Metadata for the entities"
   ],
   "metadata": {
    "collapsed": false
   }
  },
  {
   "cell_type": "markdown",
   "source": [
    "Create relations from the entity list"
   ],
   "metadata": {
    "collapsed": false
   }
  },
  {
   "cell_type": "code",
   "execution_count": null,
   "outputs": [],
   "source": [
    "\n",
    "start = 0\n",
    "end = 2"
   ],
   "metadata": {
    "collapsed": false
   }
  },
  {
   "cell_type": "code",
   "execution_count": null,
   "outputs": [],
   "source": [
    "print (len(relations_json))"
   ],
   "metadata": {
    "collapsed": false
   }
  },
  {
   "cell_type": "markdown",
   "source": [
    "# Fuzzy matching to identify new object entities"
   ],
   "metadata": {
    "collapsed": false
   }
  },
  {
   "cell_type": "code",
   "execution_count": null,
   "outputs": [],
   "source": [
    "relations_df = pd.DataFrame(relations_json)"
   ],
   "metadata": {
    "collapsed": false
   }
  },
  {
   "cell_type": "code",
   "execution_count": null,
   "outputs": [],
   "source": [
    "# Writing the entities to json file\n",
    "with open('../03_Output/00_GPT KGs/Entity_Metadata.json', \"w\") as output_file:\n",
    "    output_file.write(json_entities)\n",
    "    output_file.close()"
   ],
   "metadata": {
    "collapsed": false
   }
  },
  {
   "cell_type": "code",
   "execution_count": null,
   "outputs": [],
   "source": [
    "synonyms = {}\n",
    "\n",
    "for obj in objects:\n",
    "    if obj.lower() not in entities:\n",
    "        ratio_list = []\n",
    "        ratio_list.extend(fuzz.ratio(obj.lower(), entity) for entity in entities)\n",
    "        score = max(ratio_list)\n",
    "        index = ratio_list.index(score)\n",
    "        match = ent_lst[index]\n",
    "        #print(\"Object: \" + obj + \" || Match: \" + match + \" || Score: \" + str(score))\n",
    "\n",
    "        if score > 70:\n",
    "            if match in synonyms:\n",
    "                if obj not in synonyms[match]:\n",
    "                    synonyms[match].append(obj)\n",
    "            else:\n",
    "                synonyms[match] = [obj]\n",
    "\n",
    "print(synonyms)\n"
   ],
   "metadata": {
    "collapsed": false
   }
  },
  {
   "cell_type": "code",
   "execution_count": null,
   "outputs": [],
   "source": [
    "entity_data['Synonyms'] = \"\"\n",
    "entity_data['Synonyms'] = entity_data['Entity'].map(synonyms).fillna(entity_data['Synonyms'])"
   ],
   "metadata": {
    "collapsed": false
   }
  },
  {
   "cell_type": "code",
   "execution_count": null,
   "outputs": [],
   "source": [
    "# Capitalize keys to ensure consistency\n",
    "json_entities = json.dumps(metadata_json, indent = 2)"
   ],
   "metadata": {
    "collapsed": false
   }
  },
  {
   "cell_type": "code",
   "execution_count": null,
   "outputs": [],
   "source": [
    "# Write the entities to the CSV file\n",
    "metadata_df = pd.DataFrame(metadata_json)\n",
    "\n",
    "metadata_df['Tags'] = metadata_df['Tags'].apply(lambda x: '; '.join(x))\n",
    "metadata_df['Synonyms'] = metadata_df['Synonyms'].apply(lambda x: '; '.join(x))\n",
    "\n",
    "final_df = pd.merge(raw_entities, metadata_df, on='Entity', how='left')\n",
    "final_df.fillna('', inplace=True)\n",
    "final_df.to_csv('../03_Output/00_GPT KGs/Entity_Metadata.csv', sep=',', index=False)"
   ],
   "metadata": {
    "collapsed": false
   }
  },
  {
   "cell_type": "code",
   "execution_count": null,
   "outputs": [],
   "source": [
    "# Capitalize keys to ensure consistency\n",
    "json_relations = json.dumps(capitalized_relations, indent=2)\n",
    "# Writing the entities to json file\n",
    "with open('../03_Output/00_GPT KGs/Relations.json', \"w\") as output_file:\n",
    "    output_file.write(json_relations)\n",
    "    output_file.close()"
   ],
   "metadata": {
    "collapsed": false
   }
  },
  {
   "cell_type": "code",
   "execution_count": null,
   "outputs": [],
   "source": [
    "#capitalized_relations = capitalize_keys(relations_json)\n",
    "\n",
    "relations_df.fillna('', inplace=True)\n",
    "relations_df.to_csv('../03_Output/00_GPT KGs/Relations.csv', sep=',', index=False)\n"
   ],
   "metadata": {
    "collapsed": false
   }
  },
  {
   "cell_type": "code",
   "execution_count": null,
   "outputs": [],
   "source": [
    "file_path = '../03_Output/00_GPT KGs/Entity_Metadata.csv'\n",
    "entity_data = pd.read_csv(file_path, delimiter=';')\n",
    "ent_lst = list(entity_data['Entity'].str.strip())\n",
    "entities = [x.lower() for x in ent_lst]\n"
   ],
   "metadata": {
    "collapsed": false
   }
  },
  {
   "cell_type": "markdown",
   "source": [
    "# Add Subgroups to the relations"
   ],
   "metadata": {
    "collapsed": false
   }
  },
  {
   "cell_type": "code",
   "execution_count": 14,
   "outputs": [],
   "source": [
    "# Writing the entities to json file\n",
    "with open('../03_Output/00_GPT KGs/Relations.json', \"r\") as file:\n",
    "    data = file.read()\n",
    "    relations = json.loads(data)\n",
    "    file.close()"
   ],
   "metadata": {
    "collapsed": false
   }
  },
  {
   "cell_type": "code",
   "execution_count": 29,
   "outputs": [],
   "source": [
    "relations_with_groups = []\n",
    "start = 0\n",
    "end = 5"
   ],
   "metadata": {
    "collapsed": false
   }
  },
  {
   "cell_type": "markdown",
   "source": [
    "Add Subgroups for the existing relations"
   ],
   "metadata": {
    "collapsed": false
   }
  },
  {
   "cell_type": "code",
   "execution_count": 39,
   "outputs": [
    {
     "name": "stdout",
     "output_type": "stream",
     "text": [
      "{'relations': [{'Subject': 'Load forecasting and demand-side management', 'Relation': 'monitors', 'Object': 'Energy Consumption', 'Description': 'Load forecasting and demand-side management monitors energy consumption to identify trends and patterns.', 'Importance': 2, 'Subgroup': 'Energy Efficiency'}, {'Subject': 'Load forecasting and demand-side management', 'Relation': 'targets', 'Object': 'Energy Efficiency', 'Description': 'Load forecasting and demand-side management targets energy efficiency by optimizing energy usage and reducing waste.', 'Importance': 4, 'Subgroup': 'Energy Efficiency'}, {'Subject': 'Load forecasting and demand-side management', 'Relation': 'addresses', 'Object': 'Peak Demand', 'Description': 'Load forecasting and demand-side management addresses peak demand by managing and reducing energy usage during high-demand periods.', 'Importance': 3, 'Subgroup': 'Energy Efficiency'}, {'Subject': 'multilateral development banks', 'Relation': 'implements', 'Object': 'Energy Efficiency Policy', 'Description': 'Multilateral development banks implement energy efficiency policies to promote sustainable energy practices.', 'Importance': 4, 'Subgroup': 'Energy Efficiency'}, {'Subject': 'multilateral development banks', 'Relation': 'funds', 'Object': 'Renewable Energy Projects', 'Description': 'Multilateral development banks provide funding for renewable energy projects to support the transition to clean energy sources.', 'Importance': 4, 'Subgroup': 'Renewable Energy Policies'}]}\n",
      "{'relations': [{'Subject': 'Load forecasting and demand-side management', 'Relation': 'monitors', 'Object': 'Energy Consumption', 'Description': 'Load forecasting and demand-side management monitors energy consumption to identify trends and patterns.', 'Importance': 2, 'Subgroup': 'Energy Efficiency'}, {'Subject': 'Load forecasting and demand-side management', 'Relation': 'targets', 'Object': 'Energy Efficiency', 'Description': 'Load forecasting and demand-side management targets energy efficiency by optimizing energy usage and reducing waste.', 'Importance': 4, 'Subgroup': 'Energy Efficiency'}, {'Subject': 'Load forecasting and demand-side management', 'Relation': 'addresses', 'Object': 'Peak Demand', 'Description': 'Load forecasting and demand-side management addresses peak demand by managing and reducing energy usage during high-demand periods.', 'Importance': 3, 'Subgroup': 'Energy Efficiency'}, {'Subject': 'multilateral development banks', 'Relation': 'implements', 'Object': 'Energy Efficiency Policy', 'Description': 'Multilateral development banks implement energy efficiency policies to promote sustainable energy practices.', 'Importance': 4, 'Subgroup': 'Energy Efficiency'}, {'Subject': 'multilateral development banks', 'Relation': 'funds', 'Object': 'Renewable Energy Projects', 'Description': 'Multilateral development banks provide funding for renewable energy projects to support the transition to clean energy sources.', 'Importance': 4, 'Subgroup': 'Renewable Energy Policies'}]}\n",
      "{'relations': [{'Subject': 'multilateral development banks', 'Relation': 'focuses_on', 'Object': 'Climate Change Mitigation', 'Description': 'Multilateral development banks focus on climate change mitigation efforts by supporting sustainable energy initiatives.', 'Importance': 3, 'Subgroup': 'Renewable Energy Policies'}, {'Subject': 'multilateral development banks', 'Relation': 'in', 'Object': 'Partnership for Sustainable Energy', 'Description': 'Multilateral development banks are involved in the Partnership for Sustainable Energy to promote collaboration in the sustainable energy sector.', 'Importance': 3, 'Subgroup': 'Renewable Energy Policies'}, {'Subject': 'multilateral development banks', 'Relation': 'partners_with', 'Object': 'Private Sector Companies', 'Description': 'Multilateral development banks partner with private sector companies to leverage their expertise and resources for sustainable energy projects.', 'Importance': 4, 'Subgroup': 'Renewable Energy Policies'}, {'Subject': 'multilateral development banks', 'Relation': 'contributes_to', 'Object': 'Access to Clean Energy', 'Description': 'Multilateral development banks contribute to improving access to clean energy by supporting projects in underserved areas.', 'Importance': 4, 'Subgroup': 'Renewable Energy Policies'}, {'Subject': 'multilateral development banks', 'Relation': 'monitors', 'Object': 'Energy Efficiency Targets', 'Description': 'Multilateral development banks monitor the progress of energy efficiency targets to ensure effective implementation of sustainable energy policies.', 'Importance': 3, 'Subgroup': 'Renewable Energy Policies'}]}\n",
      "{'relations': [{'Subject': 'multilateral development banks', 'Relation': 'focuses_on', 'Object': 'Climate Change Mitigation', 'Description': 'Multilateral development banks focus on climate change mitigation efforts by supporting sustainable energy initiatives.', 'Importance': 3, 'Subgroup': 'Renewable Energy Policies'}, {'Subject': 'multilateral development banks', 'Relation': 'in', 'Object': 'Partnership for Sustainable Energy', 'Description': 'Multilateral development banks are involved in the Partnership for Sustainable Energy to promote collaboration in the sustainable energy sector.', 'Importance': 3, 'Subgroup': 'Renewable Energy Policies'}, {'Subject': 'multilateral development banks', 'Relation': 'partners_with', 'Object': 'Private Sector Companies', 'Description': 'Multilateral development banks partner with private sector companies to leverage their expertise and resources for sustainable energy projects.', 'Importance': 4, 'Subgroup': 'Renewable Energy Policies'}, {'Subject': 'multilateral development banks', 'Relation': 'contributes_to', 'Object': 'Access to Clean Energy', 'Description': 'Multilateral development banks contribute to improving access to clean energy by supporting projects in underserved areas.', 'Importance': 4, 'Subgroup': 'Renewable Energy Policies'}, {'Subject': 'multilateral development banks', 'Relation': 'monitors', 'Object': 'Energy Efficiency Targets', 'Description': 'Multilateral development banks monitor the progress of energy efficiency targets to ensure effective implementation of sustainable energy policies.', 'Importance': 3, 'Subgroup': 'Renewable Energy Policies'}]}\n",
      "{'relations': [{'Subject': 'multilateral development banks', 'Relation': 'targets', 'Object': 'Renewable Energy Generation', 'Description': 'Multilateral development banks set targets for increasing renewable energy generation to promote a shift towards clean and sustainable energy sources.', 'Importance': 4, 'Subgroup': 'Renewable Energy Policies'}, {'Subject': 'multilateral development banks', 'Relation': 'addresses', 'Object': 'Energy Poverty', 'Description': 'Multilateral development banks address energy poverty by supporting initiatives that provide access to affordable and reliable energy services.', 'Importance': 3, 'Subgroup': 'Renewable Energy Policies'}, {'Subject': 'un agencies', 'Relation': 'employs', 'Object': 'Renewable Energy Experts', 'Description': 'UN agencies employ renewable energy experts to provide technical assistance and expertise in promoting sustainable energy practices.', 'Importance': 4, 'Subgroup': 'Renewable Energy Policies'}, {'Subject': 'un agencies', 'Relation': 'collaborates_with', 'Object': 'Civil Society Organizations', 'Description': 'UN agencies collaborate with civil society organizations to foster partnerships and promote sustainable energy initiatives at the grassroots level.', 'Importance': 4, 'Subgroup': 'Renewable Energy Policies'}, {'Subject': 'un agencies', 'Relation': 'supports', 'Object': 'Energy Access Programs', 'Description': 'UN agencies support energy access programs to ensure that underserved communities have access to clean and affordable energy sources.', 'Importance': 4, 'Subgroup': 'Renewable Energy Policies'}]}\n",
      "{'relations': [{'Subject': 'multilateral development banks', 'Relation': 'targets', 'Object': 'Renewable Energy Generation', 'Description': 'Multilateral development banks set targets for increasing renewable energy generation to promote a shift towards clean and sustainable energy sources.', 'Importance': 4, 'Subgroup': 'Renewable Energy Policies'}, {'Subject': 'multilateral development banks', 'Relation': 'addresses', 'Object': 'Energy Poverty', 'Description': 'Multilateral development banks address energy poverty by supporting initiatives that provide access to affordable and reliable energy services.', 'Importance': 3, 'Subgroup': 'Renewable Energy Policies'}, {'Subject': 'un agencies', 'Relation': 'employs', 'Object': 'Renewable Energy Experts', 'Description': 'UN agencies employ renewable energy experts to provide technical assistance and expertise in promoting sustainable energy practices.', 'Importance': 4, 'Subgroup': 'Renewable Energy Policies'}, {'Subject': 'un agencies', 'Relation': 'collaborates_with', 'Object': 'Civil Society Organizations', 'Description': 'UN agencies collaborate with civil society organizations to foster partnerships and promote sustainable energy initiatives at the grassroots level.', 'Importance': 4, 'Subgroup': 'Renewable Energy Policies'}, {'Subject': 'un agencies', 'Relation': 'supports', 'Object': 'Energy Access Programs', 'Description': 'UN agencies support energy access programs to ensure that underserved communities have access to clean and affordable energy sources.', 'Importance': 4, 'Subgroup': 'Renewable Energy Policies'}]}\n",
      "{'relations': [{'Subject': 'un agencies', 'Relation': 'administers', 'Object': 'Climate Finance', 'Description': 'UN agencies administer climate finance to support sustainable energy projects and initiatives in developing countries.', 'Importance': 3, 'Subgroup': 'Renewable Energy Policies'}, {'Subject': 'un agencies', 'Relation': 'measures', 'Object': 'Energy Efficiency Performance', 'Description': 'UN agencies measure the energy efficiency performance of countries and provide recommendations for improvement.', 'Importance': 3, 'Subgroup': 'Energy Efficiency'}, {'Subject': 'un agencies', 'Relation': 'aligns_with', 'Object': 'Sustainable Development Goals', 'Description': 'UN agencies align their efforts in the sustainable energy sector with the Sustainable Development Goals to promote global sustainability.', 'Importance': 4, 'Subgroup': 'Renewable Energy Policies'}, {'Subject': 'un agencies', 'Relation': 'an_instance_of', 'Object': 'International Organizations', 'Description': 'UN agencies are an instance of international organizations that work towards promoting sustainable energy practices and addressing global challenges.', 'Importance': 3, 'Subgroup': 'Renewable Energy Policies'}, {'Subject': 'regional energy organizations', 'Relation': 'implements', 'Object': 'Energy Efficiency Policy', 'Description': 'Regional energy organizations implement energy efficiency policies to promote sustainable energy practices.', 'Importance': 4, 'Subgroup': 'Energy Efficiency'}]}\n",
      "{'relations': [{'Subject': 'un agencies', 'Relation': 'administers', 'Object': 'Climate Finance', 'Description': 'UN agencies administer climate finance to support sustainable energy projects and initiatives in developing countries.', 'Importance': 3, 'Subgroup': 'Renewable Energy Policies'}, {'Subject': 'un agencies', 'Relation': 'measures', 'Object': 'Energy Efficiency Performance', 'Description': 'UN agencies measure the energy efficiency performance of countries and provide recommendations for improvement.', 'Importance': 3, 'Subgroup': 'Energy Efficiency'}, {'Subject': 'un agencies', 'Relation': 'aligns_with', 'Object': 'Sustainable Development Goals', 'Description': 'UN agencies align their efforts in the sustainable energy sector with the Sustainable Development Goals to promote global sustainability.', 'Importance': 4, 'Subgroup': 'Renewable Energy Policies'}, {'Subject': 'un agencies', 'Relation': 'an_instance_of', 'Object': 'International Organizations', 'Description': 'UN agencies are an instance of international organizations that work towards promoting sustainable energy practices and addressing global challenges.', 'Importance': 3, 'Subgroup': 'Renewable Energy Policies'}, {'Subject': 'regional energy organizations', 'Relation': 'implements', 'Object': 'Energy Efficiency Policy', 'Description': 'Regional energy organizations implement energy efficiency policies to promote sustainable energy practices.', 'Importance': 4, 'Subgroup': 'Energy Efficiency'}]}\n",
      "{'relations': [{'Subject': 'regional energy organizations', 'Relation': 'funds', 'Object': 'Renewable Energy Projects', 'Description': 'Regional energy organizations provide funding for renewable energy projects to support the transition to clean energy sources.', 'Importance': 3, 'Subgroup': 'Renewable Energy Policies'}, {'Subject': 'regional energy organizations', 'Relation': 'focuses_on', 'Object': 'Energy Access', 'Description': 'Regional energy organizations focus on improving energy access in underserved areas to ensure equitable distribution of sustainable energy resources.', 'Importance': 4, 'Subgroup': 'Microgrids'}, {'Subject': 'regional energy organizations', 'Relation': 'partners_with', 'Object': 'Government Agencies', 'Description': 'Regional energy organizations collaborate and partner with government agencies to develop and implement sustainable energy policies and initiatives.', 'Importance': 4, 'Subgroup': 'Renewable Energy Policies'}, {'Subject': 'regional energy organizations', 'Relation': 'contributes_to', 'Object': 'Climate Change Mitigation', 'Description': 'Regional energy organizations contribute to climate change mitigation efforts by promoting the use of renewable energy sources and reducing greenhouse gas emissions.', 'Importance': 4, 'Subgroup': 'Renewable Energy Policies'}, {'Subject': 'regional energy organizations', 'Relation': 'monitors', 'Object': 'Energy Consumption', 'Description': 'Regional energy organizations monitor energy consumption patterns to identify areas for improvement and develop strategies for energy efficiency.', 'Importance': 3, 'Subgroup': 'Energy Analytics'}]}\n",
      "{'relations': [{'Subject': 'regional energy organizations', 'Relation': 'funds', 'Object': 'Renewable Energy Projects', 'Description': 'Regional energy organizations provide funding for renewable energy projects to support the transition to clean energy sources.', 'Importance': 3, 'Subgroup': 'Renewable Energy Policies'}, {'Subject': 'regional energy organizations', 'Relation': 'focuses_on', 'Object': 'Energy Access', 'Description': 'Regional energy organizations focus on improving energy access in underserved areas to ensure equitable distribution of sustainable energy resources.', 'Importance': 4, 'Subgroup': 'Microgrids'}, {'Subject': 'regional energy organizations', 'Relation': 'partners_with', 'Object': 'Government Agencies', 'Description': 'Regional energy organizations collaborate and partner with government agencies to develop and implement sustainable energy policies and initiatives.', 'Importance': 4, 'Subgroup': 'Renewable Energy Policies'}, {'Subject': 'regional energy organizations', 'Relation': 'contributes_to', 'Object': 'Climate Change Mitigation', 'Description': 'Regional energy organizations contribute to climate change mitigation efforts by promoting the use of renewable energy sources and reducing greenhouse gas emissions.', 'Importance': 4, 'Subgroup': 'Renewable Energy Policies'}, {'Subject': 'regional energy organizations', 'Relation': 'monitors', 'Object': 'Energy Consumption', 'Description': 'Regional energy organizations monitor energy consumption patterns to identify areas for improvement and develop strategies for energy efficiency.', 'Importance': 3, 'Subgroup': 'Energy Analytics'}]}\n",
      "{'relations': [{'Subject': 'regional energy organizations', 'Relation': 'targets', 'Object': 'Energy Poverty', 'Description': 'Regional energy organizations set targets to address energy poverty and ensure access to affordable and reliable energy services for all.', 'Importance': 4, 'Subgroup': 'Renewable Energy Policies'}, {'Subject': 'regional energy organizations', 'Relation': 'addresses', 'Object': 'Energy Transition', 'Description': 'Regional energy organizations address the challenges and opportunities of the energy transition towards sustainable and clean energy sources.', 'Importance': 3, 'Subgroup': 'Renewable Energy Policies'}, {'Subject': 'renewable energy agencies', 'Relation': 'employs', 'Object': 'Renewable Energy Experts', 'Description': 'Renewable energy agencies employ experts in the field of renewable energy to drive innovation and promote the adoption of clean energy technologies.', 'Importance': 4, 'Subgroup': 'Solar Power'}, {'Subject': 'renewable energy agencies', 'Relation': 'collaborates_with', 'Object': 'Research Institutions', 'Description': 'Renewable energy agencies collaborate with research institutions to advance scientific knowledge and develop new technologies for renewable energy generation.', 'Importance': 4, 'Subgroup': 'Solar Power'}, {'Subject': 'renewable energy agencies', 'Relation': 'supports', 'Object': 'Community Renewable Energy Projects', 'Description': 'Renewable energy agencies provide support and resources for community-based renewable energy projects to empower local communities and promote sustainable development.', 'Importance': 3, 'Subgroup': 'Solar Power'}]}\n",
      "{'relations': [{'Subject': 'regional energy organizations', 'Relation': 'targets', 'Object': 'Energy Poverty', 'Description': 'Regional energy organizations set targets to address energy poverty and ensure access to affordable and reliable energy services for all.', 'Importance': 4, 'Subgroup': 'Renewable Energy Policies'}, {'Subject': 'regional energy organizations', 'Relation': 'addresses', 'Object': 'Energy Transition', 'Description': 'Regional energy organizations address the challenges and opportunities of the energy transition towards sustainable and clean energy sources.', 'Importance': 3, 'Subgroup': 'Renewable Energy Policies'}, {'Subject': 'renewable energy agencies', 'Relation': 'employs', 'Object': 'Renewable Energy Experts', 'Description': 'Renewable energy agencies employ experts in the field of renewable energy to drive innovation and promote the adoption of clean energy technologies.', 'Importance': 4, 'Subgroup': 'Solar Power'}, {'Subject': 'renewable energy agencies', 'Relation': 'collaborates_with', 'Object': 'Research Institutions', 'Description': 'Renewable energy agencies collaborate with research institutions to advance scientific knowledge and develop new technologies for renewable energy generation.', 'Importance': 4, 'Subgroup': 'Solar Power'}, {'Subject': 'renewable energy agencies', 'Relation': 'supports', 'Object': 'Community Renewable Energy Projects', 'Description': 'Renewable energy agencies provide support and resources for community-based renewable energy projects to empower local communities and promote sustainable development.', 'Importance': 3, 'Subgroup': 'Solar Power'}]}\n",
      "{'relations': [{'Subject': 'renewable energy agencies', 'Relation': 'administers', 'Object': 'Feed-in Tariff Programs', 'Description': 'Renewable energy agencies administer feed-in tariff programs to incentivize the production of renewable energy and promote its integration into the grid.', 'Importance': 4, 'Subgroup': 'Renewable Energy Policies'}, {'Subject': 'renewable energy agencies', 'Relation': 'measures', 'Object': 'Renewable Energy Capacity', 'Description': 'Renewable energy agencies measure and track the growth of renewable energy capacity to assess the progress towards a sustainable and clean energy future.', 'Importance': 3, 'Subgroup': 'Renewable Energy Policies'}, {'Subject': 'renewable energy agencies', 'Relation': 'aligns_with', 'Object': 'Sustainable Development Goals', 'Description': 'Renewable energy agencies align their activities and initiatives with the Sustainable Development Goals to contribute to the global agenda for sustainable development.', 'Importance': 4, 'Subgroup': 'Renewable Energy Policies'}, {'Subject': 'renewable energy agencies', 'Relation': 'an_instance_of', 'Object': 'Government Agencies', 'Description': 'Renewable energy agencies are government agencies dedicated to promoting and supporting the development of renewable energy sources.', 'Importance': 4, 'Subgroup': 'Renewable Energy Policies'}, {'Subject': 'energy market and trade organizations', 'Relation': 'implements', 'Object': 'Building Standards', 'Description': 'Energy market and trade organizations implement building standards that promote the use of energy-saving designs and materials.', 'Importance': 4, 'Subgroup': 'Green Buildings'}]}\n",
      "{'relations': [{'Subject': 'renewable energy agencies', 'Relation': 'administers', 'Object': 'Feed-in Tariff Programs', 'Description': 'Renewable energy agencies administer feed-in tariff programs to incentivize the production of renewable energy and promote its integration into the grid.', 'Importance': 4, 'Subgroup': 'Renewable Energy Policies'}, {'Subject': 'renewable energy agencies', 'Relation': 'measures', 'Object': 'Renewable Energy Capacity', 'Description': 'Renewable energy agencies measure and track the growth of renewable energy capacity to assess the progress towards a sustainable and clean energy future.', 'Importance': 3, 'Subgroup': 'Renewable Energy Policies'}, {'Subject': 'renewable energy agencies', 'Relation': 'aligns_with', 'Object': 'Sustainable Development Goals', 'Description': 'Renewable energy agencies align their activities and initiatives with the Sustainable Development Goals to contribute to the global agenda for sustainable development.', 'Importance': 4, 'Subgroup': 'Renewable Energy Policies'}, {'Subject': 'renewable energy agencies', 'Relation': 'an_instance_of', 'Object': 'Government Agencies', 'Description': 'Renewable energy agencies are government agencies dedicated to promoting and supporting the development of renewable energy sources.', 'Importance': 4, 'Subgroup': 'Renewable Energy Policies'}, {'Subject': 'energy market and trade organizations', 'Relation': 'implements', 'Object': 'Building Standards', 'Description': 'Energy market and trade organizations implement building standards that promote the use of energy-saving designs and materials.', 'Importance': 4, 'Subgroup': 'Green Buildings'}]}\n",
      "{'relations': [{'Subject': 'energy market and trade organizations', 'Relation': 'funds', 'Object': 'Renewable Energy Projects', 'Description': 'Energy market and trade organizations provide funding for renewable energy projects to support their development and implementation.', 'Importance': 3, 'Subgroup': 'Renewable Energy Projects'}, {'Subject': 'energy market and trade organizations', 'Relation': 'focuses_on', 'Object': 'Energy Market Analysis', 'Description': 'Energy market and trade organizations focus on conducting energy market analysis to identify trends and opportunities for growth.', 'Importance': 3, 'Subgroup': 'Energy Market Analysis'}, {'Subject': 'energy market and trade organizations', 'Relation': 'in', 'Object': 'International Energy Trade', 'Description': 'Energy market and trade organizations are involved in international energy trade to facilitate the exchange of energy resources between countries.', 'Importance': 4, 'Subgroup': 'International Energy Trade'}, {'Subject': 'energy market and trade organizations', 'Relation': 'partners_with', 'Object': 'Renewable Energy Companies', 'Description': 'Energy market and trade organizations partner with renewable energy companies to promote the adoption and integration of renewable energy sources.', 'Importance': 4, 'Subgroup': 'Renewable Energy Companies'}, {'Subject': 'energy market and trade organizations', 'Relation': 'contributes_to', 'Object': 'Energy Policy Development', 'Description': 'Energy market and trade organizations contribute to the development of energy policies by providing insights and expertise on market dynamics and trends.', 'Importance': 3, 'Subgroup': 'Energy Policy Development'}]}\n",
      "{'relations': [{'Subject': 'energy market and trade organizations', 'Relation': 'funds', 'Object': 'Renewable Energy Projects', 'Description': 'Energy market and trade organizations provide funding for renewable energy projects to support their development and implementation.', 'Importance': 3, 'Subgroup': 'Renewable Energy Projects'}, {'Subject': 'energy market and trade organizations', 'Relation': 'focuses_on', 'Object': 'Energy Market Analysis', 'Description': 'Energy market and trade organizations focus on conducting energy market analysis to identify trends and opportunities for growth.', 'Importance': 3, 'Subgroup': 'Energy Market Analysis'}, {'Subject': 'energy market and trade organizations', 'Relation': 'in', 'Object': 'International Energy Trade', 'Description': 'Energy market and trade organizations are involved in international energy trade to facilitate the exchange of energy resources between countries.', 'Importance': 4, 'Subgroup': 'International Energy Trade'}, {'Subject': 'energy market and trade organizations', 'Relation': 'partners_with', 'Object': 'Renewable Energy Companies', 'Description': 'Energy market and trade organizations partner with renewable energy companies to promote the adoption and integration of renewable energy sources.', 'Importance': 4, 'Subgroup': 'Renewable Energy Companies'}, {'Subject': 'energy market and trade organizations', 'Relation': 'contributes_to', 'Object': 'Energy Policy Development', 'Description': 'Energy market and trade organizations contribute to the development of energy policies by providing insights and expertise on market dynamics and trends.', 'Importance': 3, 'Subgroup': 'Energy Policy Development'}]}\n",
      "{'relations': [{'Subject': 'energy market and trade organizations', 'Relation': 'monitors', 'Object': 'Energy Market Performance', 'Description': 'Energy market and trade organizations monitor the performance of the energy market to ensure fair competition and efficient resource allocation.', 'Importance': 4, 'Subgroup': 'Energy Market Performance'}, {'Subject': 'energy market and trade organizations', 'Relation': 'targets', 'Object': 'Energy Market Integration', 'Description': 'Energy market and trade organizations set targets for energy market integration to promote regional cooperation and harmonization of energy policies.', 'Importance': 3, 'Subgroup': 'Energy Market Integration'}, {'Subject': 'energy ministries', 'Relation': 'addresses', 'Object': 'Energy Access', 'Description': 'Energy ministries address the issue of energy access by implementing policies and initiatives to ensure reliable and affordable energy for all.', 'Importance': 4, 'Subgroup': 'Energy Access'}, {'Subject': 'energy ministries', 'Relation': 'employs', 'Object': 'Energy Experts', 'Description': 'Energy ministries employ energy experts to provide technical knowledge and advice on energy-related matters.', 'Importance': 3, 'Subgroup': 'Energy Experts'}, {'Subject': 'energy ministries', 'Relation': 'collaborates_with', 'Object': 'International Organizations', 'Description': 'Energy ministries collaborate with international organizations to exchange best practices and coordinate efforts in addressing global energy challenges.', 'Importance': 4, 'Subgroup': 'International Organizations'}]}\n",
      "{'relations': [{'Subject': 'energy market and trade organizations', 'Relation': 'monitors', 'Object': 'Energy Market Performance', 'Description': 'Energy market and trade organizations monitor the performance of the energy market to ensure fair competition and efficient resource allocation.', 'Importance': 4, 'Subgroup': 'Energy Market Performance'}, {'Subject': 'energy market and trade organizations', 'Relation': 'targets', 'Object': 'Energy Market Integration', 'Description': 'Energy market and trade organizations set targets for energy market integration to promote regional cooperation and harmonization of energy policies.', 'Importance': 3, 'Subgroup': 'Energy Market Integration'}, {'Subject': 'energy ministries', 'Relation': 'addresses', 'Object': 'Energy Access', 'Description': 'Energy ministries address the issue of energy access by implementing policies and initiatives to ensure reliable and affordable energy for all.', 'Importance': 4, 'Subgroup': 'Energy Access'}, {'Subject': 'energy ministries', 'Relation': 'employs', 'Object': 'Energy Experts', 'Description': 'Energy ministries employ energy experts to provide technical knowledge and advice on energy-related matters.', 'Importance': 3, 'Subgroup': 'Energy Experts'}, {'Subject': 'energy ministries', 'Relation': 'collaborates_with', 'Object': 'International Organizations', 'Description': 'Energy ministries collaborate with international organizations to exchange best practices and coordinate efforts in addressing global energy challenges.', 'Importance': 4, 'Subgroup': 'International Organizations'}]}\n",
      "{'relations': [{'Subject': 'energy ministries', 'Relation': 'supports', 'Object': 'Renewable Energy Research', 'Description': 'Energy ministries support research and development in the field of renewable energy to drive innovation and technological advancements.', 'Importance': 3, 'Subgroup': 'Renewable Energy Policies'}, {'Subject': 'energy ministries', 'Relation': 'administers', 'Object': 'Energy Subsidy Programs', 'Description': 'Energy ministries administer energy subsidy programs to promote the use of clean and sustainable energy sources.', 'Importance': 4, 'Subgroup': 'Renewable Energy Policies'}, {'Subject': 'energy ministries', 'Relation': 'measures', 'Object': 'Energy Consumption', 'Description': 'Energy ministries measure energy consumption to assess the effectiveness of energy conservation and efficiency measures.', 'Importance': 3, 'Subgroup': 'Energy Analytics'}, {'Subject': 'energy ministries', 'Relation': 'aligns_with', 'Object': 'Climate Change Mitigation', 'Description': 'Energy ministries align their policies and strategies with climate change mitigation goals to reduce greenhouse gas emissions.', 'Importance': 4, 'Subgroup': 'Renewable Energy Policies'}, {'Subject': 'energy ministries', 'Relation': 'an_instance_of', 'Object': 'Government Agencies', 'Description': 'Energy ministries are government agencies responsible for formulating and implementing energy policies and regulations.', 'Importance': 4, 'Subgroup': 'Renewable Energy Policies'}]}\n",
      "{'relations': [{'Subject': 'energy ministries', 'Relation': 'supports', 'Object': 'Renewable Energy Research', 'Description': 'Energy ministries support research and development in the field of renewable energy to drive innovation and technological advancements.', 'Importance': 3, 'Subgroup': 'Renewable Energy Policies'}, {'Subject': 'energy ministries', 'Relation': 'administers', 'Object': 'Energy Subsidy Programs', 'Description': 'Energy ministries administer energy subsidy programs to promote the use of clean and sustainable energy sources.', 'Importance': 4, 'Subgroup': 'Renewable Energy Policies'}, {'Subject': 'energy ministries', 'Relation': 'measures', 'Object': 'Energy Consumption', 'Description': 'Energy ministries measure energy consumption to assess the effectiveness of energy conservation and efficiency measures.', 'Importance': 3, 'Subgroup': 'Energy Analytics'}, {'Subject': 'energy ministries', 'Relation': 'aligns_with', 'Object': 'Climate Change Mitigation', 'Description': 'Energy ministries align their policies and strategies with climate change mitigation goals to reduce greenhouse gas emissions.', 'Importance': 4, 'Subgroup': 'Renewable Energy Policies'}, {'Subject': 'energy ministries', 'Relation': 'an_instance_of', 'Object': 'Government Agencies', 'Description': 'Energy ministries are government agencies responsible for formulating and implementing energy policies and regulations.', 'Importance': 4, 'Subgroup': 'Renewable Energy Policies'}]}\n",
      "{'relations': [{'Subject': 'undp country offices', 'Relation': 'implements', 'Object': 'Energy Efficiency Policy', 'Description': 'UNDP country offices implement Energy Efficiency Policy to promote sustainable energy practices.', 'Importance': 4, 'Subgroup': 'Energy Efficiency'}, {'Subject': 'undp country offices', 'Relation': 'funds', 'Object': 'Renewable Energy Projects', 'Description': 'UNDP country offices provide funding for renewable energy projects to support the transition to sustainable energy sources.', 'Importance': 3, 'Subgroup': 'Renewable Energy Policies'}, {'Subject': 'undp country offices', 'Relation': 'focuses_on', 'Object': 'Access to Clean Energy', 'Description': 'UNDP country offices focus on improving access to clean energy for communities in need.', 'Importance': 4, 'Subgroup': 'Renewable Energy Policies'}, {'Subject': 'undp country offices', 'Relation': 'in', 'Object': 'Partnership with Local Governments', 'Description': 'UNDP country offices work in partnership with local governments to implement sustainable energy initiatives.', 'Importance': 3, 'Subgroup': 'Sustainable Urban Planning'}, {'Subject': 'undp country offices', 'Relation': 'partners_with', 'Object': 'Private Sector Companies', 'Description': 'UNDP country offices partner with private sector companies to promote sustainable energy solutions.', 'Importance': 3, 'Subgroup': 'Renewable Energy Policies'}]}\n",
      "{'relations': [{'Subject': 'undp country offices', 'Relation': 'implements', 'Object': 'Energy Efficiency Policy', 'Description': 'UNDP country offices implement Energy Efficiency Policy to promote sustainable energy practices.', 'Importance': 4, 'Subgroup': 'Energy Efficiency'}, {'Subject': 'undp country offices', 'Relation': 'funds', 'Object': 'Renewable Energy Projects', 'Description': 'UNDP country offices provide funding for renewable energy projects to support the transition to sustainable energy sources.', 'Importance': 3, 'Subgroup': 'Renewable Energy Policies'}, {'Subject': 'undp country offices', 'Relation': 'focuses_on', 'Object': 'Access to Clean Energy', 'Description': 'UNDP country offices focus on improving access to clean energy for communities in need.', 'Importance': 4, 'Subgroup': 'Renewable Energy Policies'}, {'Subject': 'undp country offices', 'Relation': 'in', 'Object': 'Partnership with Local Governments', 'Description': 'UNDP country offices work in partnership with local governments to implement sustainable energy initiatives.', 'Importance': 3, 'Subgroup': 'Sustainable Urban Planning'}, {'Subject': 'undp country offices', 'Relation': 'partners_with', 'Object': 'Private Sector Companies', 'Description': 'UNDP country offices partner with private sector companies to promote sustainable energy solutions.', 'Importance': 3, 'Subgroup': 'Renewable Energy Policies'}]}\n",
      "{'relations': [{'Subject': 'undp country offices', 'Relation': 'contributes_to', 'Object': 'Climate Change Mitigation', 'Description': 'UNDP country offices contribute to climate change mitigation through the implementation of sustainable energy projects.', 'Importance': 4, 'Subgroup': 'Renewable Energy Policies'}, {'Subject': 'undp country offices', 'Relation': 'monitors', 'Object': 'Energy Consumption', 'Description': 'UNDP country offices monitor energy consumption to identify areas for improvement and promote energy efficiency.', 'Importance': 2, 'Subgroup': 'Energy Efficiency'}, {'Subject': 'undp country offices', 'Relation': 'targets', 'Object': 'Renewable Energy Generation', 'Description': 'UNDP country offices set targets for increasing renewable energy generation to reduce reliance on fossil fuels.', 'Importance': 3, 'Subgroup': 'Renewable Energy Policies'}, {'Subject': 'national statistical offices', 'Relation': 'addresses', 'Object': 'Energy Access Data', 'Description': 'National statistical offices collect and address energy access data to inform policy decisions and improve energy access.', 'Importance': 4, 'Subgroup': 'Energy Analytics'}, {'Subject': 'national statistical offices', 'Relation': 'employs', 'Object': 'Energy Analysts', 'Description': 'National statistical offices employ energy analysts to analyze energy data and provide insights for sustainable energy planning.', 'Importance': 3, 'Subgroup': 'Energy Analytics'}]}\n",
      "{'relations': [{'Subject': 'undp country offices', 'Relation': 'contributes_to', 'Object': 'Climate Change Mitigation', 'Description': 'UNDP country offices contribute to climate change mitigation through the implementation of sustainable energy projects.', 'Importance': 4, 'Subgroup': 'Renewable Energy Policies'}, {'Subject': 'undp country offices', 'Relation': 'monitors', 'Object': 'Energy Consumption', 'Description': 'UNDP country offices monitor energy consumption to identify areas for improvement and promote energy efficiency.', 'Importance': 2, 'Subgroup': 'Energy Efficiency'}, {'Subject': 'undp country offices', 'Relation': 'targets', 'Object': 'Renewable Energy Generation', 'Description': 'UNDP country offices set targets for increasing renewable energy generation to reduce reliance on fossil fuels.', 'Importance': 3, 'Subgroup': 'Renewable Energy Policies'}, {'Subject': 'national statistical offices', 'Relation': 'addresses', 'Object': 'Energy Access Data', 'Description': 'National statistical offices collect and address energy access data to inform policy decisions and improve energy access.', 'Importance': 4, 'Subgroup': 'Energy Analytics'}, {'Subject': 'national statistical offices', 'Relation': 'employs', 'Object': 'Energy Analysts', 'Description': 'National statistical offices employ energy analysts to analyze energy data and provide insights for sustainable energy planning.', 'Importance': 3, 'Subgroup': 'Energy Analytics'}]}\n",
      "{'relations': [{'Subject': 'national statistical offices', 'Relation': 'collaborates_with', 'Object': 'Research Institutions', 'Description': 'National statistical offices collaborate with research institutions to conduct studies on energy consumption and trends.', 'Importance': 3, 'Subgroup': 'Renewable Energy Policies'}, {'Subject': 'national statistical offices', 'Relation': 'supports', 'Object': 'Energy Efficiency Programs', 'Description': 'National statistical offices support energy efficiency programs by providing data and insights for program development and evaluation.', 'Importance': 3, 'Subgroup': 'Energy Efficiency'}, {'Subject': 'national statistical offices', 'Relation': 'administers', 'Object': 'Energy Surveys', 'Description': 'National statistical offices administer energy surveys to gather data on energy consumption and usage patterns.', 'Importance': 2, 'Subgroup': 'Energy Analytics'}, {'Subject': 'national statistical offices', 'Relation': 'measures', 'Object': 'Renewable Energy Capacity', 'Description': 'National statistical offices measure renewable energy capacity to track progress towards sustainable energy goals.', 'Importance': 3, 'Subgroup': 'Solar Power'}, {'Subject': 'national statistical offices', 'Relation': 'aligns_with', 'Object': 'Sustainable Development Goals', 'Description': 'National statistical offices align their energy data collection and reporting with the Sustainable Development Goals.', 'Importance': 4, 'Subgroup': 'Wind Energy'}]}\n",
      "{'relations': [{'Subject': 'national statistical offices', 'Relation': 'collaborates_with', 'Object': 'Research Institutions', 'Description': 'National statistical offices collaborate with research institutions to conduct studies on energy consumption and trends.', 'Importance': 3, 'Subgroup': 'Renewable Energy Policies'}, {'Subject': 'national statistical offices', 'Relation': 'supports', 'Object': 'Energy Efficiency Programs', 'Description': 'National statistical offices support energy efficiency programs by providing data and insights for program development and evaluation.', 'Importance': 3, 'Subgroup': 'Energy Efficiency'}, {'Subject': 'national statistical offices', 'Relation': 'administers', 'Object': 'Energy Surveys', 'Description': 'National statistical offices administer energy surveys to gather data on energy consumption and usage patterns.', 'Importance': 2, 'Subgroup': 'Energy Analytics'}, {'Subject': 'national statistical offices', 'Relation': 'measures', 'Object': 'Renewable Energy Capacity', 'Description': 'National statistical offices measure renewable energy capacity to track progress towards sustainable energy goals.', 'Importance': 3, 'Subgroup': 'Solar Power'}, {'Subject': 'national statistical offices', 'Relation': 'aligns_with', 'Object': 'Sustainable Development Goals', 'Description': 'National statistical offices align their energy data collection and reporting with the Sustainable Development Goals.', 'Importance': 4, 'Subgroup': 'Wind Energy'}]}\n",
      "{'relations': [{'Subject': 'national statistical offices', 'Relation': 'an_instance_of', 'Object': 'Government Agencies', 'Description': 'National statistical offices are government agencies responsible for collecting and analyzing energy data.', 'Importance': 3, 'Subgroup': 'Renewable Energy Policies'}, {'Subject': 'energy development practitioners', 'Relation': 'implements', 'Object': 'Building Standards', 'Description': 'Energy development practitioners implement building standards that promote the use of energy-saving designs and materials.', 'Importance': 4, 'Subgroup': 'Green Buildings'}, {'Subject': 'energy development practitioners', 'Relation': 'funds', 'Object': 'Renewable Energy Projects', 'Description': 'Energy development practitioners provide funding for renewable energy projects.', 'Importance': 3, 'Subgroup': 'Solar Power'}, {'Subject': 'energy development practitioners', 'Relation': 'focuses_on', 'Object': 'Energy Access', 'Description': 'Energy development practitioners focus on improving energy access for communities.', 'Importance': 4, 'Subgroup': 'Microgrids'}, {'Subject': 'energy development practitioners', 'Relation': 'in', 'Object': 'Energy Policy', 'Description': 'Energy development practitioners are involved in the development and implementation of energy policies.', 'Importance': 3, 'Subgroup': 'Renewable Energy Policies'}]}\n",
      "{'relations': [{'Subject': 'national statistical offices', 'Relation': 'an_instance_of', 'Object': 'Government Agencies', 'Description': 'National statistical offices are government agencies responsible for collecting and analyzing energy data.', 'Importance': 3, 'Subgroup': 'Renewable Energy Policies'}, {'Subject': 'energy development practitioners', 'Relation': 'implements', 'Object': 'Building Standards', 'Description': 'Energy development practitioners implement building standards that promote the use of energy-saving designs and materials.', 'Importance': 4, 'Subgroup': 'Green Buildings'}, {'Subject': 'energy development practitioners', 'Relation': 'funds', 'Object': 'Renewable Energy Projects', 'Description': 'Energy development practitioners provide funding for renewable energy projects.', 'Importance': 3, 'Subgroup': 'Solar Power'}, {'Subject': 'energy development practitioners', 'Relation': 'focuses_on', 'Object': 'Energy Access', 'Description': 'Energy development practitioners focus on improving energy access for communities.', 'Importance': 4, 'Subgroup': 'Microgrids'}, {'Subject': 'energy development practitioners', 'Relation': 'in', 'Object': 'Energy Policy', 'Description': 'Energy development practitioners are involved in the development and implementation of energy policies.', 'Importance': 3, 'Subgroup': 'Renewable Energy Policies'}]}\n",
      "{'relations': [{'Subject': 'energy development practitioners', 'Relation': 'partners_with', 'Object': 'Government Agencies', 'Description': 'Energy development practitioners partner with government agencies to collaborate on sustainable energy projects.', 'Importance': 4, 'Subgroup': 'Renewable Energy Policies'}, {'Subject': 'energy development practitioners', 'Relation': 'contributes_to', 'Object': 'Climate Change Mitigation', 'Description': 'Energy development practitioners contribute to climate change mitigation efforts through the promotion of renewable energy sources.', 'Importance': 4, 'Subgroup': 'Solar Power'}, {'Subject': 'energy development practitioners', 'Relation': 'monitors', 'Object': 'Energy Consumption', 'Description': 'Energy development practitioners monitor energy consumption patterns to identify areas for improvement and efficiency.', 'Importance': 3, 'Subgroup': 'Energy Analytics'}, {'Subject': 'energy development practitioners', 'Relation': 'targets', 'Object': 'Energy Efficiency', 'Description': 'Energy development practitioners set targets for improving energy efficiency in various sectors.', 'Importance': 4, 'Subgroup': 'Energy Efficiency'}, {'Subject': 'energy and development economics', 'Relation': 'addresses', 'Object': 'Energy Poverty', 'Description': 'Energy and development economics address the issue of energy poverty and its impact on socio-economic development.', 'Importance': 4, 'Subgroup': 'Smart Grid Technologies'}]}\n",
      "{'relations': [{'Subject': 'energy development practitioners', 'Relation': 'partners_with', 'Object': 'Government Agencies', 'Description': 'Energy development practitioners partner with government agencies to collaborate on sustainable energy projects.', 'Importance': 4, 'Subgroup': 'Renewable Energy Policies'}, {'Subject': 'energy development practitioners', 'Relation': 'contributes_to', 'Object': 'Climate Change Mitigation', 'Description': 'Energy development practitioners contribute to climate change mitigation efforts through the promotion of renewable energy sources.', 'Importance': 4, 'Subgroup': 'Solar Power'}, {'Subject': 'energy development practitioners', 'Relation': 'monitors', 'Object': 'Energy Consumption', 'Description': 'Energy development practitioners monitor energy consumption patterns to identify areas for improvement and efficiency.', 'Importance': 3, 'Subgroup': 'Energy Analytics'}, {'Subject': 'energy development practitioners', 'Relation': 'targets', 'Object': 'Energy Efficiency', 'Description': 'Energy development practitioners set targets for improving energy efficiency in various sectors.', 'Importance': 4, 'Subgroup': 'Energy Efficiency'}, {'Subject': 'energy and development economics', 'Relation': 'addresses', 'Object': 'Energy Poverty', 'Description': 'Energy and development economics address the issue of energy poverty and its impact on socio-economic development.', 'Importance': 4, 'Subgroup': 'Smart Grid Technologies'}]}\n",
      "{'relations': [{'Subject': 'energy and development economics', 'Relation': 'employs', 'Object': 'Cost-Benefit Analysis', 'Description': 'Energy and development economics employ cost-benefit analysis to evaluate the economic viability of sustainable energy projects.', 'Importance': 3, 'Subgroup': 'Renewable Energy Policies'}, {'Subject': 'energy and development economics', 'Relation': 'collaborates_with', 'Object': 'International Organizations', 'Description': 'Energy and development economics collaborate with international organizations to promote sustainable energy solutions globally.', 'Importance': 4, 'Subgroup': 'Renewable Energy Policies'}, {'Subject': 'energy and development economics', 'Relation': 'supports', 'Object': 'Renewable Energy Research', 'Description': 'Energy and development economics support research on renewable energy technologies and their potential for economic growth.', 'Importance': 3, 'Subgroup': 'Renewable Energy Policies'}, {'Subject': 'energy and development economics', 'Relation': 'administers', 'Object': 'Energy Subsidies', 'Description': 'Energy and development economics administer energy subsidies to promote the adoption of clean and affordable energy sources.', 'Importance': 4, 'Subgroup': 'Renewable Energy Policies'}, {'Subject': 'energy and development economics', 'Relation': 'measures', 'Object': 'Energy Productivity', 'Description': 'Energy and development economics measure energy productivity to assess the efficiency of energy use in different sectors.', 'Importance': 3, 'Subgroup': 'Renewable Energy Policies'}]}\n",
      "{'relations': [{'Subject': 'energy and development economics', 'Relation': 'employs', 'Object': 'Cost-Benefit Analysis', 'Description': 'Energy and development economics employ cost-benefit analysis to evaluate the economic viability of sustainable energy projects.', 'Importance': 3, 'Subgroup': 'Renewable Energy Policies'}, {'Subject': 'energy and development economics', 'Relation': 'collaborates_with', 'Object': 'International Organizations', 'Description': 'Energy and development economics collaborate with international organizations to promote sustainable energy solutions globally.', 'Importance': 4, 'Subgroup': 'Renewable Energy Policies'}, {'Subject': 'energy and development economics', 'Relation': 'supports', 'Object': 'Renewable Energy Research', 'Description': 'Energy and development economics support research on renewable energy technologies and their potential for economic growth.', 'Importance': 3, 'Subgroup': 'Renewable Energy Policies'}, {'Subject': 'energy and development economics', 'Relation': 'administers', 'Object': 'Energy Subsidies', 'Description': 'Energy and development economics administer energy subsidies to promote the adoption of clean and affordable energy sources.', 'Importance': 4, 'Subgroup': 'Renewable Energy Policies'}, {'Subject': 'energy and development economics', 'Relation': 'measures', 'Object': 'Energy Productivity', 'Description': 'Energy and development economics measure energy productivity to assess the efficiency of energy use in different sectors.', 'Importance': 3, 'Subgroup': 'Renewable Energy Policies'}]}\n",
      "{'relations': [{'Subject': 'energy and development economics', 'Relation': 'aligns_with', 'Object': 'Sustainable Development Goals', 'Description': 'Energy and development economics align with the Sustainable Development Goals to ensure energy access and sustainability for all.', 'Importance': 4, 'Subgroup': 'Renewable Energy Policies'}, {'Subject': 'energy and development economics', 'Relation': 'an_instance_of', 'Object': 'Interdisciplinary Field', 'Description': 'Energy and development economics is an interdisciplinary field that combines principles of economics and energy studies.', 'Importance': 3, 'Subgroup': 'Renewable Energy Policies'}, {'Subject': 'energy and modernization', 'Relation': 'implements', 'Object': 'Building Standards', 'Description': 'Energy and modernization implements rigorous building standards that promote the use of energy-saving designs and materials.', 'Importance': 4, 'Subgroup': 'Green Buildings'}, {'Subject': 'energy and modernization', 'Relation': 'funds', 'Object': 'Renewable Energy Projects', 'Description': 'Energy and modernization funds renewable energy projects to support the transition to clean and sustainable energy sources.', 'Importance': 3, 'Subgroup': 'Renewable Energy Policies'}, {'Subject': 'energy and modernization', 'Relation': 'focuses_on', 'Object': 'Energy Access', 'Description': 'Energy and modernization focuses on improving energy access for all, especially in underserved communities.', 'Importance': 4, 'Subgroup': 'Renewable Energy Policies'}]}\n",
      "{'relations': [{'Subject': 'energy and development economics', 'Relation': 'aligns_with', 'Object': 'Sustainable Development Goals', 'Description': 'Energy and development economics align with the Sustainable Development Goals to ensure energy access and sustainability for all.', 'Importance': 4, 'Subgroup': 'Renewable Energy Policies'}, {'Subject': 'energy and development economics', 'Relation': 'an_instance_of', 'Object': 'Interdisciplinary Field', 'Description': 'Energy and development economics is an interdisciplinary field that combines principles of economics and energy studies.', 'Importance': 3, 'Subgroup': 'Renewable Energy Policies'}, {'Subject': 'energy and modernization', 'Relation': 'implements', 'Object': 'Building Standards', 'Description': 'Energy and modernization implements rigorous building standards that promote the use of energy-saving designs and materials.', 'Importance': 4, 'Subgroup': 'Green Buildings'}, {'Subject': 'energy and modernization', 'Relation': 'funds', 'Object': 'Renewable Energy Projects', 'Description': 'Energy and modernization funds renewable energy projects to support the transition to clean and sustainable energy sources.', 'Importance': 3, 'Subgroup': 'Renewable Energy Policies'}, {'Subject': 'energy and modernization', 'Relation': 'focuses_on', 'Object': 'Energy Access', 'Description': 'Energy and modernization focuses on improving energy access for all, especially in underserved communities.', 'Importance': 4, 'Subgroup': 'Renewable Energy Policies'}]}\n",
      "{'relations': [{'Subject': 'energy and modernization', 'Relation': 'in', 'Object': 'Energy Transition', 'Description': 'Energy and modernization plays a crucial role in the ongoing energy transition towards renewable and sustainable energy systems.', 'Importance': 4, 'Subgroup': 'Renewable Energy Policies'}, {'Subject': 'energy and modernization', 'Relation': 'partners_with', 'Object': 'Government Agencies', 'Description': 'Energy and modernization partners with government agencies to develop and implement sustainable energy policies and initiatives.', 'Importance': 3, 'Subgroup': 'Renewable Energy Policies'}, {'Subject': 'energy and modernization', 'Relation': 'contributes_to', 'Object': 'Climate Change Mitigation', 'Description': 'Energy and modernization contributes to climate change mitigation efforts through the promotion of renewable energy and energy efficiency measures.', 'Importance': 4, 'Subgroup': 'Renewable Energy Policies'}, {'Subject': 'energy and modernization', 'Relation': 'monitors', 'Object': 'Energy Consumption', 'Description': 'Energy and modernization monitors energy consumption patterns to identify areas for improvement and optimize energy efficiency.', 'Importance': 3, 'Subgroup': 'Energy Analytics'}, {'Subject': 'energy and modernization', 'Relation': 'targets', 'Object': 'Energy Poverty', 'Description': 'Energy and modernization targets the reduction of energy poverty by increasing access to affordable and reliable energy services.', 'Importance': 4, 'Subgroup': 'Renewable Energy Policies'}]}\n",
      "{'relations': [{'Subject': 'energy and modernization', 'Relation': 'in', 'Object': 'Energy Transition', 'Description': 'Energy and modernization plays a crucial role in the ongoing energy transition towards renewable and sustainable energy systems.', 'Importance': 4, 'Subgroup': 'Renewable Energy Policies'}, {'Subject': 'energy and modernization', 'Relation': 'partners_with', 'Object': 'Government Agencies', 'Description': 'Energy and modernization partners with government agencies to develop and implement sustainable energy policies and initiatives.', 'Importance': 3, 'Subgroup': 'Renewable Energy Policies'}, {'Subject': 'energy and modernization', 'Relation': 'contributes_to', 'Object': 'Climate Change Mitigation', 'Description': 'Energy and modernization contributes to climate change mitigation efforts through the promotion of renewable energy and energy efficiency measures.', 'Importance': 4, 'Subgroup': 'Renewable Energy Policies'}, {'Subject': 'energy and modernization', 'Relation': 'monitors', 'Object': 'Energy Consumption', 'Description': 'Energy and modernization monitors energy consumption patterns to identify areas for improvement and optimize energy efficiency.', 'Importance': 3, 'Subgroup': 'Energy Analytics'}, {'Subject': 'energy and modernization', 'Relation': 'targets', 'Object': 'Energy Poverty', 'Description': 'Energy and modernization targets the reduction of energy poverty by increasing access to affordable and reliable energy services.', 'Importance': 4, 'Subgroup': 'Renewable Energy Policies'}]}\n",
      "{'relations': [{'Subject': 'sustainable energy and dependency theory', 'Relation': 'addresses', 'Object': 'Energy Inequality', 'Description': 'Sustainable energy and dependency theory addresses energy inequality by promoting equitable access to sustainable energy resources.', 'Importance': 4, 'Subgroup': 'Solar Power'}, {'Subject': 'sustainable energy and dependency theory', 'Relation': 'employs', 'Object': 'Renewable Energy Technologies', 'Description': 'Sustainable energy and dependency theory employs renewable energy technologies to reduce dependence on fossil fuels and promote environmental sustainability.', 'Importance': 3, 'Subgroup': 'Wind Energy'}, {'Subject': 'sustainable energy and dependency theory', 'Relation': 'collaborates_with', 'Object': 'Academic Institutions', 'Description': 'Sustainable energy and dependency theory collaborates with academic institutions to conduct research and develop innovative solutions for sustainable energy development.', 'Importance': 3, 'Subgroup': 'Hydroelectric Power'}, {'Subject': 'sustainable energy and dependency theory', 'Relation': 'supports', 'Object': 'Community-Based Renewable Energy Projects', 'Description': 'Sustainable energy and dependency theory supports community-based renewable energy projects to empower local communities and promote sustainable development.', 'Importance': 4, 'Subgroup': 'Geothermal Energy'}, {'Subject': 'sustainable energy and dependency theory', 'Relation': 'administers', 'Object': 'Energy Efficiency Programs', 'Description': 'Sustainable energy and dependency theory administers energy efficiency programs to promote energy conservation and reduce greenhouse gas emissions.', 'Importance': 3, 'Subgroup': 'Biomass Energy'}]}\n",
      "{'relations': [{'Subject': 'sustainable energy and dependency theory', 'Relation': 'addresses', 'Object': 'Energy Inequality', 'Description': 'Sustainable energy and dependency theory addresses energy inequality by promoting equitable access to sustainable energy resources.', 'Importance': 4, 'Subgroup': 'Solar Power'}, {'Subject': 'sustainable energy and dependency theory', 'Relation': 'employs', 'Object': 'Renewable Energy Technologies', 'Description': 'Sustainable energy and dependency theory employs renewable energy technologies to reduce dependence on fossil fuels and promote environmental sustainability.', 'Importance': 3, 'Subgroup': 'Wind Energy'}, {'Subject': 'sustainable energy and dependency theory', 'Relation': 'collaborates_with', 'Object': 'Academic Institutions', 'Description': 'Sustainable energy and dependency theory collaborates with academic institutions to conduct research and develop innovative solutions for sustainable energy development.', 'Importance': 3, 'Subgroup': 'Hydroelectric Power'}, {'Subject': 'sustainable energy and dependency theory', 'Relation': 'supports', 'Object': 'Community-Based Renewable Energy Projects', 'Description': 'Sustainable energy and dependency theory supports community-based renewable energy projects to empower local communities and promote sustainable development.', 'Importance': 4, 'Subgroup': 'Geothermal Energy'}, {'Subject': 'sustainable energy and dependency theory', 'Relation': 'administers', 'Object': 'Energy Efficiency Programs', 'Description': 'Sustainable energy and dependency theory administers energy efficiency programs to promote energy conservation and reduce greenhouse gas emissions.', 'Importance': 3, 'Subgroup': 'Biomass Energy'}]}\n",
      "{'relations': [{'Subject': 'sustainable energy and dependency theory', 'Relation': 'measures', 'Object': 'Energy Access Index', 'Description': 'Sustainable energy and dependency theory measures energy access index to assess the progress and impact of sustainable energy initiatives.', 'Importance': 3, 'Subgroup': 'Energy Efficiency'}, {'Subject': 'sustainable energy and dependency theory', 'Relation': 'aligns_with', 'Object': 'Sustainable Development Goals', 'Description': 'Sustainable energy and dependency theory aligns with the Sustainable Development Goals to promote sustainable energy as a key driver of social and economic progress.', 'Importance': 4, 'Subgroup': 'Renewable Energy Policies'}, {'Subject': 'sustainable energy and dependency theory', 'Relation': 'an_instance_of', 'Object': 'Energy Transition Theory', 'Description': 'Sustainable energy and dependency theory is an instance of energy transition theory that focuses on the role of energy in shaping socio-economic systems.', 'Importance': 4, 'Subgroup': 'Renewable Energy Policies'}, {'Subject': 'ecological modernization', 'Relation': 'implements', 'Object': 'Energy Efficiency Policy', 'Description': 'Ecological modernization implements energy efficiency policies that promote sustainable energy practices.', 'Importance': 4, 'Subgroup': 'Energy Efficiency'}, {'Subject': 'ecological modernization', 'Relation': 'funds', 'Object': 'Renewable Energy Research', 'Description': 'Ecological modernization funds research on renewable energy technologies to support the transition to sustainable energy sources.', 'Importance': 3, 'Subgroup': 'Renewable Energy Policies'}]}\n",
      "{'relations': [{'Subject': 'sustainable energy and dependency theory', 'Relation': 'measures', 'Object': 'Energy Access Index', 'Description': 'Sustainable energy and dependency theory measures energy access index to assess the progress and impact of sustainable energy initiatives.', 'Importance': 3, 'Subgroup': 'Energy Efficiency'}, {'Subject': 'sustainable energy and dependency theory', 'Relation': 'aligns_with', 'Object': 'Sustainable Development Goals', 'Description': 'Sustainable energy and dependency theory aligns with the Sustainable Development Goals to promote sustainable energy as a key driver of social and economic progress.', 'Importance': 4, 'Subgroup': 'Renewable Energy Policies'}, {'Subject': 'sustainable energy and dependency theory', 'Relation': 'an_instance_of', 'Object': 'Energy Transition Theory', 'Description': 'Sustainable energy and dependency theory is an instance of energy transition theory that focuses on the role of energy in shaping socio-economic systems.', 'Importance': 4, 'Subgroup': 'Renewable Energy Policies'}, {'Subject': 'ecological modernization', 'Relation': 'implements', 'Object': 'Energy Efficiency Policy', 'Description': 'Ecological modernization implements energy efficiency policies that promote sustainable energy practices.', 'Importance': 4, 'Subgroup': 'Energy Efficiency'}, {'Subject': 'ecological modernization', 'Relation': 'funds', 'Object': 'Renewable Energy Research', 'Description': 'Ecological modernization funds research on renewable energy technologies to support the transition to sustainable energy sources.', 'Importance': 3, 'Subgroup': 'Renewable Energy Policies'}]}\n",
      "{'relations': [{'Subject': 'ecological modernization', 'Relation': 'focuses_on', 'Object': 'Circular Economy', 'Description': 'Ecological modernization focuses on promoting a circular economy that minimizes waste and maximizes resource efficiency.', 'Importance': 4, 'Subgroup': 'Renewable Energy Policies'}, {'Subject': 'ecological modernization', 'Relation': 'in', 'Object': 'Sustainable Energy Transition', 'Description': 'Ecological modernization plays a crucial role in the sustainable energy transition by promoting renewable energy and sustainable practices.', 'Importance': 4, 'Subgroup': 'Renewable Energy Policies'}, {'Subject': 'ecological modernization', 'Relation': 'partners_with', 'Object': 'Clean Energy Companies', 'Description': 'Ecological modernization partners with clean energy companies to accelerate the adoption of sustainable energy solutions.', 'Importance': 3, 'Subgroup': 'Renewable Energy Policies'}, {'Subject': 'ecological modernization', 'Relation': 'contributes_to', 'Object': 'Climate Change Mitigation', 'Description': 'Ecological modernization contributes to climate change mitigation efforts by promoting sustainable energy practices and reducing greenhouse gas emissions.', 'Importance': 4, 'Subgroup': 'Renewable Energy Policies'}, {'Subject': 'ecological modernization', 'Relation': 'monitors', 'Object': 'Energy Consumption', 'Description': 'Ecological modernization monitors energy consumption patterns to identify areas for improvement and promote energy efficiency.', 'Importance': 3, 'Subgroup': 'Renewable Energy Policies'}]}\n",
      "{'relations': [{'Subject': 'ecological modernization', 'Relation': 'focuses_on', 'Object': 'Circular Economy', 'Description': 'Ecological modernization focuses on promoting a circular economy that minimizes waste and maximizes resource efficiency.', 'Importance': 4, 'Subgroup': 'Renewable Energy Policies'}, {'Subject': 'ecological modernization', 'Relation': 'in', 'Object': 'Sustainable Energy Transition', 'Description': 'Ecological modernization plays a crucial role in the sustainable energy transition by promoting renewable energy and sustainable practices.', 'Importance': 4, 'Subgroup': 'Renewable Energy Policies'}, {'Subject': 'ecological modernization', 'Relation': 'partners_with', 'Object': 'Clean Energy Companies', 'Description': 'Ecological modernization partners with clean energy companies to accelerate the adoption of sustainable energy solutions.', 'Importance': 3, 'Subgroup': 'Renewable Energy Policies'}, {'Subject': 'ecological modernization', 'Relation': 'contributes_to', 'Object': 'Climate Change Mitigation', 'Description': 'Ecological modernization contributes to climate change mitigation efforts by promoting sustainable energy practices and reducing greenhouse gas emissions.', 'Importance': 4, 'Subgroup': 'Renewable Energy Policies'}, {'Subject': 'ecological modernization', 'Relation': 'monitors', 'Object': 'Energy Consumption', 'Description': 'Ecological modernization monitors energy consumption patterns to identify areas for improvement and promote energy efficiency.', 'Importance': 3, 'Subgroup': 'Renewable Energy Policies'}]}\n",
      "{'relations': [{'Subject': 'ecological modernization', 'Relation': 'targets', 'Object': 'Renewable Energy Generation', 'Description': 'Ecological modernization targets increased renewable energy generation to reduce reliance on fossil fuels and promote sustainable energy sources.', 'Importance': 4, 'Subgroup': 'Renewable Energy Generation'}, {'Subject': 'foundational data infrastructure', 'Relation': 'addresses', 'Object': 'Energy Access', 'Description': 'Foundational data infrastructure addresses the issue of energy access by providing accurate and reliable data on energy availability and distribution.', 'Importance': 4, 'Subgroup': 'Energy Access'}, {'Subject': 'foundational data infrastructure', 'Relation': 'employs', 'Object': 'Data Analytics', 'Description': 'Foundational data infrastructure employs data analytics to analyze energy-related data and derive insights for decision-making and policy formulation.', 'Importance': 3, 'Subgroup': 'Data Analytics'}, {'Subject': 'foundational data infrastructure', 'Relation': 'collaborates_with', 'Object': 'Energy Grid Operators', 'Description': 'Foundational data infrastructure collaborates with energy grid operators to ensure the efficient and reliable transmission of energy.', 'Importance': 3, 'Subgroup': 'Energy Grid Operators'}, {'Subject': 'foundational data infrastructure', 'Relation': 'supports', 'Object': 'Energy Planning', 'Description': 'Foundational data infrastructure supports energy planning efforts by providing accurate data on energy consumption, demand, and infrastructure.', 'Importance': 4, 'Subgroup': 'Energy Planning'}]}\n",
      "{'relations': [{'Subject': 'ecological modernization', 'Relation': 'targets', 'Object': 'Renewable Energy Generation', 'Description': 'Ecological modernization targets increased renewable energy generation to reduce reliance on fossil fuels and promote sustainable energy sources.', 'Importance': 4, 'Subgroup': 'Renewable Energy Generation'}, {'Subject': 'foundational data infrastructure', 'Relation': 'addresses', 'Object': 'Energy Access', 'Description': 'Foundational data infrastructure addresses the issue of energy access by providing accurate and reliable data on energy availability and distribution.', 'Importance': 4, 'Subgroup': 'Energy Access'}, {'Subject': 'foundational data infrastructure', 'Relation': 'employs', 'Object': 'Data Analytics', 'Description': 'Foundational data infrastructure employs data analytics to analyze energy-related data and derive insights for decision-making and policy formulation.', 'Importance': 3, 'Subgroup': 'Data Analytics'}, {'Subject': 'foundational data infrastructure', 'Relation': 'collaborates_with', 'Object': 'Energy Grid Operators', 'Description': 'Foundational data infrastructure collaborates with energy grid operators to ensure the efficient and reliable transmission of energy.', 'Importance': 3, 'Subgroup': 'Energy Grid Operators'}, {'Subject': 'foundational data infrastructure', 'Relation': 'supports', 'Object': 'Energy Planning', 'Description': 'Foundational data infrastructure supports energy planning efforts by providing accurate data on energy consumption, demand, and infrastructure.', 'Importance': 4, 'Subgroup': 'Energy Planning'}]}\n",
      "{'relations': [{'Subject': 'foundational data infrastructure', 'Relation': 'administers', 'Object': 'Energy Data Platform', 'Description': 'Foundational data infrastructure administers an energy data platform that centralizes and manages energy-related data for easy access and analysis.', 'Importance': 4, 'Subgroup': 'Energy Analytics'}, {'Subject': 'foundational data infrastructure', 'Relation': 'measures', 'Object': 'Energy Efficiency', 'Description': 'Foundational data infrastructure measures energy efficiency by collecting and analyzing data on energy consumption and efficiency measures.', 'Importance': 3, 'Subgroup': 'Energy Efficiency'}, {'Subject': 'foundational data infrastructure', 'Relation': 'aligns_with', 'Object': 'Digital Transformation', 'Description': 'Foundational data infrastructure aligns with the digital transformation agenda to leverage technology for efficient energy data management and analysis.', 'Importance': 4, 'Subgroup': 'Digital Transformation'}, {'Subject': 'foundational data infrastructure', 'Relation': 'an_instance_of', 'Object': 'Data Governance', 'Description': 'Foundational data infrastructure is an instance of data governance that ensures the quality, integrity, and accessibility of energy-related data.', 'Importance': 4, 'Subgroup': 'Data Governance'}, {'Subject': 'digital ecosystems', 'Relation': 'implements', 'Object': 'Energy Efficiency Policy', 'Description': 'Digital ecosystems implement the Energy Efficiency Policy to promote sustainable energy practices.', 'Importance': 4, 'Subgroup': 'Energy Efficiency'}]}\n",
      "{'relations': [{'Subject': 'foundational data infrastructure', 'Relation': 'administers', 'Object': 'Energy Data Platform', 'Description': 'Foundational data infrastructure administers an energy data platform that centralizes and manages energy-related data for easy access and analysis.', 'Importance': 4, 'Subgroup': 'Energy Analytics'}, {'Subject': 'foundational data infrastructure', 'Relation': 'measures', 'Object': 'Energy Efficiency', 'Description': 'Foundational data infrastructure measures energy efficiency by collecting and analyzing data on energy consumption and efficiency measures.', 'Importance': 3, 'Subgroup': 'Energy Efficiency'}, {'Subject': 'foundational data infrastructure', 'Relation': 'aligns_with', 'Object': 'Digital Transformation', 'Description': 'Foundational data infrastructure aligns with the digital transformation agenda to leverage technology for efficient energy data management and analysis.', 'Importance': 4, 'Subgroup': 'Digital Transformation'}, {'Subject': 'foundational data infrastructure', 'Relation': 'an_instance_of', 'Object': 'Data Governance', 'Description': 'Foundational data infrastructure is an instance of data governance that ensures the quality, integrity, and accessibility of energy-related data.', 'Importance': 4, 'Subgroup': 'Data Governance'}, {'Subject': 'digital ecosystems', 'Relation': 'implements', 'Object': 'Energy Efficiency Policy', 'Description': 'Digital ecosystems implement the Energy Efficiency Policy to promote sustainable energy practices.', 'Importance': 4, 'Subgroup': 'Energy Efficiency'}]}\n",
      "{'relations': [{'Subject': 'digital ecosystems', 'Relation': 'funds', 'Object': 'Renewable Energy Research', 'Description': 'Digital ecosystems provide funding for research on renewable energy sources.', 'Importance': 3, 'Subgroup': 'Renewable Energy Research'}, {'Subject': 'digital ecosystems', 'Relation': 'focuses_on', 'Object': 'Smart Grid Technology', 'Description': 'Digital ecosystems focus on the development and implementation of smart grid technology for efficient energy distribution.', 'Importance': 4, 'Subgroup': 'Smart Grid Technologies'}, {'Subject': 'digital ecosystems', 'Relation': 'in', 'Object': 'Sustainable Energy Innovation Lab', 'Description': 'Digital ecosystems operate within the Sustainable Energy Innovation Lab to foster innovation in sustainable energy solutions.', 'Importance': 3, 'Subgroup': 'Sustainable Energy Innovation Lab'}, {'Subject': 'digital ecosystems', 'Relation': 'partners_with', 'Object': 'Clean Energy Startups', 'Description': 'Digital ecosystems collaborate and partner with clean energy startups to support their growth and development.', 'Importance': 4, 'Subgroup': 'Clean Energy Startups'}, {'Subject': 'digital ecosystems', 'Relation': 'contributes_to', 'Object': 'Energy Access Initiative', 'Description': 'Digital ecosystems contribute to the Energy Access Initiative to provide sustainable energy solutions to underserved communities.', 'Importance': 4, 'Subgroup': 'Energy Access Initiative'}]}\n",
      "{'relations': [{'Subject': 'digital ecosystems', 'Relation': 'funds', 'Object': 'Renewable Energy Research', 'Description': 'Digital ecosystems provide funding for research on renewable energy sources.', 'Importance': 3, 'Subgroup': 'Renewable Energy Research'}, {'Subject': 'digital ecosystems', 'Relation': 'focuses_on', 'Object': 'Smart Grid Technology', 'Description': 'Digital ecosystems focus on the development and implementation of smart grid technology for efficient energy distribution.', 'Importance': 4, 'Subgroup': 'Smart Grid Technologies'}, {'Subject': 'digital ecosystems', 'Relation': 'in', 'Object': 'Sustainable Energy Innovation Lab', 'Description': 'Digital ecosystems operate within the Sustainable Energy Innovation Lab to foster innovation in sustainable energy solutions.', 'Importance': 3, 'Subgroup': 'Sustainable Energy Innovation Lab'}, {'Subject': 'digital ecosystems', 'Relation': 'partners_with', 'Object': 'Clean Energy Startups', 'Description': 'Digital ecosystems collaborate and partner with clean energy startups to support their growth and development.', 'Importance': 4, 'Subgroup': 'Clean Energy Startups'}, {'Subject': 'digital ecosystems', 'Relation': 'contributes_to', 'Object': 'Energy Access Initiative', 'Description': 'Digital ecosystems contribute to the Energy Access Initiative to provide sustainable energy solutions to underserved communities.', 'Importance': 4, 'Subgroup': 'Energy Access Initiative'}]}\n",
      "{'relations': [{'Subject': 'digital ecosystems', 'Relation': 'monitors', 'Object': 'Energy Consumption Patterns', 'Description': 'Digital ecosystems monitor energy consumption patterns to identify areas for improvement and optimization.', 'Importance': 3, 'Subgroup': 'Energy Analytics'}, {'Subject': 'digital ecosystems', 'Relation': 'targets', 'Object': 'Carbon Emission Reduction', 'Description': 'Digital ecosystems set targets for carbon emission reduction to mitigate climate change and promote sustainable energy practices.', 'Importance': 4, 'Subgroup': 'Renewable Energy Policies'}, {'Subject': 'reliance of fuel imports', 'Relation': 'addresses', 'Object': 'Energy Security', 'Description': 'Addressing the reliance of fuel imports is crucial for ensuring energy security and reducing vulnerability to supply disruptions.', 'Importance': 4, 'Subgroup': 'Energy Security'}, {'Subject': 'reliance of fuel imports', 'Relation': 'employs', 'Object': 'Energy Diversification Strategies', 'Description': 'Reducing the reliance of fuel imports requires the employment of energy diversification strategies, such as promoting renewable energy sources.', 'Importance': 4, 'Subgroup': 'Renewable Energy Policies'}, {'Subject': 'reliance of fuel imports', 'Relation': 'collaborates_with', 'Object': 'Energy Exporting Countries', 'Description': 'Addressing the reliance of fuel imports involves collaboration with energy exporting countries to ensure stable and sustainable energy supply.', 'Importance': 3, 'Subgroup': 'Energy Security'}]}\n",
      "{'relations': [{'Subject': 'digital ecosystems', 'Relation': 'monitors', 'Object': 'Energy Consumption Patterns', 'Description': 'Digital ecosystems monitor energy consumption patterns to identify areas for improvement and optimization.', 'Importance': 3, 'Subgroup': 'Energy Analytics'}, {'Subject': 'digital ecosystems', 'Relation': 'targets', 'Object': 'Carbon Emission Reduction', 'Description': 'Digital ecosystems set targets for carbon emission reduction to mitigate climate change and promote sustainable energy practices.', 'Importance': 4, 'Subgroup': 'Renewable Energy Policies'}, {'Subject': 'reliance of fuel imports', 'Relation': 'addresses', 'Object': 'Energy Security', 'Description': 'Addressing the reliance of fuel imports is crucial for ensuring energy security and reducing vulnerability to supply disruptions.', 'Importance': 4, 'Subgroup': 'Energy Security'}, {'Subject': 'reliance of fuel imports', 'Relation': 'employs', 'Object': 'Energy Diversification Strategies', 'Description': 'Reducing the reliance of fuel imports requires the employment of energy diversification strategies, such as promoting renewable energy sources.', 'Importance': 4, 'Subgroup': 'Renewable Energy Policies'}, {'Subject': 'reliance of fuel imports', 'Relation': 'collaborates_with', 'Object': 'Energy Exporting Countries', 'Description': 'Addressing the reliance of fuel imports involves collaboration with energy exporting countries to ensure stable and sustainable energy supply.', 'Importance': 3, 'Subgroup': 'Energy Security'}]}\n",
      "{'relations': [{'Subject': 'reliance of fuel imports', 'Relation': 'supports', 'Object': 'Domestic Energy Production', 'Description': 'Reducing the reliance of fuel imports requires support for domestic energy production, such as investing in renewable energy infrastructure.', 'Importance': 4, 'Subgroup': 'Renewable Energy Policies'}, {'Subject': 'reliance of fuel imports', 'Relation': 'administers', 'Object': 'Energy Import Policies', 'Description': 'Administering energy import policies is necessary to regulate the reliance of fuel imports and ensure energy security.', 'Importance': 3, 'Subgroup': 'Renewable Energy Policies'}, {'Subject': 'reliance of fuel imports', 'Relation': 'measures', 'Object': 'Energy Independence Index', 'Description': 'Measuring the reliance of fuel imports is important to track progress towards achieving energy independence and reducing dependence on external sources.', 'Importance': 3, 'Subgroup': 'Renewable Energy Policies'}, {'Subject': 'reliance of fuel imports', 'Relation': 'aligns_with', 'Object': 'Energy Transition Goals', 'Description': 'Reducing the reliance of fuel imports aligns with the goals of transitioning to a sustainable and renewable energy future.', 'Importance': 4, 'Subgroup': 'Renewable Energy Policies'}, {'Subject': 'reliance of fuel imports', 'Relation': 'an_instance_of', 'Object': 'Energy Security Challenge', 'Description': 'The reliance of fuel imports is an instance of the energy security challenge faced by many countries.', 'Importance': 4, 'Subgroup': 'Renewable Energy Policies'}]}\n",
      "{'relations': [{'Subject': 'reliance of fuel imports', 'Relation': 'supports', 'Object': 'Domestic Energy Production', 'Description': 'Reducing the reliance of fuel imports requires support for domestic energy production, such as investing in renewable energy infrastructure.', 'Importance': 4, 'Subgroup': 'Renewable Energy Policies'}, {'Subject': 'reliance of fuel imports', 'Relation': 'administers', 'Object': 'Energy Import Policies', 'Description': 'Administering energy import policies is necessary to regulate the reliance of fuel imports and ensure energy security.', 'Importance': 3, 'Subgroup': 'Renewable Energy Policies'}, {'Subject': 'reliance of fuel imports', 'Relation': 'measures', 'Object': 'Energy Independence Index', 'Description': 'Measuring the reliance of fuel imports is important to track progress towards achieving energy independence and reducing dependence on external sources.', 'Importance': 3, 'Subgroup': 'Renewable Energy Policies'}, {'Subject': 'reliance of fuel imports', 'Relation': 'aligns_with', 'Object': 'Energy Transition Goals', 'Description': 'Reducing the reliance of fuel imports aligns with the goals of transitioning to a sustainable and renewable energy future.', 'Importance': 4, 'Subgroup': 'Renewable Energy Policies'}, {'Subject': 'reliance of fuel imports', 'Relation': 'an_instance_of', 'Object': 'Energy Security Challenge', 'Description': 'The reliance of fuel imports is an instance of the energy security challenge faced by many countries.', 'Importance': 4, 'Subgroup': 'Renewable Energy Policies'}]}\n",
      "{'relations': [{'Subject': 'Paris Agreement Goals', 'Relation': 'implements', 'Object': 'Energy Efficiency Policy', 'Description': 'Paris Agreement Goals implements Energy Efficiency Policy to promote energy-saving practices and reduce greenhouse gas emissions.', 'Importance': 4, 'Subgroup': 'Energy Efficiency'}, {'Subject': 'Paris Agreement Goals', 'Relation': 'funds', 'Object': 'Renewable Energy Projects', 'Description': 'Paris Agreement Goals funds Renewable Energy Projects to support the transition to clean and sustainable energy sources.', 'Importance': 3, 'Subgroup': 'Renewable Energy Policies'}, {'Subject': 'Paris Agreement Goals', 'Relation': 'focuses_on', 'Object': 'Climate Change Mitigation', 'Description': 'Paris Agreement Goals focuses on Climate Change Mitigation to reduce the impact of global warming and limit temperature rise.', 'Importance': 4, 'Subgroup': 'Carbon Capture and Storage'}, {'Subject': 'Paris Agreement Goals', 'Relation': 'in', 'Object': 'United Nations Framework Convention on Climate Change (UNFCCC)', 'Description': 'Paris Agreement Goals is in the framework of the United Nations Framework Convention on Climate Change (UNFCCC) to address climate change issues globally.', 'Importance': 4, 'Subgroup': 'Renewable Energy Policies'}, {'Subject': 'Paris Agreement Goals', 'Relation': 'partners_with', 'Object': 'International Renewable Energy Agency (IRENA)', 'Description': 'Paris Agreement Goals partners with International Renewable Energy Agency (IRENA) to promote renewable energy adoption and collaboration.', 'Importance': 3, 'Subgroup': 'Renewable Energy Policies'}]}\n",
      "{'relations': [{'Subject': 'Paris Agreement Goals', 'Relation': 'implements', 'Object': 'Energy Efficiency Policy', 'Description': 'Paris Agreement Goals implements Energy Efficiency Policy to promote energy-saving practices and reduce greenhouse gas emissions.', 'Importance': 4, 'Subgroup': 'Energy Efficiency'}, {'Subject': 'Paris Agreement Goals', 'Relation': 'funds', 'Object': 'Renewable Energy Projects', 'Description': 'Paris Agreement Goals funds Renewable Energy Projects to support the transition to clean and sustainable energy sources.', 'Importance': 3, 'Subgroup': 'Renewable Energy Policies'}, {'Subject': 'Paris Agreement Goals', 'Relation': 'focuses_on', 'Object': 'Climate Change Mitigation', 'Description': 'Paris Agreement Goals focuses on Climate Change Mitigation to reduce the impact of global warming and limit temperature rise.', 'Importance': 4, 'Subgroup': 'Carbon Capture and Storage'}, {'Subject': 'Paris Agreement Goals', 'Relation': 'in', 'Object': 'United Nations Framework Convention on Climate Change (UNFCCC)', 'Description': 'Paris Agreement Goals is in the framework of the United Nations Framework Convention on Climate Change (UNFCCC) to address climate change issues globally.', 'Importance': 4, 'Subgroup': 'Renewable Energy Policies'}, {'Subject': 'Paris Agreement Goals', 'Relation': 'partners_with', 'Object': 'International Renewable Energy Agency (IRENA)', 'Description': 'Paris Agreement Goals partners with International Renewable Energy Agency (IRENA) to promote renewable energy adoption and collaboration.', 'Importance': 3, 'Subgroup': 'Renewable Energy Policies'}]}\n",
      "{'relations': [{'Subject': 'Paris Agreement Goals', 'Relation': 'contributes_to', 'Object': 'Sustainable Development Goals (SDGs)', 'Description': 'Paris Agreement Goals contributes to the achievement of Sustainable Development Goals (SDGs) by addressing climate change and promoting sustainable practices.', 'Importance': 4, 'Subgroup': 'Renewable Energy Policies'}, {'Subject': 'Paris Agreement Goals', 'Relation': 'monitors', 'Object': 'Greenhouse Gas Emissions', 'Description': 'Paris Agreement Goals monitors Greenhouse Gas Emissions to track progress towards emission reduction targets.', 'Importance': 3, 'Subgroup': 'Renewable Energy Policies'}, {'Subject': 'Paris Agreement Goals', 'Relation': 'targets', 'Object': 'Net Zero Emissions', 'Description': 'Paris Agreement Goals targets Net Zero Emissions to achieve a balance between greenhouse gas emissions and removals.', 'Importance': 4, 'Subgroup': 'Renewable Energy Policies'}, {'Subject': 'energy subsisides reform', 'Relation': 'addresses', 'Object': 'Energy Affordability', 'Description': 'Energy subsidies reform addresses Energy Affordability by ensuring fair and efficient distribution of energy subsidies.', 'Importance': 3, 'Subgroup': 'Renewable Energy Policies'}, {'Subject': 'energy subsisides reform', 'Relation': 'employs', 'Object': 'Market-Based Pricing Mechanisms', 'Description': 'Energy subsidies reform employs Market-Based Pricing Mechanisms to promote efficient energy pricing and reduce market distortions.', 'Importance': 3, 'Subgroup': 'Renewable Energy Policies'}]}\n",
      "{'relations': [{'Subject': 'Paris Agreement Goals', 'Relation': 'contributes_to', 'Object': 'Sustainable Development Goals (SDGs)', 'Description': 'Paris Agreement Goals contributes to the achievement of Sustainable Development Goals (SDGs) by addressing climate change and promoting sustainable practices.', 'Importance': 4, 'Subgroup': 'Renewable Energy Policies'}, {'Subject': 'Paris Agreement Goals', 'Relation': 'monitors', 'Object': 'Greenhouse Gas Emissions', 'Description': 'Paris Agreement Goals monitors Greenhouse Gas Emissions to track progress towards emission reduction targets.', 'Importance': 3, 'Subgroup': 'Renewable Energy Policies'}, {'Subject': 'Paris Agreement Goals', 'Relation': 'targets', 'Object': 'Net Zero Emissions', 'Description': 'Paris Agreement Goals targets Net Zero Emissions to achieve a balance between greenhouse gas emissions and removals.', 'Importance': 4, 'Subgroup': 'Renewable Energy Policies'}, {'Subject': 'energy subsisides reform', 'Relation': 'addresses', 'Object': 'Energy Affordability', 'Description': 'Energy subsidies reform addresses Energy Affordability by ensuring fair and efficient distribution of energy subsidies.', 'Importance': 3, 'Subgroup': 'Renewable Energy Policies'}, {'Subject': 'energy subsisides reform', 'Relation': 'employs', 'Object': 'Market-Based Pricing Mechanisms', 'Description': 'Energy subsidies reform employs Market-Based Pricing Mechanisms to promote efficient energy pricing and reduce market distortions.', 'Importance': 3, 'Subgroup': 'Renewable Energy Policies'}]}\n",
      "{'relations': [{'Subject': 'energy subsisides reform', 'Relation': 'collaborates_with', 'Object': 'International Energy Agency (IEA)', 'Description': 'Energy subsidies reform collaborates with International Energy Agency (IEA) to share best practices and policy recommendations for energy subsidy reform.', 'Importance': 3, 'Subgroup': 'Renewable Energy Policies'}, {'Subject': 'energy subsisides reform', 'Relation': 'supports', 'Object': 'Renewable Energy Transition', 'Description': 'Energy subsidies reform supports the Renewable Energy Transition by redirecting subsidies towards clean and sustainable energy sources.', 'Importance': 4, 'Subgroup': 'Renewable Energy Policies'}, {'Subject': 'energy subsisides reform', 'Relation': 'administers', 'Object': 'Energy Subsidy Programs', 'Description': 'Energy subsidies reform administers Energy Subsidy Programs to ensure effective implementation and monitoring of subsidy reforms.', 'Importance': 4, 'Subgroup': 'Renewable Energy Policies'}, {'Subject': 'energy subsisides reform', 'Relation': 'measures', 'Object': 'Energy Affordability Index', 'Description': 'Energy subsidies reform measures Energy Affordability Index to assess the impact of subsidy reforms on energy affordability for different population groups.', 'Importance': 3, 'Subgroup': 'Renewable Energy Policies'}, {'Subject': 'energy subsisides reform', 'Relation': 'aligns_with', 'Object': 'Sustainable Development Goal 7 (SDG 7)', 'Description': 'Energy subsidies reform aligns with Sustainable Development Goal 7 (SDG 7) to ensure access to affordable, reliable, sustainable, and modern energy for all.', 'Importance': 4, 'Subgroup': 'Renewable Energy Policies'}]}\n",
      "{'relations': [{'Subject': 'energy subsisides reform', 'Relation': 'collaborates_with', 'Object': 'International Energy Agency (IEA)', 'Description': 'Energy subsidies reform collaborates with International Energy Agency (IEA) to share best practices and policy recommendations for energy subsidy reform.', 'Importance': 3, 'Subgroup': 'Renewable Energy Policies'}, {'Subject': 'energy subsisides reform', 'Relation': 'supports', 'Object': 'Renewable Energy Transition', 'Description': 'Energy subsidies reform supports the Renewable Energy Transition by redirecting subsidies towards clean and sustainable energy sources.', 'Importance': 4, 'Subgroup': 'Renewable Energy Policies'}, {'Subject': 'energy subsisides reform', 'Relation': 'administers', 'Object': 'Energy Subsidy Programs', 'Description': 'Energy subsidies reform administers Energy Subsidy Programs to ensure effective implementation and monitoring of subsidy reforms.', 'Importance': 4, 'Subgroup': 'Renewable Energy Policies'}, {'Subject': 'energy subsisides reform', 'Relation': 'measures', 'Object': 'Energy Affordability Index', 'Description': 'Energy subsidies reform measures Energy Affordability Index to assess the impact of subsidy reforms on energy affordability for different population groups.', 'Importance': 3, 'Subgroup': 'Renewable Energy Policies'}, {'Subject': 'energy subsisides reform', 'Relation': 'aligns_with', 'Object': 'Sustainable Development Goal 7 (SDG 7)', 'Description': 'Energy subsidies reform aligns with Sustainable Development Goal 7 (SDG 7) to ensure access to affordable, reliable, sustainable, and modern energy for all.', 'Importance': 4, 'Subgroup': 'Renewable Energy Policies'}]}\n",
      "{'relations': [{'Subject': 'energy subsisides reform', 'Relation': 'an_instance_of', 'Object': 'Energy Policy Reform', 'Description': 'Energy subsidies reform is an instance of Energy Policy Reform aimed at improving energy market efficiency and promoting sustainable energy practices.', 'Importance': 4, 'Subgroup': 'Renewable Energy Policies'}, {'Subject': 'carbon neutrality', 'Relation': 'implements', 'Object': 'Energy Efficiency Policy', 'Description': 'Carbon neutrality implements Energy Efficiency Policy to reduce carbon emissions and promote sustainable energy practices.', 'Importance': 4, 'Subgroup': 'Energy Efficiency'}, {'Subject': 'carbon neutrality', 'Relation': 'funds', 'Object': 'Renewable Energy Projects', 'Description': 'Carbon neutrality funds Renewable Energy Projects to support the development and implementation of clean energy sources.', 'Importance': 3, 'Subgroup': 'Renewable Energy Policies'}, {'Subject': 'carbon neutrality', 'Relation': 'focuses_on', 'Object': 'Renewable Energy Transition', 'Description': 'Carbon neutrality focuses on the transition to renewable energy sources to reduce reliance on fossil fuels.', 'Importance': 4, 'Subgroup': 'Renewable Energy Policies'}, {'Subject': 'carbon neutrality', 'Relation': 'in', 'Object': 'Sustainable Development Goals', 'Description': 'Carbon neutrality is an important component in achieving the Sustainable Development Goals related to climate action and clean energy.', 'Importance': 4, 'Subgroup': 'Renewable Energy Policies'}]}\n",
      "{'relations': [{'Subject': 'energy subsisides reform', 'Relation': 'an_instance_of', 'Object': 'Energy Policy Reform', 'Description': 'Energy subsidies reform is an instance of Energy Policy Reform aimed at improving energy market efficiency and promoting sustainable energy practices.', 'Importance': 4, 'Subgroup': 'Renewable Energy Policies'}, {'Subject': 'carbon neutrality', 'Relation': 'implements', 'Object': 'Energy Efficiency Policy', 'Description': 'Carbon neutrality implements Energy Efficiency Policy to reduce carbon emissions and promote sustainable energy practices.', 'Importance': 4, 'Subgroup': 'Energy Efficiency'}, {'Subject': 'carbon neutrality', 'Relation': 'funds', 'Object': 'Renewable Energy Projects', 'Description': 'Carbon neutrality funds Renewable Energy Projects to support the development and implementation of clean energy sources.', 'Importance': 3, 'Subgroup': 'Renewable Energy Policies'}, {'Subject': 'carbon neutrality', 'Relation': 'focuses_on', 'Object': 'Renewable Energy Transition', 'Description': 'Carbon neutrality focuses on the transition to renewable energy sources to reduce reliance on fossil fuels.', 'Importance': 4, 'Subgroup': 'Renewable Energy Policies'}, {'Subject': 'carbon neutrality', 'Relation': 'in', 'Object': 'Sustainable Development Goals', 'Description': 'Carbon neutrality is an important component in achieving the Sustainable Development Goals related to climate action and clean energy.', 'Importance': 4, 'Subgroup': 'Renewable Energy Policies'}]}\n",
      "{'relations': [{'Subject': 'carbon neutrality', 'Relation': 'partners_with', 'Object': 'Private Sector Companies', 'Description': 'Carbon neutrality partners with private sector companies to collaborate on sustainable energy initiatives and reduce carbon footprint.', 'Importance': 3, 'Subgroup': 'Renewable Energy Policies'}, {'Subject': 'carbon neutrality', 'Relation': 'contributes_to', 'Object': 'Climate Change Mitigation', 'Description': 'Carbon neutrality contributes to climate change mitigation efforts by reducing greenhouse gas emissions and promoting sustainable energy practices.', 'Importance': 4, 'Subgroup': 'Renewable Energy Policies'}, {'Subject': 'carbon neutrality', 'Relation': 'monitors', 'Object': 'Energy Consumption', 'Description': 'Carbon neutrality monitors energy consumption patterns to identify areas for improvement and optimize energy efficiency.', 'Importance': 3, 'Subgroup': 'Energy Analytics'}, {'Subject': 'carbon neutrality', 'Relation': 'targets', 'Object': 'Net Zero Emissions', 'Description': 'Carbon neutrality sets targets for achieving net zero emissions to combat climate change and promote sustainable energy practices.', 'Importance': 4, 'Subgroup': 'Renewable Energy Policies'}, {'Subject': 'blue carbon', 'Relation': 'addresses', 'Object': 'Coastal Ecosystem Conservation', 'Description': 'Blue carbon addresses the conservation of coastal ecosystems to protect and restore carbon-rich habitats and mitigate climate change.', 'Importance': 4, 'Subgroup': 'Renewable Energy Policies'}]}\n",
      "{'relations': [{'Subject': 'carbon neutrality', 'Relation': 'partners_with', 'Object': 'Private Sector Companies', 'Description': 'Carbon neutrality partners with private sector companies to collaborate on sustainable energy initiatives and reduce carbon footprint.', 'Importance': 3, 'Subgroup': 'Renewable Energy Policies'}, {'Subject': 'carbon neutrality', 'Relation': 'contributes_to', 'Object': 'Climate Change Mitigation', 'Description': 'Carbon neutrality contributes to climate change mitigation efforts by reducing greenhouse gas emissions and promoting sustainable energy practices.', 'Importance': 4, 'Subgroup': 'Renewable Energy Policies'}, {'Subject': 'carbon neutrality', 'Relation': 'monitors', 'Object': 'Energy Consumption', 'Description': 'Carbon neutrality monitors energy consumption patterns to identify areas for improvement and optimize energy efficiency.', 'Importance': 3, 'Subgroup': 'Energy Analytics'}, {'Subject': 'carbon neutrality', 'Relation': 'targets', 'Object': 'Net Zero Emissions', 'Description': 'Carbon neutrality sets targets for achieving net zero emissions to combat climate change and promote sustainable energy practices.', 'Importance': 4, 'Subgroup': 'Renewable Energy Policies'}, {'Subject': 'blue carbon', 'Relation': 'addresses', 'Object': 'Coastal Ecosystem Conservation', 'Description': 'Blue carbon addresses the conservation of coastal ecosystems to protect and restore carbon-rich habitats and mitigate climate change.', 'Importance': 4, 'Subgroup': 'Renewable Energy Policies'}]}\n",
      "{'relations': [{'Subject': 'blue carbon', 'Relation': 'employs', 'Object': 'Carbon Sequestration', 'Description': 'Blue carbon employs carbon sequestration techniques to capture and store carbon dioxide from the atmosphere, reducing greenhouse gas emissions.', 'Importance': 4, 'Subgroup': 'Carbon Capture and Storage'}, {'Subject': 'blue carbon', 'Relation': 'collaborates_with', 'Object': 'Marine Conservation Organizations', 'Description': 'Blue carbon collaborates with marine conservation organizations to protect and restore coastal ecosystems for climate change mitigation.', 'Importance': 3, 'Subgroup': 'Sustainable Urban Planning'}, {'Subject': 'blue carbon', 'Relation': 'supports', 'Object': 'Sustainable Fisheries', 'Description': 'Blue carbon supports sustainable fisheries practices that promote the conservation of coastal ecosystems and reduce carbon emissions.', 'Importance': 3, 'Subgroup': 'Renewable Energy Policies'}, {'Subject': 'blue carbon', 'Relation': 'administers', 'Object': 'Blue Carbon Funds', 'Description': 'Blue carbon administers blue carbon funds to finance projects that conserve and restore coastal ecosystems for climate change mitigation.', 'Importance': 3, 'Subgroup': 'Renewable Energy Policies'}, {'Subject': 'blue carbon', 'Relation': 'measures', 'Object': 'Carbon Storage Capacity', 'Description': 'Blue carbon measures the carbon storage capacity of coastal ecosystems to assess their role in mitigating climate change.', 'Importance': 3, 'Subgroup': 'Carbon Capture and Storage'}]}\n",
      "{'relations': [{'Subject': 'blue carbon', 'Relation': 'employs', 'Object': 'Carbon Sequestration', 'Description': 'Blue carbon employs carbon sequestration techniques to capture and store carbon dioxide from the atmosphere, reducing greenhouse gas emissions.', 'Importance': 4, 'Subgroup': 'Carbon Capture and Storage'}, {'Subject': 'blue carbon', 'Relation': 'collaborates_with', 'Object': 'Marine Conservation Organizations', 'Description': 'Blue carbon collaborates with marine conservation organizations to protect and restore coastal ecosystems for climate change mitigation.', 'Importance': 3, 'Subgroup': 'Sustainable Urban Planning'}, {'Subject': 'blue carbon', 'Relation': 'supports', 'Object': 'Sustainable Fisheries', 'Description': 'Blue carbon supports sustainable fisheries practices that promote the conservation of coastal ecosystems and reduce carbon emissions.', 'Importance': 3, 'Subgroup': 'Renewable Energy Policies'}, {'Subject': 'blue carbon', 'Relation': 'administers', 'Object': 'Blue Carbon Funds', 'Description': 'Blue carbon administers blue carbon funds to finance projects that conserve and restore coastal ecosystems for climate change mitigation.', 'Importance': 3, 'Subgroup': 'Renewable Energy Policies'}, {'Subject': 'blue carbon', 'Relation': 'measures', 'Object': 'Carbon Storage Capacity', 'Description': 'Blue carbon measures the carbon storage capacity of coastal ecosystems to assess their role in mitigating climate change.', 'Importance': 3, 'Subgroup': 'Carbon Capture and Storage'}]}\n",
      "{'relations': [{'Subject': 'blue carbon', 'Relation': 'aligns_with', 'Object': 'Paris Agreement', 'Description': 'Blue carbon aligns with the goals and objectives of the Paris Agreement to combat climate change and promote sustainable development.', 'Importance': 4, 'Subgroup': 'Renewable Energy Policies'}, {'Subject': 'blue carbon', 'Relation': 'an_instance_of', 'Object': 'Natural Climate Solution', 'Description': 'Blue carbon is an instance of a natural climate solution that utilizes coastal ecosystems to sequester carbon and mitigate climate change.', 'Importance': 4, 'Subgroup': 'Renewable Energy Policies'}, {'Subject': 'passive solar design', 'Relation': 'implements', 'Object': 'Energy Efficiency Policy', 'Description': 'Passive solar design implements energy efficiency policies that promote the use of natural sunlight for heating and lighting purposes.', 'Importance': 4, 'Subgroup': 'Energy Efficiency'}, {'Subject': 'passive solar design', 'Relation': 'focuses_on', 'Object': 'Renewable Energy Sources', 'Description': 'Passive solar design focuses on utilizing renewable energy sources such as solar power to reduce reliance on traditional energy sources.', 'Importance': 3, 'Subgroup': 'Solar Power'}, {'Subject': 'passive solar design', 'Relation': 'addresses', 'Object': 'Climate Change', 'Description': 'Passive solar design addresses the issue of climate change by reducing greenhouse gas emissions through energy-efficient building designs.', 'Importance': 4, 'Subgroup': 'Renewable Energy Policies'}]}\n",
      "{'relations': [{'Subject': 'blue carbon', 'Relation': 'aligns_with', 'Object': 'Paris Agreement', 'Description': 'Blue carbon aligns with the goals and objectives of the Paris Agreement to combat climate change and promote sustainable development.', 'Importance': 4, 'Subgroup': 'Renewable Energy Policies'}, {'Subject': 'blue carbon', 'Relation': 'an_instance_of', 'Object': 'Natural Climate Solution', 'Description': 'Blue carbon is an instance of a natural climate solution that utilizes coastal ecosystems to sequester carbon and mitigate climate change.', 'Importance': 4, 'Subgroup': 'Renewable Energy Policies'}, {'Subject': 'passive solar design', 'Relation': 'implements', 'Object': 'Energy Efficiency Policy', 'Description': 'Passive solar design implements energy efficiency policies that promote the use of natural sunlight for heating and lighting purposes.', 'Importance': 4, 'Subgroup': 'Energy Efficiency'}, {'Subject': 'passive solar design', 'Relation': 'focuses_on', 'Object': 'Renewable Energy Sources', 'Description': 'Passive solar design focuses on utilizing renewable energy sources such as solar power to reduce reliance on traditional energy sources.', 'Importance': 3, 'Subgroup': 'Solar Power'}, {'Subject': 'passive solar design', 'Relation': 'addresses', 'Object': 'Climate Change', 'Description': 'Passive solar design addresses the issue of climate change by reducing greenhouse gas emissions through energy-efficient building designs.', 'Importance': 4, 'Subgroup': 'Renewable Energy Policies'}]}\n",
      "{'relations': [{'Subject': 'passive solar design', 'Relation': 'supports', 'Object': 'Sustainable Architecture', 'Description': 'Passive solar design supports the principles of sustainable architecture by promoting energy-efficient and environmentally-friendly building designs.', 'Importance': 3, 'Subgroup': 'Green Buildings'}, {'Subject': 'passive solar design', 'Relation': 'employs', 'Object': 'Natural Ventilation', 'Description': 'Passive solar design employs natural ventilation techniques to enhance indoor air quality and reduce the need for mechanical cooling systems.', 'Importance': 2, 'Subgroup': 'Energy Efficiency'}, {'Subject': 'passive solar design', 'Relation': 'collaborates_with', 'Object': 'Architects', 'Description': 'Passive solar design collaborates with architects to incorporate energy-efficient design principles into building projects.', 'Importance': 3, 'Subgroup': 'Green Buildings'}, {'Subject': 'passive solar design', 'Relation': 'administers', 'Object': 'Building Codes', 'Description': 'Passive solar design administers building codes that require energy-efficient design standards for new construction and renovations.', 'Importance': 4, 'Subgroup': 'Green Buildings'}, {'Subject': 'passive solar design', 'Relation': 'an_instance_of', 'Object': 'Sustainable Building Design', 'Description': 'Passive solar design is an instance of sustainable building design that focuses on maximizing energy efficiency and minimizing environmental impact.', 'Importance': 4, 'Subgroup': 'Green Buildings'}]}\n",
      "{'relations': [{'Subject': 'passive solar design', 'Relation': 'supports', 'Object': 'Sustainable Architecture', 'Description': 'Passive solar design supports the principles of sustainable architecture by promoting energy-efficient and environmentally-friendly building designs.', 'Importance': 3, 'Subgroup': 'Green Buildings'}, {'Subject': 'passive solar design', 'Relation': 'employs', 'Object': 'Natural Ventilation', 'Description': 'Passive solar design employs natural ventilation techniques to enhance indoor air quality and reduce the need for mechanical cooling systems.', 'Importance': 2, 'Subgroup': 'Energy Efficiency'}, {'Subject': 'passive solar design', 'Relation': 'collaborates_with', 'Object': 'Architects', 'Description': 'Passive solar design collaborates with architects to incorporate energy-efficient design principles into building projects.', 'Importance': 3, 'Subgroup': 'Green Buildings'}, {'Subject': 'passive solar design', 'Relation': 'administers', 'Object': 'Building Codes', 'Description': 'Passive solar design administers building codes that require energy-efficient design standards for new construction and renovations.', 'Importance': 4, 'Subgroup': 'Green Buildings'}, {'Subject': 'passive solar design', 'Relation': 'an_instance_of', 'Object': 'Sustainable Building Design', 'Description': 'Passive solar design is an instance of sustainable building design that focuses on maximizing energy efficiency and minimizing environmental impact.', 'Importance': 4, 'Subgroup': 'Green Buildings'}]}\n",
      "{'relations': [{'Subject': 'vertical funding', 'Relation': 'funds', 'Object': 'Renewable Energy Projects', 'Description': 'Vertical funding provides financial support for renewable energy projects that aim to reduce carbon emissions and promote sustainable energy sources.', 'Importance': 4, 'Subgroup': 'Renewable Energy Projects'}, {'Subject': 'vertical funding', 'Relation': 'partners_with', 'Object': 'Investment Banks', 'Description': 'Vertical funding partners with investment banks to secure funding for renewable energy projects and promote sustainable investment opportunities.', 'Importance': 3, 'Subgroup': 'Investment Banks'}, {'Subject': 'vertical funding', 'Relation': 'contributes_to', 'Object': 'Clean Energy Transition', 'Description': 'Vertical funding contributes to the clean energy transition by providing financial resources for the development and implementation of renewable energy technologies.', 'Importance': 4, 'Subgroup': 'Clean Energy Transition'}, {'Subject': 'vertical funding', 'Relation': 'monitors', 'Object': 'Project Performance', 'Description': 'Vertical funding monitors the performance of renewable energy projects to ensure efficient use of funds and successful project outcomes.', 'Importance': 3, 'Subgroup': 'Project Performance'}, {'Subject': 'vertical funding', 'Relation': 'supports', 'Object': 'Green Startups', 'Description': 'Vertical funding supports the growth and development of green startups that focus on innovative solutions for sustainable energy and environmental challenges.', 'Importance': 3, 'Subgroup': 'Green Startups'}]}\n",
      "{'relations': [{'Subject': 'vertical funding', 'Relation': 'funds', 'Object': 'Renewable Energy Projects', 'Description': 'Vertical funding provides financial support for renewable energy projects that aim to reduce carbon emissions and promote sustainable energy sources.', 'Importance': 4, 'Subgroup': 'Renewable Energy Projects'}, {'Subject': 'vertical funding', 'Relation': 'partners_with', 'Object': 'Investment Banks', 'Description': 'Vertical funding partners with investment banks to secure funding for renewable energy projects and promote sustainable investment opportunities.', 'Importance': 3, 'Subgroup': 'Investment Banks'}, {'Subject': 'vertical funding', 'Relation': 'contributes_to', 'Object': 'Clean Energy Transition', 'Description': 'Vertical funding contributes to the clean energy transition by providing financial resources for the development and implementation of renewable energy technologies.', 'Importance': 4, 'Subgroup': 'Clean Energy Transition'}, {'Subject': 'vertical funding', 'Relation': 'monitors', 'Object': 'Project Performance', 'Description': 'Vertical funding monitors the performance of renewable energy projects to ensure efficient use of funds and successful project outcomes.', 'Importance': 3, 'Subgroup': 'Project Performance'}, {'Subject': 'vertical funding', 'Relation': 'supports', 'Object': 'Green Startups', 'Description': 'Vertical funding supports the growth and development of green startups that focus on innovative solutions for sustainable energy and environmental challenges.', 'Importance': 3, 'Subgroup': 'Green Startups'}]}\n",
      "{'relations': [{'Subject': 'vertical funding', 'Relation': 'employs', 'Object': 'Project Finance Specialists', 'Description': 'Vertical funding employs project finance specialists who assess the financial viability of renewable energy projects and provide funding recommendations.', 'Importance': 4, 'Subgroup': 'Solar Power'}, {'Subject': 'vertical funding', 'Relation': 'collaborates_with', 'Object': 'Government Agencies', 'Description': 'Vertical funding collaborates with government agencies to align funding priorities with national sustainable energy goals and policies.', 'Importance': 4, 'Subgroup': 'Wind Energy'}, {'Subject': 'vertical funding', 'Relation': 'administers', 'Object': 'Grant Programs', 'Description': 'Vertical funding administers grant programs that provide financial support for renewable energy initiatives and research projects.', 'Importance': 4, 'Subgroup': 'Hydroelectric Power'}, {'Subject': 'vertical funding', 'Relation': 'an_instance_of', 'Object': 'Sustainable Finance', 'Description': 'Vertical funding is an instance of sustainable finance that focuses on directing financial resources towards environmentally-friendly and socially-responsible projects.', 'Importance': 4, 'Subgroup': 'Geothermal Energy'}, {'Subject': 'energy project cycle', 'Relation': 'implements', 'Object': 'Energy Efficiency Policy', 'Description': 'The energy project cycle implements the Energy Efficiency Policy to ensure energy-saving practices are followed.', 'Importance': 4, 'Subgroup': 'Biomass Energy'}]}\n",
      "{'relations': [{'Subject': 'vertical funding', 'Relation': 'employs', 'Object': 'Project Finance Specialists', 'Description': 'Vertical funding employs project finance specialists who assess the financial viability of renewable energy projects and provide funding recommendations.', 'Importance': 4, 'Subgroup': 'Solar Power'}, {'Subject': 'vertical funding', 'Relation': 'collaborates_with', 'Object': 'Government Agencies', 'Description': 'Vertical funding collaborates with government agencies to align funding priorities with national sustainable energy goals and policies.', 'Importance': 4, 'Subgroup': 'Wind Energy'}, {'Subject': 'vertical funding', 'Relation': 'administers', 'Object': 'Grant Programs', 'Description': 'Vertical funding administers grant programs that provide financial support for renewable energy initiatives and research projects.', 'Importance': 4, 'Subgroup': 'Hydroelectric Power'}, {'Subject': 'vertical funding', 'Relation': 'an_instance_of', 'Object': 'Sustainable Finance', 'Description': 'Vertical funding is an instance of sustainable finance that focuses on directing financial resources towards environmentally-friendly and socially-responsible projects.', 'Importance': 4, 'Subgroup': 'Geothermal Energy'}, {'Subject': 'energy project cycle', 'Relation': 'implements', 'Object': 'Energy Efficiency Policy', 'Description': 'The energy project cycle implements the Energy Efficiency Policy to ensure energy-saving practices are followed.', 'Importance': 4, 'Subgroup': 'Biomass Energy'}]}\n",
      "{'relations': [{'Subject': 'energy project cycle', 'Relation': 'funds', 'Object': 'Renewable Energy Projects', 'Description': 'The energy project cycle provides funds for various renewable energy projects.', 'Importance': 3, 'Subgroup': 'Renewable Energy Policies'}, {'Subject': 'energy project cycle', 'Relation': 'focuses_on', 'Object': 'Sustainable Energy Solutions', 'Description': 'The energy project cycle focuses on implementing sustainable energy solutions.', 'Importance': 4, 'Subgroup': 'Renewable Energy Policies'}, {'Subject': 'energy project cycle', 'Relation': 'in', 'Object': 'Energy Access Program', 'Description': 'The energy project cycle operates within the Energy Access Program to provide energy access to underserved communities.', 'Importance': 3, 'Subgroup': 'Renewable Energy Policies'}, {'Subject': 'energy project cycle', 'Relation': 'partners_with', 'Object': 'Local Governments', 'Description': 'The energy project cycle partners with local governments to implement sustainable energy initiatives.', 'Importance': 3, 'Subgroup': 'Renewable Energy Policies'}, {'Subject': 'energy project cycle', 'Relation': 'contributes_to', 'Object': 'Climate Change Mitigation', 'Description': 'The energy project cycle contributes to climate change mitigation efforts through the implementation of sustainable energy projects.', 'Importance': 4, 'Subgroup': 'Renewable Energy Policies'}]}\n",
      "{'relations': [{'Subject': 'energy project cycle', 'Relation': 'funds', 'Object': 'Renewable Energy Projects', 'Description': 'The energy project cycle provides funds for various renewable energy projects.', 'Importance': 3, 'Subgroup': 'Renewable Energy Policies'}, {'Subject': 'energy project cycle', 'Relation': 'focuses_on', 'Object': 'Sustainable Energy Solutions', 'Description': 'The energy project cycle focuses on implementing sustainable energy solutions.', 'Importance': 4, 'Subgroup': 'Renewable Energy Policies'}, {'Subject': 'energy project cycle', 'Relation': 'in', 'Object': 'Energy Access Program', 'Description': 'The energy project cycle operates within the Energy Access Program to provide energy access to underserved communities.', 'Importance': 3, 'Subgroup': 'Renewable Energy Policies'}, {'Subject': 'energy project cycle', 'Relation': 'partners_with', 'Object': 'Local Governments', 'Description': 'The energy project cycle partners with local governments to implement sustainable energy initiatives.', 'Importance': 3, 'Subgroup': 'Renewable Energy Policies'}, {'Subject': 'energy project cycle', 'Relation': 'contributes_to', 'Object': 'Climate Change Mitigation', 'Description': 'The energy project cycle contributes to climate change mitigation efforts through the implementation of sustainable energy projects.', 'Importance': 4, 'Subgroup': 'Renewable Energy Policies'}]}\n",
      "{'relations': [{'Subject': 'energy project cycle', 'Relation': 'monitors', 'Object': 'Energy Consumption', 'Description': 'The energy project cycle monitors energy consumption patterns to identify areas for improvement.', 'Importance': 2, 'Subgroup': 'Energy Efficiency'}, {'Subject': 'energy project cycle', 'Relation': 'targets', 'Object': 'Renewable Energy Generation', 'Description': 'The energy project cycle sets targets for increasing renewable energy generation.', 'Importance': 3, 'Subgroup': 'Renewable Energy Policies'}, {'Subject': 'energy project cycle', 'Relation': 'addresses', 'Object': 'Energy Poverty', 'Description': 'The energy project cycle addresses energy poverty by providing access to affordable and reliable energy sources.', 'Importance': 4, 'Subgroup': 'Sustainable Urban Planning'}]}\n",
      "{'relations': [{'Subject': 'energy project cycle', 'Relation': 'monitors', 'Object': 'Energy Consumption', 'Description': 'The energy project cycle monitors energy consumption patterns to identify areas for improvement.', 'Importance': 2, 'Subgroup': 'Energy Efficiency'}, {'Subject': 'energy project cycle', 'Relation': 'targets', 'Object': 'Renewable Energy Generation', 'Description': 'The energy project cycle sets targets for increasing renewable energy generation.', 'Importance': 3, 'Subgroup': 'Renewable Energy Policies'}, {'Subject': 'energy project cycle', 'Relation': 'addresses', 'Object': 'Energy Poverty', 'Description': 'The energy project cycle addresses energy poverty by providing access to affordable and reliable energy sources.', 'Importance': 4, 'Subgroup': 'Sustainable Urban Planning'}]}\n",
      "--- 367.1021981239319 seconds ---\n"
     ]
    }
   ],
   "source": [
    "\n",
    "start_time = time.time()\n",
    "while start < len(relations):\n",
    "    ls = relations[start:end]\n",
    "    result = add_subgroups(ls, subgroups)\n",
    "    print(result)\n",
    "    start = end\n",
    "    end += 5\n",
    "    if end > len(relations):\n",
    "        end = len(relations)\n",
    "    relations_with_groups.extend(result['relations'])\n",
    "\n",
    "print(\"--- %s seconds ---\" % (time.time() - start_time))\n",
    "\n"
   ],
   "metadata": {
    "collapsed": false
   }
  },
  {
   "cell_type": "code",
   "execution_count": 40,
   "outputs": [
    {
     "data": {
      "text/plain": "list"
     },
     "execution_count": 40,
     "metadata": {},
     "output_type": "execute_result"
    }
   ],
   "source": [
    "type(relations_with_groups)"
   ],
   "metadata": {
    "collapsed": false
   }
  },
  {
   "cell_type": "code",
   "execution_count": 9,
   "outputs": [],
   "source": [
    "json_relations = json.dumps(json_relations, indent = 2)\n",
    "with open('../03_Output/00_GPT KGs/Relations_.json', \"w\") as output_file:\n",
    "    output_file.write(json_relations)\n",
    "    output_file.close()"
   ],
   "metadata": {
    "collapsed": false
   }
  },
  {
   "cell_type": "code",
   "execution_count": 5,
   "outputs": [],
   "source": [
    "with open('../03_Output/00_GPT KGs/Relations_.json', \"r\") as file:\n",
    "    rel = file.read()\n",
    "    json_relations = json.loads(rel)\n",
    "    file.close()"
   ],
   "metadata": {
    "collapsed": false
   }
  },
  {
   "cell_type": "code",
   "execution_count": 8,
   "outputs": [
    {
     "data": {
      "text/plain": "list"
     },
     "execution_count": 8,
     "metadata": {},
     "output_type": "execute_result"
    }
   ],
   "source": [
    "type(json_relations)"
   ],
   "metadata": {
    "collapsed": false
   }
  },
  {
   "cell_type": "code",
   "execution_count": null,
   "outputs": [],
   "source": [],
   "metadata": {
    "collapsed": false
   }
  }
 ],
 "metadata": {
  "kernelspec": {
   "display_name": "Python 3 (ipykernel)",
   "language": "python",
   "name": "python3"
  },
  "language_info": {
   "codemirror_mode": {
    "name": "ipython",
    "version": 3
   },
   "file_extension": ".py",
   "mimetype": "text/x-python",
   "name": "python",
   "nbconvert_exporter": "python",
   "pygments_lexer": "ipython3",
   "version": "3.10.6"
  }
 },
 "nbformat": 4,
 "nbformat_minor": 1
}
